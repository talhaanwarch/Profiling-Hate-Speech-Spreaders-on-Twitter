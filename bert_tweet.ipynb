{
  "nbformat": 4,
  "nbformat_minor": 0,
  "metadata": {
    "colab": {
      "name": "bert-tweet.ipynb",
      "provenance": [],
      "collapsed_sections": [],
      "include_colab_link": true
    },
    "kernelspec": {
      "name": "python3",
      "display_name": "Python 3"
    },
    "language_info": {
      "name": "python"
    },
    "accelerator": "GPU"
  },
  "cells": [
    {
      "cell_type": "markdown",
      "metadata": {
        "id": "view-in-github",
        "colab_type": "text"
      },
      "source": [
        "<a href=\"https://colab.research.google.com/github/talhaanwarch/Profiling-Hate-Speech-Spreaders-on-Twitter/blob/main/bert_tweet.ipynb\" target=\"_parent\"><img src=\"https://colab.research.google.com/assets/colab-badge.svg\" alt=\"Open In Colab\"/></a>"
      ]
    },
    {
      "cell_type": "code",
      "metadata": {
        "colab": {
          "base_uri": "https://localhost:8080/"
        },
        "id": "nUUMksNxDZuV",
        "outputId": "07bddfce-03aa-40af-fff6-faca72b0b153"
      },
      "source": [
        "!nvidia-smi -L"
      ],
      "execution_count": 1,
      "outputs": [
        {
          "output_type": "stream",
          "text": [
            "GPU 0: Tesla P4 (UUID: GPU-ddc6f9a6-17cb-d5ea-f94f-b205f7fb6484)\n"
          ],
          "name": "stdout"
        }
      ]
    },
    {
      "cell_type": "markdown",
      "metadata": {
        "id": "P-3gL08E2izB"
      },
      "source": [
        "#install pacakges"
      ]
    },
    {
      "cell_type": "code",
      "metadata": {
        "id": "tfXdcDubvVmI"
      },
      "source": [
        "%%capture\n",
        "!python3 -m pip install -U pip\n",
        "!python3 -m pip install -U setuptools wheel\n",
        "!python3 -m pip install -U \"mxnet_cu110<2.0.0\"\n",
        "!python3 -m pip install autogluon"
      ],
      "execution_count": 2,
      "outputs": []
    },
    {
      "cell_type": "code",
      "metadata": {
        "id": "m3e8ItjyrbC5"
      },
      "source": [
        "%%capture\n",
        "!pip install -U transformers\n",
        "!pip install emoji"
      ],
      "execution_count": 3,
      "outputs": []
    },
    {
      "cell_type": "markdown",
      "metadata": {
        "id": "tbFVgzDJ2tkN"
      },
      "source": [
        "# download data"
      ]
    },
    {
      "cell_type": "code",
      "metadata": {
        "id": "sLK8NbVADmwP"
      },
      "source": [
        "import os\n",
        "if os.path.isdir('/content/Profiling-Hate-Speech-Spreaders-on-Twitter') is False:\n",
        "    !git clone https://github.com/talhaanwarch/Profiling-Hate-Speech-Spreaders-on-Twitter.git"
      ],
      "execution_count": 4,
      "outputs": []
    },
    {
      "cell_type": "code",
      "metadata": {
        "id": "xWClrObg1m3o"
      },
      "source": [
        "%%capture \n",
        "if os.path.isdir('train') is False:\n",
        "  !unzip /content/Profiling-Hate-Speech-Spreaders-on-Twitter/data/train.zip\n",
        "if os.path.isdir('test') is False:\n",
        "  !unzip /content/Profiling-Hate-Speech-Spreaders-on-Twitter/data/test.zip"
      ],
      "execution_count": 5,
      "outputs": []
    },
    {
      "cell_type": "markdown",
      "metadata": {
        "id": "o0x1BkHU2vGa"
      },
      "source": [
        "# prepare data"
      ]
    },
    {
      "cell_type": "markdown",
      "metadata": {
        "id": "hEC85rpu-ur5"
      },
      "source": [
        "## train data"
      ]
    },
    {
      "cell_type": "code",
      "metadata": {
        "id": "uFzbJ_gC1EJw"
      },
      "source": [
        "import pandas as pd\n",
        "import numpy as np\n",
        "import matplotlib.pyplot as plt\n",
        "df=pd.read_csv('train/en/truth.txt',sep=':::',header=None,engine='python')\n",
        "df.columns=['id','label']"
      ],
      "execution_count": 6,
      "outputs": []
    },
    {
      "cell_type": "code",
      "metadata": {
        "colab": {
          "base_uri": "https://localhost:8080/"
        },
        "id": "3ROlQoSB7Yh_",
        "outputId": "060727be-c55b-41da-dc00-691b9f6dd2c9"
      },
      "source": [
        "df.label.value_counts()"
      ],
      "execution_count": 7,
      "outputs": [
        {
          "output_type": "execute_result",
          "data": {
            "text/plain": [
              "1    100\n",
              "0    100\n",
              "Name: label, dtype: int64"
            ]
          },
          "metadata": {
            "tags": []
          },
          "execution_count": 7
        }
      ]
    },
    {
      "cell_type": "code",
      "metadata": {
        "colab": {
          "base_uri": "https://localhost:8080/"
        },
        "id": "v_JM-_us1LS7",
        "outputId": "a2f967cf-56f9-48b3-911f-20a2b90b22ed"
      },
      "source": [
        "import nltk\n",
        "from nltk.corpus import stopwords\n",
        "from nltk.stem import WordNetLemmatizer\n",
        "nltk.download('wordnet')\n",
        "nltk.download('stopwords')\n",
        "lemmatizer = WordNetLemmatizer()\n",
        "w_tokenizer = nltk.tokenize.WhitespaceTokenizer()\n",
        "stop = stopwords.words('english')"
      ],
      "execution_count": 8,
      "outputs": [
        {
          "output_type": "stream",
          "text": [
            "[nltk_data] Downloading package wordnet to /root/nltk_data...\n",
            "[nltk_data]   Package wordnet is already up-to-date!\n",
            "[nltk_data] Downloading package stopwords to /root/nltk_data...\n",
            "[nltk_data]   Package stopwords is already up-to-date!\n"
          ],
          "name": "stdout"
        }
      ]
    },
    {
      "cell_type": "code",
      "metadata": {
        "id": "yEBoiYus1-q3"
      },
      "source": [
        "import emoji\n",
        "def preprocessing(text):\n",
        "    text=text.str.replace('\\d+', '')\n",
        "    text=text.str.replace('RT','')\n",
        "    text=text.str.replace('#USER#','@USER')\n",
        "    text=text.str.replace('_','')\n",
        "    text=text.str.replace('#URL#','HTTPURL')\n",
        "    #text= text.str.lower()\n",
        "    text=text.apply(lambda x:emoji.demojize(x))\n",
        "    text = text.str.replace('[^\\w\\s]','')\n",
        "    #text = text.apply(lambda x : [lemmatizer.lemmatize(y) for y in w_tokenizer.tokenize(x)])\n",
        "    #text = text.apply(lambda x: [item for item in x if item not in stop])\n",
        "    #text = text.apply(lambda x : \" \".join(x))\n",
        "    return text"
      ],
      "execution_count": 9,
      "outputs": []
    },
    {
      "cell_type": "code",
      "metadata": {
        "colab": {
          "base_uri": "https://localhost:8080/",
          "height": 202
        },
        "id": "KuCfiRvP2AEC",
        "outputId": "8cdc7114-8386-40d2-fd7f-f7cc4e56fbcd"
      },
      "source": [
        "df.id='train/en/'+df.id.astype(str)+'.xml'\n",
        "df.head()"
      ],
      "execution_count": 10,
      "outputs": [
        {
          "output_type": "execute_result",
          "data": {
            "text/html": [
              "<div>\n",
              "<style scoped>\n",
              "    .dataframe tbody tr th:only-of-type {\n",
              "        vertical-align: middle;\n",
              "    }\n",
              "\n",
              "    .dataframe tbody tr th {\n",
              "        vertical-align: top;\n",
              "    }\n",
              "\n",
              "    .dataframe thead th {\n",
              "        text-align: right;\n",
              "    }\n",
              "</style>\n",
              "<table border=\"1\" class=\"dataframe\">\n",
              "  <thead>\n",
              "    <tr style=\"text-align: right;\">\n",
              "      <th></th>\n",
              "      <th>id</th>\n",
              "      <th>label</th>\n",
              "    </tr>\n",
              "  </thead>\n",
              "  <tbody>\n",
              "    <tr>\n",
              "      <th>0</th>\n",
              "      <td>train/en/639b8e5e6a527d494c85d8f5704b1a01.xml</td>\n",
              "      <td>0</td>\n",
              "    </tr>\n",
              "    <tr>\n",
              "      <th>1</th>\n",
              "      <td>train/en/f2b1fc84c500c38a93522efbd422b559.xml</td>\n",
              "      <td>0</td>\n",
              "    </tr>\n",
              "    <tr>\n",
              "      <th>2</th>\n",
              "      <td>train/en/10b2d013382e1fb3c9414ea28329f258.xml</td>\n",
              "      <td>0</td>\n",
              "    </tr>\n",
              "    <tr>\n",
              "      <th>3</th>\n",
              "      <td>train/en/26644d1348fc1122e8c5ef45d6bc84fa.xml</td>\n",
              "      <td>0</td>\n",
              "    </tr>\n",
              "    <tr>\n",
              "      <th>4</th>\n",
              "      <td>train/en/4d4c5dcbfe38d0d33a0d1b1419952ca8.xml</td>\n",
              "      <td>0</td>\n",
              "    </tr>\n",
              "  </tbody>\n",
              "</table>\n",
              "</div>"
            ],
            "text/plain": [
              "                                              id  label\n",
              "0  train/en/639b8e5e6a527d494c85d8f5704b1a01.xml      0\n",
              "1  train/en/f2b1fc84c500c38a93522efbd422b559.xml      0\n",
              "2  train/en/10b2d013382e1fb3c9414ea28329f258.xml      0\n",
              "3  train/en/26644d1348fc1122e8c5ef45d6bc84fa.xml      0\n",
              "4  train/en/4d4c5dcbfe38d0d33a0d1b1419952ca8.xml      0"
            ]
          },
          "metadata": {
            "tags": []
          },
          "execution_count": 10
        }
      ]
    },
    {
      "cell_type": "code",
      "metadata": {
        "id": "BgAs4IiUF0dL"
      },
      "source": [
        ""
      ],
      "execution_count": 10,
      "outputs": []
    },
    {
      "cell_type": "code",
      "metadata": {
        "colab": {
          "base_uri": "https://localhost:8080/"
        },
        "id": "WALZdHXd2BSE",
        "outputId": "968906be-2f6a-4202-cfac-5aac2bf499cd"
      },
      "source": [
        "len(df)"
      ],
      "execution_count": 11,
      "outputs": [
        {
          "output_type": "execute_result",
          "data": {
            "text/plain": [
              "200"
            ]
          },
          "metadata": {
            "tags": []
          },
          "execution_count": 11
        }
      ]
    },
    {
      "cell_type": "code",
      "metadata": {
        "id": "LuY7kaIJ2C4G"
      },
      "source": [
        "#read data\n",
        "import xml.etree.ElementTree as ET\n",
        "def reader(df,ground=True):\n",
        "  data=[]\n",
        "  for x in df.iterrows():\n",
        "      \n",
        "      tree = ET.parse(x[1].id)\n",
        "      root = tree.getroot()\n",
        "      text=[x.text for x in root[0]]\n",
        "      if ground:\n",
        "        label=[x[1].label]*len(text)\n",
        "        data.append(pd.DataFrame(zip(text,label),columns=['text','label']))\n",
        "      else:\n",
        "        data.append(pd.DataFrame(text,columns=['text']))\n",
        "  return data"
      ],
      "execution_count": 12,
      "outputs": []
    },
    {
      "cell_type": "code",
      "metadata": {
        "id": "hNrFeS0n-HIv"
      },
      "source": [
        "data=reader(df)"
      ],
      "execution_count": 13,
      "outputs": []
    },
    {
      "cell_type": "code",
      "metadata": {
        "colab": {
          "base_uri": "https://localhost:8080/",
          "height": 202
        },
        "id": "pdcFOycQ2Etp",
        "outputId": "41863ca2-ca6e-482c-cd74-4cfe82c9b201"
      },
      "source": [
        "data[0].head()"
      ],
      "execution_count": 14,
      "outputs": [
        {
          "output_type": "execute_result",
          "data": {
            "text/html": [
              "<div>\n",
              "<style scoped>\n",
              "    .dataframe tbody tr th:only-of-type {\n",
              "        vertical-align: middle;\n",
              "    }\n",
              "\n",
              "    .dataframe tbody tr th {\n",
              "        vertical-align: top;\n",
              "    }\n",
              "\n",
              "    .dataframe thead th {\n",
              "        text-align: right;\n",
              "    }\n",
              "</style>\n",
              "<table border=\"1\" class=\"dataframe\">\n",
              "  <thead>\n",
              "    <tr style=\"text-align: right;\">\n",
              "      <th></th>\n",
              "      <th>text</th>\n",
              "      <th>label</th>\n",
              "    </tr>\n",
              "  </thead>\n",
              "  <tbody>\n",
              "    <tr>\n",
              "      <th>0</th>\n",
              "      <td>RT #USER#: Funny how “15 days to slow the spre...</td>\n",
              "      <td>0</td>\n",
              "    </tr>\n",
              "    <tr>\n",
              "      <th>1</th>\n",
              "      <td>RT #USER#: Why did Minneapolis just give Georg...</td>\n",
              "      <td>0</td>\n",
              "    </tr>\n",
              "    <tr>\n",
              "      <th>2</th>\n",
              "      <td>RT #USER#: To be fair, he has done a lot of un...</td>\n",
              "      <td>0</td>\n",
              "    </tr>\n",
              "    <tr>\n",
              "      <th>3</th>\n",
              "      <td>RT #USER#: President Trump got us the #HASHTAG...</td>\n",
              "      <td>0</td>\n",
              "    </tr>\n",
              "    <tr>\n",
              "      <th>4</th>\n",
              "      <td>RT #USER#: Is the case against former officer ...</td>\n",
              "      <td>0</td>\n",
              "    </tr>\n",
              "  </tbody>\n",
              "</table>\n",
              "</div>"
            ],
            "text/plain": [
              "                                                text  label\n",
              "0  RT #USER#: Funny how “15 days to slow the spre...      0\n",
              "1  RT #USER#: Why did Minneapolis just give Georg...      0\n",
              "2  RT #USER#: To be fair, he has done a lot of un...      0\n",
              "3  RT #USER#: President Trump got us the #HASHTAG...      0\n",
              "4  RT #USER#: Is the case against former officer ...      0"
            ]
          },
          "metadata": {
            "tags": []
          },
          "execution_count": 14
        }
      ]
    },
    {
      "cell_type": "code",
      "metadata": {
        "id": "Z8g5Ah4IhA3u"
      },
      "source": [
        "#clean data\n",
        "datax=data.copy()\n",
        "for d in range(len(data)):\n",
        "  datax[d].text=preprocessing(data[d].text)\n"
      ],
      "execution_count": 15,
      "outputs": []
    },
    {
      "cell_type": "code",
      "metadata": {
        "colab": {
          "base_uri": "https://localhost:8080/",
          "height": 202
        },
        "id": "_F5iHi5umS9F",
        "outputId": "2f7c0fa8-2920-4238-a23d-e5fbf5715568"
      },
      "source": [
        "datax[0].head()"
      ],
      "execution_count": 16,
      "outputs": [
        {
          "output_type": "execute_result",
          "data": {
            "text/html": [
              "<div>\n",
              "<style scoped>\n",
              "    .dataframe tbody tr th:only-of-type {\n",
              "        vertical-align: middle;\n",
              "    }\n",
              "\n",
              "    .dataframe tbody tr th {\n",
              "        vertical-align: top;\n",
              "    }\n",
              "\n",
              "    .dataframe thead th {\n",
              "        text-align: right;\n",
              "    }\n",
              "</style>\n",
              "<table border=\"1\" class=\"dataframe\">\n",
              "  <thead>\n",
              "    <tr style=\"text-align: right;\">\n",
              "      <th></th>\n",
              "      <th>text</th>\n",
              "      <th>label</th>\n",
              "    </tr>\n",
              "  </thead>\n",
              "  <tbody>\n",
              "    <tr>\n",
              "      <th>0</th>\n",
              "      <td>USER Funny how  days to slow the spread turne...</td>\n",
              "      <td>0</td>\n",
              "    </tr>\n",
              "    <tr>\n",
              "      <th>1</th>\n",
              "      <td>USER Why did Minneapolis just give George Flo...</td>\n",
              "      <td>0</td>\n",
              "    </tr>\n",
              "    <tr>\n",
              "      <th>2</th>\n",
              "      <td>USER To be fair he has done a lot of undercov...</td>\n",
              "      <td>0</td>\n",
              "    </tr>\n",
              "    <tr>\n",
              "      <th>3</th>\n",
              "      <td>USER President Trump got us the HASHTAG vacci...</td>\n",
              "      <td>0</td>\n",
              "    </tr>\n",
              "    <tr>\n",
              "      <th>4</th>\n",
              "      <td>USER Is the case against former officer Derek...</td>\n",
              "      <td>0</td>\n",
              "    </tr>\n",
              "  </tbody>\n",
              "</table>\n",
              "</div>"
            ],
            "text/plain": [
              "                                                text  label\n",
              "0   USER Funny how  days to slow the spread turne...      0\n",
              "1   USER Why did Minneapolis just give George Flo...      0\n",
              "2   USER To be fair he has done a lot of undercov...      0\n",
              "3   USER President Trump got us the HASHTAG vacci...      0\n",
              "4   USER Is the case against former officer Derek...      0"
            ]
          },
          "metadata": {
            "tags": []
          },
          "execution_count": 16
        }
      ]
    },
    {
      "cell_type": "code",
      "metadata": {
        "colab": {
          "base_uri": "https://localhost:8080/"
        },
        "id": "og3AdNrXHf3z",
        "outputId": "9cce3d87-c4f2-49fc-c9ab-b03adb686f6b"
      },
      "source": [
        "print(np.mean([np.mean([len(i.split()) for i in j.text]) for j in datax]))\n",
        "print(np.mean([np.std([len(i.split()) for i in j.text]) for j in datax]))\n",
        "#find length of sequence for bert"
      ],
      "execution_count": 17,
      "outputs": [
        {
          "output_type": "stream",
          "text": [
            "11.720574999999998\n",
            "4.910872147926636\n"
          ],
          "name": "stdout"
        }
      ]
    },
    {
      "cell_type": "code",
      "metadata": {
        "colab": {
          "base_uri": "https://localhost:8080/"
        },
        "id": "-z9YynVjaVVR",
        "outputId": "3870d7e8-f8e6-4414-92b5-9a559ff534c1"
      },
      "source": [
        "len(datax[0])"
      ],
      "execution_count": 18,
      "outputs": [
        {
          "output_type": "execute_result",
          "data": {
            "text/plain": [
              "200"
            ]
          },
          "metadata": {
            "tags": []
          },
          "execution_count": 18
        }
      ]
    },
    {
      "cell_type": "code",
      "metadata": {
        "id": "lojbROKwjNRV"
      },
      "source": [
        "doc_text,doc_label,=[],[]\n",
        "for i in range(len(datax)):\n",
        "  doc_text.append(list(datax[i].text))\n",
        "  doc_label.append(int(datax[i].mean())) #convert data to list"
      ],
      "execution_count": 19,
      "outputs": []
    },
    {
      "cell_type": "code",
      "metadata": {
        "colab": {
          "base_uri": "https://localhost:8080/"
        },
        "id": "rm3keInmpnBK",
        "outputId": "18548829-b5e0-4209-b471-8c39a8bb4aaf"
      },
      "source": [
        "len(doc_text),len(doc_label)"
      ],
      "execution_count": 20,
      "outputs": [
        {
          "output_type": "execute_result",
          "data": {
            "text/plain": [
              "(200, 200)"
            ]
          },
          "metadata": {
            "tags": []
          },
          "execution_count": 20
        }
      ]
    },
    {
      "cell_type": "markdown",
      "metadata": {
        "id": "4EW-8kNIdK7D"
      },
      "source": [
        "## test data"
      ]
    },
    {
      "cell_type": "code",
      "metadata": {
        "id": "vY6T_bk1-0RT",
        "colab": {
          "base_uri": "https://localhost:8080/",
          "height": 202
        },
        "outputId": "c37958c1-4e4e-4481-9c97-e0ccc8c65d3b"
      },
      "source": [
        "from glob import glob #read test data\n",
        "test_path=pd.DataFrame(glob('test/en/*.xml'),columns=['id'])\n",
        "test_path.head()"
      ],
      "execution_count": 21,
      "outputs": [
        {
          "output_type": "execute_result",
          "data": {
            "text/html": [
              "<div>\n",
              "<style scoped>\n",
              "    .dataframe tbody tr th:only-of-type {\n",
              "        vertical-align: middle;\n",
              "    }\n",
              "\n",
              "    .dataframe tbody tr th {\n",
              "        vertical-align: top;\n",
              "    }\n",
              "\n",
              "    .dataframe thead th {\n",
              "        text-align: right;\n",
              "    }\n",
              "</style>\n",
              "<table border=\"1\" class=\"dataframe\">\n",
              "  <thead>\n",
              "    <tr style=\"text-align: right;\">\n",
              "      <th></th>\n",
              "      <th>id</th>\n",
              "    </tr>\n",
              "  </thead>\n",
              "  <tbody>\n",
              "    <tr>\n",
              "      <th>0</th>\n",
              "      <td>test/en/f2973063f16c0698a6de86c55b5f9ad6.xml</td>\n",
              "    </tr>\n",
              "    <tr>\n",
              "      <th>1</th>\n",
              "      <td>test/en/be71e41921653e523aceb555727b61c7.xml</td>\n",
              "    </tr>\n",
              "    <tr>\n",
              "      <th>2</th>\n",
              "      <td>test/en/d0235c3e74f79298fc2b6d2427c2060b.xml</td>\n",
              "    </tr>\n",
              "    <tr>\n",
              "      <th>3</th>\n",
              "      <td>test/en/314d4bf068314367bc83dc5ae3757e13.xml</td>\n",
              "    </tr>\n",
              "    <tr>\n",
              "      <th>4</th>\n",
              "      <td>test/en/fdd27881da241cff7115c1e89caba6dd.xml</td>\n",
              "    </tr>\n",
              "  </tbody>\n",
              "</table>\n",
              "</div>"
            ],
            "text/plain": [
              "                                             id\n",
              "0  test/en/f2973063f16c0698a6de86c55b5f9ad6.xml\n",
              "1  test/en/be71e41921653e523aceb555727b61c7.xml\n",
              "2  test/en/d0235c3e74f79298fc2b6d2427c2060b.xml\n",
              "3  test/en/314d4bf068314367bc83dc5ae3757e13.xml\n",
              "4  test/en/fdd27881da241cff7115c1e89caba6dd.xml"
            ]
          },
          "metadata": {
            "tags": []
          },
          "execution_count": 21
        }
      ]
    },
    {
      "cell_type": "code",
      "metadata": {
        "id": "2qsFnJQA-2fl"
      },
      "source": [
        "test_data=reader(test_path,ground=False) #convert to dataframe"
      ],
      "execution_count": 22,
      "outputs": []
    },
    {
      "cell_type": "code",
      "metadata": {
        "id": "9f1a9ZWV-2iT"
      },
      "source": [
        "#clean\n",
        "test_datax=test_data.copy()\n",
        "for d in range(len(test_datax)):\n",
        "  test_datax[d].text=preprocessing(test_datax[d].text)\n"
      ],
      "execution_count": 23,
      "outputs": []
    },
    {
      "cell_type": "code",
      "metadata": {
        "id": "eWCjKH8c-2lp"
      },
      "source": [
        "test_doc=[]\n",
        "for i in range(len(test_datax)):\n",
        "  test_doc.append(list(test_datax[i].text))\n",
        "  #convert to list"
      ],
      "execution_count": 24,
      "outputs": []
    },
    {
      "cell_type": "markdown",
      "metadata": {
        "id": "uk_kXqTk20rp"
      },
      "source": [
        "# generate embeddings"
      ]
    },
    {
      "cell_type": "code",
      "metadata": {
        "colab": {
          "base_uri": "https://localhost:8080/"
        },
        "id": "7ClLA5cVuesN",
        "outputId": "7e5a574f-445a-4e6c-8859-9bbd28e75a14"
      },
      "source": [
        "from transformers import AutoTokenizer, AutoModel\n",
        "from torch.nn.utils.rnn import pad_sequence\n",
        "import torch\n",
        "tokenizer = AutoTokenizer.from_pretrained(\"vinai/bertweet-base\",)\n",
        "model = AutoModel.from_pretrained(\"vinai/bertweet-base\", output_hidden_states=True)\n"
      ],
      "execution_count": 25,
      "outputs": [
        {
          "output_type": "stream",
          "text": [
            "Special tokens have been added in the vocabulary, make sure the associated word embeddings are fine-tuned or trained.\n",
            "Some weights of the model checkpoint at vinai/bertweet-base were not used when initializing RobertaModel: ['lm_head.bias', 'lm_head.dense.bias', 'lm_head.decoder.bias', 'lm_head.layer_norm.bias', 'lm_head.decoder.weight', 'lm_head.dense.weight', 'lm_head.layer_norm.weight']\n",
            "- This IS expected if you are initializing RobertaModel from the checkpoint of a model trained on another task or with another architecture (e.g. initializing a BertForSequenceClassification model from a BertForPreTraining model).\n",
            "- This IS NOT expected if you are initializing RobertaModel from the checkpoint of a model that you expect to be exactly identical (initializing a BertForSequenceClassification model from a BertForSequenceClassification model).\n"
          ],
          "name": "stderr"
        }
      ]
    },
    {
      "cell_type": "code",
      "metadata": {
        "id": "rSUMn7qlce7h"
      },
      "source": [
        "device='cuda'\n",
        "model=model.to(device)"
      ],
      "execution_count": 26,
      "outputs": []
    },
    {
      "cell_type": "code",
      "metadata": {
        "id": "H41V3wFMP1DZ"
      },
      "source": [
        "#get data from last hidden layer\n",
        "def create_embeddings(doc_text,max_length=20):\n",
        "  doc_embeddings=[]\n",
        "  for text in doc_text:\n",
        "    inputs=tokenizer(text,max_length=max_length,padding=True,truncation=True)\n",
        "    text_seq = torch.tensor(inputs['input_ids']).to(device)\n",
        "    text_mask = torch.tensor(inputs['attention_mask']).to(device)\n",
        "    model.eval()\n",
        "    with torch.no_grad():\n",
        "      outputs= model(text_seq,attention_mask=text_mask)\n",
        "      hidden_states=outputs.hidden_states\n",
        "      emb=torch.mean(hidden_states[11], 1)\n",
        "      doc_embeddings.append(emb)\n",
        "  x=torch.mean(torch.stack(doc_embeddings),1)\n",
        "  x=np.array(x.cpu())\n",
        "  return x"
      ],
      "execution_count": 27,
      "outputs": []
    },
    {
      "cell_type": "code",
      "metadata": {
        "colab": {
          "base_uri": "https://localhost:8080/"
        },
        "id": "oMDZBFoCxUII",
        "outputId": "24c1472f-98e8-4c0f-de21-b3cba2aec366"
      },
      "source": [
        "%%time\n",
        "x=create_embeddings(doc_text)"
      ],
      "execution_count": 28,
      "outputs": [
        {
          "output_type": "stream",
          "text": [
            "CPU times: user 43.9 s, sys: 303 ms, total: 44.2 s\n",
            "Wall time: 44.2 s\n"
          ],
          "name": "stdout"
        }
      ]
    },
    {
      "cell_type": "code",
      "metadata": {
        "colab": {
          "base_uri": "https://localhost:8080/"
        },
        "id": "0u2r8SJmaC1O",
        "outputId": "c5920aa2-0f1e-4ca3-c9fd-42dc274b7343"
      },
      "source": [
        "y=doc_label\n",
        "len(x),len(y)"
      ],
      "execution_count": 29,
      "outputs": [
        {
          "output_type": "execute_result",
          "data": {
            "text/plain": [
              "(200, 200)"
            ]
          },
          "metadata": {
            "tags": []
          },
          "execution_count": 29
        }
      ]
    },
    {
      "cell_type": "code",
      "metadata": {
        "id": "KsDih0Gl-X5M",
        "colab": {
          "base_uri": "https://localhost:8080/"
        },
        "outputId": "319a7f71-235f-41d8-e4da-93328d44bf0b"
      },
      "source": [
        "%%time\n",
        "test=create_embeddings(test_doc)\n",
        "print(len(test))"
      ],
      "execution_count": 30,
      "outputs": [
        {
          "output_type": "stream",
          "text": [
            "100\n",
            "CPU times: user 22.5 s, sys: 37.4 ms, total: 22.5 s\n",
            "Wall time: 22.5 s\n"
          ],
          "name": "stdout"
        }
      ]
    },
    {
      "cell_type": "markdown",
      "metadata": {
        "id": "e7y4abdOs6rG"
      },
      "source": [
        "# AutoGluon"
      ]
    },
    {
      "cell_type": "code",
      "metadata": {
        "colab": {
          "base_uri": "https://localhost:8080/",
          "height": 251
        },
        "id": "2Le9Y729wKYx",
        "outputId": "3b621c56-fde1-4917-c60b-e53a44adeda0"
      },
      "source": [
        "data=pd.concat([pd.DataFrame(x),pd.DataFrame(y)],axis=1)\n",
        "data.columns=['col_{}'.format(i) for i in range(x.shape[1])]+['Label']\n",
        "data = data.sample(frac=1).reset_index(drop=True)\n",
        "data.head()"
      ],
      "execution_count": 31,
      "outputs": [
        {
          "output_type": "execute_result",
          "data": {
            "text/html": [
              "<div>\n",
              "<style scoped>\n",
              "    .dataframe tbody tr th:only-of-type {\n",
              "        vertical-align: middle;\n",
              "    }\n",
              "\n",
              "    .dataframe tbody tr th {\n",
              "        vertical-align: top;\n",
              "    }\n",
              "\n",
              "    .dataframe thead th {\n",
              "        text-align: right;\n",
              "    }\n",
              "</style>\n",
              "<table border=\"1\" class=\"dataframe\">\n",
              "  <thead>\n",
              "    <tr style=\"text-align: right;\">\n",
              "      <th></th>\n",
              "      <th>col_0</th>\n",
              "      <th>col_1</th>\n",
              "      <th>col_2</th>\n",
              "      <th>col_3</th>\n",
              "      <th>col_4</th>\n",
              "      <th>col_5</th>\n",
              "      <th>col_6</th>\n",
              "      <th>col_7</th>\n",
              "      <th>col_8</th>\n",
              "      <th>col_9</th>\n",
              "      <th>col_10</th>\n",
              "      <th>col_11</th>\n",
              "      <th>col_12</th>\n",
              "      <th>col_13</th>\n",
              "      <th>col_14</th>\n",
              "      <th>col_15</th>\n",
              "      <th>col_16</th>\n",
              "      <th>col_17</th>\n",
              "      <th>col_18</th>\n",
              "      <th>col_19</th>\n",
              "      <th>col_20</th>\n",
              "      <th>col_21</th>\n",
              "      <th>col_22</th>\n",
              "      <th>col_23</th>\n",
              "      <th>col_24</th>\n",
              "      <th>col_25</th>\n",
              "      <th>col_26</th>\n",
              "      <th>col_27</th>\n",
              "      <th>col_28</th>\n",
              "      <th>col_29</th>\n",
              "      <th>col_30</th>\n",
              "      <th>col_31</th>\n",
              "      <th>col_32</th>\n",
              "      <th>col_33</th>\n",
              "      <th>col_34</th>\n",
              "      <th>col_35</th>\n",
              "      <th>col_36</th>\n",
              "      <th>col_37</th>\n",
              "      <th>col_38</th>\n",
              "      <th>col_39</th>\n",
              "      <th>...</th>\n",
              "      <th>col_729</th>\n",
              "      <th>col_730</th>\n",
              "      <th>col_731</th>\n",
              "      <th>col_732</th>\n",
              "      <th>col_733</th>\n",
              "      <th>col_734</th>\n",
              "      <th>col_735</th>\n",
              "      <th>col_736</th>\n",
              "      <th>col_737</th>\n",
              "      <th>col_738</th>\n",
              "      <th>col_739</th>\n",
              "      <th>col_740</th>\n",
              "      <th>col_741</th>\n",
              "      <th>col_742</th>\n",
              "      <th>col_743</th>\n",
              "      <th>col_744</th>\n",
              "      <th>col_745</th>\n",
              "      <th>col_746</th>\n",
              "      <th>col_747</th>\n",
              "      <th>col_748</th>\n",
              "      <th>col_749</th>\n",
              "      <th>col_750</th>\n",
              "      <th>col_751</th>\n",
              "      <th>col_752</th>\n",
              "      <th>col_753</th>\n",
              "      <th>col_754</th>\n",
              "      <th>col_755</th>\n",
              "      <th>col_756</th>\n",
              "      <th>col_757</th>\n",
              "      <th>col_758</th>\n",
              "      <th>col_759</th>\n",
              "      <th>col_760</th>\n",
              "      <th>col_761</th>\n",
              "      <th>col_762</th>\n",
              "      <th>col_763</th>\n",
              "      <th>col_764</th>\n",
              "      <th>col_765</th>\n",
              "      <th>col_766</th>\n",
              "      <th>col_767</th>\n",
              "      <th>Label</th>\n",
              "    </tr>\n",
              "  </thead>\n",
              "  <tbody>\n",
              "    <tr>\n",
              "      <th>0</th>\n",
              "      <td>0.019540</td>\n",
              "      <td>0.008609</td>\n",
              "      <td>0.001659</td>\n",
              "      <td>-0.003287</td>\n",
              "      <td>0.001143</td>\n",
              "      <td>0.033562</td>\n",
              "      <td>0.052619</td>\n",
              "      <td>0.004695</td>\n",
              "      <td>0.032431</td>\n",
              "      <td>0.001853</td>\n",
              "      <td>0.017680</td>\n",
              "      <td>0.059500</td>\n",
              "      <td>0.010611</td>\n",
              "      <td>-0.006947</td>\n",
              "      <td>0.042606</td>\n",
              "      <td>-0.037218</td>\n",
              "      <td>0.023059</td>\n",
              "      <td>-0.030086</td>\n",
              "      <td>0.047786</td>\n",
              "      <td>-0.023791</td>\n",
              "      <td>-0.016740</td>\n",
              "      <td>-0.065161</td>\n",
              "      <td>-0.021205</td>\n",
              "      <td>-0.081362</td>\n",
              "      <td>-0.008381</td>\n",
              "      <td>0.057553</td>\n",
              "      <td>0.019333</td>\n",
              "      <td>0.027778</td>\n",
              "      <td>-0.000735</td>\n",
              "      <td>0.003062</td>\n",
              "      <td>-0.012480</td>\n",
              "      <td>0.002226</td>\n",
              "      <td>-0.048325</td>\n",
              "      <td>0.035086</td>\n",
              "      <td>-0.001859</td>\n",
              "      <td>-0.026294</td>\n",
              "      <td>0.030446</td>\n",
              "      <td>-0.006326</td>\n",
              "      <td>-0.013032</td>\n",
              "      <td>-0.088069</td>\n",
              "      <td>...</td>\n",
              "      <td>0.001008</td>\n",
              "      <td>-0.023623</td>\n",
              "      <td>-0.019958</td>\n",
              "      <td>0.000861</td>\n",
              "      <td>0.007349</td>\n",
              "      <td>-0.015087</td>\n",
              "      <td>0.020598</td>\n",
              "      <td>0.014583</td>\n",
              "      <td>-0.004601</td>\n",
              "      <td>-0.022990</td>\n",
              "      <td>0.059803</td>\n",
              "      <td>0.049352</td>\n",
              "      <td>-0.022678</td>\n",
              "      <td>0.040106</td>\n",
              "      <td>0.018941</td>\n",
              "      <td>-0.012479</td>\n",
              "      <td>0.014301</td>\n",
              "      <td>0.007051</td>\n",
              "      <td>0.029341</td>\n",
              "      <td>0.068116</td>\n",
              "      <td>-0.014705</td>\n",
              "      <td>0.004012</td>\n",
              "      <td>-0.004629</td>\n",
              "      <td>0.026379</td>\n",
              "      <td>-0.070327</td>\n",
              "      <td>0.086918</td>\n",
              "      <td>0.025259</td>\n",
              "      <td>0.090206</td>\n",
              "      <td>0.005828</td>\n",
              "      <td>0.018156</td>\n",
              "      <td>-0.002895</td>\n",
              "      <td>-0.002812</td>\n",
              "      <td>-0.017123</td>\n",
              "      <td>0.048147</td>\n",
              "      <td>-0.009066</td>\n",
              "      <td>0.005929</td>\n",
              "      <td>-0.009341</td>\n",
              "      <td>0.018544</td>\n",
              "      <td>0.043875</td>\n",
              "      <td>1</td>\n",
              "    </tr>\n",
              "    <tr>\n",
              "      <th>1</th>\n",
              "      <td>0.033508</td>\n",
              "      <td>0.028093</td>\n",
              "      <td>0.011475</td>\n",
              "      <td>0.001979</td>\n",
              "      <td>-0.004846</td>\n",
              "      <td>-0.003879</td>\n",
              "      <td>-0.000041</td>\n",
              "      <td>-0.002344</td>\n",
              "      <td>0.009437</td>\n",
              "      <td>-0.002011</td>\n",
              "      <td>0.000448</td>\n",
              "      <td>0.039067</td>\n",
              "      <td>0.000773</td>\n",
              "      <td>0.005494</td>\n",
              "      <td>0.042565</td>\n",
              "      <td>0.005873</td>\n",
              "      <td>0.014977</td>\n",
              "      <td>0.010682</td>\n",
              "      <td>0.070448</td>\n",
              "      <td>-0.006322</td>\n",
              "      <td>0.000291</td>\n",
              "      <td>-0.005635</td>\n",
              "      <td>0.021247</td>\n",
              "      <td>-0.056486</td>\n",
              "      <td>-0.020830</td>\n",
              "      <td>0.005524</td>\n",
              "      <td>0.010384</td>\n",
              "      <td>0.014498</td>\n",
              "      <td>0.022710</td>\n",
              "      <td>0.000889</td>\n",
              "      <td>-0.027603</td>\n",
              "      <td>-0.032447</td>\n",
              "      <td>-0.027857</td>\n",
              "      <td>-0.001672</td>\n",
              "      <td>0.006661</td>\n",
              "      <td>0.063793</td>\n",
              "      <td>0.011284</td>\n",
              "      <td>0.047726</td>\n",
              "      <td>0.006134</td>\n",
              "      <td>-0.048277</td>\n",
              "      <td>...</td>\n",
              "      <td>0.003795</td>\n",
              "      <td>-0.027629</td>\n",
              "      <td>-0.065584</td>\n",
              "      <td>-0.011375</td>\n",
              "      <td>0.029215</td>\n",
              "      <td>-0.050552</td>\n",
              "      <td>-0.010250</td>\n",
              "      <td>-0.018103</td>\n",
              "      <td>-0.006406</td>\n",
              "      <td>0.044304</td>\n",
              "      <td>0.027917</td>\n",
              "      <td>0.016143</td>\n",
              "      <td>-0.002386</td>\n",
              "      <td>0.016782</td>\n",
              "      <td>0.014546</td>\n",
              "      <td>0.015021</td>\n",
              "      <td>-0.020895</td>\n",
              "      <td>0.082204</td>\n",
              "      <td>0.031653</td>\n",
              "      <td>0.030579</td>\n",
              "      <td>0.000182</td>\n",
              "      <td>-0.037253</td>\n",
              "      <td>-0.014962</td>\n",
              "      <td>-0.001569</td>\n",
              "      <td>-0.040384</td>\n",
              "      <td>-0.006815</td>\n",
              "      <td>0.013729</td>\n",
              "      <td>0.064194</td>\n",
              "      <td>0.018737</td>\n",
              "      <td>0.021318</td>\n",
              "      <td>-0.008985</td>\n",
              "      <td>-0.015676</td>\n",
              "      <td>0.008217</td>\n",
              "      <td>-0.012747</td>\n",
              "      <td>-0.036342</td>\n",
              "      <td>0.009676</td>\n",
              "      <td>0.012219</td>\n",
              "      <td>0.040918</td>\n",
              "      <td>0.105558</td>\n",
              "      <td>0</td>\n",
              "    </tr>\n",
              "    <tr>\n",
              "      <th>2</th>\n",
              "      <td>-0.008351</td>\n",
              "      <td>0.017551</td>\n",
              "      <td>0.009074</td>\n",
              "      <td>0.006442</td>\n",
              "      <td>-0.010835</td>\n",
              "      <td>0.000692</td>\n",
              "      <td>0.026690</td>\n",
              "      <td>0.018383</td>\n",
              "      <td>0.015294</td>\n",
              "      <td>0.009221</td>\n",
              "      <td>-0.007115</td>\n",
              "      <td>0.045301</td>\n",
              "      <td>0.020623</td>\n",
              "      <td>-0.022219</td>\n",
              "      <td>0.011347</td>\n",
              "      <td>-0.021273</td>\n",
              "      <td>0.014698</td>\n",
              "      <td>-0.019046</td>\n",
              "      <td>0.053537</td>\n",
              "      <td>-0.002156</td>\n",
              "      <td>-0.001828</td>\n",
              "      <td>-0.026127</td>\n",
              "      <td>-0.012837</td>\n",
              "      <td>-0.067483</td>\n",
              "      <td>0.009723</td>\n",
              "      <td>0.028836</td>\n",
              "      <td>0.013697</td>\n",
              "      <td>-0.002869</td>\n",
              "      <td>0.060419</td>\n",
              "      <td>-0.014623</td>\n",
              "      <td>-0.003771</td>\n",
              "      <td>0.013001</td>\n",
              "      <td>-0.021046</td>\n",
              "      <td>0.024194</td>\n",
              "      <td>0.005890</td>\n",
              "      <td>0.008021</td>\n",
              "      <td>0.022967</td>\n",
              "      <td>0.019159</td>\n",
              "      <td>0.003265</td>\n",
              "      <td>-0.062535</td>\n",
              "      <td>...</td>\n",
              "      <td>0.020937</td>\n",
              "      <td>0.010689</td>\n",
              "      <td>-0.031185</td>\n",
              "      <td>0.008981</td>\n",
              "      <td>0.033551</td>\n",
              "      <td>-0.011218</td>\n",
              "      <td>0.015166</td>\n",
              "      <td>-0.001994</td>\n",
              "      <td>-0.004475</td>\n",
              "      <td>0.011780</td>\n",
              "      <td>0.015588</td>\n",
              "      <td>0.049849</td>\n",
              "      <td>-0.028200</td>\n",
              "      <td>0.055760</td>\n",
              "      <td>0.004412</td>\n",
              "      <td>-0.013559</td>\n",
              "      <td>-0.002564</td>\n",
              "      <td>0.002169</td>\n",
              "      <td>-0.006656</td>\n",
              "      <td>0.048428</td>\n",
              "      <td>-0.000798</td>\n",
              "      <td>-0.004872</td>\n",
              "      <td>-0.005108</td>\n",
              "      <td>0.024482</td>\n",
              "      <td>-0.071775</td>\n",
              "      <td>0.076504</td>\n",
              "      <td>0.011089</td>\n",
              "      <td>0.084333</td>\n",
              "      <td>0.011414</td>\n",
              "      <td>0.018050</td>\n",
              "      <td>0.004057</td>\n",
              "      <td>0.009662</td>\n",
              "      <td>-0.005570</td>\n",
              "      <td>0.025379</td>\n",
              "      <td>-0.027584</td>\n",
              "      <td>-0.009082</td>\n",
              "      <td>0.005345</td>\n",
              "      <td>0.042779</td>\n",
              "      <td>0.050775</td>\n",
              "      <td>1</td>\n",
              "    </tr>\n",
              "    <tr>\n",
              "      <th>3</th>\n",
              "      <td>0.012651</td>\n",
              "      <td>0.022093</td>\n",
              "      <td>-0.004498</td>\n",
              "      <td>0.012453</td>\n",
              "      <td>-0.024709</td>\n",
              "      <td>0.041618</td>\n",
              "      <td>0.039298</td>\n",
              "      <td>0.011487</td>\n",
              "      <td>0.008810</td>\n",
              "      <td>0.061249</td>\n",
              "      <td>-0.005716</td>\n",
              "      <td>0.030278</td>\n",
              "      <td>0.005301</td>\n",
              "      <td>-0.019966</td>\n",
              "      <td>0.048614</td>\n",
              "      <td>-0.011641</td>\n",
              "      <td>0.019922</td>\n",
              "      <td>-0.020296</td>\n",
              "      <td>0.066449</td>\n",
              "      <td>-0.000113</td>\n",
              "      <td>0.021452</td>\n",
              "      <td>-0.077187</td>\n",
              "      <td>-0.005090</td>\n",
              "      <td>-0.062084</td>\n",
              "      <td>0.021774</td>\n",
              "      <td>0.034375</td>\n",
              "      <td>0.014642</td>\n",
              "      <td>0.008343</td>\n",
              "      <td>0.021328</td>\n",
              "      <td>-0.009128</td>\n",
              "      <td>-0.015257</td>\n",
              "      <td>0.028980</td>\n",
              "      <td>-0.010954</td>\n",
              "      <td>-0.001067</td>\n",
              "      <td>0.001562</td>\n",
              "      <td>-0.023790</td>\n",
              "      <td>0.028283</td>\n",
              "      <td>0.006110</td>\n",
              "      <td>-0.003525</td>\n",
              "      <td>-0.099940</td>\n",
              "      <td>...</td>\n",
              "      <td>0.007896</td>\n",
              "      <td>-0.005893</td>\n",
              "      <td>-0.039402</td>\n",
              "      <td>0.029710</td>\n",
              "      <td>0.037473</td>\n",
              "      <td>-0.015743</td>\n",
              "      <td>0.019942</td>\n",
              "      <td>0.012225</td>\n",
              "      <td>-0.014714</td>\n",
              "      <td>0.014092</td>\n",
              "      <td>0.024035</td>\n",
              "      <td>-0.008263</td>\n",
              "      <td>-0.001200</td>\n",
              "      <td>0.067802</td>\n",
              "      <td>0.004408</td>\n",
              "      <td>-0.015227</td>\n",
              "      <td>-0.014965</td>\n",
              "      <td>-0.040012</td>\n",
              "      <td>-0.015752</td>\n",
              "      <td>0.015245</td>\n",
              "      <td>-0.004686</td>\n",
              "      <td>0.013585</td>\n",
              "      <td>-0.005960</td>\n",
              "      <td>0.032274</td>\n",
              "      <td>-0.071044</td>\n",
              "      <td>0.072323</td>\n",
              "      <td>0.029705</td>\n",
              "      <td>0.089797</td>\n",
              "      <td>0.001139</td>\n",
              "      <td>0.009156</td>\n",
              "      <td>0.005829</td>\n",
              "      <td>0.016343</td>\n",
              "      <td>-0.006164</td>\n",
              "      <td>0.036924</td>\n",
              "      <td>-0.026579</td>\n",
              "      <td>-0.015197</td>\n",
              "      <td>0.010169</td>\n",
              "      <td>0.039137</td>\n",
              "      <td>0.072062</td>\n",
              "      <td>0</td>\n",
              "    </tr>\n",
              "    <tr>\n",
              "      <th>4</th>\n",
              "      <td>0.001741</td>\n",
              "      <td>0.006838</td>\n",
              "      <td>0.011289</td>\n",
              "      <td>0.001854</td>\n",
              "      <td>-0.001393</td>\n",
              "      <td>0.000324</td>\n",
              "      <td>0.006192</td>\n",
              "      <td>0.004335</td>\n",
              "      <td>0.023194</td>\n",
              "      <td>-0.008308</td>\n",
              "      <td>-0.012467</td>\n",
              "      <td>0.048771</td>\n",
              "      <td>0.001201</td>\n",
              "      <td>0.001151</td>\n",
              "      <td>0.005848</td>\n",
              "      <td>-0.015817</td>\n",
              "      <td>0.001053</td>\n",
              "      <td>0.023844</td>\n",
              "      <td>0.075005</td>\n",
              "      <td>-0.010226</td>\n",
              "      <td>0.006890</td>\n",
              "      <td>-0.010575</td>\n",
              "      <td>-0.022384</td>\n",
              "      <td>-0.050788</td>\n",
              "      <td>-0.035020</td>\n",
              "      <td>0.015101</td>\n",
              "      <td>0.012470</td>\n",
              "      <td>0.014693</td>\n",
              "      <td>0.042970</td>\n",
              "      <td>-0.002295</td>\n",
              "      <td>-0.015092</td>\n",
              "      <td>-0.004717</td>\n",
              "      <td>-0.019155</td>\n",
              "      <td>0.015990</td>\n",
              "      <td>0.009017</td>\n",
              "      <td>0.014141</td>\n",
              "      <td>0.004435</td>\n",
              "      <td>0.049979</td>\n",
              "      <td>0.003252</td>\n",
              "      <td>-0.083084</td>\n",
              "      <td>...</td>\n",
              "      <td>0.003401</td>\n",
              "      <td>-0.005345</td>\n",
              "      <td>-0.043990</td>\n",
              "      <td>0.006939</td>\n",
              "      <td>0.009737</td>\n",
              "      <td>-0.005398</td>\n",
              "      <td>-0.011313</td>\n",
              "      <td>-0.016018</td>\n",
              "      <td>-0.008190</td>\n",
              "      <td>0.048535</td>\n",
              "      <td>-0.017254</td>\n",
              "      <td>0.054355</td>\n",
              "      <td>-0.042012</td>\n",
              "      <td>0.001408</td>\n",
              "      <td>-0.010972</td>\n",
              "      <td>-0.003379</td>\n",
              "      <td>-0.019748</td>\n",
              "      <td>0.053500</td>\n",
              "      <td>0.028845</td>\n",
              "      <td>0.024650</td>\n",
              "      <td>-0.005348</td>\n",
              "      <td>-0.019101</td>\n",
              "      <td>-0.011293</td>\n",
              "      <td>-0.002115</td>\n",
              "      <td>-0.040670</td>\n",
              "      <td>0.012335</td>\n",
              "      <td>0.000502</td>\n",
              "      <td>0.063570</td>\n",
              "      <td>-0.006034</td>\n",
              "      <td>0.029311</td>\n",
              "      <td>-0.027523</td>\n",
              "      <td>-0.013210</td>\n",
              "      <td>0.004327</td>\n",
              "      <td>-0.005271</td>\n",
              "      <td>-0.027062</td>\n",
              "      <td>-0.001921</td>\n",
              "      <td>-0.000701</td>\n",
              "      <td>0.011695</td>\n",
              "      <td>0.047907</td>\n",
              "      <td>0</td>\n",
              "    </tr>\n",
              "  </tbody>\n",
              "</table>\n",
              "<p>5 rows × 769 columns</p>\n",
              "</div>"
            ],
            "text/plain": [
              "      col_0     col_1     col_2     col_3  ...   col_765   col_766   col_767  Label\n",
              "0  0.019540  0.008609  0.001659 -0.003287  ... -0.009341  0.018544  0.043875      1\n",
              "1  0.033508  0.028093  0.011475  0.001979  ...  0.012219  0.040918  0.105558      0\n",
              "2 -0.008351  0.017551  0.009074  0.006442  ...  0.005345  0.042779  0.050775      1\n",
              "3  0.012651  0.022093 -0.004498  0.012453  ...  0.010169  0.039137  0.072062      0\n",
              "4  0.001741  0.006838  0.011289  0.001854  ... -0.000701  0.011695  0.047907      0\n",
              "\n",
              "[5 rows x 769 columns]"
            ]
          },
          "metadata": {
            "tags": []
          },
          "execution_count": 31
        }
      ]
    },
    {
      "cell_type": "code",
      "metadata": {
        "id": "zwqkidSR_hC6",
        "colab": {
          "base_uri": "https://localhost:8080/",
          "height": 251
        },
        "outputId": "8a046279-5d53-46b9-e82b-34c6ee4d71fd"
      },
      "source": [
        "test_df=pd.DataFrame(test)\n",
        "test_df.columns=['col_{}'.format(i) for i in range(test.shape[1])]\n",
        "test_df.head()"
      ],
      "execution_count": 32,
      "outputs": [
        {
          "output_type": "execute_result",
          "data": {
            "text/html": [
              "<div>\n",
              "<style scoped>\n",
              "    .dataframe tbody tr th:only-of-type {\n",
              "        vertical-align: middle;\n",
              "    }\n",
              "\n",
              "    .dataframe tbody tr th {\n",
              "        vertical-align: top;\n",
              "    }\n",
              "\n",
              "    .dataframe thead th {\n",
              "        text-align: right;\n",
              "    }\n",
              "</style>\n",
              "<table border=\"1\" class=\"dataframe\">\n",
              "  <thead>\n",
              "    <tr style=\"text-align: right;\">\n",
              "      <th></th>\n",
              "      <th>col_0</th>\n",
              "      <th>col_1</th>\n",
              "      <th>col_2</th>\n",
              "      <th>col_3</th>\n",
              "      <th>col_4</th>\n",
              "      <th>col_5</th>\n",
              "      <th>col_6</th>\n",
              "      <th>col_7</th>\n",
              "      <th>col_8</th>\n",
              "      <th>col_9</th>\n",
              "      <th>col_10</th>\n",
              "      <th>col_11</th>\n",
              "      <th>col_12</th>\n",
              "      <th>col_13</th>\n",
              "      <th>col_14</th>\n",
              "      <th>col_15</th>\n",
              "      <th>col_16</th>\n",
              "      <th>col_17</th>\n",
              "      <th>col_18</th>\n",
              "      <th>col_19</th>\n",
              "      <th>col_20</th>\n",
              "      <th>col_21</th>\n",
              "      <th>col_22</th>\n",
              "      <th>col_23</th>\n",
              "      <th>col_24</th>\n",
              "      <th>col_25</th>\n",
              "      <th>col_26</th>\n",
              "      <th>col_27</th>\n",
              "      <th>col_28</th>\n",
              "      <th>col_29</th>\n",
              "      <th>col_30</th>\n",
              "      <th>col_31</th>\n",
              "      <th>col_32</th>\n",
              "      <th>col_33</th>\n",
              "      <th>col_34</th>\n",
              "      <th>col_35</th>\n",
              "      <th>col_36</th>\n",
              "      <th>col_37</th>\n",
              "      <th>col_38</th>\n",
              "      <th>col_39</th>\n",
              "      <th>...</th>\n",
              "      <th>col_728</th>\n",
              "      <th>col_729</th>\n",
              "      <th>col_730</th>\n",
              "      <th>col_731</th>\n",
              "      <th>col_732</th>\n",
              "      <th>col_733</th>\n",
              "      <th>col_734</th>\n",
              "      <th>col_735</th>\n",
              "      <th>col_736</th>\n",
              "      <th>col_737</th>\n",
              "      <th>col_738</th>\n",
              "      <th>col_739</th>\n",
              "      <th>col_740</th>\n",
              "      <th>col_741</th>\n",
              "      <th>col_742</th>\n",
              "      <th>col_743</th>\n",
              "      <th>col_744</th>\n",
              "      <th>col_745</th>\n",
              "      <th>col_746</th>\n",
              "      <th>col_747</th>\n",
              "      <th>col_748</th>\n",
              "      <th>col_749</th>\n",
              "      <th>col_750</th>\n",
              "      <th>col_751</th>\n",
              "      <th>col_752</th>\n",
              "      <th>col_753</th>\n",
              "      <th>col_754</th>\n",
              "      <th>col_755</th>\n",
              "      <th>col_756</th>\n",
              "      <th>col_757</th>\n",
              "      <th>col_758</th>\n",
              "      <th>col_759</th>\n",
              "      <th>col_760</th>\n",
              "      <th>col_761</th>\n",
              "      <th>col_762</th>\n",
              "      <th>col_763</th>\n",
              "      <th>col_764</th>\n",
              "      <th>col_765</th>\n",
              "      <th>col_766</th>\n",
              "      <th>col_767</th>\n",
              "    </tr>\n",
              "  </thead>\n",
              "  <tbody>\n",
              "    <tr>\n",
              "      <th>0</th>\n",
              "      <td>0.001754</td>\n",
              "      <td>0.024795</td>\n",
              "      <td>0.004462</td>\n",
              "      <td>0.023531</td>\n",
              "      <td>-0.000514</td>\n",
              "      <td>0.021803</td>\n",
              "      <td>0.032669</td>\n",
              "      <td>0.011400</td>\n",
              "      <td>0.019625</td>\n",
              "      <td>0.019211</td>\n",
              "      <td>-0.031634</td>\n",
              "      <td>0.041581</td>\n",
              "      <td>0.032604</td>\n",
              "      <td>0.014153</td>\n",
              "      <td>0.032584</td>\n",
              "      <td>-0.019381</td>\n",
              "      <td>0.012158</td>\n",
              "      <td>0.000668</td>\n",
              "      <td>0.036718</td>\n",
              "      <td>-0.009588</td>\n",
              "      <td>-0.026324</td>\n",
              "      <td>-0.045127</td>\n",
              "      <td>0.004489</td>\n",
              "      <td>-0.044984</td>\n",
              "      <td>0.025092</td>\n",
              "      <td>0.023681</td>\n",
              "      <td>0.000446</td>\n",
              "      <td>0.011683</td>\n",
              "      <td>0.045299</td>\n",
              "      <td>-0.003765</td>\n",
              "      <td>0.006639</td>\n",
              "      <td>0.007357</td>\n",
              "      <td>-0.010212</td>\n",
              "      <td>0.012721</td>\n",
              "      <td>-0.021091</td>\n",
              "      <td>0.006044</td>\n",
              "      <td>-0.002831</td>\n",
              "      <td>0.016584</td>\n",
              "      <td>0.001313</td>\n",
              "      <td>-0.141750</td>\n",
              "      <td>...</td>\n",
              "      <td>0.008706</td>\n",
              "      <td>0.046146</td>\n",
              "      <td>0.021490</td>\n",
              "      <td>-0.057390</td>\n",
              "      <td>0.007033</td>\n",
              "      <td>0.041118</td>\n",
              "      <td>0.028251</td>\n",
              "      <td>0.021366</td>\n",
              "      <td>0.008927</td>\n",
              "      <td>-0.021163</td>\n",
              "      <td>-0.009261</td>\n",
              "      <td>0.042663</td>\n",
              "      <td>0.052698</td>\n",
              "      <td>-0.018768</td>\n",
              "      <td>0.099278</td>\n",
              "      <td>0.001892</td>\n",
              "      <td>-0.021597</td>\n",
              "      <td>-0.020557</td>\n",
              "      <td>-0.031995</td>\n",
              "      <td>0.003246</td>\n",
              "      <td>0.018443</td>\n",
              "      <td>-0.031394</td>\n",
              "      <td>0.002089</td>\n",
              "      <td>-0.014686</td>\n",
              "      <td>0.019090</td>\n",
              "      <td>-0.083967</td>\n",
              "      <td>0.070653</td>\n",
              "      <td>0.016554</td>\n",
              "      <td>0.072213</td>\n",
              "      <td>0.018719</td>\n",
              "      <td>-0.002226</td>\n",
              "      <td>-0.043061</td>\n",
              "      <td>-0.012670</td>\n",
              "      <td>0.003802</td>\n",
              "      <td>0.058948</td>\n",
              "      <td>-0.021597</td>\n",
              "      <td>-0.012890</td>\n",
              "      <td>0.039327</td>\n",
              "      <td>0.031281</td>\n",
              "      <td>0.067092</td>\n",
              "    </tr>\n",
              "    <tr>\n",
              "      <th>1</th>\n",
              "      <td>-0.051948</td>\n",
              "      <td>-0.004511</td>\n",
              "      <td>0.026650</td>\n",
              "      <td>-0.042148</td>\n",
              "      <td>-0.000822</td>\n",
              "      <td>0.088770</td>\n",
              "      <td>0.072916</td>\n",
              "      <td>0.017292</td>\n",
              "      <td>-0.031195</td>\n",
              "      <td>0.088828</td>\n",
              "      <td>-0.006440</td>\n",
              "      <td>0.089824</td>\n",
              "      <td>-0.054378</td>\n",
              "      <td>-0.026148</td>\n",
              "      <td>-0.022116</td>\n",
              "      <td>-0.041793</td>\n",
              "      <td>0.012314</td>\n",
              "      <td>-0.067712</td>\n",
              "      <td>0.105116</td>\n",
              "      <td>0.036269</td>\n",
              "      <td>-0.061616</td>\n",
              "      <td>-0.021850</td>\n",
              "      <td>-0.038900</td>\n",
              "      <td>-0.085158</td>\n",
              "      <td>-0.020362</td>\n",
              "      <td>0.016822</td>\n",
              "      <td>0.030630</td>\n",
              "      <td>0.107706</td>\n",
              "      <td>0.071346</td>\n",
              "      <td>-0.023950</td>\n",
              "      <td>-0.009565</td>\n",
              "      <td>-0.015033</td>\n",
              "      <td>0.022350</td>\n",
              "      <td>0.012290</td>\n",
              "      <td>0.036760</td>\n",
              "      <td>-0.027276</td>\n",
              "      <td>0.091931</td>\n",
              "      <td>-0.075555</td>\n",
              "      <td>0.023854</td>\n",
              "      <td>-0.140880</td>\n",
              "      <td>...</td>\n",
              "      <td>0.057774</td>\n",
              "      <td>-0.131306</td>\n",
              "      <td>0.034544</td>\n",
              "      <td>-0.009475</td>\n",
              "      <td>0.095725</td>\n",
              "      <td>0.014392</td>\n",
              "      <td>0.005084</td>\n",
              "      <td>-0.018414</td>\n",
              "      <td>0.055759</td>\n",
              "      <td>0.055017</td>\n",
              "      <td>-0.005136</td>\n",
              "      <td>-0.022165</td>\n",
              "      <td>0.015826</td>\n",
              "      <td>-0.020640</td>\n",
              "      <td>0.000507</td>\n",
              "      <td>-0.003601</td>\n",
              "      <td>-0.069692</td>\n",
              "      <td>0.019264</td>\n",
              "      <td>-0.029995</td>\n",
              "      <td>-0.001665</td>\n",
              "      <td>0.057180</td>\n",
              "      <td>0.026070</td>\n",
              "      <td>-0.027262</td>\n",
              "      <td>0.042294</td>\n",
              "      <td>-0.013222</td>\n",
              "      <td>-0.064247</td>\n",
              "      <td>0.161862</td>\n",
              "      <td>0.013918</td>\n",
              "      <td>0.108296</td>\n",
              "      <td>0.030186</td>\n",
              "      <td>0.034229</td>\n",
              "      <td>-0.037477</td>\n",
              "      <td>-0.010070</td>\n",
              "      <td>-0.009269</td>\n",
              "      <td>0.025104</td>\n",
              "      <td>-0.030197</td>\n",
              "      <td>-0.007123</td>\n",
              "      <td>-0.010471</td>\n",
              "      <td>-0.034998</td>\n",
              "      <td>0.009148</td>\n",
              "    </tr>\n",
              "    <tr>\n",
              "      <th>2</th>\n",
              "      <td>0.007791</td>\n",
              "      <td>0.019822</td>\n",
              "      <td>0.007637</td>\n",
              "      <td>-0.009873</td>\n",
              "      <td>-0.005838</td>\n",
              "      <td>0.013319</td>\n",
              "      <td>0.037538</td>\n",
              "      <td>0.028747</td>\n",
              "      <td>0.022850</td>\n",
              "      <td>0.028781</td>\n",
              "      <td>0.001351</td>\n",
              "      <td>0.048016</td>\n",
              "      <td>0.009161</td>\n",
              "      <td>-0.006895</td>\n",
              "      <td>0.025722</td>\n",
              "      <td>-0.025014</td>\n",
              "      <td>0.024292</td>\n",
              "      <td>-0.041152</td>\n",
              "      <td>0.068784</td>\n",
              "      <td>-0.000442</td>\n",
              "      <td>-0.004778</td>\n",
              "      <td>-0.056442</td>\n",
              "      <td>-0.012329</td>\n",
              "      <td>-0.063068</td>\n",
              "      <td>-0.008681</td>\n",
              "      <td>0.028039</td>\n",
              "      <td>0.021420</td>\n",
              "      <td>0.027004</td>\n",
              "      <td>0.080795</td>\n",
              "      <td>-0.013304</td>\n",
              "      <td>-0.006013</td>\n",
              "      <td>0.015192</td>\n",
              "      <td>-0.024167</td>\n",
              "      <td>0.022336</td>\n",
              "      <td>0.012020</td>\n",
              "      <td>-0.003121</td>\n",
              "      <td>0.023176</td>\n",
              "      <td>-0.001796</td>\n",
              "      <td>-0.014873</td>\n",
              "      <td>-0.073905</td>\n",
              "      <td>...</td>\n",
              "      <td>0.050149</td>\n",
              "      <td>0.021367</td>\n",
              "      <td>0.005813</td>\n",
              "      <td>-0.029883</td>\n",
              "      <td>0.020230</td>\n",
              "      <td>0.026668</td>\n",
              "      <td>-0.024716</td>\n",
              "      <td>0.016242</td>\n",
              "      <td>-0.019423</td>\n",
              "      <td>-0.011100</td>\n",
              "      <td>0.001614</td>\n",
              "      <td>0.019643</td>\n",
              "      <td>0.036184</td>\n",
              "      <td>0.002698</td>\n",
              "      <td>0.052374</td>\n",
              "      <td>-0.009242</td>\n",
              "      <td>-0.010173</td>\n",
              "      <td>-0.000006</td>\n",
              "      <td>-0.020805</td>\n",
              "      <td>0.009900</td>\n",
              "      <td>0.058705</td>\n",
              "      <td>-0.004611</td>\n",
              "      <td>-0.017624</td>\n",
              "      <td>-0.001931</td>\n",
              "      <td>0.028311</td>\n",
              "      <td>-0.098946</td>\n",
              "      <td>0.065244</td>\n",
              "      <td>0.018798</td>\n",
              "      <td>0.085048</td>\n",
              "      <td>0.032540</td>\n",
              "      <td>0.011901</td>\n",
              "      <td>-0.010740</td>\n",
              "      <td>0.000621</td>\n",
              "      <td>-0.006504</td>\n",
              "      <td>0.023472</td>\n",
              "      <td>-0.015728</td>\n",
              "      <td>-0.015181</td>\n",
              "      <td>0.000168</td>\n",
              "      <td>0.034005</td>\n",
              "      <td>0.052392</td>\n",
              "    </tr>\n",
              "    <tr>\n",
              "      <th>3</th>\n",
              "      <td>0.021141</td>\n",
              "      <td>0.035219</td>\n",
              "      <td>-0.011929</td>\n",
              "      <td>-0.009078</td>\n",
              "      <td>-0.000629</td>\n",
              "      <td>0.000824</td>\n",
              "      <td>-0.000587</td>\n",
              "      <td>-0.009307</td>\n",
              "      <td>-0.005538</td>\n",
              "      <td>-0.005704</td>\n",
              "      <td>-0.012918</td>\n",
              "      <td>0.020378</td>\n",
              "      <td>0.013326</td>\n",
              "      <td>-0.002653</td>\n",
              "      <td>0.041084</td>\n",
              "      <td>0.010552</td>\n",
              "      <td>-0.012909</td>\n",
              "      <td>0.009885</td>\n",
              "      <td>0.057803</td>\n",
              "      <td>-0.029851</td>\n",
              "      <td>0.006994</td>\n",
              "      <td>-0.032244</td>\n",
              "      <td>0.020394</td>\n",
              "      <td>-0.049839</td>\n",
              "      <td>-0.006741</td>\n",
              "      <td>-0.006648</td>\n",
              "      <td>0.002552</td>\n",
              "      <td>0.050298</td>\n",
              "      <td>0.009181</td>\n",
              "      <td>0.018706</td>\n",
              "      <td>-0.018657</td>\n",
              "      <td>-0.026027</td>\n",
              "      <td>-0.017640</td>\n",
              "      <td>0.021673</td>\n",
              "      <td>-0.000470</td>\n",
              "      <td>0.054092</td>\n",
              "      <td>0.016840</td>\n",
              "      <td>0.005629</td>\n",
              "      <td>-0.002634</td>\n",
              "      <td>-0.064661</td>\n",
              "      <td>...</td>\n",
              "      <td>0.012425</td>\n",
              "      <td>-0.027362</td>\n",
              "      <td>-0.033903</td>\n",
              "      <td>-0.058426</td>\n",
              "      <td>0.010607</td>\n",
              "      <td>0.038053</td>\n",
              "      <td>-0.074582</td>\n",
              "      <td>-0.021730</td>\n",
              "      <td>0.005448</td>\n",
              "      <td>0.003526</td>\n",
              "      <td>0.041138</td>\n",
              "      <td>0.061680</td>\n",
              "      <td>0.011414</td>\n",
              "      <td>-0.023021</td>\n",
              "      <td>0.005707</td>\n",
              "      <td>0.006361</td>\n",
              "      <td>0.007973</td>\n",
              "      <td>-0.018491</td>\n",
              "      <td>0.052566</td>\n",
              "      <td>0.037613</td>\n",
              "      <td>0.016803</td>\n",
              "      <td>-0.010327</td>\n",
              "      <td>-0.040670</td>\n",
              "      <td>-0.024227</td>\n",
              "      <td>0.003977</td>\n",
              "      <td>-0.022236</td>\n",
              "      <td>0.035796</td>\n",
              "      <td>0.021845</td>\n",
              "      <td>0.079879</td>\n",
              "      <td>0.014550</td>\n",
              "      <td>0.012970</td>\n",
              "      <td>-0.002415</td>\n",
              "      <td>0.000121</td>\n",
              "      <td>-0.005612</td>\n",
              "      <td>0.045515</td>\n",
              "      <td>-0.040167</td>\n",
              "      <td>0.003144</td>\n",
              "      <td>0.017503</td>\n",
              "      <td>0.035809</td>\n",
              "      <td>0.076333</td>\n",
              "    </tr>\n",
              "    <tr>\n",
              "      <th>4</th>\n",
              "      <td>-0.019780</td>\n",
              "      <td>0.009907</td>\n",
              "      <td>0.026828</td>\n",
              "      <td>-0.000532</td>\n",
              "      <td>0.000214</td>\n",
              "      <td>0.010000</td>\n",
              "      <td>0.027658</td>\n",
              "      <td>0.039714</td>\n",
              "      <td>0.004680</td>\n",
              "      <td>0.008388</td>\n",
              "      <td>-0.019198</td>\n",
              "      <td>0.045436</td>\n",
              "      <td>0.016963</td>\n",
              "      <td>0.005281</td>\n",
              "      <td>0.017419</td>\n",
              "      <td>-0.010952</td>\n",
              "      <td>0.011683</td>\n",
              "      <td>-0.032281</td>\n",
              "      <td>0.079293</td>\n",
              "      <td>0.004996</td>\n",
              "      <td>0.005919</td>\n",
              "      <td>-0.067110</td>\n",
              "      <td>-0.013999</td>\n",
              "      <td>-0.046911</td>\n",
              "      <td>-0.003722</td>\n",
              "      <td>0.076137</td>\n",
              "      <td>0.008824</td>\n",
              "      <td>-0.041124</td>\n",
              "      <td>0.108075</td>\n",
              "      <td>-0.003796</td>\n",
              "      <td>0.012377</td>\n",
              "      <td>0.024645</td>\n",
              "      <td>-0.040168</td>\n",
              "      <td>0.023545</td>\n",
              "      <td>0.003189</td>\n",
              "      <td>0.009605</td>\n",
              "      <td>-0.017241</td>\n",
              "      <td>0.064777</td>\n",
              "      <td>-0.006667</td>\n",
              "      <td>-0.084374</td>\n",
              "      <td>...</td>\n",
              "      <td>0.018089</td>\n",
              "      <td>0.037997</td>\n",
              "      <td>0.007748</td>\n",
              "      <td>-0.052683</td>\n",
              "      <td>0.015847</td>\n",
              "      <td>0.039029</td>\n",
              "      <td>-0.006674</td>\n",
              "      <td>0.031491</td>\n",
              "      <td>0.021852</td>\n",
              "      <td>0.003699</td>\n",
              "      <td>0.081016</td>\n",
              "      <td>0.002571</td>\n",
              "      <td>0.023120</td>\n",
              "      <td>0.005211</td>\n",
              "      <td>0.061190</td>\n",
              "      <td>0.002260</td>\n",
              "      <td>-0.033711</td>\n",
              "      <td>-0.009587</td>\n",
              "      <td>-0.008022</td>\n",
              "      <td>0.009238</td>\n",
              "      <td>0.054860</td>\n",
              "      <td>-0.012990</td>\n",
              "      <td>-0.014217</td>\n",
              "      <td>0.002119</td>\n",
              "      <td>0.024302</td>\n",
              "      <td>-0.076504</td>\n",
              "      <td>0.029595</td>\n",
              "      <td>0.021265</td>\n",
              "      <td>0.114605</td>\n",
              "      <td>0.023795</td>\n",
              "      <td>0.022583</td>\n",
              "      <td>-0.036615</td>\n",
              "      <td>0.007952</td>\n",
              "      <td>0.009883</td>\n",
              "      <td>0.056019</td>\n",
              "      <td>-0.037180</td>\n",
              "      <td>0.017394</td>\n",
              "      <td>0.017366</td>\n",
              "      <td>0.080706</td>\n",
              "      <td>0.103436</td>\n",
              "    </tr>\n",
              "  </tbody>\n",
              "</table>\n",
              "<p>5 rows × 768 columns</p>\n",
              "</div>"
            ],
            "text/plain": [
              "      col_0     col_1     col_2  ...   col_765   col_766   col_767\n",
              "0  0.001754  0.024795  0.004462  ...  0.039327  0.031281  0.067092\n",
              "1 -0.051948 -0.004511  0.026650  ... -0.010471 -0.034998  0.009148\n",
              "2  0.007791  0.019822  0.007637  ...  0.000168  0.034005  0.052392\n",
              "3  0.021141  0.035219 -0.011929  ...  0.017503  0.035809  0.076333\n",
              "4 -0.019780  0.009907  0.026828  ...  0.017366  0.080706  0.103436\n",
              "\n",
              "[5 rows x 768 columns]"
            ]
          },
          "metadata": {
            "tags": []
          },
          "execution_count": 32
        }
      ]
    },
    {
      "cell_type": "code",
      "metadata": {
        "colab": {
          "base_uri": "https://localhost:8080/"
        },
        "id": "n1fc6M87ydEh",
        "outputId": "f635e9f3-e92b-42f4-ec4e-f4ce8382c995"
      },
      "source": [
        "%%time\n",
        "from autogluon.tabular import  TabularPredictor\n",
        "from sklearn.model_selection import StratifiedKFold\n",
        "from sklearn.metrics import classification_report,accuracy_score\n",
        "skf = StratifiedKFold(n_splits=5)\n",
        "\n",
        "acc=[]\n",
        "test_pred=[]\n",
        "for train_index, test_index in skf.split(data.iloc[:,0:-1], data.iloc[:,-1]):\n",
        "  train=data.iloc[train_index,:]\n",
        "  test=data.iloc[test_index,:]\n",
        "  clf=TabularPredictor(label='Label',verbosity=0).fit(train, presets='best_quality')\n",
        "  res=clf.leaderboard(test,silent=True)\n",
        "  res['score_test']=res['score_test'].round(3)*100\n",
        "  pred = clf.predict(test,model=res.model[0])\n",
        "  accuracy=accuracy_score(test.Label,pred)\n",
        "  acc.append(accuracy)\n",
        "  print('best model ',res.model[0],' accuracy is ',accuracy)\n",
        "  test_pred.append(clf.predict(test_df,model=res.model[0]))\n",
        "print('average accuracy is',np.mean(acc))"
      ],
      "execution_count": 33,
      "outputs": [
        {
          "output_type": "stream",
          "text": [
            "best model  RandomForestEntr_BAG_L1  accuracy is  0.7\n",
            "best model  KNeighborsDist_BAG_L1  accuracy is  0.775\n",
            "best model  RandomForestGini_BAG_L1  accuracy is  0.675\n",
            "best model  LightGBMLarge_BAG_L1  accuracy is  0.75\n",
            "best model  RandomForestGini_BAG_L1  accuracy is  0.7\n",
            "average accuracy is 0.7200000000000001\n",
            "CPU times: user 20min 7s, sys: 14.8 s, total: 20min 22s\n",
            "Wall time: 12min 16s\n"
          ],
          "name": "stdout"
        }
      ]
    },
    {
      "cell_type": "code",
      "metadata": {
        "id": "XLnRFiKPBYg_"
      },
      "source": [
        ""
      ],
      "execution_count": 33,
      "outputs": []
    },
    {
      "cell_type": "code",
      "metadata": {
        "id": "c7wIjQwDBf5M"
      },
      "source": [
        "ids=test_path.id.apply(lambda x:x.split('/')[-1].split('.')[0])\n",
        "pred=np.mean(test_pred,axis=0)\n",
        "lang=['en']*len(test_path)\n",
        "pred=np.where(pred>0.5,1,0)"
      ],
      "execution_count": 34,
      "outputs": []
    },
    {
      "cell_type": "code",
      "metadata": {
        "id": "6IrtPJqEBm-x",
        "colab": {
          "base_uri": "https://localhost:8080/",
          "height": 202
        },
        "outputId": "1f3379da-0b46-4886-c3ba-8dcab429ac5a"
      },
      "source": [
        "final=pd.DataFrame(zip(ids,lang,pred),columns=['author-id','lang','type'])\n",
        "final.head()"
      ],
      "execution_count": 35,
      "outputs": [
        {
          "output_type": "execute_result",
          "data": {
            "text/html": [
              "<div>\n",
              "<style scoped>\n",
              "    .dataframe tbody tr th:only-of-type {\n",
              "        vertical-align: middle;\n",
              "    }\n",
              "\n",
              "    .dataframe tbody tr th {\n",
              "        vertical-align: top;\n",
              "    }\n",
              "\n",
              "    .dataframe thead th {\n",
              "        text-align: right;\n",
              "    }\n",
              "</style>\n",
              "<table border=\"1\" class=\"dataframe\">\n",
              "  <thead>\n",
              "    <tr style=\"text-align: right;\">\n",
              "      <th></th>\n",
              "      <th>author-id</th>\n",
              "      <th>lang</th>\n",
              "      <th>type</th>\n",
              "    </tr>\n",
              "  </thead>\n",
              "  <tbody>\n",
              "    <tr>\n",
              "      <th>0</th>\n",
              "      <td>f2973063f16c0698a6de86c55b5f9ad6</td>\n",
              "      <td>en</td>\n",
              "      <td>1</td>\n",
              "    </tr>\n",
              "    <tr>\n",
              "      <th>1</th>\n",
              "      <td>be71e41921653e523aceb555727b61c7</td>\n",
              "      <td>en</td>\n",
              "      <td>0</td>\n",
              "    </tr>\n",
              "    <tr>\n",
              "      <th>2</th>\n",
              "      <td>d0235c3e74f79298fc2b6d2427c2060b</td>\n",
              "      <td>en</td>\n",
              "      <td>0</td>\n",
              "    </tr>\n",
              "    <tr>\n",
              "      <th>3</th>\n",
              "      <td>314d4bf068314367bc83dc5ae3757e13</td>\n",
              "      <td>en</td>\n",
              "      <td>1</td>\n",
              "    </tr>\n",
              "    <tr>\n",
              "      <th>4</th>\n",
              "      <td>fdd27881da241cff7115c1e89caba6dd</td>\n",
              "      <td>en</td>\n",
              "      <td>1</td>\n",
              "    </tr>\n",
              "  </tbody>\n",
              "</table>\n",
              "</div>"
            ],
            "text/plain": [
              "                          author-id lang  type\n",
              "0  f2973063f16c0698a6de86c55b5f9ad6   en     1\n",
              "1  be71e41921653e523aceb555727b61c7   en     0\n",
              "2  d0235c3e74f79298fc2b6d2427c2060b   en     0\n",
              "3  314d4bf068314367bc83dc5ae3757e13   en     1\n",
              "4  fdd27881da241cff7115c1e89caba6dd   en     1"
            ]
          },
          "metadata": {
            "tags": []
          },
          "execution_count": 35
        }
      ]
    },
    {
      "cell_type": "code",
      "metadata": {
        "id": "2yTz0vW8CPMz"
      },
      "source": [
        "final.to_csv('first.csv',index=False)"
      ],
      "execution_count": 36,
      "outputs": []
    },
    {
      "cell_type": "code",
      "metadata": {
        "colab": {
          "base_uri": "https://localhost:8080/"
        },
        "id": "OifCVMtbQpt0",
        "outputId": "d6a05a8b-7b06-4a48-ce1a-780f196c4716"
      },
      "source": [
        "if os.path.isdir('output'):\n",
        "  !rm -rf output\n",
        "  !mkdir output\n",
        "  !rm talha.zip\n",
        "else:\n",
        "  !mkdir output"
      ],
      "execution_count": 37,
      "outputs": [
        {
          "output_type": "stream",
          "text": [
            "rm: cannot remove 'talha.zip': No such file or directory\n"
          ],
          "name": "stdout"
        }
      ]
    },
    {
      "cell_type": "code",
      "metadata": {
        "id": "zvFjkD0GCjrJ"
      },
      "source": [
        "import pandas as pd\n",
        "df=final.copy()\n",
        "import pandas as pd\n",
        "for row in df.index:\n",
        "    xml = []\n",
        "    xml.append('<author id=\"{}\"'.format(df.loc[row,'author-id']))\n",
        "    xml.append('lang=\"{}\"'.format(df.loc[row,'lang']))\n",
        "    xml.append('type=\"{}\"'.format(df.loc[row,'type']))\n",
        "    xml.append('/>')\n",
        "    x='\\n'.join(xml)\n",
        "    myfile = open(\"output/{}.xml\".format(df.loc[row,'author-id']), \"w\")\n",
        "    myfile.write(x)\n",
        "    myfile.close()\n",
        "    "
      ],
      "execution_count": 38,
      "outputs": []
    },
    {
      "cell_type": "code",
      "metadata": {
        "id": "fVDZOe64QrCv"
      },
      "source": [
        "%%capture\n",
        "!zip -r talha.zip output"
      ],
      "execution_count": 39,
      "outputs": []
    },
    {
      "cell_type": "code",
      "metadata": {
        "id": "I4prRzXpaxsr"
      },
      "source": [
        ""
      ],
      "execution_count": 39,
      "outputs": []
    }
  ]
}