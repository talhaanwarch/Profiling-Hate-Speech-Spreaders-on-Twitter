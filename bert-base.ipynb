{
  "nbformat": 4,
  "nbformat_minor": 0,
  "metadata": {
    "colab": {
      "name": "notebook.ipynb",
      "provenance": [],
      "collapsed_sections": [],
      "include_colab_link": true
    },
    "kernelspec": {
      "name": "python3",
      "display_name": "Python 3"
    },
    "language_info": {
      "name": "python"
    },
    "accelerator": "GPU"
  },
  "cells": [
    {
      "cell_type": "markdown",
      "metadata": {
        "id": "view-in-github",
        "colab_type": "text"
      },
      "source": [
        "<a href=\"https://colab.research.google.com/github/talhaanwarch/Profiling-Hate-Speech-Spreaders-on-Twitter/blob/main/AGnotebook.ipynb\" target=\"_parent\"><img src=\"https://colab.research.google.com/assets/colab-badge.svg\" alt=\"Open In Colab\"/></a>"
      ]
    },
    {
      "cell_type": "code",
      "metadata": {
        "colab": {
          "base_uri": "https://localhost:8080/"
        },
        "id": "nUUMksNxDZuV",
        "outputId": "41fbd411-e71c-408c-c97a-2b5f5d30375f"
      },
      "source": [
        "!nvidia-smi -L"
      ],
      "execution_count": 1,
      "outputs": [
        {
          "output_type": "stream",
          "text": [
            "GPU 0: Tesla T4 (UUID: GPU-94d85bdf-1dc2-e28c-f0a4-b525a3db0f07)\n"
          ],
          "name": "stdout"
        }
      ]
    },
    {
      "cell_type": "markdown",
      "metadata": {
        "id": "P-3gL08E2izB"
      },
      "source": [
        "#install pacakges"
      ]
    },
    {
      "cell_type": "code",
      "metadata": {
        "id": "tfXdcDubvVmI"
      },
      "source": [
        "%%capture\n",
        "!python3 -m pip install -U pip\n",
        "!python3 -m pip install -U setuptools wheel\n",
        "!python3 -m pip install -U \"mxnet_cu110<2.0.0\"\n",
        "!python3 -m pip install autogluon"
      ],
      "execution_count": 2,
      "outputs": []
    },
    {
      "cell_type": "code",
      "metadata": {
        "id": "m3e8ItjyrbC5"
      },
      "source": [
        "%%capture\n",
        "!pip install -U transformers\n",
        "!pip install catboost\n",
        "!pip install xgboost\n",
        "!pip install lightgbm"
      ],
      "execution_count": 3,
      "outputs": []
    },
    {
      "cell_type": "markdown",
      "metadata": {
        "id": "tbFVgzDJ2tkN"
      },
      "source": [
        "# download data"
      ]
    },
    {
      "cell_type": "code",
      "metadata": {
        "id": "sLK8NbVADmwP"
      },
      "source": [
        "import os\n",
        "if os.path.isdir('/content/Profiling-Hate-Speech-Spreaders-on-Twitter') is False:\n",
        "    !git clone https://github.com/talhaanwarch/Profiling-Hate-Speech-Spreaders-on-Twitter.git"
      ],
      "execution_count": 4,
      "outputs": []
    },
    {
      "cell_type": "code",
      "metadata": {
        "id": "xWClrObg1m3o"
      },
      "source": [
        "%%capture \n",
        "if os.path.isdir('train') is False:\n",
        "  !unzip /content/Profiling-Hate-Speech-Spreaders-on-Twitter/data/train.zip\n",
        "if os.path.isdir('test') is False:\n",
        "  !unzip /content/Profiling-Hate-Speech-Spreaders-on-Twitter/data/test.zip"
      ],
      "execution_count": 5,
      "outputs": []
    },
    {
      "cell_type": "markdown",
      "metadata": {
        "id": "o0x1BkHU2vGa"
      },
      "source": [
        "# prepare data"
      ]
    },
    {
      "cell_type": "markdown",
      "metadata": {
        "id": "hEC85rpu-ur5"
      },
      "source": [
        "## train data"
      ]
    },
    {
      "cell_type": "code",
      "metadata": {
        "id": "uFzbJ_gC1EJw"
      },
      "source": [
        "import pandas as pd\n",
        "import numpy as np\n",
        "import matplotlib.pyplot as plt\n",
        "df=pd.read_csv('train/en/truth.txt',sep=':::',header=None,engine='python')\n",
        "df.columns=['id','label']"
      ],
      "execution_count": 6,
      "outputs": []
    },
    {
      "cell_type": "code",
      "metadata": {
        "colab": {
          "base_uri": "https://localhost:8080/"
        },
        "id": "3ROlQoSB7Yh_",
        "outputId": "dcb0683d-96fd-4f5f-adda-01951631eb41"
      },
      "source": [
        "df.label.value_counts()"
      ],
      "execution_count": 7,
      "outputs": [
        {
          "output_type": "execute_result",
          "data": {
            "text/plain": [
              "1    100\n",
              "0    100\n",
              "Name: label, dtype: int64"
            ]
          },
          "metadata": {
            "tags": []
          },
          "execution_count": 7
        }
      ]
    },
    {
      "cell_type": "code",
      "metadata": {
        "colab": {
          "base_uri": "https://localhost:8080/"
        },
        "id": "v_JM-_us1LS7",
        "outputId": "d208f455-5e2a-463d-c3aa-acea012acac8"
      },
      "source": [
        "import nltk\n",
        "from nltk.corpus import stopwords\n",
        "from nltk.stem import WordNetLemmatizer\n",
        "nltk.download('wordnet')\n",
        "nltk.download('stopwords')\n",
        "lemmatizer = WordNetLemmatizer()\n",
        "w_tokenizer = nltk.tokenize.WhitespaceTokenizer()\n",
        "stop = stopwords.words('english')"
      ],
      "execution_count": 8,
      "outputs": [
        {
          "output_type": "stream",
          "text": [
            "[nltk_data] Downloading package wordnet to /root/nltk_data...\n",
            "[nltk_data]   Package wordnet is already up-to-date!\n",
            "[nltk_data] Downloading package stopwords to /root/nltk_data...\n",
            "[nltk_data]   Package stopwords is already up-to-date!\n"
          ],
          "name": "stdout"
        }
      ]
    },
    {
      "cell_type": "code",
      "metadata": {
        "id": "yEBoiYus1-q3"
      },
      "source": [
        "def preprocessing(text):\n",
        "    text=text.str.replace('\\d+', '')\n",
        "    text=text.str.replace('RT','')\n",
        "    text=text.str.replace('#USER#','')\n",
        "    text=text.str.replace('_','')\n",
        "    text=text.str.replace('#URL#','')\n",
        "    text= text.str.lower()\n",
        "    text = text.str.replace('[^\\w\\s]','')\n",
        "    #text = text.apply(lambda x : [lemmatizer.lemmatize(y) for y in w_tokenizer.tokenize(x)])\n",
        "    #text = text.apply(lambda x: [item for item in x if item not in stop])\n",
        "    #text = text.apply(lambda x : \" \".join(x))\n",
        "    return text"
      ],
      "execution_count": 9,
      "outputs": []
    },
    {
      "cell_type": "code",
      "metadata": {
        "colab": {
          "base_uri": "https://localhost:8080/",
          "height": 202
        },
        "id": "KuCfiRvP2AEC",
        "outputId": "7d0ad294-4a99-41b6-c238-177e97025c02"
      },
      "source": [
        "df.id='train/en/'+df.id.astype(str)+'.xml'\n",
        "df.head()"
      ],
      "execution_count": 10,
      "outputs": [
        {
          "output_type": "execute_result",
          "data": {
            "text/html": [
              "<div>\n",
              "<style scoped>\n",
              "    .dataframe tbody tr th:only-of-type {\n",
              "        vertical-align: middle;\n",
              "    }\n",
              "\n",
              "    .dataframe tbody tr th {\n",
              "        vertical-align: top;\n",
              "    }\n",
              "\n",
              "    .dataframe thead th {\n",
              "        text-align: right;\n",
              "    }\n",
              "</style>\n",
              "<table border=\"1\" class=\"dataframe\">\n",
              "  <thead>\n",
              "    <tr style=\"text-align: right;\">\n",
              "      <th></th>\n",
              "      <th>id</th>\n",
              "      <th>label</th>\n",
              "    </tr>\n",
              "  </thead>\n",
              "  <tbody>\n",
              "    <tr>\n",
              "      <th>0</th>\n",
              "      <td>train/en/639b8e5e6a527d494c85d8f5704b1a01.xml</td>\n",
              "      <td>0</td>\n",
              "    </tr>\n",
              "    <tr>\n",
              "      <th>1</th>\n",
              "      <td>train/en/f2b1fc84c500c38a93522efbd422b559.xml</td>\n",
              "      <td>0</td>\n",
              "    </tr>\n",
              "    <tr>\n",
              "      <th>2</th>\n",
              "      <td>train/en/10b2d013382e1fb3c9414ea28329f258.xml</td>\n",
              "      <td>0</td>\n",
              "    </tr>\n",
              "    <tr>\n",
              "      <th>3</th>\n",
              "      <td>train/en/26644d1348fc1122e8c5ef45d6bc84fa.xml</td>\n",
              "      <td>0</td>\n",
              "    </tr>\n",
              "    <tr>\n",
              "      <th>4</th>\n",
              "      <td>train/en/4d4c5dcbfe38d0d33a0d1b1419952ca8.xml</td>\n",
              "      <td>0</td>\n",
              "    </tr>\n",
              "  </tbody>\n",
              "</table>\n",
              "</div>"
            ],
            "text/plain": [
              "                                              id  label\n",
              "0  train/en/639b8e5e6a527d494c85d8f5704b1a01.xml      0\n",
              "1  train/en/f2b1fc84c500c38a93522efbd422b559.xml      0\n",
              "2  train/en/10b2d013382e1fb3c9414ea28329f258.xml      0\n",
              "3  train/en/26644d1348fc1122e8c5ef45d6bc84fa.xml      0\n",
              "4  train/en/4d4c5dcbfe38d0d33a0d1b1419952ca8.xml      0"
            ]
          },
          "metadata": {
            "tags": []
          },
          "execution_count": 10
        }
      ]
    },
    {
      "cell_type": "code",
      "metadata": {
        "colab": {
          "base_uri": "https://localhost:8080/"
        },
        "id": "WALZdHXd2BSE",
        "outputId": "2a0dca1a-6fe2-4cf2-9cfa-b971fe77def7"
      },
      "source": [
        "len(df)"
      ],
      "execution_count": 11,
      "outputs": [
        {
          "output_type": "execute_result",
          "data": {
            "text/plain": [
              "200"
            ]
          },
          "metadata": {
            "tags": []
          },
          "execution_count": 11
        }
      ]
    },
    {
      "cell_type": "code",
      "metadata": {
        "id": "LuY7kaIJ2C4G"
      },
      "source": [
        "import xml.etree.ElementTree as ET\n",
        "def reader(df,ground=True):\n",
        "  data=[]\n",
        "  for x in df.iterrows():\n",
        "      \n",
        "      tree = ET.parse(x[1].id)\n",
        "      root = tree.getroot()\n",
        "      text=[x.text for x in root[0]]\n",
        "      if ground:\n",
        "        label=[x[1].label]*len(text)\n",
        "        data.append(pd.DataFrame(zip(text,label),columns=['text','label']))\n",
        "      else:\n",
        "        data.append(pd.DataFrame(text,columns=['text']))\n",
        "  return data"
      ],
      "execution_count": 12,
      "outputs": []
    },
    {
      "cell_type": "code",
      "metadata": {
        "id": "hNrFeS0n-HIv"
      },
      "source": [
        "data=reader(df)"
      ],
      "execution_count": 13,
      "outputs": []
    },
    {
      "cell_type": "code",
      "metadata": {
        "colab": {
          "base_uri": "https://localhost:8080/",
          "height": 202
        },
        "id": "pdcFOycQ2Etp",
        "outputId": "13c15917-4cc1-47d5-b91e-5f8eb99a5c25"
      },
      "source": [
        "data[0].head()"
      ],
      "execution_count": 14,
      "outputs": [
        {
          "output_type": "execute_result",
          "data": {
            "text/html": [
              "<div>\n",
              "<style scoped>\n",
              "    .dataframe tbody tr th:only-of-type {\n",
              "        vertical-align: middle;\n",
              "    }\n",
              "\n",
              "    .dataframe tbody tr th {\n",
              "        vertical-align: top;\n",
              "    }\n",
              "\n",
              "    .dataframe thead th {\n",
              "        text-align: right;\n",
              "    }\n",
              "</style>\n",
              "<table border=\"1\" class=\"dataframe\">\n",
              "  <thead>\n",
              "    <tr style=\"text-align: right;\">\n",
              "      <th></th>\n",
              "      <th>text</th>\n",
              "      <th>label</th>\n",
              "    </tr>\n",
              "  </thead>\n",
              "  <tbody>\n",
              "    <tr>\n",
              "      <th>0</th>\n",
              "      <td>RT #USER#: Funny how “15 days to slow the spre...</td>\n",
              "      <td>0</td>\n",
              "    </tr>\n",
              "    <tr>\n",
              "      <th>1</th>\n",
              "      <td>RT #USER#: Why did Minneapolis just give Georg...</td>\n",
              "      <td>0</td>\n",
              "    </tr>\n",
              "    <tr>\n",
              "      <th>2</th>\n",
              "      <td>RT #USER#: To be fair, he has done a lot of un...</td>\n",
              "      <td>0</td>\n",
              "    </tr>\n",
              "    <tr>\n",
              "      <th>3</th>\n",
              "      <td>RT #USER#: President Trump got us the #HASHTAG...</td>\n",
              "      <td>0</td>\n",
              "    </tr>\n",
              "    <tr>\n",
              "      <th>4</th>\n",
              "      <td>RT #USER#: Is the case against former officer ...</td>\n",
              "      <td>0</td>\n",
              "    </tr>\n",
              "  </tbody>\n",
              "</table>\n",
              "</div>"
            ],
            "text/plain": [
              "                                                text  label\n",
              "0  RT #USER#: Funny how “15 days to slow the spre...      0\n",
              "1  RT #USER#: Why did Minneapolis just give Georg...      0\n",
              "2  RT #USER#: To be fair, he has done a lot of un...      0\n",
              "3  RT #USER#: President Trump got us the #HASHTAG...      0\n",
              "4  RT #USER#: Is the case against former officer ...      0"
            ]
          },
          "metadata": {
            "tags": []
          },
          "execution_count": 14
        }
      ]
    },
    {
      "cell_type": "code",
      "metadata": {
        "id": "Z8g5Ah4IhA3u"
      },
      "source": [
        "\n",
        "datax=data.copy()\n",
        "for d in range(len(data)):\n",
        "  datax[d].text=preprocessing(data[d].text)\n"
      ],
      "execution_count": 15,
      "outputs": []
    },
    {
      "cell_type": "code",
      "metadata": {
        "colab": {
          "base_uri": "https://localhost:8080/",
          "height": 202
        },
        "id": "_F5iHi5umS9F",
        "outputId": "9a1f8b07-3cee-433c-d80c-0dac324446cc"
      },
      "source": [
        "datax[0].head()"
      ],
      "execution_count": 16,
      "outputs": [
        {
          "output_type": "execute_result",
          "data": {
            "text/html": [
              "<div>\n",
              "<style scoped>\n",
              "    .dataframe tbody tr th:only-of-type {\n",
              "        vertical-align: middle;\n",
              "    }\n",
              "\n",
              "    .dataframe tbody tr th {\n",
              "        vertical-align: top;\n",
              "    }\n",
              "\n",
              "    .dataframe thead th {\n",
              "        text-align: right;\n",
              "    }\n",
              "</style>\n",
              "<table border=\"1\" class=\"dataframe\">\n",
              "  <thead>\n",
              "    <tr style=\"text-align: right;\">\n",
              "      <th></th>\n",
              "      <th>text</th>\n",
              "      <th>label</th>\n",
              "    </tr>\n",
              "  </thead>\n",
              "  <tbody>\n",
              "    <tr>\n",
              "      <th>0</th>\n",
              "      <td>funny how  days to slow the spread turned in...</td>\n",
              "      <td>0</td>\n",
              "    </tr>\n",
              "    <tr>\n",
              "      <th>1</th>\n",
              "      <td>why did minneapolis just give george floyds ...</td>\n",
              "      <td>0</td>\n",
              "    </tr>\n",
              "    <tr>\n",
              "      <th>2</th>\n",
              "      <td>to be fair he has done a lot of undercover w...</td>\n",
              "      <td>0</td>\n",
              "    </tr>\n",
              "    <tr>\n",
              "      <th>3</th>\n",
              "      <td>president trump got us the hashtag vaccine p...</td>\n",
              "      <td>0</td>\n",
              "    </tr>\n",
              "    <tr>\n",
              "      <th>4</th>\n",
              "      <td>is the case against former officer derek cha...</td>\n",
              "      <td>0</td>\n",
              "    </tr>\n",
              "  </tbody>\n",
              "</table>\n",
              "</div>"
            ],
            "text/plain": [
              "                                                text  label\n",
              "0    funny how  days to slow the spread turned in...      0\n",
              "1    why did minneapolis just give george floyds ...      0\n",
              "2    to be fair he has done a lot of undercover w...      0\n",
              "3    president trump got us the hashtag vaccine p...      0\n",
              "4    is the case against former officer derek cha...      0"
            ]
          },
          "metadata": {
            "tags": []
          },
          "execution_count": 16
        }
      ]
    },
    {
      "cell_type": "code",
      "metadata": {
        "colab": {
          "base_uri": "https://localhost:8080/"
        },
        "id": "-z9YynVjaVVR",
        "outputId": "4a946d1b-91ae-4f15-b9a9-aed59f345bd0"
      },
      "source": [
        "len(datax[0])"
      ],
      "execution_count": 17,
      "outputs": [
        {
          "output_type": "execute_result",
          "data": {
            "text/plain": [
              "200"
            ]
          },
          "metadata": {
            "tags": []
          },
          "execution_count": 17
        }
      ]
    },
    {
      "cell_type": "code",
      "metadata": {
        "id": "lojbROKwjNRV"
      },
      "source": [
        "doc_text,doc_label,=[],[]\n",
        "for i in range(len(datax)):\n",
        "  doc_text.append(list(datax[i].text))\n",
        "  doc_label.append(int(datax[i].mean()))"
      ],
      "execution_count": 18,
      "outputs": []
    },
    {
      "cell_type": "code",
      "metadata": {
        "colab": {
          "base_uri": "https://localhost:8080/"
        },
        "id": "rm3keInmpnBK",
        "outputId": "b83479ba-9cdc-42d0-f856-26d9a012c65d"
      },
      "source": [
        "len(doc_text),len(doc_label)"
      ],
      "execution_count": 19,
      "outputs": [
        {
          "output_type": "execute_result",
          "data": {
            "text/plain": [
              "(200, 200)"
            ]
          },
          "metadata": {
            "tags": []
          },
          "execution_count": 19
        }
      ]
    },
    {
      "cell_type": "markdown",
      "metadata": {
        "id": "4EW-8kNIdK7D"
      },
      "source": [
        "## test data"
      ]
    },
    {
      "cell_type": "code",
      "metadata": {
        "colab": {
          "base_uri": "https://localhost:8080/",
          "height": 202
        },
        "id": "vY6T_bk1-0RT",
        "outputId": "157cc2c1-161d-4267-d490-49d7d965173e"
      },
      "source": [
        "from glob import glob\n",
        "test_path=pd.DataFrame(glob('test/en/*.xml'),columns=['id'])\n",
        "test_path.head()"
      ],
      "execution_count": 20,
      "outputs": [
        {
          "output_type": "execute_result",
          "data": {
            "text/html": [
              "<div>\n",
              "<style scoped>\n",
              "    .dataframe tbody tr th:only-of-type {\n",
              "        vertical-align: middle;\n",
              "    }\n",
              "\n",
              "    .dataframe tbody tr th {\n",
              "        vertical-align: top;\n",
              "    }\n",
              "\n",
              "    .dataframe thead th {\n",
              "        text-align: right;\n",
              "    }\n",
              "</style>\n",
              "<table border=\"1\" class=\"dataframe\">\n",
              "  <thead>\n",
              "    <tr style=\"text-align: right;\">\n",
              "      <th></th>\n",
              "      <th>id</th>\n",
              "    </tr>\n",
              "  </thead>\n",
              "  <tbody>\n",
              "    <tr>\n",
              "      <th>0</th>\n",
              "      <td>test/en/f2973063f16c0698a6de86c55b5f9ad6.xml</td>\n",
              "    </tr>\n",
              "    <tr>\n",
              "      <th>1</th>\n",
              "      <td>test/en/be71e41921653e523aceb555727b61c7.xml</td>\n",
              "    </tr>\n",
              "    <tr>\n",
              "      <th>2</th>\n",
              "      <td>test/en/d0235c3e74f79298fc2b6d2427c2060b.xml</td>\n",
              "    </tr>\n",
              "    <tr>\n",
              "      <th>3</th>\n",
              "      <td>test/en/314d4bf068314367bc83dc5ae3757e13.xml</td>\n",
              "    </tr>\n",
              "    <tr>\n",
              "      <th>4</th>\n",
              "      <td>test/en/fdd27881da241cff7115c1e89caba6dd.xml</td>\n",
              "    </tr>\n",
              "  </tbody>\n",
              "</table>\n",
              "</div>"
            ],
            "text/plain": [
              "                                             id\n",
              "0  test/en/f2973063f16c0698a6de86c55b5f9ad6.xml\n",
              "1  test/en/be71e41921653e523aceb555727b61c7.xml\n",
              "2  test/en/d0235c3e74f79298fc2b6d2427c2060b.xml\n",
              "3  test/en/314d4bf068314367bc83dc5ae3757e13.xml\n",
              "4  test/en/fdd27881da241cff7115c1e89caba6dd.xml"
            ]
          },
          "metadata": {
            "tags": []
          },
          "execution_count": 20
        }
      ]
    },
    {
      "cell_type": "code",
      "metadata": {
        "id": "2qsFnJQA-2fl"
      },
      "source": [
        "test_data=reader(test_path,ground=False)"
      ],
      "execution_count": 21,
      "outputs": []
    },
    {
      "cell_type": "code",
      "metadata": {
        "id": "9f1a9ZWV-2iT"
      },
      "source": [
        "\n",
        "test_datax=test_data.copy()\n",
        "for d in range(len(test_datax)):\n",
        "  test_datax[d].text=preprocessing(test_datax[d].text)\n"
      ],
      "execution_count": 22,
      "outputs": []
    },
    {
      "cell_type": "code",
      "metadata": {
        "id": "eWCjKH8c-2lp"
      },
      "source": [
        "test_doc=[]\n",
        "for i in range(len(test_datax)):\n",
        "  test_doc.append(list(test_datax[i].text))"
      ],
      "execution_count": 23,
      "outputs": []
    },
    {
      "cell_type": "markdown",
      "metadata": {
        "id": "uk_kXqTk20rp"
      },
      "source": [
        "# generate embeddings"
      ]
    },
    {
      "cell_type": "code",
      "metadata": {
        "colab": {
          "base_uri": "https://localhost:8080/"
        },
        "id": "7ClLA5cVuesN",
        "outputId": "2735aacf-c518-4509-f0b8-9db126c84427"
      },
      "source": [
        "from transformers import AutoTokenizer, AutoModel\n",
        "from torch.nn.utils.rnn import pad_sequence\n",
        "import torch\n",
        "tokenizer = AutoTokenizer.from_pretrained(\"bert-base-uncased\",)\n",
        "model = AutoModel.from_pretrained(\"bert-base-uncased\",output_hidden_states=True)\n"
      ],
      "execution_count": 24,
      "outputs": [
        {
          "output_type": "stream",
          "text": [
            "Some weights of the model checkpoint at bert-base-uncased were not used when initializing BertModel: ['cls.seq_relationship.weight', 'cls.predictions.decoder.weight', 'cls.predictions.transform.dense.weight', 'cls.predictions.transform.dense.bias', 'cls.predictions.bias', 'cls.predictions.transform.LayerNorm.weight', 'cls.predictions.transform.LayerNorm.bias', 'cls.seq_relationship.bias']\n",
            "- This IS expected if you are initializing BertModel from the checkpoint of a model trained on another task or with another architecture (e.g. initializing a BertForSequenceClassification model from a BertForPreTraining model).\n",
            "- This IS NOT expected if you are initializing BertModel from the checkpoint of a model that you expect to be exactly identical (initializing a BertForSequenceClassification model from a BertForSequenceClassification model).\n"
          ],
          "name": "stderr"
        }
      ]
    },
    {
      "cell_type": "code",
      "metadata": {
        "id": "rSUMn7qlce7h"
      },
      "source": [
        "device='cuda'\n",
        "model=model.to(device)"
      ],
      "execution_count": 25,
      "outputs": []
    },
    {
      "cell_type": "code",
      "metadata": {
        "id": "H41V3wFMP1DZ"
      },
      "source": [
        "#get data from last hidden layer\n",
        "def create_embeddings(doc_text,max_length=20):\n",
        "  doc_embeddings=[]\n",
        "  for text in doc_text:\n",
        "    inputs=tokenizer(text,max_length=max_length,padding=True,truncation=True)\n",
        "    text_seq = torch.tensor(inputs['input_ids']).to(device)\n",
        "    text_mask = torch.tensor(inputs['attention_mask']).to(device)\n",
        "    model.eval()\n",
        "    with torch.no_grad():\n",
        "      outputs= model(text_seq,attention_mask=text_mask)\n",
        "      hidden_states=outputs.hidden_states\n",
        "      emb=torch.mean(hidden_states[11], 1)\n",
        "      doc_embeddings.append(emb)\n",
        "  x=torch.mean(torch.stack(doc_embeddings),1)\n",
        "  x=np.array(x.cpu())\n",
        "  return x"
      ],
      "execution_count": 26,
      "outputs": []
    },
    {
      "cell_type": "code",
      "metadata": {
        "colab": {
          "base_uri": "https://localhost:8080/"
        },
        "id": "oMDZBFoCxUII",
        "outputId": "4e829325-dc8d-410c-a51d-7c7a3c4bb4eb"
      },
      "source": [
        "%%time\n",
        "x=create_embeddings(doc_text)"
      ],
      "execution_count": 27,
      "outputs": [
        {
          "output_type": "stream",
          "text": [
            "CPU times: user 44.3 s, sys: 185 ms, total: 44.5 s\n",
            "Wall time: 43.4 s\n"
          ],
          "name": "stdout"
        }
      ]
    },
    {
      "cell_type": "code",
      "metadata": {
        "colab": {
          "base_uri": "https://localhost:8080/"
        },
        "id": "0u2r8SJmaC1O",
        "outputId": "e3167c4d-9b7c-4c77-9238-6e08eab6c663"
      },
      "source": [
        "y=doc_label\n",
        "len(x),len(y)"
      ],
      "execution_count": 28,
      "outputs": [
        {
          "output_type": "execute_result",
          "data": {
            "text/plain": [
              "(200, 200)"
            ]
          },
          "metadata": {
            "tags": []
          },
          "execution_count": 28
        }
      ]
    },
    {
      "cell_type": "code",
      "metadata": {
        "colab": {
          "base_uri": "https://localhost:8080/"
        },
        "id": "KsDih0Gl-X5M",
        "outputId": "0f963ac7-337c-4708-e88a-2905eaba60c9"
      },
      "source": [
        "%%time\n",
        "test=create_embeddings(test_doc)\n",
        "print(len(test))"
      ],
      "execution_count": 29,
      "outputs": [
        {
          "output_type": "stream",
          "text": [
            "100\n",
            "CPU times: user 22.9 s, sys: 41.4 ms, total: 22.9 s\n",
            "Wall time: 22.4 s\n"
          ],
          "name": "stdout"
        }
      ]
    },
    {
      "cell_type": "markdown",
      "metadata": {
        "id": "e7y4abdOs6rG"
      },
      "source": [
        "# AutoGluon"
      ]
    },
    {
      "cell_type": "code",
      "metadata": {
        "colab": {
          "base_uri": "https://localhost:8080/",
          "height": 251
        },
        "id": "2Le9Y729wKYx",
        "outputId": "19574095-4901-4b00-a1b4-4b8c69cfcc3e"
      },
      "source": [
        "data=pd.concat([pd.DataFrame(x),pd.DataFrame(y)],axis=1)\n",
        "data.columns=['col_{}'.format(i) for i in range(x.shape[1])]+['Label']\n",
        "data = data.sample(frac=1).reset_index(drop=True)\n",
        "data.head()"
      ],
      "execution_count": 30,
      "outputs": [
        {
          "output_type": "execute_result",
          "data": {
            "text/html": [
              "<div>\n",
              "<style scoped>\n",
              "    .dataframe tbody tr th:only-of-type {\n",
              "        vertical-align: middle;\n",
              "    }\n",
              "\n",
              "    .dataframe tbody tr th {\n",
              "        vertical-align: top;\n",
              "    }\n",
              "\n",
              "    .dataframe thead th {\n",
              "        text-align: right;\n",
              "    }\n",
              "</style>\n",
              "<table border=\"1\" class=\"dataframe\">\n",
              "  <thead>\n",
              "    <tr style=\"text-align: right;\">\n",
              "      <th></th>\n",
              "      <th>col_0</th>\n",
              "      <th>col_1</th>\n",
              "      <th>col_2</th>\n",
              "      <th>col_3</th>\n",
              "      <th>col_4</th>\n",
              "      <th>col_5</th>\n",
              "      <th>col_6</th>\n",
              "      <th>col_7</th>\n",
              "      <th>col_8</th>\n",
              "      <th>col_9</th>\n",
              "      <th>col_10</th>\n",
              "      <th>col_11</th>\n",
              "      <th>col_12</th>\n",
              "      <th>col_13</th>\n",
              "      <th>col_14</th>\n",
              "      <th>col_15</th>\n",
              "      <th>col_16</th>\n",
              "      <th>col_17</th>\n",
              "      <th>col_18</th>\n",
              "      <th>col_19</th>\n",
              "      <th>col_20</th>\n",
              "      <th>col_21</th>\n",
              "      <th>col_22</th>\n",
              "      <th>col_23</th>\n",
              "      <th>col_24</th>\n",
              "      <th>col_25</th>\n",
              "      <th>col_26</th>\n",
              "      <th>col_27</th>\n",
              "      <th>col_28</th>\n",
              "      <th>col_29</th>\n",
              "      <th>col_30</th>\n",
              "      <th>col_31</th>\n",
              "      <th>col_32</th>\n",
              "      <th>col_33</th>\n",
              "      <th>col_34</th>\n",
              "      <th>col_35</th>\n",
              "      <th>col_36</th>\n",
              "      <th>col_37</th>\n",
              "      <th>col_38</th>\n",
              "      <th>col_39</th>\n",
              "      <th>...</th>\n",
              "      <th>col_729</th>\n",
              "      <th>col_730</th>\n",
              "      <th>col_731</th>\n",
              "      <th>col_732</th>\n",
              "      <th>col_733</th>\n",
              "      <th>col_734</th>\n",
              "      <th>col_735</th>\n",
              "      <th>col_736</th>\n",
              "      <th>col_737</th>\n",
              "      <th>col_738</th>\n",
              "      <th>col_739</th>\n",
              "      <th>col_740</th>\n",
              "      <th>col_741</th>\n",
              "      <th>col_742</th>\n",
              "      <th>col_743</th>\n",
              "      <th>col_744</th>\n",
              "      <th>col_745</th>\n",
              "      <th>col_746</th>\n",
              "      <th>col_747</th>\n",
              "      <th>col_748</th>\n",
              "      <th>col_749</th>\n",
              "      <th>col_750</th>\n",
              "      <th>col_751</th>\n",
              "      <th>col_752</th>\n",
              "      <th>col_753</th>\n",
              "      <th>col_754</th>\n",
              "      <th>col_755</th>\n",
              "      <th>col_756</th>\n",
              "      <th>col_757</th>\n",
              "      <th>col_758</th>\n",
              "      <th>col_759</th>\n",
              "      <th>col_760</th>\n",
              "      <th>col_761</th>\n",
              "      <th>col_762</th>\n",
              "      <th>col_763</th>\n",
              "      <th>col_764</th>\n",
              "      <th>col_765</th>\n",
              "      <th>col_766</th>\n",
              "      <th>col_767</th>\n",
              "      <th>Label</th>\n",
              "    </tr>\n",
              "  </thead>\n",
              "  <tbody>\n",
              "    <tr>\n",
              "      <th>0</th>\n",
              "      <td>-0.060916</td>\n",
              "      <td>-0.060502</td>\n",
              "      <td>0.222756</td>\n",
              "      <td>-0.038621</td>\n",
              "      <td>-0.010247</td>\n",
              "      <td>-0.277739</td>\n",
              "      <td>0.054364</td>\n",
              "      <td>0.456214</td>\n",
              "      <td>-0.124440</td>\n",
              "      <td>-0.271279</td>\n",
              "      <td>0.242191</td>\n",
              "      <td>-0.168386</td>\n",
              "      <td>0.024935</td>\n",
              "      <td>0.167152</td>\n",
              "      <td>-0.271055</td>\n",
              "      <td>0.509920</td>\n",
              "      <td>0.021081</td>\n",
              "      <td>0.274331</td>\n",
              "      <td>-0.005994</td>\n",
              "      <td>0.204662</td>\n",
              "      <td>0.220118</td>\n",
              "      <td>0.032259</td>\n",
              "      <td>-0.119568</td>\n",
              "      <td>-0.124427</td>\n",
              "      <td>0.206190</td>\n",
              "      <td>0.060762</td>\n",
              "      <td>-0.187751</td>\n",
              "      <td>-0.117460</td>\n",
              "      <td>-0.292196</td>\n",
              "      <td>0.269815</td>\n",
              "      <td>0.277651</td>\n",
              "      <td>0.131913</td>\n",
              "      <td>0.206684</td>\n",
              "      <td>-0.096074</td>\n",
              "      <td>-0.124346</td>\n",
              "      <td>-0.250814</td>\n",
              "      <td>-0.017125</td>\n",
              "      <td>0.092924</td>\n",
              "      <td>-0.267352</td>\n",
              "      <td>0.241767</td>\n",
              "      <td>...</td>\n",
              "      <td>-0.236371</td>\n",
              "      <td>-0.100535</td>\n",
              "      <td>0.272637</td>\n",
              "      <td>-0.126820</td>\n",
              "      <td>-0.400522</td>\n",
              "      <td>-0.106810</td>\n",
              "      <td>-0.060659</td>\n",
              "      <td>-0.023552</td>\n",
              "      <td>0.212457</td>\n",
              "      <td>-0.181799</td>\n",
              "      <td>0.234672</td>\n",
              "      <td>0.034553</td>\n",
              "      <td>-0.069146</td>\n",
              "      <td>-0.148325</td>\n",
              "      <td>-0.127386</td>\n",
              "      <td>-0.067677</td>\n",
              "      <td>0.104943</td>\n",
              "      <td>0.008009</td>\n",
              "      <td>0.072241</td>\n",
              "      <td>0.069811</td>\n",
              "      <td>0.180995</td>\n",
              "      <td>-0.177055</td>\n",
              "      <td>-0.259657</td>\n",
              "      <td>0.236546</td>\n",
              "      <td>0.199358</td>\n",
              "      <td>-0.102678</td>\n",
              "      <td>-0.029406</td>\n",
              "      <td>-0.123981</td>\n",
              "      <td>-0.186943</td>\n",
              "      <td>-0.138305</td>\n",
              "      <td>-0.215604</td>\n",
              "      <td>-0.051728</td>\n",
              "      <td>-0.048241</td>\n",
              "      <td>0.118074</td>\n",
              "      <td>0.068692</td>\n",
              "      <td>-0.230986</td>\n",
              "      <td>-0.393949</td>\n",
              "      <td>-0.087446</td>\n",
              "      <td>-0.067072</td>\n",
              "      <td>1</td>\n",
              "    </tr>\n",
              "    <tr>\n",
              "      <th>1</th>\n",
              "      <td>0.013039</td>\n",
              "      <td>0.061095</td>\n",
              "      <td>0.308357</td>\n",
              "      <td>-0.077782</td>\n",
              "      <td>-0.101299</td>\n",
              "      <td>-0.142656</td>\n",
              "      <td>0.131202</td>\n",
              "      <td>0.612364</td>\n",
              "      <td>-0.019832</td>\n",
              "      <td>-0.329374</td>\n",
              "      <td>0.178789</td>\n",
              "      <td>-0.080739</td>\n",
              "      <td>0.082751</td>\n",
              "      <td>0.190460</td>\n",
              "      <td>-0.247831</td>\n",
              "      <td>0.451960</td>\n",
              "      <td>0.117547</td>\n",
              "      <td>0.326252</td>\n",
              "      <td>0.103056</td>\n",
              "      <td>0.148600</td>\n",
              "      <td>0.279433</td>\n",
              "      <td>0.052370</td>\n",
              "      <td>-0.256816</td>\n",
              "      <td>-0.205160</td>\n",
              "      <td>0.238519</td>\n",
              "      <td>0.212437</td>\n",
              "      <td>-0.228373</td>\n",
              "      <td>-0.102566</td>\n",
              "      <td>-0.335891</td>\n",
              "      <td>0.233442</td>\n",
              "      <td>0.244766</td>\n",
              "      <td>0.066441</td>\n",
              "      <td>0.117970</td>\n",
              "      <td>0.034631</td>\n",
              "      <td>-0.137634</td>\n",
              "      <td>-0.044614</td>\n",
              "      <td>-0.101110</td>\n",
              "      <td>0.007064</td>\n",
              "      <td>-0.344338</td>\n",
              "      <td>0.198573</td>\n",
              "      <td>...</td>\n",
              "      <td>-0.131852</td>\n",
              "      <td>-0.217642</td>\n",
              "      <td>0.152334</td>\n",
              "      <td>-0.110806</td>\n",
              "      <td>-0.269789</td>\n",
              "      <td>-0.140282</td>\n",
              "      <td>0.054728</td>\n",
              "      <td>-0.100997</td>\n",
              "      <td>0.332741</td>\n",
              "      <td>-0.195018</td>\n",
              "      <td>0.357707</td>\n",
              "      <td>-0.019838</td>\n",
              "      <td>-0.331002</td>\n",
              "      <td>-0.145794</td>\n",
              "      <td>-0.045196</td>\n",
              "      <td>-0.081138</td>\n",
              "      <td>-0.196560</td>\n",
              "      <td>0.131324</td>\n",
              "      <td>-0.096196</td>\n",
              "      <td>0.080504</td>\n",
              "      <td>0.030123</td>\n",
              "      <td>-0.315172</td>\n",
              "      <td>-0.336746</td>\n",
              "      <td>0.254149</td>\n",
              "      <td>0.214817</td>\n",
              "      <td>-0.095211</td>\n",
              "      <td>-0.099911</td>\n",
              "      <td>-0.262146</td>\n",
              "      <td>-0.203977</td>\n",
              "      <td>-0.132895</td>\n",
              "      <td>-0.369453</td>\n",
              "      <td>-0.077970</td>\n",
              "      <td>-0.022180</td>\n",
              "      <td>-0.039697</td>\n",
              "      <td>0.080661</td>\n",
              "      <td>-0.080027</td>\n",
              "      <td>-0.290338</td>\n",
              "      <td>-0.010375</td>\n",
              "      <td>-0.073959</td>\n",
              "      <td>1</td>\n",
              "    </tr>\n",
              "    <tr>\n",
              "      <th>2</th>\n",
              "      <td>-0.021055</td>\n",
              "      <td>-0.173784</td>\n",
              "      <td>0.186329</td>\n",
              "      <td>0.008758</td>\n",
              "      <td>-0.023974</td>\n",
              "      <td>-0.212143</td>\n",
              "      <td>0.025528</td>\n",
              "      <td>0.546581</td>\n",
              "      <td>-0.044222</td>\n",
              "      <td>-0.340376</td>\n",
              "      <td>0.131200</td>\n",
              "      <td>-0.043602</td>\n",
              "      <td>0.066705</td>\n",
              "      <td>0.129648</td>\n",
              "      <td>-0.203539</td>\n",
              "      <td>0.359138</td>\n",
              "      <td>-0.038409</td>\n",
              "      <td>0.318968</td>\n",
              "      <td>0.145757</td>\n",
              "      <td>0.127798</td>\n",
              "      <td>0.179783</td>\n",
              "      <td>0.064976</td>\n",
              "      <td>-0.201818</td>\n",
              "      <td>-0.182283</td>\n",
              "      <td>0.216703</td>\n",
              "      <td>0.117334</td>\n",
              "      <td>-0.061191</td>\n",
              "      <td>-0.014881</td>\n",
              "      <td>-0.542122</td>\n",
              "      <td>0.285893</td>\n",
              "      <td>0.335574</td>\n",
              "      <td>0.134865</td>\n",
              "      <td>0.259937</td>\n",
              "      <td>0.060966</td>\n",
              "      <td>-0.149418</td>\n",
              "      <td>-0.190508</td>\n",
              "      <td>-0.060077</td>\n",
              "      <td>0.250581</td>\n",
              "      <td>-0.443562</td>\n",
              "      <td>0.248681</td>\n",
              "      <td>...</td>\n",
              "      <td>-0.190377</td>\n",
              "      <td>-0.034363</td>\n",
              "      <td>0.167854</td>\n",
              "      <td>-0.220698</td>\n",
              "      <td>-0.374756</td>\n",
              "      <td>-0.221255</td>\n",
              "      <td>0.112621</td>\n",
              "      <td>-0.131392</td>\n",
              "      <td>0.318893</td>\n",
              "      <td>-0.289303</td>\n",
              "      <td>0.335746</td>\n",
              "      <td>0.019665</td>\n",
              "      <td>-0.139731</td>\n",
              "      <td>-0.236715</td>\n",
              "      <td>0.007882</td>\n",
              "      <td>-0.052243</td>\n",
              "      <td>-0.114845</td>\n",
              "      <td>0.095247</td>\n",
              "      <td>-0.003892</td>\n",
              "      <td>-0.044400</td>\n",
              "      <td>0.094224</td>\n",
              "      <td>-0.093771</td>\n",
              "      <td>-0.462861</td>\n",
              "      <td>0.193112</td>\n",
              "      <td>0.139246</td>\n",
              "      <td>-0.061216</td>\n",
              "      <td>-0.015146</td>\n",
              "      <td>-0.240348</td>\n",
              "      <td>-0.131825</td>\n",
              "      <td>-0.072950</td>\n",
              "      <td>-0.350931</td>\n",
              "      <td>-0.063833</td>\n",
              "      <td>0.064202</td>\n",
              "      <td>0.114927</td>\n",
              "      <td>0.115974</td>\n",
              "      <td>-0.074216</td>\n",
              "      <td>-0.353272</td>\n",
              "      <td>-0.082687</td>\n",
              "      <td>-0.037013</td>\n",
              "      <td>0</td>\n",
              "    </tr>\n",
              "    <tr>\n",
              "      <th>3</th>\n",
              "      <td>0.023635</td>\n",
              "      <td>0.067840</td>\n",
              "      <td>0.325173</td>\n",
              "      <td>-0.080089</td>\n",
              "      <td>-0.102563</td>\n",
              "      <td>-0.171877</td>\n",
              "      <td>0.112222</td>\n",
              "      <td>0.601954</td>\n",
              "      <td>-0.008847</td>\n",
              "      <td>-0.401733</td>\n",
              "      <td>0.156545</td>\n",
              "      <td>-0.043371</td>\n",
              "      <td>0.106803</td>\n",
              "      <td>0.174637</td>\n",
              "      <td>-0.213731</td>\n",
              "      <td>0.414555</td>\n",
              "      <td>0.110742</td>\n",
              "      <td>0.332099</td>\n",
              "      <td>0.127925</td>\n",
              "      <td>0.124926</td>\n",
              "      <td>0.266109</td>\n",
              "      <td>0.069558</td>\n",
              "      <td>-0.239082</td>\n",
              "      <td>-0.220760</td>\n",
              "      <td>0.263046</td>\n",
              "      <td>0.216456</td>\n",
              "      <td>-0.266520</td>\n",
              "      <td>-0.134086</td>\n",
              "      <td>-0.362071</td>\n",
              "      <td>0.276581</td>\n",
              "      <td>0.202446</td>\n",
              "      <td>0.034499</td>\n",
              "      <td>0.096662</td>\n",
              "      <td>0.057434</td>\n",
              "      <td>-0.162921</td>\n",
              "      <td>-0.014571</td>\n",
              "      <td>-0.116408</td>\n",
              "      <td>0.102767</td>\n",
              "      <td>-0.366734</td>\n",
              "      <td>0.134396</td>\n",
              "      <td>...</td>\n",
              "      <td>-0.084320</td>\n",
              "      <td>-0.206455</td>\n",
              "      <td>0.189938</td>\n",
              "      <td>-0.170704</td>\n",
              "      <td>-0.305640</td>\n",
              "      <td>-0.161934</td>\n",
              "      <td>0.106010</td>\n",
              "      <td>-0.142414</td>\n",
              "      <td>0.381790</td>\n",
              "      <td>-0.166898</td>\n",
              "      <td>0.354499</td>\n",
              "      <td>-0.025841</td>\n",
              "      <td>-0.340519</td>\n",
              "      <td>-0.176971</td>\n",
              "      <td>-0.064602</td>\n",
              "      <td>-0.111463</td>\n",
              "      <td>-0.172654</td>\n",
              "      <td>0.137292</td>\n",
              "      <td>-0.097064</td>\n",
              "      <td>0.074694</td>\n",
              "      <td>0.019507</td>\n",
              "      <td>-0.353251</td>\n",
              "      <td>-0.374266</td>\n",
              "      <td>0.285203</td>\n",
              "      <td>0.165368</td>\n",
              "      <td>-0.127045</td>\n",
              "      <td>-0.028807</td>\n",
              "      <td>-0.279689</td>\n",
              "      <td>-0.080784</td>\n",
              "      <td>-0.095926</td>\n",
              "      <td>-0.376545</td>\n",
              "      <td>-0.094100</td>\n",
              "      <td>0.020120</td>\n",
              "      <td>-0.078225</td>\n",
              "      <td>0.094399</td>\n",
              "      <td>-0.048818</td>\n",
              "      <td>-0.290314</td>\n",
              "      <td>-0.065547</td>\n",
              "      <td>-0.100407</td>\n",
              "      <td>0</td>\n",
              "    </tr>\n",
              "    <tr>\n",
              "      <th>4</th>\n",
              "      <td>0.057248</td>\n",
              "      <td>0.087196</td>\n",
              "      <td>0.417204</td>\n",
              "      <td>-0.083670</td>\n",
              "      <td>-0.149546</td>\n",
              "      <td>-0.142293</td>\n",
              "      <td>0.191529</td>\n",
              "      <td>0.595633</td>\n",
              "      <td>0.025340</td>\n",
              "      <td>-0.422448</td>\n",
              "      <td>0.121237</td>\n",
              "      <td>0.008685</td>\n",
              "      <td>0.116693</td>\n",
              "      <td>0.207466</td>\n",
              "      <td>-0.189136</td>\n",
              "      <td>0.451992</td>\n",
              "      <td>-0.001289</td>\n",
              "      <td>0.397060</td>\n",
              "      <td>0.155220</td>\n",
              "      <td>0.104650</td>\n",
              "      <td>0.326540</td>\n",
              "      <td>0.156941</td>\n",
              "      <td>-0.192788</td>\n",
              "      <td>-0.303176</td>\n",
              "      <td>0.242974</td>\n",
              "      <td>0.177639</td>\n",
              "      <td>-0.180634</td>\n",
              "      <td>-0.108984</td>\n",
              "      <td>-0.382166</td>\n",
              "      <td>0.351372</td>\n",
              "      <td>0.259992</td>\n",
              "      <td>0.045559</td>\n",
              "      <td>0.243831</td>\n",
              "      <td>0.102871</td>\n",
              "      <td>-0.172907</td>\n",
              "      <td>-0.048009</td>\n",
              "      <td>-0.116021</td>\n",
              "      <td>0.208210</td>\n",
              "      <td>-0.509798</td>\n",
              "      <td>0.201287</td>\n",
              "      <td>...</td>\n",
              "      <td>-0.069546</td>\n",
              "      <td>-0.140803</td>\n",
              "      <td>0.210120</td>\n",
              "      <td>-0.192760</td>\n",
              "      <td>-0.251026</td>\n",
              "      <td>-0.271843</td>\n",
              "      <td>0.117623</td>\n",
              "      <td>-0.120993</td>\n",
              "      <td>0.410649</td>\n",
              "      <td>-0.237256</td>\n",
              "      <td>0.355490</td>\n",
              "      <td>-0.047926</td>\n",
              "      <td>-0.236944</td>\n",
              "      <td>-0.154686</td>\n",
              "      <td>-0.039094</td>\n",
              "      <td>-0.014993</td>\n",
              "      <td>-0.259971</td>\n",
              "      <td>0.159849</td>\n",
              "      <td>-0.133220</td>\n",
              "      <td>0.026181</td>\n",
              "      <td>0.113400</td>\n",
              "      <td>-0.172621</td>\n",
              "      <td>-0.376722</td>\n",
              "      <td>0.225041</td>\n",
              "      <td>0.231575</td>\n",
              "      <td>-0.091046</td>\n",
              "      <td>-0.002929</td>\n",
              "      <td>-0.184911</td>\n",
              "      <td>-0.145520</td>\n",
              "      <td>-0.014767</td>\n",
              "      <td>-0.395613</td>\n",
              "      <td>-0.104597</td>\n",
              "      <td>-0.048795</td>\n",
              "      <td>0.062782</td>\n",
              "      <td>0.122881</td>\n",
              "      <td>-0.046213</td>\n",
              "      <td>-0.296652</td>\n",
              "      <td>-0.095180</td>\n",
              "      <td>-0.103664</td>\n",
              "      <td>0</td>\n",
              "    </tr>\n",
              "  </tbody>\n",
              "</table>\n",
              "<p>5 rows × 769 columns</p>\n",
              "</div>"
            ],
            "text/plain": [
              "      col_0     col_1     col_2     col_3  ...   col_765   col_766   col_767  Label\n",
              "0 -0.060916 -0.060502  0.222756 -0.038621  ... -0.393949 -0.087446 -0.067072      1\n",
              "1  0.013039  0.061095  0.308357 -0.077782  ... -0.290338 -0.010375 -0.073959      1\n",
              "2 -0.021055 -0.173784  0.186329  0.008758  ... -0.353272 -0.082687 -0.037013      0\n",
              "3  0.023635  0.067840  0.325173 -0.080089  ... -0.290314 -0.065547 -0.100407      0\n",
              "4  0.057248  0.087196  0.417204 -0.083670  ... -0.296652 -0.095180 -0.103664      0\n",
              "\n",
              "[5 rows x 769 columns]"
            ]
          },
          "metadata": {
            "tags": []
          },
          "execution_count": 30
        }
      ]
    },
    {
      "cell_type": "code",
      "metadata": {
        "colab": {
          "base_uri": "https://localhost:8080/",
          "height": 251
        },
        "id": "zwqkidSR_hC6",
        "outputId": "6dea049e-9939-4b0b-e223-d362e4aab0ba"
      },
      "source": [
        "test_df=pd.DataFrame(test)\n",
        "test_df.columns=['col_{}'.format(i) for i in range(test.shape[1])]\n",
        "test_df.head()"
      ],
      "execution_count": 31,
      "outputs": [
        {
          "output_type": "execute_result",
          "data": {
            "text/html": [
              "<div>\n",
              "<style scoped>\n",
              "    .dataframe tbody tr th:only-of-type {\n",
              "        vertical-align: middle;\n",
              "    }\n",
              "\n",
              "    .dataframe tbody tr th {\n",
              "        vertical-align: top;\n",
              "    }\n",
              "\n",
              "    .dataframe thead th {\n",
              "        text-align: right;\n",
              "    }\n",
              "</style>\n",
              "<table border=\"1\" class=\"dataframe\">\n",
              "  <thead>\n",
              "    <tr style=\"text-align: right;\">\n",
              "      <th></th>\n",
              "      <th>col_0</th>\n",
              "      <th>col_1</th>\n",
              "      <th>col_2</th>\n",
              "      <th>col_3</th>\n",
              "      <th>col_4</th>\n",
              "      <th>col_5</th>\n",
              "      <th>col_6</th>\n",
              "      <th>col_7</th>\n",
              "      <th>col_8</th>\n",
              "      <th>col_9</th>\n",
              "      <th>col_10</th>\n",
              "      <th>col_11</th>\n",
              "      <th>col_12</th>\n",
              "      <th>col_13</th>\n",
              "      <th>col_14</th>\n",
              "      <th>col_15</th>\n",
              "      <th>col_16</th>\n",
              "      <th>col_17</th>\n",
              "      <th>col_18</th>\n",
              "      <th>col_19</th>\n",
              "      <th>col_20</th>\n",
              "      <th>col_21</th>\n",
              "      <th>col_22</th>\n",
              "      <th>col_23</th>\n",
              "      <th>col_24</th>\n",
              "      <th>col_25</th>\n",
              "      <th>col_26</th>\n",
              "      <th>col_27</th>\n",
              "      <th>col_28</th>\n",
              "      <th>col_29</th>\n",
              "      <th>col_30</th>\n",
              "      <th>col_31</th>\n",
              "      <th>col_32</th>\n",
              "      <th>col_33</th>\n",
              "      <th>col_34</th>\n",
              "      <th>col_35</th>\n",
              "      <th>col_36</th>\n",
              "      <th>col_37</th>\n",
              "      <th>col_38</th>\n",
              "      <th>col_39</th>\n",
              "      <th>...</th>\n",
              "      <th>col_728</th>\n",
              "      <th>col_729</th>\n",
              "      <th>col_730</th>\n",
              "      <th>col_731</th>\n",
              "      <th>col_732</th>\n",
              "      <th>col_733</th>\n",
              "      <th>col_734</th>\n",
              "      <th>col_735</th>\n",
              "      <th>col_736</th>\n",
              "      <th>col_737</th>\n",
              "      <th>col_738</th>\n",
              "      <th>col_739</th>\n",
              "      <th>col_740</th>\n",
              "      <th>col_741</th>\n",
              "      <th>col_742</th>\n",
              "      <th>col_743</th>\n",
              "      <th>col_744</th>\n",
              "      <th>col_745</th>\n",
              "      <th>col_746</th>\n",
              "      <th>col_747</th>\n",
              "      <th>col_748</th>\n",
              "      <th>col_749</th>\n",
              "      <th>col_750</th>\n",
              "      <th>col_751</th>\n",
              "      <th>col_752</th>\n",
              "      <th>col_753</th>\n",
              "      <th>col_754</th>\n",
              "      <th>col_755</th>\n",
              "      <th>col_756</th>\n",
              "      <th>col_757</th>\n",
              "      <th>col_758</th>\n",
              "      <th>col_759</th>\n",
              "      <th>col_760</th>\n",
              "      <th>col_761</th>\n",
              "      <th>col_762</th>\n",
              "      <th>col_763</th>\n",
              "      <th>col_764</th>\n",
              "      <th>col_765</th>\n",
              "      <th>col_766</th>\n",
              "      <th>col_767</th>\n",
              "    </tr>\n",
              "  </thead>\n",
              "  <tbody>\n",
              "    <tr>\n",
              "      <th>0</th>\n",
              "      <td>0.065292</td>\n",
              "      <td>0.130962</td>\n",
              "      <td>0.312095</td>\n",
              "      <td>-0.125555</td>\n",
              "      <td>-0.115116</td>\n",
              "      <td>-0.102527</td>\n",
              "      <td>0.165735</td>\n",
              "      <td>0.569346</td>\n",
              "      <td>-0.031119</td>\n",
              "      <td>-0.487651</td>\n",
              "      <td>0.085751</td>\n",
              "      <td>-0.012549</td>\n",
              "      <td>0.039101</td>\n",
              "      <td>0.099278</td>\n",
              "      <td>-0.170304</td>\n",
              "      <td>0.475694</td>\n",
              "      <td>0.066658</td>\n",
              "      <td>0.400523</td>\n",
              "      <td>0.045677</td>\n",
              "      <td>0.149161</td>\n",
              "      <td>0.184343</td>\n",
              "      <td>0.127750</td>\n",
              "      <td>-0.168279</td>\n",
              "      <td>-0.232763</td>\n",
              "      <td>0.249590</td>\n",
              "      <td>0.254479</td>\n",
              "      <td>-0.192977</td>\n",
              "      <td>-0.109249</td>\n",
              "      <td>-0.414556</td>\n",
              "      <td>0.308195</td>\n",
              "      <td>0.303734</td>\n",
              "      <td>0.187180</td>\n",
              "      <td>0.171876</td>\n",
              "      <td>0.100622</td>\n",
              "      <td>-0.149850</td>\n",
              "      <td>-0.098993</td>\n",
              "      <td>0.051709</td>\n",
              "      <td>0.070413</td>\n",
              "      <td>-0.400671</td>\n",
              "      <td>0.321612</td>\n",
              "      <td>...</td>\n",
              "      <td>-0.189821</td>\n",
              "      <td>-0.023817</td>\n",
              "      <td>-0.231525</td>\n",
              "      <td>0.297786</td>\n",
              "      <td>-0.130105</td>\n",
              "      <td>-0.257663</td>\n",
              "      <td>-0.117976</td>\n",
              "      <td>0.149420</td>\n",
              "      <td>-0.168254</td>\n",
              "      <td>0.336325</td>\n",
              "      <td>-0.076671</td>\n",
              "      <td>0.228541</td>\n",
              "      <td>0.087887</td>\n",
              "      <td>-0.129244</td>\n",
              "      <td>-0.151576</td>\n",
              "      <td>-0.035447</td>\n",
              "      <td>-0.027074</td>\n",
              "      <td>-0.188494</td>\n",
              "      <td>0.038795</td>\n",
              "      <td>-0.265029</td>\n",
              "      <td>-0.001481</td>\n",
              "      <td>0.204445</td>\n",
              "      <td>-0.251798</td>\n",
              "      <td>-0.397929</td>\n",
              "      <td>0.160369</td>\n",
              "      <td>0.019442</td>\n",
              "      <td>-0.077531</td>\n",
              "      <td>-0.000511</td>\n",
              "      <td>-0.200781</td>\n",
              "      <td>-0.041115</td>\n",
              "      <td>-0.093149</td>\n",
              "      <td>-0.299660</td>\n",
              "      <td>-0.000484</td>\n",
              "      <td>0.059484</td>\n",
              "      <td>0.132730</td>\n",
              "      <td>0.114507</td>\n",
              "      <td>-0.004514</td>\n",
              "      <td>-0.243183</td>\n",
              "      <td>0.044420</td>\n",
              "      <td>-0.030861</td>\n",
              "    </tr>\n",
              "    <tr>\n",
              "      <th>1</th>\n",
              "      <td>-0.037613</td>\n",
              "      <td>-0.337574</td>\n",
              "      <td>0.239518</td>\n",
              "      <td>-0.081030</td>\n",
              "      <td>0.095761</td>\n",
              "      <td>-0.381824</td>\n",
              "      <td>-0.060326</td>\n",
              "      <td>0.332558</td>\n",
              "      <td>-0.283820</td>\n",
              "      <td>-0.161885</td>\n",
              "      <td>0.117458</td>\n",
              "      <td>-0.262703</td>\n",
              "      <td>-0.022409</td>\n",
              "      <td>0.175890</td>\n",
              "      <td>-0.176969</td>\n",
              "      <td>0.363772</td>\n",
              "      <td>-0.184882</td>\n",
              "      <td>0.355136</td>\n",
              "      <td>0.099598</td>\n",
              "      <td>0.100618</td>\n",
              "      <td>0.226659</td>\n",
              "      <td>0.017171</td>\n",
              "      <td>0.060798</td>\n",
              "      <td>-0.113058</td>\n",
              "      <td>0.209849</td>\n",
              "      <td>0.102618</td>\n",
              "      <td>0.011074</td>\n",
              "      <td>0.096027</td>\n",
              "      <td>-0.551804</td>\n",
              "      <td>0.192322</td>\n",
              "      <td>0.386268</td>\n",
              "      <td>0.134489</td>\n",
              "      <td>0.327850</td>\n",
              "      <td>-0.023012</td>\n",
              "      <td>-0.126237</td>\n",
              "      <td>-0.415216</td>\n",
              "      <td>-0.039691</td>\n",
              "      <td>0.100286</td>\n",
              "      <td>-0.227851</td>\n",
              "      <td>0.323735</td>\n",
              "      <td>...</td>\n",
              "      <td>-0.216006</td>\n",
              "      <td>-0.357152</td>\n",
              "      <td>0.068685</td>\n",
              "      <td>0.236276</td>\n",
              "      <td>-0.149925</td>\n",
              "      <td>-0.471562</td>\n",
              "      <td>-0.129042</td>\n",
              "      <td>-0.011927</td>\n",
              "      <td>0.012227</td>\n",
              "      <td>0.230680</td>\n",
              "      <td>-0.359140</td>\n",
              "      <td>0.304863</td>\n",
              "      <td>0.158982</td>\n",
              "      <td>-0.019429</td>\n",
              "      <td>-0.387436</td>\n",
              "      <td>0.054520</td>\n",
              "      <td>-0.074466</td>\n",
              "      <td>0.169215</td>\n",
              "      <td>0.056030</td>\n",
              "      <td>0.010047</td>\n",
              "      <td>-0.130596</td>\n",
              "      <td>0.249523</td>\n",
              "      <td>0.145141</td>\n",
              "      <td>-0.335341</td>\n",
              "      <td>0.242386</td>\n",
              "      <td>0.182804</td>\n",
              "      <td>0.049773</td>\n",
              "      <td>0.077531</td>\n",
              "      <td>-0.305582</td>\n",
              "      <td>-0.320237</td>\n",
              "      <td>-0.040202</td>\n",
              "      <td>-0.217032</td>\n",
              "      <td>0.104721</td>\n",
              "      <td>0.023172</td>\n",
              "      <td>0.282040</td>\n",
              "      <td>-0.069652</td>\n",
              "      <td>-0.217057</td>\n",
              "      <td>-0.444929</td>\n",
              "      <td>-0.146946</td>\n",
              "      <td>-0.060303</td>\n",
              "    </tr>\n",
              "    <tr>\n",
              "      <th>2</th>\n",
              "      <td>0.025136</td>\n",
              "      <td>-0.162270</td>\n",
              "      <td>0.213175</td>\n",
              "      <td>0.013490</td>\n",
              "      <td>-0.022161</td>\n",
              "      <td>-0.206344</td>\n",
              "      <td>0.043049</td>\n",
              "      <td>0.492201</td>\n",
              "      <td>-0.041096</td>\n",
              "      <td>-0.330985</td>\n",
              "      <td>0.142161</td>\n",
              "      <td>-0.085271</td>\n",
              "      <td>0.004717</td>\n",
              "      <td>0.145412</td>\n",
              "      <td>-0.219067</td>\n",
              "      <td>0.406614</td>\n",
              "      <td>-0.082015</td>\n",
              "      <td>0.290565</td>\n",
              "      <td>0.097302</td>\n",
              "      <td>0.145368</td>\n",
              "      <td>0.239947</td>\n",
              "      <td>0.097491</td>\n",
              "      <td>-0.187523</td>\n",
              "      <td>-0.206176</td>\n",
              "      <td>0.237590</td>\n",
              "      <td>0.182420</td>\n",
              "      <td>-0.088802</td>\n",
              "      <td>-0.126564</td>\n",
              "      <td>-0.486133</td>\n",
              "      <td>0.316576</td>\n",
              "      <td>0.276360</td>\n",
              "      <td>0.073294</td>\n",
              "      <td>0.252463</td>\n",
              "      <td>0.026992</td>\n",
              "      <td>-0.135007</td>\n",
              "      <td>-0.167214</td>\n",
              "      <td>-0.057213</td>\n",
              "      <td>0.121668</td>\n",
              "      <td>-0.322971</td>\n",
              "      <td>0.304161</td>\n",
              "      <td>...</td>\n",
              "      <td>-0.227252</td>\n",
              "      <td>-0.147719</td>\n",
              "      <td>-0.111663</td>\n",
              "      <td>0.253484</td>\n",
              "      <td>-0.147618</td>\n",
              "      <td>-0.333930</td>\n",
              "      <td>-0.167454</td>\n",
              "      <td>0.134778</td>\n",
              "      <td>-0.071234</td>\n",
              "      <td>0.286495</td>\n",
              "      <td>-0.231370</td>\n",
              "      <td>0.263061</td>\n",
              "      <td>0.079854</td>\n",
              "      <td>-0.151586</td>\n",
              "      <td>-0.149964</td>\n",
              "      <td>-0.035868</td>\n",
              "      <td>-0.006263</td>\n",
              "      <td>-0.000938</td>\n",
              "      <td>0.121968</td>\n",
              "      <td>-0.125791</td>\n",
              "      <td>-0.118690</td>\n",
              "      <td>0.147152</td>\n",
              "      <td>-0.128224</td>\n",
              "      <td>-0.401523</td>\n",
              "      <td>0.230557</td>\n",
              "      <td>0.162847</td>\n",
              "      <td>0.004047</td>\n",
              "      <td>-0.033898</td>\n",
              "      <td>-0.160781</td>\n",
              "      <td>-0.093900</td>\n",
              "      <td>-0.076430</td>\n",
              "      <td>-0.245507</td>\n",
              "      <td>-0.043845</td>\n",
              "      <td>0.038933</td>\n",
              "      <td>0.152348</td>\n",
              "      <td>0.078619</td>\n",
              "      <td>-0.062208</td>\n",
              "      <td>-0.311056</td>\n",
              "      <td>-0.082320</td>\n",
              "      <td>-0.070695</td>\n",
              "    </tr>\n",
              "    <tr>\n",
              "      <th>3</th>\n",
              "      <td>-0.069353</td>\n",
              "      <td>-0.048899</td>\n",
              "      <td>0.336302</td>\n",
              "      <td>-0.071292</td>\n",
              "      <td>-0.122794</td>\n",
              "      <td>-0.173350</td>\n",
              "      <td>0.131951</td>\n",
              "      <td>0.541700</td>\n",
              "      <td>-0.001292</td>\n",
              "      <td>-0.436529</td>\n",
              "      <td>0.189955</td>\n",
              "      <td>0.013303</td>\n",
              "      <td>0.144818</td>\n",
              "      <td>0.125889</td>\n",
              "      <td>-0.160800</td>\n",
              "      <td>0.431341</td>\n",
              "      <td>0.063810</td>\n",
              "      <td>0.378152</td>\n",
              "      <td>0.200411</td>\n",
              "      <td>0.058662</td>\n",
              "      <td>0.271755</td>\n",
              "      <td>0.102967</td>\n",
              "      <td>-0.237240</td>\n",
              "      <td>-0.261319</td>\n",
              "      <td>0.185950</td>\n",
              "      <td>0.244408</td>\n",
              "      <td>-0.260725</td>\n",
              "      <td>-0.105909</td>\n",
              "      <td>-0.373149</td>\n",
              "      <td>0.300826</td>\n",
              "      <td>0.152389</td>\n",
              "      <td>0.057719</td>\n",
              "      <td>0.176621</td>\n",
              "      <td>0.074684</td>\n",
              "      <td>-0.170620</td>\n",
              "      <td>-0.054195</td>\n",
              "      <td>-0.141244</td>\n",
              "      <td>0.097745</td>\n",
              "      <td>-0.363806</td>\n",
              "      <td>0.160746</td>\n",
              "      <td>...</td>\n",
              "      <td>-0.175566</td>\n",
              "      <td>-0.064771</td>\n",
              "      <td>-0.204180</td>\n",
              "      <td>0.240579</td>\n",
              "      <td>-0.185782</td>\n",
              "      <td>-0.256631</td>\n",
              "      <td>-0.271601</td>\n",
              "      <td>0.074254</td>\n",
              "      <td>-0.132022</td>\n",
              "      <td>0.447782</td>\n",
              "      <td>-0.180513</td>\n",
              "      <td>0.337425</td>\n",
              "      <td>-0.032905</td>\n",
              "      <td>-0.318529</td>\n",
              "      <td>-0.167260</td>\n",
              "      <td>-0.094197</td>\n",
              "      <td>-0.081709</td>\n",
              "      <td>-0.214091</td>\n",
              "      <td>0.145896</td>\n",
              "      <td>-0.113642</td>\n",
              "      <td>0.067639</td>\n",
              "      <td>0.016195</td>\n",
              "      <td>-0.246599</td>\n",
              "      <td>-0.384358</td>\n",
              "      <td>0.242567</td>\n",
              "      <td>0.153495</td>\n",
              "      <td>-0.125669</td>\n",
              "      <td>0.020994</td>\n",
              "      <td>-0.266984</td>\n",
              "      <td>-0.087892</td>\n",
              "      <td>-0.116395</td>\n",
              "      <td>-0.344607</td>\n",
              "      <td>-0.048895</td>\n",
              "      <td>0.038910</td>\n",
              "      <td>-0.033492</td>\n",
              "      <td>0.111118</td>\n",
              "      <td>-0.040606</td>\n",
              "      <td>-0.272553</td>\n",
              "      <td>-0.083607</td>\n",
              "      <td>-0.151875</td>\n",
              "    </tr>\n",
              "    <tr>\n",
              "      <th>4</th>\n",
              "      <td>0.077054</td>\n",
              "      <td>0.063156</td>\n",
              "      <td>0.245847</td>\n",
              "      <td>0.005221</td>\n",
              "      <td>-0.180295</td>\n",
              "      <td>-0.213427</td>\n",
              "      <td>0.137450</td>\n",
              "      <td>0.639700</td>\n",
              "      <td>-0.053647</td>\n",
              "      <td>-0.305522</td>\n",
              "      <td>0.190658</td>\n",
              "      <td>-0.122334</td>\n",
              "      <td>0.001214</td>\n",
              "      <td>0.240134</td>\n",
              "      <td>-0.313901</td>\n",
              "      <td>0.439687</td>\n",
              "      <td>-0.084962</td>\n",
              "      <td>0.308797</td>\n",
              "      <td>0.032967</td>\n",
              "      <td>0.180585</td>\n",
              "      <td>0.281594</td>\n",
              "      <td>0.111880</td>\n",
              "      <td>-0.258469</td>\n",
              "      <td>-0.178574</td>\n",
              "      <td>0.255789</td>\n",
              "      <td>0.165124</td>\n",
              "      <td>-0.115555</td>\n",
              "      <td>-0.108441</td>\n",
              "      <td>-0.417722</td>\n",
              "      <td>0.326026</td>\n",
              "      <td>0.354149</td>\n",
              "      <td>0.085615</td>\n",
              "      <td>0.149269</td>\n",
              "      <td>0.011796</td>\n",
              "      <td>-0.104251</td>\n",
              "      <td>-0.124941</td>\n",
              "      <td>-0.087811</td>\n",
              "      <td>0.174256</td>\n",
              "      <td>-0.305701</td>\n",
              "      <td>0.203126</td>\n",
              "      <td>...</td>\n",
              "      <td>-0.281332</td>\n",
              "      <td>-0.134353</td>\n",
              "      <td>-0.167351</td>\n",
              "      <td>0.123620</td>\n",
              "      <td>-0.127837</td>\n",
              "      <td>-0.263442</td>\n",
              "      <td>-0.075813</td>\n",
              "      <td>0.092982</td>\n",
              "      <td>-0.156361</td>\n",
              "      <td>0.277569</td>\n",
              "      <td>-0.176023</td>\n",
              "      <td>0.308209</td>\n",
              "      <td>0.005193</td>\n",
              "      <td>-0.216754</td>\n",
              "      <td>-0.188127</td>\n",
              "      <td>-0.088923</td>\n",
              "      <td>-0.042417</td>\n",
              "      <td>-0.176781</td>\n",
              "      <td>0.059040</td>\n",
              "      <td>-0.077821</td>\n",
              "      <td>0.065533</td>\n",
              "      <td>0.061572</td>\n",
              "      <td>-0.150773</td>\n",
              "      <td>-0.339891</td>\n",
              "      <td>0.295368</td>\n",
              "      <td>0.165640</td>\n",
              "      <td>-0.024942</td>\n",
              "      <td>-0.040200</td>\n",
              "      <td>-0.147804</td>\n",
              "      <td>-0.136844</td>\n",
              "      <td>-0.217678</td>\n",
              "      <td>-0.299025</td>\n",
              "      <td>-0.085311</td>\n",
              "      <td>0.004527</td>\n",
              "      <td>0.044449</td>\n",
              "      <td>0.165447</td>\n",
              "      <td>-0.079287</td>\n",
              "      <td>-0.302380</td>\n",
              "      <td>0.116852</td>\n",
              "      <td>-0.080851</td>\n",
              "    </tr>\n",
              "  </tbody>\n",
              "</table>\n",
              "<p>5 rows × 768 columns</p>\n",
              "</div>"
            ],
            "text/plain": [
              "      col_0     col_1     col_2  ...   col_765   col_766   col_767\n",
              "0  0.065292  0.130962  0.312095  ... -0.243183  0.044420 -0.030861\n",
              "1 -0.037613 -0.337574  0.239518  ... -0.444929 -0.146946 -0.060303\n",
              "2  0.025136 -0.162270  0.213175  ... -0.311056 -0.082320 -0.070695\n",
              "3 -0.069353 -0.048899  0.336302  ... -0.272553 -0.083607 -0.151875\n",
              "4  0.077054  0.063156  0.245847  ... -0.302380  0.116852 -0.080851\n",
              "\n",
              "[5 rows x 768 columns]"
            ]
          },
          "metadata": {
            "tags": []
          },
          "execution_count": 31
        }
      ]
    },
    {
      "cell_type": "code",
      "metadata": {
        "colab": {
          "base_uri": "https://localhost:8080/"
        },
        "id": "n1fc6M87ydEh",
        "outputId": "5cecd7e6-31c3-4805-9ba5-ea5b46ee9032"
      },
      "source": [
        "%%time\n",
        "from autogluon.tabular import  TabularPredictor\n",
        "from sklearn.model_selection import StratifiedKFold\n",
        "from sklearn.metrics import classification_report,accuracy_score\n",
        "skf = StratifiedKFold(n_splits=5,shuffle=True)\n",
        "\n",
        "acc=[]\n",
        "test_pred=[]\n",
        "for train_index, test_index in skf.split(data.iloc[:,0:-1], data.iloc[:,-1]):\n",
        "  train=data.iloc[train_index,:]\n",
        "  test=data.iloc[test_index,:]\n",
        "  clf=TabularPredictor(label='Label',verbosity=0).fit(train, presets='best_quality')\n",
        "  res=clf.leaderboard(test,silent=True)\n",
        "  res['score_test']=res['score_test'].round(3)*100\n",
        "  pred = clf.predict(test,model=res.model[0])\n",
        "  accuracy=accuracy_score(test.Label,pred)\n",
        "  acc.append(accuracy)\n",
        "  print('best model ',res.model[0],' accuracy is ',accuracy)\n",
        "  test_pred.append(clf.predict(test_df,model=res.model[0]))\n",
        "print('average accuracy is',np.mean(acc))"
      ],
      "execution_count": 32,
      "outputs": [
        {
          "output_type": "stream",
          "text": [
            "best model  LightGBM_BAG_L1  accuracy is  0.7\n",
            "best model  RandomForestEntr_BAG_L1  accuracy is  0.675\n",
            "best model  KNeighborsDist_BAG_L1  accuracy is  0.75\n",
            "best model  LightGBMXT_BAG_L1  accuracy is  0.8\n",
            "best model  CatBoost_BAG_L1  accuracy is  0.775\n",
            "average accuracy is 0.74\n",
            "CPU times: user 21min 43s, sys: 17.4 s, total: 22min\n",
            "Wall time: 13min 4s\n"
          ],
          "name": "stdout"
        }
      ]
    },
    {
      "cell_type": "code",
      "metadata": {
        "id": "XLnRFiKPBYg_"
      },
      "source": [
        ""
      ],
      "execution_count": 32,
      "outputs": []
    },
    {
      "cell_type": "code",
      "metadata": {
        "id": "c7wIjQwDBf5M"
      },
      "source": [
        "ids=test_path.id.apply(lambda x:x.split('/')[-1].split('.')[0])\n",
        "pred=np.mean(test_pred,axis=0)\n",
        "lang=['en']*len(test_path)\n",
        "pred=np.where(pred>0.5,1,0)"
      ],
      "execution_count": 33,
      "outputs": []
    },
    {
      "cell_type": "code",
      "metadata": {
        "colab": {
          "base_uri": "https://localhost:8080/",
          "height": 202
        },
        "id": "6IrtPJqEBm-x",
        "outputId": "1b22a6e1-dddd-4df3-ffd6-241d41f367cb"
      },
      "source": [
        "final=pd.DataFrame(zip(ids,lang,pred),columns=['author-id','lang','type'])\n",
        "final.head()"
      ],
      "execution_count": 34,
      "outputs": [
        {
          "output_type": "execute_result",
          "data": {
            "text/html": [
              "<div>\n",
              "<style scoped>\n",
              "    .dataframe tbody tr th:only-of-type {\n",
              "        vertical-align: middle;\n",
              "    }\n",
              "\n",
              "    .dataframe tbody tr th {\n",
              "        vertical-align: top;\n",
              "    }\n",
              "\n",
              "    .dataframe thead th {\n",
              "        text-align: right;\n",
              "    }\n",
              "</style>\n",
              "<table border=\"1\" class=\"dataframe\">\n",
              "  <thead>\n",
              "    <tr style=\"text-align: right;\">\n",
              "      <th></th>\n",
              "      <th>author-id</th>\n",
              "      <th>lang</th>\n",
              "      <th>type</th>\n",
              "    </tr>\n",
              "  </thead>\n",
              "  <tbody>\n",
              "    <tr>\n",
              "      <th>0</th>\n",
              "      <td>f2973063f16c0698a6de86c55b5f9ad6</td>\n",
              "      <td>en</td>\n",
              "      <td>1</td>\n",
              "    </tr>\n",
              "    <tr>\n",
              "      <th>1</th>\n",
              "      <td>be71e41921653e523aceb555727b61c7</td>\n",
              "      <td>en</td>\n",
              "      <td>0</td>\n",
              "    </tr>\n",
              "    <tr>\n",
              "      <th>2</th>\n",
              "      <td>d0235c3e74f79298fc2b6d2427c2060b</td>\n",
              "      <td>en</td>\n",
              "      <td>0</td>\n",
              "    </tr>\n",
              "    <tr>\n",
              "      <th>3</th>\n",
              "      <td>314d4bf068314367bc83dc5ae3757e13</td>\n",
              "      <td>en</td>\n",
              "      <td>1</td>\n",
              "    </tr>\n",
              "    <tr>\n",
              "      <th>4</th>\n",
              "      <td>fdd27881da241cff7115c1e89caba6dd</td>\n",
              "      <td>en</td>\n",
              "      <td>1</td>\n",
              "    </tr>\n",
              "  </tbody>\n",
              "</table>\n",
              "</div>"
            ],
            "text/plain": [
              "                          author-id lang  type\n",
              "0  f2973063f16c0698a6de86c55b5f9ad6   en     1\n",
              "1  be71e41921653e523aceb555727b61c7   en     0\n",
              "2  d0235c3e74f79298fc2b6d2427c2060b   en     0\n",
              "3  314d4bf068314367bc83dc5ae3757e13   en     1\n",
              "4  fdd27881da241cff7115c1e89caba6dd   en     1"
            ]
          },
          "metadata": {
            "tags": []
          },
          "execution_count": 34
        }
      ]
    },
    {
      "cell_type": "code",
      "metadata": {
        "id": "2yTz0vW8CPMz"
      },
      "source": [
        "final.to_csv('first.csv',index=False)"
      ],
      "execution_count": 35,
      "outputs": []
    },
    {
      "cell_type": "code",
      "metadata": {
        "colab": {
          "base_uri": "https://localhost:8080/"
        },
        "id": "XIdChCfUOL75",
        "outputId": "1015a177-3739-40fb-ac17-08a1bb425ef0"
      },
      "source": [
        "if os.path.isdir('output'):\n",
        "  !rm -rf output\n",
        "  !mkdir output\n",
        "  !rm talha.zip\n",
        "else:\n",
        "  !mkdir output"
      ],
      "execution_count": 36,
      "outputs": [
        {
          "output_type": "stream",
          "text": [
            "rm: cannot remove 'talha.zip': No such file or directory\n"
          ],
          "name": "stdout"
        }
      ]
    },
    {
      "cell_type": "code",
      "metadata": {
        "id": "zvFjkD0GCjrJ"
      },
      "source": [
        "import pandas as pd\n",
        "df=final.copy()\n",
        "import pandas as pd\n",
        "for row in df.index:\n",
        "    xml = []\n",
        "    xml.append('<author id=\"{}\"'.format(df.loc[row,'author-id']))\n",
        "    xml.append('lang=\"{}\"'.format(df.loc[row,'lang']))\n",
        "    xml.append('type=\"{}\"'.format(df.loc[row,'type']))\n",
        "    xml.append('/>')\n",
        "    x='\\n'.join(xml)\n",
        "    myfile = open(\"output/{}.xml\".format(df.loc[row,'author-id']), \"w\")\n",
        "    myfile.write(x)\n",
        "    myfile.close()\n",
        "    "
      ],
      "execution_count": 37,
      "outputs": []
    },
    {
      "cell_type": "code",
      "metadata": {
        "id": "-IdSq-2GOVzu"
      },
      "source": [
        "%%capture\n",
        "!zip -r talha.zip output"
      ],
      "execution_count": 38,
      "outputs": []
    },
    {
      "cell_type": "code",
      "metadata": {
        "id": "-kkZ4BNlPNjH"
      },
      "source": [
        ""
      ],
      "execution_count": 38,
      "outputs": []
    }
  ]
}