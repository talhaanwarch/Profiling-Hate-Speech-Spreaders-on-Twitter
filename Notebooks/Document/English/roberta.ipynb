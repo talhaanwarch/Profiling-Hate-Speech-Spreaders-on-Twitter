{
  "nbformat": 4,
  "nbformat_minor": 0,
  "metadata": {
    "colab": {
      "name": "roberta.ipynb",
      "provenance": [],
      "collapsed_sections": [],
      "include_colab_link": true
    },
    "kernelspec": {
      "name": "python3",
      "display_name": "Python 3"
    },
    "language_info": {
      "name": "python"
    },
    "accelerator": "GPU"
  },
  "cells": [
    {
      "cell_type": "markdown",
      "metadata": {
        "id": "view-in-github",
        "colab_type": "text"
      },
      "source": [
        "<a href=\"https://colab.research.google.com/github/talhaanwarch/Profiling-Hate-Speech-Spreaders-on-Twitter/blob/main/roberta.ipynb\" target=\"_parent\"><img src=\"https://colab.research.google.com/assets/colab-badge.svg\" alt=\"Open In Colab\"/></a>"
      ]
    },
    {
      "cell_type": "code",
      "metadata": {
        "colab": {
          "base_uri": "https://localhost:8080/"
        },
        "id": "nUUMksNxDZuV",
        "outputId": "a8970d35-a8d8-4c4f-b9c8-8b6cfd4814a5"
      },
      "source": [
        "!nvidia-smi -L"
      ],
      "execution_count": 3,
      "outputs": [
        {
          "output_type": "stream",
          "text": [
            "GPU 0: Tesla P100-PCIE-16GB (UUID: GPU-741e2781-0fad-7412-730b-86ce53c975ad)\n"
          ],
          "name": "stdout"
        }
      ]
    },
    {
      "cell_type": "markdown",
      "metadata": {
        "id": "P-3gL08E2izB"
      },
      "source": [
        "#install pacakges"
      ]
    },
    {
      "cell_type": "code",
      "metadata": {
        "id": "tfXdcDubvVmI"
      },
      "source": [
        "%%capture\n",
        "!python3 -m pip install -U pip\n",
        "!python3 -m pip install -U setuptools wheel\n",
        "!python3 -m pip install -U \"mxnet_cu110<2.0.0\"\n",
        "!python3 -m pip install autogluon"
      ],
      "execution_count": 4,
      "outputs": []
    },
    {
      "cell_type": "code",
      "metadata": {
        "id": "m3e8ItjyrbC5"
      },
      "source": [
        "%%capture\n",
        "!pip install -U transformers"
      ],
      "execution_count": 5,
      "outputs": []
    },
    {
      "cell_type": "markdown",
      "metadata": {
        "id": "tbFVgzDJ2tkN"
      },
      "source": [
        "# download data"
      ]
    },
    {
      "cell_type": "code",
      "metadata": {
        "id": "sLK8NbVADmwP"
      },
      "source": [
        "import os\n",
        "if os.path.isdir('/content/Profiling-Hate-Speech-Spreaders-on-Twitter') is False:\n",
        "    !git clone https://github.com/talhaanwarch/Profiling-Hate-Speech-Spreaders-on-Twitter.git"
      ],
      "execution_count": 6,
      "outputs": []
    },
    {
      "cell_type": "code",
      "metadata": {
        "id": "1AK6vaH6frHn"
      },
      "source": [
        "with open('pass.txt','r') as f:\n",
        "  pas=f.read()\n"
      ],
      "execution_count": 7,
      "outputs": []
    },
    {
      "cell_type": "code",
      "metadata": {
        "id": "xWClrObg1m3o"
      },
      "source": [
        "import zipfile\n",
        "if os.path.isdir('train') is False:\n",
        "  train_path='/content/Profiling-Hate-Speech-Spreaders-on-Twitter/data/train.zip'\n",
        "  with zipfile.ZipFile(train_path,\"r\") as zip_ref:\n",
        "    zip_ref.extractall(\".\",pwd = bytes(pas,'utf-8'))\n",
        "if os.path.isdir('test') is False:\n",
        "  test_path='/content/Profiling-Hate-Speech-Spreaders-on-Twitter/data/test.zip'\n",
        "  with zipfile.ZipFile(test_path,\"r\") as zip_ref:\n",
        "    zip_ref.extractall(\".\",pwd = bytes(pas,'utf-8'))"
      ],
      "execution_count": 8,
      "outputs": []
    },
    {
      "cell_type": "markdown",
      "metadata": {
        "id": "o0x1BkHU2vGa"
      },
      "source": [
        "# prepare data"
      ]
    },
    {
      "cell_type": "markdown",
      "metadata": {
        "id": "hEC85rpu-ur5"
      },
      "source": [
        "## train data"
      ]
    },
    {
      "cell_type": "code",
      "metadata": {
        "id": "uFzbJ_gC1EJw"
      },
      "source": [
        "import pandas as pd\n",
        "import numpy as np\n",
        "import matplotlib.pyplot as plt\n",
        "df=pd.read_csv('train/en/truth.txt',sep=':::',header=None,engine='python')\n",
        "df.columns=['id','label']"
      ],
      "execution_count": 9,
      "outputs": []
    },
    {
      "cell_type": "code",
      "metadata": {
        "colab": {
          "base_uri": "https://localhost:8080/"
        },
        "id": "3ROlQoSB7Yh_",
        "outputId": "1e02669a-df6b-4b53-edeb-07bcd149c8f7"
      },
      "source": [
        "df.label.value_counts()"
      ],
      "execution_count": 10,
      "outputs": [
        {
          "output_type": "execute_result",
          "data": {
            "text/plain": [
              "1    100\n",
              "0    100\n",
              "Name: label, dtype: int64"
            ]
          },
          "metadata": {
            "tags": []
          },
          "execution_count": 10
        }
      ]
    },
    {
      "cell_type": "code",
      "metadata": {
        "colab": {
          "base_uri": "https://localhost:8080/"
        },
        "id": "v_JM-_us1LS7",
        "outputId": "5e9622a9-48a7-42aa-ba6d-b0dcbffb2aa2"
      },
      "source": [
        "import nltk\n",
        "from nltk.corpus import stopwords\n",
        "from nltk.stem import WordNetLemmatizer\n",
        "nltk.download('wordnet')\n",
        "nltk.download('stopwords')\n",
        "lemmatizer = WordNetLemmatizer()\n",
        "w_tokenizer = nltk.tokenize.WhitespaceTokenizer()\n",
        "stop = stopwords.words('english')"
      ],
      "execution_count": 11,
      "outputs": [
        {
          "output_type": "stream",
          "text": [
            "[nltk_data] Downloading package wordnet to /root/nltk_data...\n",
            "[nltk_data]   Package wordnet is already up-to-date!\n",
            "[nltk_data] Downloading package stopwords to /root/nltk_data...\n",
            "[nltk_data]   Package stopwords is already up-to-date!\n"
          ],
          "name": "stdout"
        }
      ]
    },
    {
      "cell_type": "code",
      "metadata": {
        "id": "yEBoiYus1-q3"
      },
      "source": [
        "def preprocessing(text):\n",
        "    text=text.str.replace('\\d+', '')\n",
        "    text=text.str.replace('RT','')\n",
        "    text=text.str.replace('#USER#','')\n",
        "    text=text.str.replace('_','')\n",
        "    text=text.str.replace('#URL#','')\n",
        "    text= text.str.lower()\n",
        "    text = text.str.replace('[^\\w\\s]','')\n",
        "    #text = text.apply(lambda x : [lemmatizer.lemmatize(y) for y in w_tokenizer.tokenize(x)])\n",
        "    #text = text.apply(lambda x: [item for item in x if item not in stop])\n",
        "    #text = text.apply(lambda x : \" \".join(x))\n",
        "    return text"
      ],
      "execution_count": 12,
      "outputs": []
    },
    {
      "cell_type": "code",
      "metadata": {
        "colab": {
          "base_uri": "https://localhost:8080/",
          "height": 202
        },
        "id": "KuCfiRvP2AEC",
        "outputId": "fbab775d-37bc-4d23-e1d8-529461ea1980"
      },
      "source": [
        "df.id='train/en/'+df.id.astype(str)+'.xml'\n",
        "df.head()"
      ],
      "execution_count": 13,
      "outputs": [
        {
          "output_type": "execute_result",
          "data": {
            "text/html": [
              "<div>\n",
              "<style scoped>\n",
              "    .dataframe tbody tr th:only-of-type {\n",
              "        vertical-align: middle;\n",
              "    }\n",
              "\n",
              "    .dataframe tbody tr th {\n",
              "        vertical-align: top;\n",
              "    }\n",
              "\n",
              "    .dataframe thead th {\n",
              "        text-align: right;\n",
              "    }\n",
              "</style>\n",
              "<table border=\"1\" class=\"dataframe\">\n",
              "  <thead>\n",
              "    <tr style=\"text-align: right;\">\n",
              "      <th></th>\n",
              "      <th>id</th>\n",
              "      <th>label</th>\n",
              "    </tr>\n",
              "  </thead>\n",
              "  <tbody>\n",
              "    <tr>\n",
              "      <th>0</th>\n",
              "      <td>train/en/639b8e5e6a527d494c85d8f5704b1a01.xml</td>\n",
              "      <td>0</td>\n",
              "    </tr>\n",
              "    <tr>\n",
              "      <th>1</th>\n",
              "      <td>train/en/f2b1fc84c500c38a93522efbd422b559.xml</td>\n",
              "      <td>0</td>\n",
              "    </tr>\n",
              "    <tr>\n",
              "      <th>2</th>\n",
              "      <td>train/en/10b2d013382e1fb3c9414ea28329f258.xml</td>\n",
              "      <td>0</td>\n",
              "    </tr>\n",
              "    <tr>\n",
              "      <th>3</th>\n",
              "      <td>train/en/26644d1348fc1122e8c5ef45d6bc84fa.xml</td>\n",
              "      <td>0</td>\n",
              "    </tr>\n",
              "    <tr>\n",
              "      <th>4</th>\n",
              "      <td>train/en/4d4c5dcbfe38d0d33a0d1b1419952ca8.xml</td>\n",
              "      <td>0</td>\n",
              "    </tr>\n",
              "  </tbody>\n",
              "</table>\n",
              "</div>"
            ],
            "text/plain": [
              "                                              id  label\n",
              "0  train/en/639b8e5e6a527d494c85d8f5704b1a01.xml      0\n",
              "1  train/en/f2b1fc84c500c38a93522efbd422b559.xml      0\n",
              "2  train/en/10b2d013382e1fb3c9414ea28329f258.xml      0\n",
              "3  train/en/26644d1348fc1122e8c5ef45d6bc84fa.xml      0\n",
              "4  train/en/4d4c5dcbfe38d0d33a0d1b1419952ca8.xml      0"
            ]
          },
          "metadata": {
            "tags": []
          },
          "execution_count": 13
        }
      ]
    },
    {
      "cell_type": "code",
      "metadata": {
        "colab": {
          "base_uri": "https://localhost:8080/"
        },
        "id": "WALZdHXd2BSE",
        "outputId": "da2e0a3a-035e-4162-dcc9-f06a9af980a6"
      },
      "source": [
        "len(df)"
      ],
      "execution_count": 14,
      "outputs": [
        {
          "output_type": "execute_result",
          "data": {
            "text/plain": [
              "200"
            ]
          },
          "metadata": {
            "tags": []
          },
          "execution_count": 14
        }
      ]
    },
    {
      "cell_type": "code",
      "metadata": {
        "id": "LuY7kaIJ2C4G"
      },
      "source": [
        "import xml.etree.ElementTree as ET\n",
        "def reader(df,ground=True):\n",
        "  data=[]\n",
        "  for x in df.iterrows():\n",
        "      \n",
        "      tree = ET.parse(x[1].id)\n",
        "      root = tree.getroot()\n",
        "      text=[x.text for x in root[0]]\n",
        "      if ground:\n",
        "        label=[x[1].label]*len(text)\n",
        "        data.append(pd.DataFrame(zip(text,label),columns=['text','label']))\n",
        "      else:\n",
        "        data.append(pd.DataFrame(text,columns=['text']))\n",
        "  return data"
      ],
      "execution_count": 15,
      "outputs": []
    },
    {
      "cell_type": "code",
      "metadata": {
        "id": "hNrFeS0n-HIv"
      },
      "source": [
        "data=reader(df)"
      ],
      "execution_count": 16,
      "outputs": []
    },
    {
      "cell_type": "code",
      "metadata": {
        "colab": {
          "base_uri": "https://localhost:8080/",
          "height": 202
        },
        "id": "pdcFOycQ2Etp",
        "outputId": "a9fac74d-e032-4d9d-be17-35bf75656170"
      },
      "source": [
        "data[0].head()"
      ],
      "execution_count": 17,
      "outputs": [
        {
          "output_type": "execute_result",
          "data": {
            "text/html": [
              "<div>\n",
              "<style scoped>\n",
              "    .dataframe tbody tr th:only-of-type {\n",
              "        vertical-align: middle;\n",
              "    }\n",
              "\n",
              "    .dataframe tbody tr th {\n",
              "        vertical-align: top;\n",
              "    }\n",
              "\n",
              "    .dataframe thead th {\n",
              "        text-align: right;\n",
              "    }\n",
              "</style>\n",
              "<table border=\"1\" class=\"dataframe\">\n",
              "  <thead>\n",
              "    <tr style=\"text-align: right;\">\n",
              "      <th></th>\n",
              "      <th>text</th>\n",
              "      <th>label</th>\n",
              "    </tr>\n",
              "  </thead>\n",
              "  <tbody>\n",
              "    <tr>\n",
              "      <th>0</th>\n",
              "      <td>RT #USER#: Funny how “15 days to slow the spre...</td>\n",
              "      <td>0</td>\n",
              "    </tr>\n",
              "    <tr>\n",
              "      <th>1</th>\n",
              "      <td>RT #USER#: Why did Minneapolis just give Georg...</td>\n",
              "      <td>0</td>\n",
              "    </tr>\n",
              "    <tr>\n",
              "      <th>2</th>\n",
              "      <td>RT #USER#: To be fair, he has done a lot of un...</td>\n",
              "      <td>0</td>\n",
              "    </tr>\n",
              "    <tr>\n",
              "      <th>3</th>\n",
              "      <td>RT #USER#: President Trump got us the #HASHTAG...</td>\n",
              "      <td>0</td>\n",
              "    </tr>\n",
              "    <tr>\n",
              "      <th>4</th>\n",
              "      <td>RT #USER#: Is the case against former officer ...</td>\n",
              "      <td>0</td>\n",
              "    </tr>\n",
              "  </tbody>\n",
              "</table>\n",
              "</div>"
            ],
            "text/plain": [
              "                                                text  label\n",
              "0  RT #USER#: Funny how “15 days to slow the spre...      0\n",
              "1  RT #USER#: Why did Minneapolis just give Georg...      0\n",
              "2  RT #USER#: To be fair, he has done a lot of un...      0\n",
              "3  RT #USER#: President Trump got us the #HASHTAG...      0\n",
              "4  RT #USER#: Is the case against former officer ...      0"
            ]
          },
          "metadata": {
            "tags": []
          },
          "execution_count": 17
        }
      ]
    },
    {
      "cell_type": "code",
      "metadata": {
        "id": "Z8g5Ah4IhA3u"
      },
      "source": [
        "\n",
        "datax=data.copy()\n",
        "for d in range(len(data)):\n",
        "  datax[d].text=preprocessing(data[d].text)\n"
      ],
      "execution_count": 18,
      "outputs": []
    },
    {
      "cell_type": "code",
      "metadata": {
        "colab": {
          "base_uri": "https://localhost:8080/",
          "height": 202
        },
        "id": "_F5iHi5umS9F",
        "outputId": "9508cba8-e2da-4c0c-e417-132a60d3a63f"
      },
      "source": [
        "datax[0].head()"
      ],
      "execution_count": 19,
      "outputs": [
        {
          "output_type": "execute_result",
          "data": {
            "text/html": [
              "<div>\n",
              "<style scoped>\n",
              "    .dataframe tbody tr th:only-of-type {\n",
              "        vertical-align: middle;\n",
              "    }\n",
              "\n",
              "    .dataframe tbody tr th {\n",
              "        vertical-align: top;\n",
              "    }\n",
              "\n",
              "    .dataframe thead th {\n",
              "        text-align: right;\n",
              "    }\n",
              "</style>\n",
              "<table border=\"1\" class=\"dataframe\">\n",
              "  <thead>\n",
              "    <tr style=\"text-align: right;\">\n",
              "      <th></th>\n",
              "      <th>text</th>\n",
              "      <th>label</th>\n",
              "    </tr>\n",
              "  </thead>\n",
              "  <tbody>\n",
              "    <tr>\n",
              "      <th>0</th>\n",
              "      <td>funny how  days to slow the spread turned in...</td>\n",
              "      <td>0</td>\n",
              "    </tr>\n",
              "    <tr>\n",
              "      <th>1</th>\n",
              "      <td>why did minneapolis just give george floyds ...</td>\n",
              "      <td>0</td>\n",
              "    </tr>\n",
              "    <tr>\n",
              "      <th>2</th>\n",
              "      <td>to be fair he has done a lot of undercover w...</td>\n",
              "      <td>0</td>\n",
              "    </tr>\n",
              "    <tr>\n",
              "      <th>3</th>\n",
              "      <td>president trump got us the hashtag vaccine p...</td>\n",
              "      <td>0</td>\n",
              "    </tr>\n",
              "    <tr>\n",
              "      <th>4</th>\n",
              "      <td>is the case against former officer derek cha...</td>\n",
              "      <td>0</td>\n",
              "    </tr>\n",
              "  </tbody>\n",
              "</table>\n",
              "</div>"
            ],
            "text/plain": [
              "                                                text  label\n",
              "0    funny how  days to slow the spread turned in...      0\n",
              "1    why did minneapolis just give george floyds ...      0\n",
              "2    to be fair he has done a lot of undercover w...      0\n",
              "3    president trump got us the hashtag vaccine p...      0\n",
              "4    is the case against former officer derek cha...      0"
            ]
          },
          "metadata": {
            "tags": []
          },
          "execution_count": 19
        }
      ]
    },
    {
      "cell_type": "code",
      "metadata": {
        "colab": {
          "base_uri": "https://localhost:8080/"
        },
        "id": "-z9YynVjaVVR",
        "outputId": "9fd4b751-852a-4050-9c12-cc4142e61ca8"
      },
      "source": [
        "len(datax[0])"
      ],
      "execution_count": 20,
      "outputs": [
        {
          "output_type": "execute_result",
          "data": {
            "text/plain": [
              "200"
            ]
          },
          "metadata": {
            "tags": []
          },
          "execution_count": 20
        }
      ]
    },
    {
      "cell_type": "code",
      "metadata": {
        "id": "lojbROKwjNRV"
      },
      "source": [
        "doc_text,doc_label,=[],[]\n",
        "for i in range(len(datax)):\n",
        "  doc_text.append(list(datax[i].text))\n",
        "  doc_label.append(int(datax[i].mean()))"
      ],
      "execution_count": 21,
      "outputs": []
    },
    {
      "cell_type": "code",
      "metadata": {
        "colab": {
          "base_uri": "https://localhost:8080/"
        },
        "id": "rm3keInmpnBK",
        "outputId": "754842e9-ef6e-4ecc-a821-1f1e6afd44bc"
      },
      "source": [
        "len(doc_text),len(doc_label)"
      ],
      "execution_count": 22,
      "outputs": [
        {
          "output_type": "execute_result",
          "data": {
            "text/plain": [
              "(200, 200)"
            ]
          },
          "metadata": {
            "tags": []
          },
          "execution_count": 22
        }
      ]
    },
    {
      "cell_type": "markdown",
      "metadata": {
        "id": "4EW-8kNIdK7D"
      },
      "source": [
        "## test data"
      ]
    },
    {
      "cell_type": "code",
      "metadata": {
        "colab": {
          "base_uri": "https://localhost:8080/",
          "height": 202
        },
        "id": "vY6T_bk1-0RT",
        "outputId": "0dae5492-fb8d-4630-887b-1f4a93f57faf"
      },
      "source": [
        "from glob import glob\n",
        "test_path=pd.DataFrame(glob('test/en/*.xml'),columns=['id'])\n",
        "test_path.head()"
      ],
      "execution_count": 23,
      "outputs": [
        {
          "output_type": "execute_result",
          "data": {
            "text/html": [
              "<div>\n",
              "<style scoped>\n",
              "    .dataframe tbody tr th:only-of-type {\n",
              "        vertical-align: middle;\n",
              "    }\n",
              "\n",
              "    .dataframe tbody tr th {\n",
              "        vertical-align: top;\n",
              "    }\n",
              "\n",
              "    .dataframe thead th {\n",
              "        text-align: right;\n",
              "    }\n",
              "</style>\n",
              "<table border=\"1\" class=\"dataframe\">\n",
              "  <thead>\n",
              "    <tr style=\"text-align: right;\">\n",
              "      <th></th>\n",
              "      <th>id</th>\n",
              "    </tr>\n",
              "  </thead>\n",
              "  <tbody>\n",
              "    <tr>\n",
              "      <th>0</th>\n",
              "      <td>test/en/f2973063f16c0698a6de86c55b5f9ad6.xml</td>\n",
              "    </tr>\n",
              "    <tr>\n",
              "      <th>1</th>\n",
              "      <td>test/en/be71e41921653e523aceb555727b61c7.xml</td>\n",
              "    </tr>\n",
              "    <tr>\n",
              "      <th>2</th>\n",
              "      <td>test/en/d0235c3e74f79298fc2b6d2427c2060b.xml</td>\n",
              "    </tr>\n",
              "    <tr>\n",
              "      <th>3</th>\n",
              "      <td>test/en/314d4bf068314367bc83dc5ae3757e13.xml</td>\n",
              "    </tr>\n",
              "    <tr>\n",
              "      <th>4</th>\n",
              "      <td>test/en/fdd27881da241cff7115c1e89caba6dd.xml</td>\n",
              "    </tr>\n",
              "  </tbody>\n",
              "</table>\n",
              "</div>"
            ],
            "text/plain": [
              "                                             id\n",
              "0  test/en/f2973063f16c0698a6de86c55b5f9ad6.xml\n",
              "1  test/en/be71e41921653e523aceb555727b61c7.xml\n",
              "2  test/en/d0235c3e74f79298fc2b6d2427c2060b.xml\n",
              "3  test/en/314d4bf068314367bc83dc5ae3757e13.xml\n",
              "4  test/en/fdd27881da241cff7115c1e89caba6dd.xml"
            ]
          },
          "metadata": {
            "tags": []
          },
          "execution_count": 23
        }
      ]
    },
    {
      "cell_type": "code",
      "metadata": {
        "id": "2qsFnJQA-2fl"
      },
      "source": [
        "test_data=reader(test_path,ground=False)"
      ],
      "execution_count": 24,
      "outputs": []
    },
    {
      "cell_type": "code",
      "metadata": {
        "id": "9f1a9ZWV-2iT"
      },
      "source": [
        "\n",
        "test_datax=test_data.copy()\n",
        "for d in range(len(test_datax)):\n",
        "  test_datax[d].text=preprocessing(test_datax[d].text)\n"
      ],
      "execution_count": 25,
      "outputs": []
    },
    {
      "cell_type": "code",
      "metadata": {
        "id": "eWCjKH8c-2lp"
      },
      "source": [
        "test_doc=[]\n",
        "for i in range(len(test_datax)):\n",
        "  test_doc.append(list(test_datax[i].text))"
      ],
      "execution_count": 26,
      "outputs": []
    },
    {
      "cell_type": "code",
      "metadata": {
        "colab": {
          "base_uri": "https://localhost:8080/"
        },
        "id": "DkTpTKHLkp8h",
        "outputId": "43a962d7-0fa5-4b3a-f7c0-6b494a53b641"
      },
      "source": [
        "len(test_doc)"
      ],
      "execution_count": 27,
      "outputs": [
        {
          "output_type": "execute_result",
          "data": {
            "text/plain": [
              "100"
            ]
          },
          "metadata": {
            "tags": []
          },
          "execution_count": 27
        }
      ]
    },
    {
      "cell_type": "markdown",
      "metadata": {
        "id": "uk_kXqTk20rp"
      },
      "source": [
        "# generate embeddings"
      ]
    },
    {
      "cell_type": "code",
      "metadata": {
        "colab": {
          "base_uri": "https://localhost:8080/"
        },
        "id": "7ClLA5cVuesN",
        "outputId": "0f4da08e-393d-4c73-a024-30434e470ce1"
      },
      "source": [
        "from transformers import AutoTokenizer, AutoModel\n",
        "from torch.nn.utils.rnn import pad_sequence\n",
        "import torch\n",
        "tokenizer = AutoTokenizer.from_pretrained(\"roberta-base\",)\n",
        "model = AutoModel.from_pretrained(\"roberta-base\",output_hidden_states=True)\n"
      ],
      "execution_count": 28,
      "outputs": [
        {
          "output_type": "stream",
          "text": [
            "Some weights of the model checkpoint at roberta-base were not used when initializing RobertaModel: ['lm_head.dense.weight', 'lm_head.decoder.weight', 'lm_head.bias', 'lm_head.layer_norm.weight', 'lm_head.layer_norm.bias', 'lm_head.dense.bias']\n",
            "- This IS expected if you are initializing RobertaModel from the checkpoint of a model trained on another task or with another architecture (e.g. initializing a BertForSequenceClassification model from a BertForPreTraining model).\n",
            "- This IS NOT expected if you are initializing RobertaModel from the checkpoint of a model that you expect to be exactly identical (initializing a BertForSequenceClassification model from a BertForSequenceClassification model).\n"
          ],
          "name": "stderr"
        }
      ]
    },
    {
      "cell_type": "code",
      "metadata": {
        "id": "rSUMn7qlce7h"
      },
      "source": [
        "device='cuda'\n",
        "model=model.to(device)"
      ],
      "execution_count": 29,
      "outputs": []
    },
    {
      "cell_type": "code",
      "metadata": {
        "id": "H41V3wFMP1DZ"
      },
      "source": [
        "#get data from last hidden layer\n",
        "def create_embeddings(doc_text,max_length=20,cat=False):\n",
        "  doc_embeddings=[]\n",
        "  for text in doc_text:\n",
        "    inputs=tokenizer(text,max_length=max_length,padding=True,truncation=True)\n",
        "    text_seq = torch.tensor(inputs['input_ids']).to(device)\n",
        "    text_mask = torch.tensor(inputs['attention_mask']).to(device)\n",
        "    model.eval()\n",
        "    with torch.no_grad():\n",
        "      outputs= model(text_seq,attention_mask=text_mask)\n",
        "      hidden_states=outputs.hidden_states\n",
        "      if cat:\n",
        "        emb=torch.mean(torch.cat([hidden_states[i] for i in [-1,-2,-3,-4]], dim=-1),1)\n",
        "      else:\n",
        "        emb=torch.mean(hidden_states[11], 1)    \n",
        "      doc_embeddings.append(emb)\n",
        "  x=torch.mean(torch.stack(doc_embeddings),1)\n",
        "  x=np.array(x.cpu())\n",
        "  return x"
      ],
      "execution_count": 30,
      "outputs": []
    },
    {
      "cell_type": "markdown",
      "metadata": {
        "id": "t6yFzlc4n52y"
      },
      "source": [
        "## last layer"
      ]
    },
    {
      "cell_type": "code",
      "metadata": {
        "colab": {
          "base_uri": "https://localhost:8080/"
        },
        "id": "oMDZBFoCxUII",
        "outputId": "dddc7b6a-bfa8-44c9-df53-134f5b01c08d"
      },
      "source": [
        "%%time\n",
        "train_last=create_embeddings(doc_text)\n",
        "test_last=create_embeddings(test_doc)\n"
      ],
      "execution_count": 31,
      "outputs": [
        {
          "output_type": "stream",
          "text": [
            "CPU times: user 38.3 s, sys: 107 ms, total: 38.4 s\n",
            "Wall time: 36.4 s\n"
          ],
          "name": "stdout"
        }
      ]
    },
    {
      "cell_type": "markdown",
      "metadata": {
        "id": "5346kOUYoHLO"
      },
      "source": [
        "## last 4 layers"
      ]
    },
    {
      "cell_type": "code",
      "metadata": {
        "colab": {
          "base_uri": "https://localhost:8080/"
        },
        "id": "1jsc1PRcn_GC",
        "outputId": "fcc726a1-2edc-41f0-bf67-dd0f3f8140b8"
      },
      "source": [
        "%%time\n",
        "train_last4=create_embeddings(doc_text,cat=True)\n",
        "test_last4=create_embeddings(test_doc,cat=True)\n"
      ],
      "execution_count": 32,
      "outputs": [
        {
          "output_type": "stream",
          "text": [
            "CPU times: user 38.4 s, sys: 119 ms, total: 38.5 s\n",
            "Wall time: 36.4 s\n"
          ],
          "name": "stdout"
        }
      ]
    },
    {
      "cell_type": "code",
      "metadata": {
        "id": "0u2r8SJmaC1O"
      },
      "source": [
        "y=doc_label\n"
      ],
      "execution_count": 33,
      "outputs": []
    },
    {
      "cell_type": "markdown",
      "metadata": {
        "id": "e7y4abdOs6rG"
      },
      "source": [
        "# AutoGluon"
      ]
    },
    {
      "cell_type": "code",
      "metadata": {
        "id": "2Le9Y729wKYx"
      },
      "source": [
        "def agdataframe(train,label,test):\n",
        "  train_df=pd.concat([pd.DataFrame(train),pd.DataFrame(label)],axis=1)\n",
        "  train_df.columns=['col_{}'.format(i) for i in range(train.shape[1])]+['Label']\n",
        "  train_df = train_df.sample(frac=1).reset_index(drop=True)\n",
        "  test_df=pd.DataFrame(test)\n",
        "  test_df.columns=['col_{}'.format(i) for i in range(test.shape[1])]\n",
        "  return train_df, test_df\n",
        "  "
      ],
      "execution_count": 34,
      "outputs": []
    },
    {
      "cell_type": "code",
      "metadata": {
        "colab": {
          "base_uri": "https://localhost:8080/"
        },
        "id": "zwqkidSR_hC6",
        "outputId": "4b6275ac-3955-4414-d479-d90c20cd243a"
      },
      "source": [
        "train_last_df,test_last_df=agdataframe(train_last,doc_label,test_last)\n",
        "train_last4_df,test_last4_df=agdataframe(train_last4,doc_label,test_last4)\n",
        "\n",
        "print(train_last_df.shape,test_last_df.shape,train_last4_df.shape,test_last4_df.shape)"
      ],
      "execution_count": 35,
      "outputs": [
        {
          "output_type": "stream",
          "text": [
            "(200, 769) (100, 768) (200, 3073) (100, 3072)\n"
          ],
          "name": "stdout"
        }
      ]
    },
    {
      "cell_type": "code",
      "metadata": {
        "id": "n1fc6M87ydEh"
      },
      "source": [
        "from autogluon.tabular import  TabularPredictor\n",
        "from sklearn.model_selection import StratifiedKFold\n",
        "from sklearn.metrics import classification_report,accuracy_score\n",
        "\n",
        "def loop(data,test):\n",
        "  acc=[]\n",
        "  test_pred=[]\n",
        "  if os.path.isdir('AutogluonModels'):\n",
        "    !rm -rf AutogluonModels\n",
        "  skf = StratifiedKFold(n_splits=5,shuffle=True)\n",
        "  for train_index, test_index in skf.split(data.iloc[:,0:-1], data.iloc[:,-1]):\n",
        "    train=data.iloc[train_index,:]\n",
        "    test=data.iloc[test_index,:]\n",
        "    clf=TabularPredictor(label='Label',verbosity=0).fit(train, presets='best_quality')\n",
        "    res=clf.leaderboard(test,silent=True)\n",
        "    res['score_test']=res['score_test'].round(3)*100\n",
        "    pred = clf.predict(test,model=res.model[0])\n",
        "    accuracy=accuracy_score(test.Label,pred)\n",
        "    acc.append(accuracy)\n",
        "    print('best model ',res.model[0],' accuracy is ',accuracy)\n",
        "    test_pred.append(clf.predict(test,model=res.model[0]))\n",
        "  print('average accuracy is',np.mean(acc))\n",
        "  return test_pred"
      ],
      "execution_count": 38,
      "outputs": []
    },
    {
      "cell_type": "code",
      "metadata": {
        "colab": {
          "base_uri": "https://localhost:8080/"
        },
        "id": "GPyUmTOup9M5",
        "outputId": "2ff519e9-2d0f-4fe3-f495-5032d0ad402d"
      },
      "source": [
        "%%time\n",
        "test_pred_last=loop(train_last_df,test_last_df)"
      ],
      "execution_count": 39,
      "outputs": [
        {
          "output_type": "stream",
          "text": [
            "best model  KNeighborsDist_BAG_L1  accuracy is  0.7\n",
            "best model  NeuralNetFastAI_BAG_L1  accuracy is  0.7\n",
            "best model  WeightedEnsemble_L2  accuracy is  0.7\n",
            "best model  NeuralNetFastAI_BAG_L1  accuracy is  0.675\n",
            "best model  KNeighborsDist_BAG_L1  accuracy is  0.725\n",
            "average accuracy is 0.7\n",
            "CPU times: user 24min 52s, sys: 21.5 s, total: 25min 13s\n",
            "Wall time: 15min 23s\n"
          ],
          "name": "stdout"
        }
      ]
    },
    {
      "cell_type": "code",
      "metadata": {
        "colab": {
          "base_uri": "https://localhost:8080/"
        },
        "id": "Ba4ucZrvqM-_",
        "outputId": "5b2a77a2-19aa-42c5-9fe2-ad06d485279a"
      },
      "source": [
        "%%time\n",
        "test_pred_last4=loop(train_last4_df,test_last4_df)"
      ],
      "execution_count": 40,
      "outputs": [
        {
          "output_type": "stream",
          "text": [
            "best model  LightGBM_BAG_L1  accuracy is  0.75\n",
            "best model  KNeighborsDist_BAG_L1  accuracy is  0.725\n",
            "best model  ExtraTreesEntr_BAG_L1  accuracy is  0.75\n",
            "best model  NeuralNetFastAI_BAG_L1  accuracy is  0.7\n",
            "best model  ExtraTreesEntr_BAG_L1  accuracy is  0.725\n",
            "average accuracy is 0.73\n",
            "CPU times: user 1h 38min 31s, sys: 46.8 s, total: 1h 39min 18s\n",
            "Wall time: 58min 40s\n"
          ],
          "name": "stdout"
        }
      ]
    },
    {
      "cell_type": "code",
      "metadata": {
        "id": "c7wIjQwDBf5M"
      },
      "source": [
        "def make_final(test_pred):\n",
        "  ids=test_path.id.apply(lambda x:x.split('/')[-1].split('.')[0])\n",
        "  pred=np.mean(test_pred,axis=0)\n",
        "  lang=['en']*len(test_path)\n",
        "  #pred=np.where(pred>0.5,1,0)\n",
        "  final=pd.DataFrame(zip(ids,lang,pred),columns=['author-id','lang','type'])\n",
        "  return final"
      ],
      "execution_count": 41,
      "outputs": []
    },
    {
      "cell_type": "code",
      "metadata": {
        "id": "6IrtPJqEBm-x"
      },
      "source": [
        "test_last=make_final(test_pred_last)\n",
        "test_last4=make_final(test_pred_last4)"
      ],
      "execution_count": 42,
      "outputs": []
    },
    {
      "cell_type": "code",
      "metadata": {
        "id": "2yTz0vW8CPMz"
      },
      "source": [
        "test_last.to_csv('roberta1_70.csv',index=False)\n",
        "test_last4.to_csv('roberta2_73.csv',index=False)"
      ],
      "execution_count": 44,
      "outputs": []
    },
    {
      "cell_type": "code",
      "metadata": {
        "colab": {
          "base_uri": "https://localhost:8080/",
          "height": 202
        },
        "id": "ZSbcCD4fLF9J",
        "outputId": "3b58a3fc-2447-4747-f921-8b1fc058eed7"
      },
      "source": [
        "test_last4.head()"
      ],
      "execution_count": 45,
      "outputs": [
        {
          "output_type": "execute_result",
          "data": {
            "text/html": [
              "<div>\n",
              "<style scoped>\n",
              "    .dataframe tbody tr th:only-of-type {\n",
              "        vertical-align: middle;\n",
              "    }\n",
              "\n",
              "    .dataframe tbody tr th {\n",
              "        vertical-align: top;\n",
              "    }\n",
              "\n",
              "    .dataframe thead th {\n",
              "        text-align: right;\n",
              "    }\n",
              "</style>\n",
              "<table border=\"1\" class=\"dataframe\">\n",
              "  <thead>\n",
              "    <tr style=\"text-align: right;\">\n",
              "      <th></th>\n",
              "      <th>author-id</th>\n",
              "      <th>lang</th>\n",
              "      <th>type</th>\n",
              "    </tr>\n",
              "  </thead>\n",
              "  <tbody>\n",
              "    <tr>\n",
              "      <th>0</th>\n",
              "      <td>f2973063f16c0698a6de86c55b5f9ad6</td>\n",
              "      <td>en</td>\n",
              "      <td>0.6</td>\n",
              "    </tr>\n",
              "    <tr>\n",
              "      <th>1</th>\n",
              "      <td>be71e41921653e523aceb555727b61c7</td>\n",
              "      <td>en</td>\n",
              "      <td>0.4</td>\n",
              "    </tr>\n",
              "    <tr>\n",
              "      <th>2</th>\n",
              "      <td>d0235c3e74f79298fc2b6d2427c2060b</td>\n",
              "      <td>en</td>\n",
              "      <td>0.2</td>\n",
              "    </tr>\n",
              "    <tr>\n",
              "      <th>3</th>\n",
              "      <td>314d4bf068314367bc83dc5ae3757e13</td>\n",
              "      <td>en</td>\n",
              "      <td>0.6</td>\n",
              "    </tr>\n",
              "    <tr>\n",
              "      <th>4</th>\n",
              "      <td>fdd27881da241cff7115c1e89caba6dd</td>\n",
              "      <td>en</td>\n",
              "      <td>0.6</td>\n",
              "    </tr>\n",
              "  </tbody>\n",
              "</table>\n",
              "</div>"
            ],
            "text/plain": [
              "                          author-id lang  type\n",
              "0  f2973063f16c0698a6de86c55b5f9ad6   en   0.6\n",
              "1  be71e41921653e523aceb555727b61c7   en   0.4\n",
              "2  d0235c3e74f79298fc2b6d2427c2060b   en   0.2\n",
              "3  314d4bf068314367bc83dc5ae3757e13   en   0.6\n",
              "4  fdd27881da241cff7115c1e89caba6dd   en   0.6"
            ]
          },
          "metadata": {
            "tags": []
          },
          "execution_count": 45
        }
      ]
    },
    {
      "cell_type": "code",
      "metadata": {
        "id": "xjGPiNabLDkn"
      },
      "source": [
        "test_last4\n",
        "test_last4['type'].where(test_last4['type']>0.5,1,inplace=True)\n",
        "test_last4['type'].where(test_last4['type']<0.5,0,inplace=True)\n"
      ],
      "execution_count": 50,
      "outputs": []
    },
    {
      "cell_type": "code",
      "metadata": {
        "id": "mbHhXEAnLxQX"
      },
      "source": [
        "test_last4['type']=test_last4['type'].astype(int)"
      ],
      "execution_count": 52,
      "outputs": []
    },
    {
      "cell_type": "code",
      "metadata": {
        "id": "XIdChCfUOL75"
      },
      "source": [
        "if os.path.isdir('output'):\n",
        "  !rm -rf output\n",
        "  !mkdir output\n",
        "  !rm talha.zip\n",
        "else:\n",
        "  !mkdir output"
      ],
      "execution_count": 53,
      "outputs": []
    },
    {
      "cell_type": "code",
      "metadata": {
        "id": "zvFjkD0GCjrJ"
      },
      "source": [
        "import pandas as pd\n",
        "df=test_last4.copy()\n",
        "import pandas as pd\n",
        "for row in df.index:\n",
        "    xml = []\n",
        "    xml.append('<author id=\"{}\"'.format(df.loc[row,'author-id']))\n",
        "    xml.append('lang=\"{}\"'.format(df.loc[row,'lang']))\n",
        "    xml.append('type=\"{}\"'.format(df.loc[row,'type']))\n",
        "    xml.append('/>')\n",
        "    x='\\n'.join(xml)\n",
        "    myfile = open(\"output/{}.xml\".format(df.loc[row,'author-id']), \"w\")\n",
        "    myfile.write(x)\n",
        "    myfile.close()\n",
        "    "
      ],
      "execution_count": 55,
      "outputs": []
    },
    {
      "cell_type": "code",
      "metadata": {
        "id": "-IdSq-2GOVzu"
      },
      "source": [
        "%%capture\n",
        "!zip -r talha.zip output"
      ],
      "execution_count": 56,
      "outputs": []
    },
    {
      "cell_type": "code",
      "metadata": {
        "id": "-kkZ4BNlPNjH"
      },
      "source": [
        ""
      ],
      "execution_count": null,
      "outputs": []
    }
  ]
}