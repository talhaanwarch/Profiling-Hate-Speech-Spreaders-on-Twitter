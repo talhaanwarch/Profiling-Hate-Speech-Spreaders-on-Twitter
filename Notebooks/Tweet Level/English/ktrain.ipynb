{
  "nbformat": 4,
  "nbformat_minor": 0,
  "metadata": {
    "accelerator": "GPU",
    "colab": {
      "name": "ktrain.ipynb",
      "provenance": [],
      "collapsed_sections": [],
      "include_colab_link": true
    },
    "kernelspec": {
      "display_name": "Python 3",
      "language": "python",
      "name": "python3"
    },
    "language_info": {
      "codemirror_mode": {
        "name": "ipython",
        "version": 3
      },
      "file_extension": ".py",
      "mimetype": "text/x-python",
      "name": "python",
      "nbconvert_exporter": "python",
      "pygments_lexer": "ipython3",
      "version": "3.8.5"
    }
  },
  "cells": [
    {
      "cell_type": "markdown",
      "metadata": {
        "id": "view-in-github",
        "colab_type": "text"
      },
      "source": [
        "<a href=\"https://colab.research.google.com/github/talhaanwarch/Profiling-Hate-Speech-Spreaders-on-Twitter/blob/main/ktrain.ipynb\" target=\"_parent\"><img src=\"https://colab.research.google.com/assets/colab-badge.svg\" alt=\"Open In Colab\"/></a>"
      ]
    },
    {
      "cell_type": "code",
      "metadata": {
        "colab": {
          "base_uri": "https://localhost:8080/"
        },
        "id": "nUUMksNxDZuV",
        "outputId": "ba6a31c2-2b93-49cf-8f13-8959b4b2d5e6"
      },
      "source": [
        "!nvidia-smi -L"
      ],
      "execution_count": 1,
      "outputs": [
        {
          "output_type": "stream",
          "text": [
            "GPU 0: Tesla K80 (UUID: GPU-6e247b23-2bb3-e804-d578-5c965005fd37)\n"
          ],
          "name": "stdout"
        }
      ]
    },
    {
      "cell_type": "markdown",
      "metadata": {
        "id": "P-3gL08E2izB"
      },
      "source": [
        "#install pacakges"
      ]
    },
    {
      "cell_type": "code",
      "metadata": {
        "id": "c2cGYHg52jwF"
      },
      "source": [
        "%%capture\n",
        "!pip install ktrain\n"
      ],
      "execution_count": 6,
      "outputs": []
    },
    {
      "cell_type": "markdown",
      "metadata": {
        "id": "tbFVgzDJ2tkN"
      },
      "source": [
        "# download data"
      ]
    },
    {
      "cell_type": "code",
      "metadata": {
        "id": "sLK8NbVADmwP",
        "colab": {
          "base_uri": "https://localhost:8080/"
        },
        "outputId": "201de73b-a7e7-4d0a-a4b6-31d49ce3b7e3"
      },
      "source": [
        "import os\n",
        "if os.path.isdir('/content/Profiling-Hate-Speech-Spreaders-on-Twitter') is False:\n",
        "    !git clone https://github.com/talhaanwarch/Profiling-Hate-Speech-Spreaders-on-Twitter.git"
      ],
      "execution_count": 3,
      "outputs": [
        {
          "output_type": "stream",
          "text": [
            "Cloning into 'Profiling-Hate-Speech-Spreaders-on-Twitter'...\n",
            "remote: Enumerating objects: 86, done.\u001b[K\n",
            "remote: Counting objects: 100% (86/86), done.\u001b[K\n",
            "remote: Compressing objects: 100% (67/67), done.\u001b[K\n",
            "remote: Total 86 (delta 24), reused 30 (delta 7), pack-reused 0\u001b[K\n",
            "Unpacking objects: 100% (86/86), done.\n"
          ],
          "name": "stdout"
        }
      ]
    },
    {
      "cell_type": "code",
      "metadata": {
        "id": "jN_Br5YebG05"
      },
      "source": [
        "with open('pass.txt','r') as f:\n",
        "  pas=f.read()"
      ],
      "execution_count": 7,
      "outputs": []
    },
    {
      "cell_type": "code",
      "metadata": {
        "id": "xWClrObg1m3o"
      },
      "source": [
        "import zipfile\n",
        "if os.path.isdir('train') is False:\n",
        "  train_path='/content/Profiling-Hate-Speech-Spreaders-on-Twitter/data/train.zip'\n",
        "  with zipfile.ZipFile(train_path,\"r\") as zip_ref:\n",
        "    zip_ref.extractall(\".\",pwd = bytes(pas,'utf-8'))\n",
        "if os.path.isdir('test') is False:\n",
        "  test_path='/content/Profiling-Hate-Speech-Spreaders-on-Twitter/data/test.zip'\n",
        "  with zipfile.ZipFile(test_path,\"r\") as zip_ref:\n",
        "    zip_ref.extractall(\".\",pwd = bytes(pas,'utf-8'))"
      ],
      "execution_count": 8,
      "outputs": []
    },
    {
      "cell_type": "markdown",
      "metadata": {
        "id": "o0x1BkHU2vGa"
      },
      "source": [
        "# prepare data"
      ]
    },
    {
      "cell_type": "code",
      "metadata": {
        "id": "uFzbJ_gC1EJw"
      },
      "source": [
        "import pandas as pd\n",
        "import numpy as np\n",
        "import matplotlib.pyplot as plt\n",
        "from sklearn.metrics import classification_report\n",
        "df=pd.read_csv('train/en/truth.txt',sep=':::',header=None,engine='python')\n",
        "df.columns=['id','label']"
      ],
      "execution_count": 35,
      "outputs": []
    },
    {
      "cell_type": "code",
      "metadata": {
        "colab": {
          "base_uri": "https://localhost:8080/"
        },
        "id": "3ROlQoSB7Yh_",
        "outputId": "06b26741-c659-4041-f0a1-d5679d38bb1b"
      },
      "source": [
        "df.label.value_counts()"
      ],
      "execution_count": 10,
      "outputs": [
        {
          "output_type": "execute_result",
          "data": {
            "text/plain": [
              "1    100\n",
              "0    100\n",
              "Name: label, dtype: int64"
            ]
          },
          "metadata": {
            "tags": []
          },
          "execution_count": 10
        }
      ]
    },
    {
      "cell_type": "code",
      "metadata": {
        "colab": {
          "base_uri": "https://localhost:8080/"
        },
        "id": "v_JM-_us1LS7",
        "outputId": "54a283db-17fa-46b5-a8af-49e56c6a866c"
      },
      "source": [
        "import nltk\n",
        "from nltk.corpus import stopwords\n",
        "from nltk.stem import WordNetLemmatizer\n",
        "nltk.download('wordnet')\n",
        "nltk.download('stopwords')\n",
        "lemmatizer = WordNetLemmatizer()\n",
        "w_tokenizer = nltk.tokenize.WhitespaceTokenizer()\n",
        "stop = stopwords.words('english')"
      ],
      "execution_count": 11,
      "outputs": [
        {
          "output_type": "stream",
          "text": [
            "[nltk_data] Downloading package wordnet to /root/nltk_data...\n",
            "[nltk_data]   Unzipping corpora/wordnet.zip.\n",
            "[nltk_data] Downloading package stopwords to /root/nltk_data...\n",
            "[nltk_data]   Unzipping corpora/stopwords.zip.\n"
          ],
          "name": "stdout"
        }
      ]
    },
    {
      "cell_type": "code",
      "metadata": {
        "id": "yEBoiYus1-q3"
      },
      "source": [
        "def preprocessing(text):\n",
        "    text=text.str.replace('\\d+', '')\n",
        "    text=text.str.replace('RT','')\n",
        "    text=text.str.replace('#USER#','')\n",
        "    text=text.str.replace('#URL#','')\n",
        "    text= text.str.lower()\n",
        "    text = text.str.replace('[^\\w\\s]','')\n",
        "    #text = text.apply(lambda x : [lemmatizer.lemmatize(y) for y in w_tokenizer.tokenize(x)])\n",
        "    #text = text.apply(lambda x: [item for item in x if item not in stop])\n",
        "    #text = text.apply(lambda x : \" \".join(x))\n",
        "    return text"
      ],
      "execution_count": 12,
      "outputs": []
    },
    {
      "cell_type": "code",
      "metadata": {
        "colab": {
          "base_uri": "https://localhost:8080/",
          "height": 202
        },
        "id": "KuCfiRvP2AEC",
        "outputId": "72ea9a96-59ed-4b5d-8842-d526bf4926cf"
      },
      "source": [
        "df.id='train/en/'+df.id.astype(str)+'.xml'\n",
        "df.head()"
      ],
      "execution_count": 13,
      "outputs": [
        {
          "output_type": "execute_result",
          "data": {
            "text/html": [
              "<div>\n",
              "<style scoped>\n",
              "    .dataframe tbody tr th:only-of-type {\n",
              "        vertical-align: middle;\n",
              "    }\n",
              "\n",
              "    .dataframe tbody tr th {\n",
              "        vertical-align: top;\n",
              "    }\n",
              "\n",
              "    .dataframe thead th {\n",
              "        text-align: right;\n",
              "    }\n",
              "</style>\n",
              "<table border=\"1\" class=\"dataframe\">\n",
              "  <thead>\n",
              "    <tr style=\"text-align: right;\">\n",
              "      <th></th>\n",
              "      <th>id</th>\n",
              "      <th>label</th>\n",
              "    </tr>\n",
              "  </thead>\n",
              "  <tbody>\n",
              "    <tr>\n",
              "      <th>0</th>\n",
              "      <td>train/en/639b8e5e6a527d494c85d8f5704b1a01.xml</td>\n",
              "      <td>0</td>\n",
              "    </tr>\n",
              "    <tr>\n",
              "      <th>1</th>\n",
              "      <td>train/en/f2b1fc84c500c38a93522efbd422b559.xml</td>\n",
              "      <td>0</td>\n",
              "    </tr>\n",
              "    <tr>\n",
              "      <th>2</th>\n",
              "      <td>train/en/10b2d013382e1fb3c9414ea28329f258.xml</td>\n",
              "      <td>0</td>\n",
              "    </tr>\n",
              "    <tr>\n",
              "      <th>3</th>\n",
              "      <td>train/en/26644d1348fc1122e8c5ef45d6bc84fa.xml</td>\n",
              "      <td>0</td>\n",
              "    </tr>\n",
              "    <tr>\n",
              "      <th>4</th>\n",
              "      <td>train/en/4d4c5dcbfe38d0d33a0d1b1419952ca8.xml</td>\n",
              "      <td>0</td>\n",
              "    </tr>\n",
              "  </tbody>\n",
              "</table>\n",
              "</div>"
            ],
            "text/plain": [
              "                                              id  label\n",
              "0  train/en/639b8e5e6a527d494c85d8f5704b1a01.xml      0\n",
              "1  train/en/f2b1fc84c500c38a93522efbd422b559.xml      0\n",
              "2  train/en/10b2d013382e1fb3c9414ea28329f258.xml      0\n",
              "3  train/en/26644d1348fc1122e8c5ef45d6bc84fa.xml      0\n",
              "4  train/en/4d4c5dcbfe38d0d33a0d1b1419952ca8.xml      0"
            ]
          },
          "metadata": {
            "tags": []
          },
          "execution_count": 13
        }
      ]
    },
    {
      "cell_type": "code",
      "metadata": {
        "colab": {
          "base_uri": "https://localhost:8080/"
        },
        "id": "WALZdHXd2BSE",
        "outputId": "f23e86a6-96ba-4161-bf02-dd7c89729e31"
      },
      "source": [
        "len(df)"
      ],
      "execution_count": 14,
      "outputs": [
        {
          "output_type": "execute_result",
          "data": {
            "text/plain": [
              "200"
            ]
          },
          "metadata": {
            "tags": []
          },
          "execution_count": 14
        }
      ]
    },
    {
      "cell_type": "code",
      "metadata": {
        "id": "LuY7kaIJ2C4G"
      },
      "source": [
        "import xml.etree.ElementTree as ET\n",
        "def reader(df,ground=True):\n",
        "  data=[]\n",
        "  for x in df.iterrows():\n",
        "      \n",
        "      tree = ET.parse(x[1].id)\n",
        "      root = tree.getroot()\n",
        "      text=[x.text for x in root[0]]\n",
        "      if ground:\n",
        "        label=[x[1].label]*len(text)\n",
        "        data.append(pd.DataFrame(zip(text,label),columns=['text','label']))\n",
        "      else:\n",
        "        data.append(pd.DataFrame(text,columns=['text']))\n",
        "  return data"
      ],
      "execution_count": 15,
      "outputs": []
    },
    {
      "cell_type": "code",
      "metadata": {
        "id": "hNrFeS0n-HIv"
      },
      "source": [
        "data=reader(df)"
      ],
      "execution_count": 16,
      "outputs": []
    },
    {
      "cell_type": "code",
      "metadata": {
        "colab": {
          "base_uri": "https://localhost:8080/",
          "height": 202
        },
        "id": "pdcFOycQ2Etp",
        "outputId": "c6d7a09a-43e1-4d95-94d8-cd6a755f1e37"
      },
      "source": [
        "data[0].head()"
      ],
      "execution_count": 17,
      "outputs": [
        {
          "output_type": "execute_result",
          "data": {
            "text/html": [
              "<div>\n",
              "<style scoped>\n",
              "    .dataframe tbody tr th:only-of-type {\n",
              "        vertical-align: middle;\n",
              "    }\n",
              "\n",
              "    .dataframe tbody tr th {\n",
              "        vertical-align: top;\n",
              "    }\n",
              "\n",
              "    .dataframe thead th {\n",
              "        text-align: right;\n",
              "    }\n",
              "</style>\n",
              "<table border=\"1\" class=\"dataframe\">\n",
              "  <thead>\n",
              "    <tr style=\"text-align: right;\">\n",
              "      <th></th>\n",
              "      <th>text</th>\n",
              "      <th>label</th>\n",
              "    </tr>\n",
              "  </thead>\n",
              "  <tbody>\n",
              "    <tr>\n",
              "      <th>0</th>\n",
              "      <td>RT #USER#: Funny how “15 days to slow the spre...</td>\n",
              "      <td>0</td>\n",
              "    </tr>\n",
              "    <tr>\n",
              "      <th>1</th>\n",
              "      <td>RT #USER#: Why did Minneapolis just give Georg...</td>\n",
              "      <td>0</td>\n",
              "    </tr>\n",
              "    <tr>\n",
              "      <th>2</th>\n",
              "      <td>RT #USER#: To be fair, he has done a lot of un...</td>\n",
              "      <td>0</td>\n",
              "    </tr>\n",
              "    <tr>\n",
              "      <th>3</th>\n",
              "      <td>RT #USER#: President Trump got us the #HASHTAG...</td>\n",
              "      <td>0</td>\n",
              "    </tr>\n",
              "    <tr>\n",
              "      <th>4</th>\n",
              "      <td>RT #USER#: Is the case against former officer ...</td>\n",
              "      <td>0</td>\n",
              "    </tr>\n",
              "  </tbody>\n",
              "</table>\n",
              "</div>"
            ],
            "text/plain": [
              "                                                text  label\n",
              "0  RT #USER#: Funny how “15 days to slow the spre...      0\n",
              "1  RT #USER#: Why did Minneapolis just give Georg...      0\n",
              "2  RT #USER#: To be fair, he has done a lot of un...      0\n",
              "3  RT #USER#: President Trump got us the #HASHTAG...      0\n",
              "4  RT #USER#: Is the case against former officer ...      0"
            ]
          },
          "metadata": {
            "tags": []
          },
          "execution_count": 17
        }
      ]
    },
    {
      "cell_type": "code",
      "metadata": {
        "id": "0Ud9XpD-bXLe",
        "colab": {
          "base_uri": "https://localhost:8080/"
        },
        "outputId": "418dccae-71bb-4c29-b109-20f5843c7033"
      },
      "source": [
        "len(data),len(data[0])"
      ],
      "execution_count": 18,
      "outputs": [
        {
          "output_type": "execute_result",
          "data": {
            "text/plain": [
              "(200, 200)"
            ]
          },
          "metadata": {
            "tags": []
          },
          "execution_count": 18
        }
      ]
    },
    {
      "cell_type": "code",
      "metadata": {
        "id": "GSgaPkAg2OF8"
      },
      "source": [
        "from sklearn.model_selection import train_test_split\n",
        "trainx,valx=train_test_split(data,test_size=0.1,)\n",
        "trainx,testx=train_test_split(trainx,test_size=0.1)"
      ],
      "execution_count": 19,
      "outputs": []
    },
    {
      "cell_type": "code",
      "metadata": {
        "id": "mk96relW2PRD"
      },
      "source": [
        "train=pd.concat(trainx)\n",
        "val=pd.concat(valx)\n",
        "test=pd.concat(testx)"
      ],
      "execution_count": 20,
      "outputs": []
    },
    {
      "cell_type": "code",
      "metadata": {
        "colab": {
          "base_uri": "https://localhost:8080/"
        },
        "id": "I7a_y_qE7fmI",
        "outputId": "e4a21255-bba6-4068-c1bb-81c1559d7ace"
      },
      "source": [
        "train.label.value_counts()"
      ],
      "execution_count": 21,
      "outputs": [
        {
          "output_type": "execute_result",
          "data": {
            "text/plain": [
              "1    16600\n",
              "0    15800\n",
              "Name: label, dtype: int64"
            ]
          },
          "metadata": {
            "tags": []
          },
          "execution_count": 21
        }
      ]
    },
    {
      "cell_type": "code",
      "metadata": {
        "colab": {
          "base_uri": "https://localhost:8080/"
        },
        "id": "yraTWqd87hRv",
        "outputId": "da2c774f-a415-4f96-d59a-3158b36dda76"
      },
      "source": [
        "val.label.value_counts()"
      ],
      "execution_count": 22,
      "outputs": [
        {
          "output_type": "execute_result",
          "data": {
            "text/plain": [
              "0    2400\n",
              "1    1600\n",
              "Name: label, dtype: int64"
            ]
          },
          "metadata": {
            "tags": []
          },
          "execution_count": 22
        }
      ]
    },
    {
      "cell_type": "code",
      "metadata": {
        "colab": {
          "base_uri": "https://localhost:8080/"
        },
        "id": "WYvHxg70M4g4",
        "outputId": "c1071825-822b-4b18-83e5-5ce02ee1f5ea"
      },
      "source": [
        "test.label.value_counts()"
      ],
      "execution_count": 23,
      "outputs": [
        {
          "output_type": "execute_result",
          "data": {
            "text/plain": [
              "1    1800\n",
              "0    1800\n",
              "Name: label, dtype: int64"
            ]
          },
          "metadata": {
            "tags": []
          },
          "execution_count": 23
        }
      ]
    },
    {
      "cell_type": "code",
      "metadata": {
        "id": "h1p-euCS2R0D"
      },
      "source": [
        "train.text=preprocessing(train.text)\n",
        "val.text=preprocessing(val.text)\n",
        "test.text=preprocessing(test.text)"
      ],
      "execution_count": 24,
      "outputs": []
    },
    {
      "cell_type": "code",
      "metadata": {
        "colab": {
          "base_uri": "https://localhost:8080/"
        },
        "id": "qg6DdpMb2V4V",
        "outputId": "47c79529-235e-48e0-85af-7c26c0433da0"
      },
      "source": [
        "len(train),len(val),len(test)"
      ],
      "execution_count": 25,
      "outputs": [
        {
          "output_type": "execute_result",
          "data": {
            "text/plain": [
              "(32400, 4000, 3600)"
            ]
          },
          "metadata": {
            "tags": []
          },
          "execution_count": 25
        }
      ]
    },
    {
      "cell_type": "code",
      "metadata": {
        "id": "-SIpEYeU2XCM"
      },
      "source": [
        "train = train.sample(frac=1).reset_index(drop=True)\n",
        "val = val.sample(frac=1).reset_index(drop=True)\n",
        "test = test.sample(frac=1).reset_index(drop=True)\n"
      ],
      "execution_count": 26,
      "outputs": []
    },
    {
      "cell_type": "code",
      "metadata": {
        "id": "A-dl1yDs4DWZ"
      },
      "source": [
        "train_text=train.text.values\n",
        "train_label=train.label.values\n",
        "val_text=val.text.values\n",
        "val_label=val.label.values\n",
        "test_text=test.text.values\n",
        "test_label=test.label.values"
      ],
      "execution_count": 27,
      "outputs": []
    },
    {
      "cell_type": "markdown",
      "metadata": {
        "id": "uk_kXqTk20rp"
      },
      "source": [
        "# classify data"
      ]
    },
    {
      "cell_type": "code",
      "metadata": {
        "id": "tgH0ZF4z2YVw",
        "colab": {
          "base_uri": "https://localhost:8080/",
          "height": 713
        },
        "outputId": "95db8174-5a5d-4d5c-a964-8c0ee2bb30fa"
      },
      "source": [
        "from sklearn.model_selection import StratifiedKFold\n",
        "from ktrain import text\n",
        "import ktrain\n",
        "MODEL_NAME = 'bert-base-uncased'\n",
        "t = text.Transformer(MODEL_NAME, maxlen=20,classes=[1,0])\n",
        "trn = t.preprocess_train(train_text, train_label)\n",
        "tst = t.preprocess_test(val_text, val_label)\n",
        "model = t.get_classifier()\n",
        "learner = ktrain.get_learner(model, train_data=trn, val_data=tst, batch_size=16)\n",
        "learner.fit_onecycle(0.00001, 5) \n",
        "print(learner.validate(class_names=t.get_classes()))"
      ],
      "execution_count": 30,
      "outputs": [
        {
          "output_type": "stream",
          "text": [
            "/usr/local/lib/python3.7/dist-packages/ktrain/text/preprocessor.py:414: UserWarning: The class_names argument is replacing the classes argument. Please update your code.\n",
            "  warnings.warn('The class_names argument is replacing the classes argument. Please update your code.')\n"
          ],
          "name": "stderr"
        },
        {
          "output_type": "stream",
          "text": [
            "preprocessing train...\n",
            "language: en\n",
            "train sequence lengths:\n",
            "\tmean : 10\n",
            "\t95percentile : 20\n",
            "\t99percentile : 24\n"
          ],
          "name": "stdout"
        },
        {
          "output_type": "display_data",
          "data": {
            "text/html": [
              ""
            ],
            "text/plain": [
              "<IPython.core.display.HTML object>"
            ]
          },
          "metadata": {
            "tags": []
          }
        },
        {
          "output_type": "stream",
          "text": [
            "Is Multi-Label? False\n",
            "preprocessing test...\n",
            "language: en\n",
            "test sequence lengths:\n",
            "\tmean : 10\n",
            "\t95percentile : 20\n",
            "\t99percentile : 24\n"
          ],
          "name": "stdout"
        },
        {
          "output_type": "display_data",
          "data": {
            "text/html": [
              ""
            ],
            "text/plain": [
              "<IPython.core.display.HTML object>"
            ]
          },
          "metadata": {
            "tags": []
          }
        },
        {
          "output_type": "stream",
          "text": [
            "\n",
            "\n",
            "begin training using onecycle policy with max lr of 1e-05...\n",
            "Epoch 1/5\n",
            "2025/2025 [==============================] - 449s 209ms/step - loss: 0.6843 - accuracy: 0.5444 - val_loss: 0.7108 - val_accuracy: 0.5063\n",
            "Epoch 2/5\n",
            "2025/2025 [==============================] - 433s 210ms/step - loss: 0.6478 - accuracy: 0.6115 - val_loss: 0.7050 - val_accuracy: 0.5197\n",
            "Epoch 3/5\n",
            "2025/2025 [==============================] - 430s 208ms/step - loss: 0.5887 - accuracy: 0.6736 - val_loss: 0.7878 - val_accuracy: 0.4910\n",
            "Epoch 4/5\n",
            "2025/2025 [==============================] - 430s 208ms/step - loss: 0.4593 - accuracy: 0.7752 - val_loss: 1.0284 - val_accuracy: 0.4798\n",
            "Epoch 5/5\n",
            "2025/2025 [==============================] - 430s 208ms/step - loss: 0.3278 - accuracy: 0.8550 - val_loss: 1.2204 - val_accuracy: 0.4925\n",
            "              precision    recall  f1-score   support\n",
            "\n",
            "           1       0.61      0.43      0.50      2400\n",
            "           0       0.41      0.59      0.48      1600\n",
            "\n",
            "    accuracy                           0.49      4000\n",
            "   macro avg       0.51      0.51      0.49      4000\n",
            "weighted avg       0.53      0.49      0.49      4000\n",
            "\n",
            "[[1028 1372]\n",
            " [ 658  942]]\n"
          ],
          "name": "stdout"
        }
      ]
    },
    {
      "cell_type": "code",
      "metadata": {
        "id": "eYlZNVk33DVP",
        "colab": {
          "base_uri": "https://localhost:8080/",
          "height": 277
        },
        "outputId": "d3a09887-7f74-4bd9-cd9d-383759e92eb2"
      },
      "source": [
        "val = t.preprocess_test(val_text, val_label)\n",
        "\n",
        "val_pred = learner.predict(val)\n",
        "print(classification_report(val_label,np.argmax(val_pred,axis=1)))"
      ],
      "execution_count": 41,
      "outputs": [
        {
          "output_type": "stream",
          "text": [
            "preprocessing test...\n",
            "language: en\n",
            "test sequence lengths:\n",
            "\tmean : 10\n",
            "\t95percentile : 20\n",
            "\t99percentile : 24\n"
          ],
          "name": "stdout"
        },
        {
          "output_type": "display_data",
          "data": {
            "text/html": [
              ""
            ],
            "text/plain": [
              "<IPython.core.display.HTML object>"
            ]
          },
          "metadata": {
            "tags": []
          }
        },
        {
          "output_type": "stream",
          "text": [
            "              precision    recall  f1-score   support\n",
            "\n",
            "           0       0.61      0.43      0.50      2400\n",
            "           1       0.41      0.59      0.48      1600\n",
            "\n",
            "    accuracy                           0.49      4000\n",
            "   macro avg       0.51      0.51      0.49      4000\n",
            "weighted avg       0.53      0.49      0.49      4000\n",
            "\n"
          ],
          "name": "stdout"
        }
      ]
    },
    {
      "cell_type": "code",
      "metadata": {
        "colab": {
          "base_uri": "https://localhost:8080/",
          "height": 277
        },
        "id": "Q11WxfgBoSwt",
        "outputId": "ae3931fb-0363-4f6a-c1b9-5a26fae31db1"
      },
      "source": [
        "test = t.preprocess_test(test_text, test_label)\n",
        "\n",
        "val_pred = learner.predict(test)\n",
        "print(classification_report(test_label,np.argmax(val_pred,axis=1)))"
      ],
      "execution_count": 42,
      "outputs": [
        {
          "output_type": "stream",
          "text": [
            "preprocessing test...\n",
            "language: en\n",
            "test sequence lengths:\n",
            "\tmean : 11\n",
            "\t95percentile : 20\n",
            "\t99percentile : 24\n"
          ],
          "name": "stdout"
        },
        {
          "output_type": "display_data",
          "data": {
            "text/html": [
              ""
            ],
            "text/plain": [
              "<IPython.core.display.HTML object>"
            ]
          },
          "metadata": {
            "tags": []
          }
        },
        {
          "output_type": "stream",
          "text": [
            "              precision    recall  f1-score   support\n",
            "\n",
            "           0       0.54      0.44      0.49      1800\n",
            "           1       0.53      0.63      0.57      1800\n",
            "\n",
            "    accuracy                           0.53      3600\n",
            "   macro avg       0.54      0.53      0.53      3600\n",
            "weighted avg       0.54      0.53      0.53      3600\n",
            "\n"
          ],
          "name": "stdout"
        }
      ]
    },
    {
      "cell_type": "markdown",
      "metadata": {
        "id": "Y1EWGo0t7n8G"
      },
      "source": [
        "# validation"
      ]
    },
    {
      "cell_type": "code",
      "metadata": {
        "id": "XGPkVhKC7siY"
      },
      "source": [
        "preds,trues=[],[]\n",
        "for i in valx:\n",
        "  pred=list(clf.predict(i.text.values,verbose=0))\n",
        "  preds.append(max(pred,key=pred.count))\n",
        "  trues.append(int(np.mean(i.label)))\n",
        "print(classification_report(trues,preds))  "
      ],
      "execution_count": null,
      "outputs": []
    },
    {
      "cell_type": "code",
      "metadata": {
        "id": "ylQrGABMQntt"
      },
      "source": [
        "preds,trues=[],[]\n",
        "for i in testx:\n",
        "  pred=list(clf.predict(i.text.values,verbose=0))\n",
        "  preds.append(max(pred,key=pred.count))\n",
        "  trues.append(int(np.mean(i.label)))\n",
        "print(classification_report(trues,preds))  "
      ],
      "execution_count": null,
      "outputs": []
    },
    {
      "cell_type": "code",
      "metadata": {
        "id": "kkWZ5-DM9IIg"
      },
      "source": [
        ""
      ],
      "execution_count": null,
      "outputs": []
    },
    {
      "cell_type": "markdown",
      "metadata": {
        "id": "A02JBOHW9KnI"
      },
      "source": [
        "# test evaluation"
      ]
    },
    {
      "cell_type": "code",
      "metadata": {
        "colab": {
          "base_uri": "https://localhost:8080/",
          "height": 199
        },
        "id": "ildaHkYH9vc-",
        "outputId": "dde5971c-1bb2-4143-b0f6-abfcb7c47d55"
      },
      "source": [
        "from glob import glob\n",
        "test_path=pd.DataFrame(glob('test/en/*.xml'),columns=['id'])\n",
        "test_path.head()"
      ],
      "execution_count": null,
      "outputs": [
        {
          "output_type": "execute_result",
          "data": {
            "text/html": [
              "<div>\n",
              "<style scoped>\n",
              "    .dataframe tbody tr th:only-of-type {\n",
              "        vertical-align: middle;\n",
              "    }\n",
              "\n",
              "    .dataframe tbody tr th {\n",
              "        vertical-align: top;\n",
              "    }\n",
              "\n",
              "    .dataframe thead th {\n",
              "        text-align: right;\n",
              "    }\n",
              "</style>\n",
              "<table border=\"1\" class=\"dataframe\">\n",
              "  <thead>\n",
              "    <tr style=\"text-align: right;\">\n",
              "      <th></th>\n",
              "      <th>id</th>\n",
              "    </tr>\n",
              "  </thead>\n",
              "  <tbody>\n",
              "    <tr>\n",
              "      <th>0</th>\n",
              "      <td>test/en/f2973063f16c0698a6de86c55b5f9ad6.xml</td>\n",
              "    </tr>\n",
              "    <tr>\n",
              "      <th>1</th>\n",
              "      <td>test/en/be71e41921653e523aceb555727b61c7.xml</td>\n",
              "    </tr>\n",
              "    <tr>\n",
              "      <th>2</th>\n",
              "      <td>test/en/d0235c3e74f79298fc2b6d2427c2060b.xml</td>\n",
              "    </tr>\n",
              "    <tr>\n",
              "      <th>3</th>\n",
              "      <td>test/en/314d4bf068314367bc83dc5ae3757e13.xml</td>\n",
              "    </tr>\n",
              "    <tr>\n",
              "      <th>4</th>\n",
              "      <td>test/en/fdd27881da241cff7115c1e89caba6dd.xml</td>\n",
              "    </tr>\n",
              "  </tbody>\n",
              "</table>\n",
              "</div>"
            ],
            "text/plain": [
              "                                             id\n",
              "0  test/en/f2973063f16c0698a6de86c55b5f9ad6.xml\n",
              "1  test/en/be71e41921653e523aceb555727b61c7.xml\n",
              "2  test/en/d0235c3e74f79298fc2b6d2427c2060b.xml\n",
              "3  test/en/314d4bf068314367bc83dc5ae3757e13.xml\n",
              "4  test/en/fdd27881da241cff7115c1e89caba6dd.xml"
            ]
          },
          "metadata": {
            "tags": []
          },
          "execution_count": 31
        }
      ]
    },
    {
      "cell_type": "code",
      "metadata": {
        "id": "TYjA9k_x92My"
      },
      "source": [
        "test=reader(test_path,ground=False)"
      ],
      "execution_count": null,
      "outputs": []
    },
    {
      "cell_type": "code",
      "metadata": {
        "colab": {
          "base_uri": "https://localhost:8080/",
          "height": 199
        },
        "id": "-YpUwKah-x7s",
        "outputId": "173e35c4-7d64-4d47-d678-5806f23c71c4"
      },
      "source": [
        "test[0].head()"
      ],
      "execution_count": null,
      "outputs": [
        {
          "output_type": "execute_result",
          "data": {
            "text/html": [
              "<div>\n",
              "<style scoped>\n",
              "    .dataframe tbody tr th:only-of-type {\n",
              "        vertical-align: middle;\n",
              "    }\n",
              "\n",
              "    .dataframe tbody tr th {\n",
              "        vertical-align: top;\n",
              "    }\n",
              "\n",
              "    .dataframe thead th {\n",
              "        text-align: right;\n",
              "    }\n",
              "</style>\n",
              "<table border=\"1\" class=\"dataframe\">\n",
              "  <thead>\n",
              "    <tr style=\"text-align: right;\">\n",
              "      <th></th>\n",
              "      <th>text</th>\n",
              "    </tr>\n",
              "  </thead>\n",
              "  <tbody>\n",
              "    <tr>\n",
              "      <th>0</th>\n",
              "      <td>#USER# I'm so sorry 😞...</td>\n",
              "    </tr>\n",
              "    <tr>\n",
              "      <th>1</th>\n",
              "      <td>#USER# #USER# That is correct.</td>\n",
              "    </tr>\n",
              "    <tr>\n",
              "      <th>2</th>\n",
              "      <td>RT #USER#: The legitimate President of the Uni...</td>\n",
              "    </tr>\n",
              "    <tr>\n",
              "      <th>3</th>\n",
              "      <td>#USER# #USER# #USER# Texas AG is suing the Bid...</td>\n",
              "    </tr>\n",
              "    <tr>\n",
              "      <th>4</th>\n",
              "      <td>#USER# In Jesus Holy Name. Soon the entire wor...</td>\n",
              "    </tr>\n",
              "  </tbody>\n",
              "</table>\n",
              "</div>"
            ],
            "text/plain": [
              "                                                text\n",
              "0                           #USER# I'm so sorry 😞...\n",
              "1                     #USER# #USER# That is correct.\n",
              "2  RT #USER#: The legitimate President of the Uni...\n",
              "3  #USER# #USER# #USER# Texas AG is suing the Bid...\n",
              "4  #USER# In Jesus Holy Name. Soon the entire wor..."
            ]
          },
          "metadata": {
            "tags": []
          },
          "execution_count": 33
        }
      ]
    },
    {
      "cell_type": "code",
      "metadata": {
        "id": "rK4_8WBh_Lfm"
      },
      "source": [
        "final_preds=[]\n",
        "for i in range(len(test)):\n",
        "  test[i].text=preprocessing(test[i].text)\n",
        "  pred=list(clf.predict(test[i].text.values,verbose=0))\n",
        "  final_preds.append(int(max(pred,key=pred.count)))\n"
      ],
      "execution_count": null,
      "outputs": []
    },
    {
      "cell_type": "code",
      "metadata": {
        "id": "mgeyO-a0A6HC"
      },
      "source": [
        "len(final_preds),len(test_path)"
      ],
      "execution_count": null,
      "outputs": []
    },
    {
      "cell_type": "code",
      "metadata": {
        "id": "7f3ExLYZBJ7x"
      },
      "source": [
        "ids=test_path.id.apply(lambda x:x.split('/')[-1].split('.')[0])"
      ],
      "execution_count": null,
      "outputs": []
    },
    {
      "cell_type": "code",
      "metadata": {
        "id": "YCXd3YbNCFrr"
      },
      "source": [
        "lang=['en']*len(test_path)"
      ],
      "execution_count": null,
      "outputs": []
    },
    {
      "cell_type": "code",
      "metadata": {
        "id": "BT2LWN14BO-w"
      },
      "source": [
        "final=pd.DataFrame(zip(ids,lang,final_preds),columns=['author-id','lang','type'])\n",
        "final.head()"
      ],
      "execution_count": null,
      "outputs": []
    },
    {
      "cell_type": "code",
      "metadata": {
        "id": "GlxkLUpXB-lO"
      },
      "source": [
        ""
      ],
      "execution_count": null,
      "outputs": []
    }
  ]
}