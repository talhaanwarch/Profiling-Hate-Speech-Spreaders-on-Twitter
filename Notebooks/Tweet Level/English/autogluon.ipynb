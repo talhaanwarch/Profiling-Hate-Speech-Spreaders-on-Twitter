{
 "cells": [
  {
   "cell_type": "markdown",
   "metadata": {
    "colab_type": "text",
    "id": "view-in-github"
   },
   "source": [
    "<a href=\"https://colab.research.google.com/github/talhaanwarch/Profiling-Hate-Speech-Spreaders-on-Twitter/blob/main/en_ag.ipynb\" target=\"_parent\"><img src=\"https://colab.research.google.com/assets/colab-badge.svg\" alt=\"Open In Colab\"/></a>"
   ]
  },
  {
   "cell_type": "code",
   "execution_count": 1,
   "metadata": {
    "colab": {
     "base_uri": "https://localhost:8080/"
    },
    "id": "nUUMksNxDZuV",
    "outputId": "76f9626b-bf39-4a26-b465-15cec05142b9"
   },
   "outputs": [
    {
     "name": "stdout",
     "output_type": "stream",
     "text": [
      "GPU 0: Tesla T4 (UUID: GPU-9e1e8645-7bac-544b-fbd9-9ed4776ccc99)\n"
     ]
    }
   ],
   "source": [
    "!nvidia-smi -L"
   ]
  },
  {
   "cell_type": "markdown",
   "metadata": {
    "id": "P-3gL08E2izB"
   },
   "source": [
    "#install pacakges"
   ]
  },
  {
   "cell_type": "code",
   "execution_count": 2,
   "metadata": {
    "id": "c2cGYHg52jwF"
   },
   "outputs": [],
   "source": [
    "%%capture\n",
    "!python3 -m pip install -U pip\n",
    "!python3 -m pip install -U setuptools wheel\n",
    "!python3 -m pip install -U \"mxnet_cu110<2.0.0\"\n",
    "!python3 -m pip install autogluon"
   ]
  },
  {
   "cell_type": "markdown",
   "metadata": {
    "id": "tbFVgzDJ2tkN"
   },
   "source": [
    "# download data"
   ]
  },
  {
   "cell_type": "code",
   "execution_count": 3,
   "metadata": {
    "id": "sLK8NbVADmwP"
   },
   "outputs": [],
   "source": [
    "import os\n",
    "if os.path.isdir('/content/Profiling-Hate-Speech-Spreaders-on-Twitter') is False:\n",
    "    !git clone https://github.com/talhaanwarch/Profiling-Hate-Speech-Spreaders-on-Twitter.git"
   ]
  },
  {
   "cell_type": "code",
   "execution_count": 4,
   "metadata": {
    "id": "xWClrObg1m3o"
   },
   "outputs": [],
   "source": [
    "%%capture \n",
    "if os.path.isdir('train') is False:\n",
    "  !unzip /content/Profiling-Hate-Speech-Spreaders-on-Twitter/data/train.zip\n",
    "if os.path.isdir('test') is False:\n",
    "  !unzip /content/Profiling-Hate-Speech-Spreaders-on-Twitter/data/test.zip"
   ]
  },
  {
   "cell_type": "markdown",
   "metadata": {
    "id": "o0x1BkHU2vGa"
   },
   "source": [
    "# prepare data"
   ]
  },
  {
   "cell_type": "code",
   "execution_count": 5,
   "metadata": {
    "id": "uFzbJ_gC1EJw"
   },
   "outputs": [],
   "source": [
    "import pandas as pd\n",
    "import numpy as np\n",
    "import matplotlib.pyplot as plt\n",
    "df=pd.read_csv('train/en/truth.txt',sep=':::',header=None,engine='python')\n",
    "df.columns=['id','label']"
   ]
  },
  {
   "cell_type": "code",
   "execution_count": 6,
   "metadata": {
    "colab": {
     "base_uri": "https://localhost:8080/"
    },
    "id": "3ROlQoSB7Yh_",
    "outputId": "d47a94ef-ac7c-4ad9-f03c-7fb339b3f6b3"
   },
   "outputs": [
    {
     "data": {
      "text/plain": [
       "1    100\n",
       "0    100\n",
       "Name: label, dtype: int64"
      ]
     },
     "execution_count": 6,
     "metadata": {
      "tags": []
     },
     "output_type": "execute_result"
    }
   ],
   "source": [
    "df.label.value_counts()"
   ]
  },
  {
   "cell_type": "code",
   "execution_count": 7,
   "metadata": {
    "colab": {
     "base_uri": "https://localhost:8080/"
    },
    "id": "v_JM-_us1LS7",
    "outputId": "abccc69e-c7ed-407a-d666-98c90329c321"
   },
   "outputs": [
    {
     "name": "stdout",
     "output_type": "stream",
     "text": [
      "[nltk_data] Downloading package wordnet to /root/nltk_data...\n",
      "[nltk_data]   Package wordnet is already up-to-date!\n",
      "[nltk_data] Downloading package stopwords to /root/nltk_data...\n",
      "[nltk_data]   Package stopwords is already up-to-date!\n"
     ]
    }
   ],
   "source": [
    "import nltk\n",
    "from nltk.corpus import stopwords\n",
    "from nltk.stem import WordNetLemmatizer\n",
    "nltk.download('wordnet')\n",
    "nltk.download('stopwords')\n",
    "lemmatizer = WordNetLemmatizer()\n",
    "w_tokenizer = nltk.tokenize.WhitespaceTokenizer()\n",
    "stop = stopwords.words('english')"
   ]
  },
  {
   "cell_type": "code",
   "execution_count": 8,
   "metadata": {
    "id": "yEBoiYus1-q3"
   },
   "outputs": [],
   "source": [
    "def preprocessing(text):\n",
    "    text=text.str.replace('\\d+', '')\n",
    "    text=text.str.replace('RT','')\n",
    "    text=text.str.replace('#USER#','')\n",
    "    text=text.str.replace('#URL#','')\n",
    "    text= text.str.lower()\n",
    "    text = text.str.replace('[^\\w\\s]','')\n",
    "    text = text.apply(lambda x : [lemmatizer.lemmatize(y) for y in w_tokenizer.tokenize(x)])\n",
    "    text = text.apply(lambda x: [item for item in x if item not in stop])\n",
    "    text = text.apply(lambda x : \" \".join(x))\n",
    "    return text"
   ]
  },
  {
   "cell_type": "code",
   "execution_count": 9,
   "metadata": {
    "colab": {
     "base_uri": "https://localhost:8080/",
     "height": 199
    },
    "id": "KuCfiRvP2AEC",
    "outputId": "db2c1e27-3fc1-4cad-96de-50ab5a622a68"
   },
   "outputs": [
    {
     "data": {
      "text/html": [
       "<div>\n",
       "<style scoped>\n",
       "    .dataframe tbody tr th:only-of-type {\n",
       "        vertical-align: middle;\n",
       "    }\n",
       "\n",
       "    .dataframe tbody tr th {\n",
       "        vertical-align: top;\n",
       "    }\n",
       "\n",
       "    .dataframe thead th {\n",
       "        text-align: right;\n",
       "    }\n",
       "</style>\n",
       "<table border=\"1\" class=\"dataframe\">\n",
       "  <thead>\n",
       "    <tr style=\"text-align: right;\">\n",
       "      <th></th>\n",
       "      <th>id</th>\n",
       "      <th>label</th>\n",
       "    </tr>\n",
       "  </thead>\n",
       "  <tbody>\n",
       "    <tr>\n",
       "      <th>0</th>\n",
       "      <td>train/en/639b8e5e6a527d494c85d8f5704b1a01.xml</td>\n",
       "      <td>0</td>\n",
       "    </tr>\n",
       "    <tr>\n",
       "      <th>1</th>\n",
       "      <td>train/en/f2b1fc84c500c38a93522efbd422b559.xml</td>\n",
       "      <td>0</td>\n",
       "    </tr>\n",
       "    <tr>\n",
       "      <th>2</th>\n",
       "      <td>train/en/10b2d013382e1fb3c9414ea28329f258.xml</td>\n",
       "      <td>0</td>\n",
       "    </tr>\n",
       "    <tr>\n",
       "      <th>3</th>\n",
       "      <td>train/en/26644d1348fc1122e8c5ef45d6bc84fa.xml</td>\n",
       "      <td>0</td>\n",
       "    </tr>\n",
       "    <tr>\n",
       "      <th>4</th>\n",
       "      <td>train/en/4d4c5dcbfe38d0d33a0d1b1419952ca8.xml</td>\n",
       "      <td>0</td>\n",
       "    </tr>\n",
       "  </tbody>\n",
       "</table>\n",
       "</div>"
      ],
      "text/plain": [
       "                                              id  label\n",
       "0  train/en/639b8e5e6a527d494c85d8f5704b1a01.xml      0\n",
       "1  train/en/f2b1fc84c500c38a93522efbd422b559.xml      0\n",
       "2  train/en/10b2d013382e1fb3c9414ea28329f258.xml      0\n",
       "3  train/en/26644d1348fc1122e8c5ef45d6bc84fa.xml      0\n",
       "4  train/en/4d4c5dcbfe38d0d33a0d1b1419952ca8.xml      0"
      ]
     },
     "execution_count": 9,
     "metadata": {
      "tags": []
     },
     "output_type": "execute_result"
    }
   ],
   "source": [
    "df.id='train/en/'+df.id.astype(str)+'.xml'\n",
    "df.head()"
   ]
  },
  {
   "cell_type": "code",
   "execution_count": 10,
   "metadata": {
    "colab": {
     "base_uri": "https://localhost:8080/"
    },
    "id": "WALZdHXd2BSE",
    "outputId": "3da396db-b8c6-460d-ca70-71bafc23b466"
   },
   "outputs": [
    {
     "data": {
      "text/plain": [
       "200"
      ]
     },
     "execution_count": 10,
     "metadata": {
      "tags": []
     },
     "output_type": "execute_result"
    }
   ],
   "source": [
    "len(df)"
   ]
  },
  {
   "cell_type": "code",
   "execution_count": 11,
   "metadata": {
    "id": "LuY7kaIJ2C4G"
   },
   "outputs": [],
   "source": [
    "import xml.etree.ElementTree as ET\n",
    "def reader(df,ground=True):\n",
    "  data=[]\n",
    "  for x in df.iterrows():\n",
    "      \n",
    "      tree = ET.parse(x[1].id)\n",
    "      root = tree.getroot()\n",
    "      text=[x.text for x in root[0]]\n",
    "      if ground:\n",
    "        label=[x[1].label]*len(text)\n",
    "        data.append(pd.DataFrame(zip(text,label),columns=['text','label']))\n",
    "      else:\n",
    "        data.append(pd.DataFrame(text,columns=['text']))\n",
    "  return data"
   ]
  },
  {
   "cell_type": "code",
   "execution_count": 12,
   "metadata": {
    "id": "hNrFeS0n-HIv"
   },
   "outputs": [],
   "source": [
    "data=reader(df)"
   ]
  },
  {
   "cell_type": "code",
   "execution_count": 13,
   "metadata": {
    "colab": {
     "base_uri": "https://localhost:8080/",
     "height": 199
    },
    "id": "pdcFOycQ2Etp",
    "outputId": "deb10a57-da90-4d88-a018-5df844dae9c8"
   },
   "outputs": [
    {
     "data": {
      "text/html": [
       "<div>\n",
       "<style scoped>\n",
       "    .dataframe tbody tr th:only-of-type {\n",
       "        vertical-align: middle;\n",
       "    }\n",
       "\n",
       "    .dataframe tbody tr th {\n",
       "        vertical-align: top;\n",
       "    }\n",
       "\n",
       "    .dataframe thead th {\n",
       "        text-align: right;\n",
       "    }\n",
       "</style>\n",
       "<table border=\"1\" class=\"dataframe\">\n",
       "  <thead>\n",
       "    <tr style=\"text-align: right;\">\n",
       "      <th></th>\n",
       "      <th>text</th>\n",
       "      <th>label</th>\n",
       "    </tr>\n",
       "  </thead>\n",
       "  <tbody>\n",
       "    <tr>\n",
       "      <th>0</th>\n",
       "      <td>RT #USER#: Funny how “15 days to slow the spre...</td>\n",
       "      <td>0</td>\n",
       "    </tr>\n",
       "    <tr>\n",
       "      <th>1</th>\n",
       "      <td>RT #USER#: Why did Minneapolis just give Georg...</td>\n",
       "      <td>0</td>\n",
       "    </tr>\n",
       "    <tr>\n",
       "      <th>2</th>\n",
       "      <td>RT #USER#: To be fair, he has done a lot of un...</td>\n",
       "      <td>0</td>\n",
       "    </tr>\n",
       "    <tr>\n",
       "      <th>3</th>\n",
       "      <td>RT #USER#: President Trump got us the #HASHTAG...</td>\n",
       "      <td>0</td>\n",
       "    </tr>\n",
       "    <tr>\n",
       "      <th>4</th>\n",
       "      <td>RT #USER#: Is the case against former officer ...</td>\n",
       "      <td>0</td>\n",
       "    </tr>\n",
       "  </tbody>\n",
       "</table>\n",
       "</div>"
      ],
      "text/plain": [
       "                                                text  label\n",
       "0  RT #USER#: Funny how “15 days to slow the spre...      0\n",
       "1  RT #USER#: Why did Minneapolis just give Georg...      0\n",
       "2  RT #USER#: To be fair, he has done a lot of un...      0\n",
       "3  RT #USER#: President Trump got us the #HASHTAG...      0\n",
       "4  RT #USER#: Is the case against former officer ...      0"
      ]
     },
     "execution_count": 13,
     "metadata": {
      "tags": []
     },
     "output_type": "execute_result"
    }
   ],
   "source": [
    "data[0].head()"
   ]
  },
  {
   "cell_type": "code",
   "execution_count": 14,
   "metadata": {
    "id": "GSgaPkAg2OF8"
   },
   "outputs": [],
   "source": [
    "from sklearn.model_selection import train_test_split\n",
    "trainx,valx=train_test_split(data,test_size=0.1,shuffle=True)\n",
    "trainx,testx=train_test_split(trainx,test_size=0.1,shuffle=True)"
   ]
  },
  {
   "cell_type": "code",
   "execution_count": 15,
   "metadata": {
    "id": "mk96relW2PRD"
   },
   "outputs": [],
   "source": [
    "train=pd.concat(trainx)\n",
    "val=pd.concat(valx)\n",
    "test=pd.concat(testx)"
   ]
  },
  {
   "cell_type": "code",
   "execution_count": 16,
   "metadata": {
    "colab": {
     "base_uri": "https://localhost:8080/"
    },
    "id": "I7a_y_qE7fmI",
    "outputId": "6c886ac8-ddde-470b-af5f-0447c973c6e7"
   },
   "outputs": [
    {
     "data": {
      "text/plain": [
       "1    16400\n",
       "0    16000\n",
       "Name: label, dtype: int64"
      ]
     },
     "execution_count": 16,
     "metadata": {
      "tags": []
     },
     "output_type": "execute_result"
    }
   ],
   "source": [
    "train.label.value_counts()"
   ]
  },
  {
   "cell_type": "code",
   "execution_count": 17,
   "metadata": {
    "colab": {
     "base_uri": "https://localhost:8080/"
    },
    "id": "yraTWqd87hRv",
    "outputId": "cea2c708-3c58-4cf0-a567-a14d883e3744"
   },
   "outputs": [
    {
     "data": {
      "text/plain": [
       "0    2600\n",
       "1    1400\n",
       "Name: label, dtype: int64"
      ]
     },
     "execution_count": 17,
     "metadata": {
      "tags": []
     },
     "output_type": "execute_result"
    }
   ],
   "source": [
    "val.label.value_counts()"
   ]
  },
  {
   "cell_type": "code",
   "execution_count": 18,
   "metadata": {
    "colab": {
     "base_uri": "https://localhost:8080/"
    },
    "id": "1ek8_NzPMIKp",
    "outputId": "7eb10bc3-d2e7-490a-d43d-bc9940a7649a"
   },
   "outputs": [
    {
     "data": {
      "text/plain": [
       "1    2200\n",
       "0    1400\n",
       "Name: label, dtype: int64"
      ]
     },
     "execution_count": 18,
     "metadata": {
      "tags": []
     },
     "output_type": "execute_result"
    }
   ],
   "source": [
    "test.label.value_counts()"
   ]
  },
  {
   "cell_type": "code",
   "execution_count": 19,
   "metadata": {
    "id": "h1p-euCS2R0D"
   },
   "outputs": [],
   "source": [
    "train.text=preprocessing(train.text)\n",
    "val.text=preprocessing(val.text)\n",
    "test.text=preprocessing(test.text)"
   ]
  },
  {
   "cell_type": "code",
   "execution_count": 20,
   "metadata": {
    "colab": {
     "base_uri": "https://localhost:8080/"
    },
    "id": "qg6DdpMb2V4V",
    "outputId": "6f2d81e9-139d-4ce0-bf18-709807f1d2a9"
   },
   "outputs": [
    {
     "data": {
      "text/plain": [
       "(32400, 4000, 3600)"
      ]
     },
     "execution_count": 20,
     "metadata": {
      "tags": []
     },
     "output_type": "execute_result"
    }
   ],
   "source": [
    "len(train),len(val),len(test)"
   ]
  },
  {
   "cell_type": "code",
   "execution_count": 21,
   "metadata": {
    "id": "A-dl1yDs4DWZ"
   },
   "outputs": [],
   "source": [
    "train = train.sample(frac=1).reset_index(drop=True)\n",
    "val = val.sample(frac=1).reset_index(drop=True)\n",
    "test = test.sample(frac=1).reset_index(drop=True)\n"
   ]
  },
  {
   "cell_type": "code",
   "execution_count": 22,
   "metadata": {
    "id": "-SIpEYeU2XCM"
   },
   "outputs": [],
   "source": [
    "train_text=train.text\n",
    "train_label=train.label\n",
    "val_text=val.text\n",
    "val_label=val.label\n",
    "test_text=test.text\n",
    "test_label=test.label"
   ]
  },
  {
   "cell_type": "code",
   "execution_count": 23,
   "metadata": {
    "colab": {
     "base_uri": "https://localhost:8080/",
     "height": 199
    },
    "id": "x-oBt8AcGj90",
    "outputId": "e4d9df44-cd90-4ee0-af30-fd147957989a"
   },
   "outputs": [
    {
     "data": {
      "text/html": [
       "<div>\n",
       "<style scoped>\n",
       "    .dataframe tbody tr th:only-of-type {\n",
       "        vertical-align: middle;\n",
       "    }\n",
       "\n",
       "    .dataframe tbody tr th {\n",
       "        vertical-align: top;\n",
       "    }\n",
       "\n",
       "    .dataframe thead th {\n",
       "        text-align: right;\n",
       "    }\n",
       "</style>\n",
       "<table border=\"1\" class=\"dataframe\">\n",
       "  <thead>\n",
       "    <tr style=\"text-align: right;\">\n",
       "      <th></th>\n",
       "      <th>text</th>\n",
       "      <th>label</th>\n",
       "    </tr>\n",
       "  </thead>\n",
       "  <tbody>\n",
       "    <tr>\n",
       "      <th>0</th>\n",
       "      <td>objective damn autocorrect</td>\n",
       "      <td>0</td>\n",
       "    </tr>\n",
       "    <tr>\n",
       "      <th>1</th>\n",
       "      <td>second amendment ha nothing hunting</td>\n",
       "      <td>0</td>\n",
       "    </tr>\n",
       "    <tr>\n",
       "      <th>2</th>\n",
       "      <td>new york cityyyyy</td>\n",
       "      <td>0</td>\n",
       "    </tr>\n",
       "    <tr>\n",
       "      <th>3</th>\n",
       "      <td>somebody said think crazy wait till mf turn st...</td>\n",
       "      <td>1</td>\n",
       "    </tr>\n",
       "    <tr>\n",
       "      <th>4</th>\n",
       "      <td>think stucky stuck stupid</td>\n",
       "      <td>1</td>\n",
       "    </tr>\n",
       "  </tbody>\n",
       "</table>\n",
       "</div>"
      ],
      "text/plain": [
       "                                                text  label\n",
       "0                         objective damn autocorrect      0\n",
       "1                second amendment ha nothing hunting      0\n",
       "2                                  new york cityyyyy      0\n",
       "3  somebody said think crazy wait till mf turn st...      1\n",
       "4                          think stucky stuck stupid      1"
      ]
     },
     "execution_count": 23,
     "metadata": {
      "tags": []
     },
     "output_type": "execute_result"
    }
   ],
   "source": [
    "train.head()"
   ]
  },
  {
   "cell_type": "markdown",
   "metadata": {
    "id": "uk_kXqTk20rp"
   },
   "source": [
    "# classify data"
   ]
  },
  {
   "cell_type": "code",
   "execution_count": 24,
   "metadata": {
    "colab": {
     "base_uri": "https://localhost:8080/",
     "height": 702
    },
    "id": "tgH0ZF4z2YVw",
    "outputId": "ef9a61d4-1c45-4ae9-d51a-4b19278d354c"
   },
   "outputs": [
    {
     "name": "stderr",
     "output_type": "stream",
     "text": [
      "INFO:root:NumPy-shape semantics has been activated in your code. This is required for creating and manipulating scalar and zero-size tensors, which were not supported in MXNet before, as in the official NumPy library. Please DO NOT manually deactivate this semantics while using `mxnet.numpy` and `mxnet.numpy_extension` modules.\n",
      "INFO:autogluon.text.text_prediction.mx.models:The GluonNLP V0 backend is used. We will use 2 cpus and 1 gpus to train each trial.\n"
     ]
    },
    {
     "name": "stdout",
     "output_type": "stream",
     "text": [
      "All Logs will be saved to /content/AutogluonModels/ag-20210601_105826/task0/training.log\n"
     ]
    },
    {
     "name": "stderr",
     "output_type": "stream",
     "text": [
      "INFO:root:Fitting and transforming the train data...\n",
      "INFO:root:Done! Preprocessor saved to /content/AutogluonModels/ag-20210601_105826/task0/preprocessor.pkl\n",
      "INFO:root:Process dev set...\n",
      "INFO:root:Done!\n",
      "INFO:root:Max length for chunking text: 64, Stochastic chunk: Train-False/Test-False, Test #repeat: 1.\n",
      "INFO:root:#Total Params/Fixed Params=108990466/0\n",
      "Level 15:root:Using gradient accumulation. Global batch size = 128\n",
      "INFO:root:Local training results will be saved to /content/AutogluonModels/ag-20210601_105826/task0/results_local.jsonl.\n",
      "Level 15:root:[Iter 13/2540, Epoch 0] train loss=7.84e-01, gnorm=5.76e+00, lr=5.12e-06, #samples processed=1664, #sample per second=130.34. ETA=41.36min\n",
      "Level 15:root:[Iter 26/2540, Epoch 0] train loss=7.76e-01, gnorm=7.95e+00, lr=1.02e-05, #samples processed=1664, #sample per second=139.74. ETA=39.77min\n",
      "Level 15:root:[Iter 39/2540, Epoch 0] train loss=7.43e-01, gnorm=3.02e+00, lr=1.54e-05, #samples processed=1664, #sample per second=137.12. ETA=39.35min\n",
      "Level 25:root:[Iter 51/2540, Epoch 0] valid f1=5.0825e-01, mcc=8.5665e-02, roc_auc=5.9103e-01, accuracy=4.6350e-01, log_loss=7.1969e-01, time spent=7.607s, total time spent=0.98min. Find new best=True, Find new top-3=True\n",
      "Level 15:root:[Iter 52/2540, Epoch 0] train loss=7.25e-01, gnorm=3.16e+00, lr=2.05e-05, #samples processed=1664, #sample per second=73.00. ETA=47.54min\n",
      "Level 15:root:[Iter 65/2540, Epoch 0] train loss=7.05e-01, gnorm=1.08e+01, lr=2.56e-05, #samples processed=1664, #sample per second=137.15. ETA=45.53min\n",
      "Level 15:root:[Iter 78/2540, Epoch 0] train loss=7.06e-01, gnorm=3.66e+00, lr=3.07e-05, #samples processed=1664, #sample per second=137.07. ETA=44.13min\n",
      "Level 15:root:[Iter 91/2540, Epoch 0] train loss=6.99e-01, gnorm=1.27e+00, lr=3.58e-05, #samples processed=1664, #sample per second=137.16. ETA=43.07min\n",
      "Level 25:root:[Iter 102/2540, Epoch 0] valid f1=5.1372e-01, mcc=-2.1606e-02, roc_auc=5.9563e-01, accuracy=3.5300e-01, log_loss=7.9914e-01, time spent=7.537s, total time spent=1.91min. Find new best=False, Find new top-3=True\n"
     ]
    },
    {
     "data": {
      "image/png": "[encoded data removed]",
      "text/plain": [
       "<Figure size 432x288 with 1 Axes>"
      ]
     },
     "metadata": {
      "needs_background": "light",
      "tags": []
     },
     "output_type": "display_data"
    },
    {
     "name": "stderr",
     "output_type": "stream",
     "text": [
      "INFO:root:Training completed. Auto-saving to \"AutogluonModels/ag-20210601_105826/\". For loading the model, you can use `predictor = TextPredictor.load(\"AutogluonModels/ag-20210601_105826/\")`\n"
     ]
    },
    {
     "data": {
      "text/plain": [
       "<autogluon.text.text_prediction.predictor.predictor.TextPredictor at 0x7f4e3b5da790>"
      ]
     },
     "execution_count": 24,
     "metadata": {
      "tags": []
     },
     "output_type": "execute_result"
    }
   ],
   "source": [
    "from autogluon.text import TextPredictor\n",
    "\n",
    "predictor = TextPredictor(label='label', eval_metric='acc', )\n",
    "predictor.fit(train,tuning_data=val)"
   ]
  },
  {
   "cell_type": "code",
   "execution_count": 25,
   "metadata": {
    "colab": {
     "base_uri": "https://localhost:8080/"
    },
    "id": "eYlZNVk33DVP",
    "outputId": "d1a47219-ee82-4fd0-c7ed-6f3b237d63dc"
   },
   "outputs": [
    {
     "name": "stdout",
     "output_type": "stream",
     "text": [
      "Accuracy = 39.30%\n"
     ]
    }
   ],
   "source": [
    "val_score = predictor.evaluate(val)\n",
    "print('Accuracy = {:.2f}%'.format(val_score * 100))"
   ]
  },
  {
   "cell_type": "code",
   "execution_count": 26,
   "metadata": {
    "colab": {
     "base_uri": "https://localhost:8080/"
    },
    "id": "HZq0HoVsNpJb",
    "outputId": "7b317ca6-7d12-4cc0-cb07-a2cfbc10c71f"
   },
   "outputs": [
    {
     "name": "stdout",
     "output_type": "stream",
     "text": [
      "Accuracy = 62.67%\n"
     ]
    }
   ],
   "source": [
    "test_score = predictor.evaluate(test)\n",
    "print('Accuracy = {:.2f}%'.format(test_score * 100))"
   ]
  },
  {
   "cell_type": "code",
   "execution_count": 26,
   "metadata": {
    "id": "q-Y9vFOf52kY"
   },
   "outputs": [],
   "source": []
  },
  {
   "cell_type": "code",
   "execution_count": 27,
   "metadata": {
    "colab": {
     "base_uri": "https://localhost:8080/"
    },
    "id": "uSbGG_6N6Ond",
    "outputId": "03cbe59e-4f17-47df-edbd-03d663b1e9b3"
   },
   "outputs": [
    {
     "name": "stdout",
     "output_type": "stream",
     "text": [
      "              precision    recall  f1-score   support\n",
      "\n",
      "           0       0.73      0.11      0.19      2600\n",
      "           1       0.36      0.93      0.52      1400\n",
      "\n",
      "    accuracy                           0.39      4000\n",
      "   macro avg       0.54      0.52      0.35      4000\n",
      "weighted avg       0.60      0.39      0.30      4000\n",
      "\n"
     ]
    }
   ],
   "source": [
    "from sklearn.metrics import classification_report\n",
    "pred=predictor.predict(pd.DataFrame(val_text,columns=['text']))\n",
    "print(classification_report(val_label,pred))"
   ]
  },
  {
   "cell_type": "code",
   "execution_count": 28,
   "metadata": {
    "colab": {
     "base_uri": "https://localhost:8080/"
    },
    "id": "QDq8Et-bN7MF",
    "outputId": "dbdd0c32-d271-4134-a66e-83f43f734d30"
   },
   "outputs": [
    {
     "name": "stdout",
     "output_type": "stream",
     "text": [
      "              precision    recall  f1-score   support\n",
      "\n",
      "           0       0.59      0.14      0.22      1400\n",
      "           1       0.63      0.94      0.75      2200\n",
      "\n",
      "    accuracy                           0.63      3600\n",
      "   macro avg       0.61      0.54      0.49      3600\n",
      "weighted avg       0.61      0.63      0.55      3600\n",
      "\n"
     ]
    }
   ],
   "source": [
    "pred=predictor.predict(pd.DataFrame(test_text,columns=['text']))\n",
    "print(classification_report(test_label,pred))"
   ]
  },
  {
   "cell_type": "markdown",
   "metadata": {
    "id": "Y1EWGo0t7n8G"
   },
   "source": [
    "# validation"
   ]
  },
  {
   "cell_type": "code",
   "execution_count": 29,
   "metadata": {
    "colab": {
     "base_uri": "https://localhost:8080/"
    },
    "id": "XGPkVhKC7siY",
    "outputId": "157596bc-4f0e-451e-a1e0-8a4d2994343e"
   },
   "outputs": [
    {
     "name": "stdout",
     "output_type": "stream",
     "text": [
      "              precision    recall  f1-score   support\n",
      "\n",
      "           0       0.80      0.31      0.44        13\n",
      "           1       0.40      0.86      0.55         7\n",
      "\n",
      "    accuracy                           0.50        20\n",
      "   macro avg       0.60      0.58      0.49        20\n",
      "weighted avg       0.66      0.50      0.48        20\n",
      "\n"
     ]
    }
   ],
   "source": [
    "preds,trues=[],[]\n",
    "for i in valx:\n",
    "  pred=list(predictor.predict(pd.DataFrame(i.text,columns=['text'])))\n",
    "  preds.append(max(pred,key=pred.count))\n",
    "  trues.append(int(np.mean(i.label)))\n",
    "print(classification_report(trues,preds))  "
   ]
  },
  {
   "cell_type": "code",
   "execution_count": null,
   "metadata": {
    "id": "Xeg8Bz-V8Aiz"
   },
   "outputs": [],
   "source": [
    "preds,trues=[],[]\n",
    "for i in testx:\n",
    "  pred=list(predictor.predict(pd.DataFrame(i.text,columns=['text'])))\n",
    "  preds.append(max(pred,key=pred.count))\n",
    "  trues.append(int(np.mean(i.label)))\n",
    "print(classification_report(trues,preds))  "
   ]
  },
  {
   "cell_type": "code",
   "execution_count": null,
   "metadata": {
    "id": "kkWZ5-DM9IIg"
   },
   "outputs": [],
   "source": []
  },
  {
   "cell_type": "markdown",
   "metadata": {
    "id": "A02JBOHW9KnI"
   },
   "source": [
    "# test evaluation"
   ]
  },
  {
   "cell_type": "code",
   "execution_count": null,
   "metadata": {
    "id": "ildaHkYH9vc-"
   },
   "outputs": [],
   "source": [
    "from glob import glob\n",
    "test_path=pd.DataFrame(glob('test/en/*.xml'),columns=['id'])\n",
    "test_path.head()"
   ]
  },
  {
   "cell_type": "code",
   "execution_count": null,
   "metadata": {
    "id": "r7RfSAiL-nPS"
   },
   "outputs": [],
   "source": []
  },
  {
   "cell_type": "code",
   "execution_count": null,
   "metadata": {
    "id": "TYjA9k_x92My"
   },
   "outputs": [],
   "source": [
    "test=reader(test_path,ground=False)"
   ]
  },
  {
   "cell_type": "code",
   "execution_count": null,
   "metadata": {
    "id": "-YpUwKah-x7s"
   },
   "outputs": [],
   "source": [
    "test[0].head()"
   ]
  },
  {
   "cell_type": "code",
   "execution_count": null,
   "metadata": {
    "id": "rK4_8WBh_Lfm"
   },
   "outputs": [],
   "source": [
    "final_preds=[]\n",
    "for i in range(len(test)):\n",
    "  test[i].text=preprocessing(test[i].text)\n",
    "  pred=list(predictor.predict(test[i]))\n",
    "  final_preds.append(max(pred,key=pred.count))\n"
   ]
  },
  {
   "cell_type": "code",
   "execution_count": null,
   "metadata": {
    "id": "mgeyO-a0A6HC"
   },
   "outputs": [],
   "source": [
    "len(final_preds),len(test_path)"
   ]
  },
  {
   "cell_type": "code",
   "execution_count": null,
   "metadata": {
    "id": "7f3ExLYZBJ7x"
   },
   "outputs": [],
   "source": [
    "ids=test_path.id.apply(lambda x:x.split('/')[-1].split('.')[0])"
   ]
  },
  {
   "cell_type": "code",
   "execution_count": null,
   "metadata": {
    "id": "YCXd3YbNCFrr"
   },
   "outputs": [],
   "source": [
    "lang=['en']*len(test_path)"
   ]
  },
  {
   "cell_type": "code",
   "execution_count": null,
   "metadata": {
    "id": "BT2LWN14BO-w"
   },
   "outputs": [],
   "source": [
    "final=pd.DataFrame(zip(ids,lang,final_preds),columns=['author-id','lang','type'])\n",
    "final.head()"
   ]
  },
  {
   "cell_type": "code",
   "execution_count": null,
   "metadata": {
    "id": "GlxkLUpXB-lO"
   },
   "outputs": [],
   "source": []
  }
 ],
 "metadata": {
  "accelerator": "GPU",
  "colab": {
   "authorship_tag": "ABX9TyOIchy9RmPIzYOO3RQxrf2N",
   "collapsed_sections": [],
   "include_colab_link": true,
   "name": "en-ag.ipynb",
   "provenance": []
  },
  "kernelspec": {
   "display_name": "Python 3",
   "language": "python",
   "name": "python3"
  },
  "language_info": {
   "codemirror_mode": {
    "name": "ipython",
    "version": 3
   },
   "file_extension": ".py",
   "mimetype": "text/x-python",
   "name": "python",
   "nbconvert_exporter": "python",
   "pygments_lexer": "ipython3",
   "version": "3.8.5"
  }
 },
 "nbformat": 4,
 "nbformat_minor": 1
}
