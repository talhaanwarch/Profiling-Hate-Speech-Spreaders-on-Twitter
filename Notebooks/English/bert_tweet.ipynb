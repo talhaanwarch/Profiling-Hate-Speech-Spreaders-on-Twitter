{
  "nbformat": 4,
  "nbformat_minor": 0,
  "metadata": {
    "colab": {
      "name": "bert_tweet.ipynb",
      "provenance": [],
      "collapsed_sections": [],
      "toc_visible": true
    },
    "kernelspec": {
      "name": "python3",
      "display_name": "Python 3"
    },
    "language_info": {
      "name": "python"
    },
    "accelerator": "GPU",
    "widgets": {
      "application/vnd.jupyter.widget-state+json": {
        "8b9bce45229a4adbb6d8d2501251e312": {
          "model_module": "@jupyter-widgets/controls",
          "model_name": "HBoxModel",
          "state": {
            "_view_name": "HBoxView",
            "_dom_classes": [],
            "_model_name": "HBoxModel",
            "_view_module": "@jupyter-widgets/controls",
            "_model_module_version": "1.5.0",
            "_view_count": null,
            "_view_module_version": "1.5.0",
            "box_style": "",
            "layout": "IPY_MODEL_0dfb9d22419c4f2d9fe09a6edd93982e",
            "_model_module": "@jupyter-widgets/controls",
            "children": [
              "IPY_MODEL_21941da39377482eb63bd583c4a416fd",
              "IPY_MODEL_d706337923994a97a0a82ed3b4ac2059"
            ]
          }
        },
        "0dfb9d22419c4f2d9fe09a6edd93982e": {
          "model_module": "@jupyter-widgets/base",
          "model_name": "LayoutModel",
          "state": {
            "_view_name": "LayoutView",
            "grid_template_rows": null,
            "right": null,
            "justify_content": null,
            "_view_module": "@jupyter-widgets/base",
            "overflow": null,
            "_model_module_version": "1.2.0",
            "_view_count": null,
            "flex_flow": null,
            "width": null,
            "min_width": null,
            "border": null,
            "align_items": null,
            "bottom": null,
            "_model_module": "@jupyter-widgets/base",
            "top": null,
            "grid_column": null,
            "overflow_y": null,
            "overflow_x": null,
            "grid_auto_flow": null,
            "grid_area": null,
            "grid_template_columns": null,
            "flex": null,
            "_model_name": "LayoutModel",
            "justify_items": null,
            "grid_row": null,
            "max_height": null,
            "align_content": null,
            "visibility": null,
            "align_self": null,
            "height": null,
            "min_height": null,
            "padding": null,
            "grid_auto_rows": null,
            "grid_gap": null,
            "max_width": null,
            "order": null,
            "_view_module_version": "1.2.0",
            "grid_template_areas": null,
            "object_position": null,
            "object_fit": null,
            "grid_auto_columns": null,
            "margin": null,
            "display": null,
            "left": null
          }
        },
        "21941da39377482eb63bd583c4a416fd": {
          "model_module": "@jupyter-widgets/controls",
          "model_name": "FloatProgressModel",
          "state": {
            "_view_name": "ProgressView",
            "style": "IPY_MODEL_a2908bc1611d4272ba5ae6663337107e",
            "_dom_classes": [],
            "description": "Downloading: 100%",
            "_model_name": "FloatProgressModel",
            "bar_style": "success",
            "max": 558,
            "_view_module": "@jupyter-widgets/controls",
            "_model_module_version": "1.5.0",
            "value": 558,
            "_view_count": null,
            "_view_module_version": "1.5.0",
            "orientation": "horizontal",
            "min": 0,
            "description_tooltip": null,
            "_model_module": "@jupyter-widgets/controls",
            "layout": "IPY_MODEL_a25a077e1c6348fabea43664cac36461"
          }
        },
        "d706337923994a97a0a82ed3b4ac2059": {
          "model_module": "@jupyter-widgets/controls",
          "model_name": "HTMLModel",
          "state": {
            "_view_name": "HTMLView",
            "style": "IPY_MODEL_4978a632f6334c73b5bef44535166bf8",
            "_dom_classes": [],
            "description": "",
            "_model_name": "HTMLModel",
            "placeholder": "​",
            "_view_module": "@jupyter-widgets/controls",
            "_model_module_version": "1.5.0",
            "value": " 558/558 [00:03&lt;00:00, 183B/s]",
            "_view_count": null,
            "_view_module_version": "1.5.0",
            "description_tooltip": null,
            "_model_module": "@jupyter-widgets/controls",
            "layout": "IPY_MODEL_f07a5b9d83a04e6084879d2648b5be7a"
          }
        },
        "a2908bc1611d4272ba5ae6663337107e": {
          "model_module": "@jupyter-widgets/controls",
          "model_name": "ProgressStyleModel",
          "state": {
            "_view_name": "StyleView",
            "_model_name": "ProgressStyleModel",
            "description_width": "initial",
            "_view_module": "@jupyter-widgets/base",
            "_model_module_version": "1.5.0",
            "_view_count": null,
            "_view_module_version": "1.2.0",
            "bar_color": null,
            "_model_module": "@jupyter-widgets/controls"
          }
        },
        "a25a077e1c6348fabea43664cac36461": {
          "model_module": "@jupyter-widgets/base",
          "model_name": "LayoutModel",
          "state": {
            "_view_name": "LayoutView",
            "grid_template_rows": null,
            "right": null,
            "justify_content": null,
            "_view_module": "@jupyter-widgets/base",
            "overflow": null,
            "_model_module_version": "1.2.0",
            "_view_count": null,
            "flex_flow": null,
            "width": null,
            "min_width": null,
            "border": null,
            "align_items": null,
            "bottom": null,
            "_model_module": "@jupyter-widgets/base",
            "top": null,
            "grid_column": null,
            "overflow_y": null,
            "overflow_x": null,
            "grid_auto_flow": null,
            "grid_area": null,
            "grid_template_columns": null,
            "flex": null,
            "_model_name": "LayoutModel",
            "justify_items": null,
            "grid_row": null,
            "max_height": null,
            "align_content": null,
            "visibility": null,
            "align_self": null,
            "height": null,
            "min_height": null,
            "padding": null,
            "grid_auto_rows": null,
            "grid_gap": null,
            "max_width": null,
            "order": null,
            "_view_module_version": "1.2.0",
            "grid_template_areas": null,
            "object_position": null,
            "object_fit": null,
            "grid_auto_columns": null,
            "margin": null,
            "display": null,
            "left": null
          }
        },
        "4978a632f6334c73b5bef44535166bf8": {
          "model_module": "@jupyter-widgets/controls",
          "model_name": "DescriptionStyleModel",
          "state": {
            "_view_name": "StyleView",
            "_model_name": "DescriptionStyleModel",
            "description_width": "",
            "_view_module": "@jupyter-widgets/base",
            "_model_module_version": "1.5.0",
            "_view_count": null,
            "_view_module_version": "1.2.0",
            "_model_module": "@jupyter-widgets/controls"
          }
        },
        "f07a5b9d83a04e6084879d2648b5be7a": {
          "model_module": "@jupyter-widgets/base",
          "model_name": "LayoutModel",
          "state": {
            "_view_name": "LayoutView",
            "grid_template_rows": null,
            "right": null,
            "justify_content": null,
            "_view_module": "@jupyter-widgets/base",
            "overflow": null,
            "_model_module_version": "1.2.0",
            "_view_count": null,
            "flex_flow": null,
            "width": null,
            "min_width": null,
            "border": null,
            "align_items": null,
            "bottom": null,
            "_model_module": "@jupyter-widgets/base",
            "top": null,
            "grid_column": null,
            "overflow_y": null,
            "overflow_x": null,
            "grid_auto_flow": null,
            "grid_area": null,
            "grid_template_columns": null,
            "flex": null,
            "_model_name": "LayoutModel",
            "justify_items": null,
            "grid_row": null,
            "max_height": null,
            "align_content": null,
            "visibility": null,
            "align_self": null,
            "height": null,
            "min_height": null,
            "padding": null,
            "grid_auto_rows": null,
            "grid_gap": null,
            "max_width": null,
            "order": null,
            "_view_module_version": "1.2.0",
            "grid_template_areas": null,
            "object_position": null,
            "object_fit": null,
            "grid_auto_columns": null,
            "margin": null,
            "display": null,
            "left": null
          }
        },
        "54537adf1a4c4ce88fbabc287ff96435": {
          "model_module": "@jupyter-widgets/controls",
          "model_name": "HBoxModel",
          "state": {
            "_view_name": "HBoxView",
            "_dom_classes": [],
            "_model_name": "HBoxModel",
            "_view_module": "@jupyter-widgets/controls",
            "_model_module_version": "1.5.0",
            "_view_count": null,
            "_view_module_version": "1.5.0",
            "box_style": "",
            "layout": "IPY_MODEL_956425c91c4b49a08ddd822532fb0928",
            "_model_module": "@jupyter-widgets/controls",
            "children": [
              "IPY_MODEL_55fc6446b58d4f4c941280db7187274e",
              "IPY_MODEL_a9c1d6c565c04345b448fd34f5f3e6cd"
            ]
          }
        },
        "956425c91c4b49a08ddd822532fb0928": {
          "model_module": "@jupyter-widgets/base",
          "model_name": "LayoutModel",
          "state": {
            "_view_name": "LayoutView",
            "grid_template_rows": null,
            "right": null,
            "justify_content": null,
            "_view_module": "@jupyter-widgets/base",
            "overflow": null,
            "_model_module_version": "1.2.0",
            "_view_count": null,
            "flex_flow": null,
            "width": null,
            "min_width": null,
            "border": null,
            "align_items": null,
            "bottom": null,
            "_model_module": "@jupyter-widgets/base",
            "top": null,
            "grid_column": null,
            "overflow_y": null,
            "overflow_x": null,
            "grid_auto_flow": null,
            "grid_area": null,
            "grid_template_columns": null,
            "flex": null,
            "_model_name": "LayoutModel",
            "justify_items": null,
            "grid_row": null,
            "max_height": null,
            "align_content": null,
            "visibility": null,
            "align_self": null,
            "height": null,
            "min_height": null,
            "padding": null,
            "grid_auto_rows": null,
            "grid_gap": null,
            "max_width": null,
            "order": null,
            "_view_module_version": "1.2.0",
            "grid_template_areas": null,
            "object_position": null,
            "object_fit": null,
            "grid_auto_columns": null,
            "margin": null,
            "display": null,
            "left": null
          }
        },
        "55fc6446b58d4f4c941280db7187274e": {
          "model_module": "@jupyter-widgets/controls",
          "model_name": "FloatProgressModel",
          "state": {
            "_view_name": "ProgressView",
            "style": "IPY_MODEL_82f34d4fde694d81bf6253433711d553",
            "_dom_classes": [],
            "description": "Downloading: 100%",
            "_model_name": "FloatProgressModel",
            "bar_style": "success",
            "max": 843438,
            "_view_module": "@jupyter-widgets/controls",
            "_model_module_version": "1.5.0",
            "value": 843438,
            "_view_count": null,
            "_view_module_version": "1.5.0",
            "orientation": "horizontal",
            "min": 0,
            "description_tooltip": null,
            "_model_module": "@jupyter-widgets/controls",
            "layout": "IPY_MODEL_34f5607c222441bba5a84be0b4612b3b"
          }
        },
        "a9c1d6c565c04345b448fd34f5f3e6cd": {
          "model_module": "@jupyter-widgets/controls",
          "model_name": "HTMLModel",
          "state": {
            "_view_name": "HTMLView",
            "style": "IPY_MODEL_9f27a16b641a4d0cb1a5027ee95d54e8",
            "_dom_classes": [],
            "description": "",
            "_model_name": "HTMLModel",
            "placeholder": "​",
            "_view_module": "@jupyter-widgets/controls",
            "_model_module_version": "1.5.0",
            "value": " 843k/843k [00:02&lt;00:00, 353kB/s]",
            "_view_count": null,
            "_view_module_version": "1.5.0",
            "description_tooltip": null,
            "_model_module": "@jupyter-widgets/controls",
            "layout": "IPY_MODEL_1f510617346b42db93473885c56d26a9"
          }
        },
        "82f34d4fde694d81bf6253433711d553": {
          "model_module": "@jupyter-widgets/controls",
          "model_name": "ProgressStyleModel",
          "state": {
            "_view_name": "StyleView",
            "_model_name": "ProgressStyleModel",
            "description_width": "initial",
            "_view_module": "@jupyter-widgets/base",
            "_model_module_version": "1.5.0",
            "_view_count": null,
            "_view_module_version": "1.2.0",
            "bar_color": null,
            "_model_module": "@jupyter-widgets/controls"
          }
        },
        "34f5607c222441bba5a84be0b4612b3b": {
          "model_module": "@jupyter-widgets/base",
          "model_name": "LayoutModel",
          "state": {
            "_view_name": "LayoutView",
            "grid_template_rows": null,
            "right": null,
            "justify_content": null,
            "_view_module": "@jupyter-widgets/base",
            "overflow": null,
            "_model_module_version": "1.2.0",
            "_view_count": null,
            "flex_flow": null,
            "width": null,
            "min_width": null,
            "border": null,
            "align_items": null,
            "bottom": null,
            "_model_module": "@jupyter-widgets/base",
            "top": null,
            "grid_column": null,
            "overflow_y": null,
            "overflow_x": null,
            "grid_auto_flow": null,
            "grid_area": null,
            "grid_template_columns": null,
            "flex": null,
            "_model_name": "LayoutModel",
            "justify_items": null,
            "grid_row": null,
            "max_height": null,
            "align_content": null,
            "visibility": null,
            "align_self": null,
            "height": null,
            "min_height": null,
            "padding": null,
            "grid_auto_rows": null,
            "grid_gap": null,
            "max_width": null,
            "order": null,
            "_view_module_version": "1.2.0",
            "grid_template_areas": null,
            "object_position": null,
            "object_fit": null,
            "grid_auto_columns": null,
            "margin": null,
            "display": null,
            "left": null
          }
        },
        "9f27a16b641a4d0cb1a5027ee95d54e8": {
          "model_module": "@jupyter-widgets/controls",
          "model_name": "DescriptionStyleModel",
          "state": {
            "_view_name": "StyleView",
            "_model_name": "DescriptionStyleModel",
            "description_width": "",
            "_view_module": "@jupyter-widgets/base",
            "_model_module_version": "1.5.0",
            "_view_count": null,
            "_view_module_version": "1.2.0",
            "_model_module": "@jupyter-widgets/controls"
          }
        },
        "1f510617346b42db93473885c56d26a9": {
          "model_module": "@jupyter-widgets/base",
          "model_name": "LayoutModel",
          "state": {
            "_view_name": "LayoutView",
            "grid_template_rows": null,
            "right": null,
            "justify_content": null,
            "_view_module": "@jupyter-widgets/base",
            "overflow": null,
            "_model_module_version": "1.2.0",
            "_view_count": null,
            "flex_flow": null,
            "width": null,
            "min_width": null,
            "border": null,
            "align_items": null,
            "bottom": null,
            "_model_module": "@jupyter-widgets/base",
            "top": null,
            "grid_column": null,
            "overflow_y": null,
            "overflow_x": null,
            "grid_auto_flow": null,
            "grid_area": null,
            "grid_template_columns": null,
            "flex": null,
            "_model_name": "LayoutModel",
            "justify_items": null,
            "grid_row": null,
            "max_height": null,
            "align_content": null,
            "visibility": null,
            "align_self": null,
            "height": null,
            "min_height": null,
            "padding": null,
            "grid_auto_rows": null,
            "grid_gap": null,
            "max_width": null,
            "order": null,
            "_view_module_version": "1.2.0",
            "grid_template_areas": null,
            "object_position": null,
            "object_fit": null,
            "grid_auto_columns": null,
            "margin": null,
            "display": null,
            "left": null
          }
        },
        "a16d7be45c884feeb52ed8d3069fbb9f": {
          "model_module": "@jupyter-widgets/controls",
          "model_name": "HBoxModel",
          "state": {
            "_view_name": "HBoxView",
            "_dom_classes": [],
            "_model_name": "HBoxModel",
            "_view_module": "@jupyter-widgets/controls",
            "_model_module_version": "1.5.0",
            "_view_count": null,
            "_view_module_version": "1.5.0",
            "box_style": "",
            "layout": "IPY_MODEL_5f08fd3536c148c18c2678cd5b3cfe16",
            "_model_module": "@jupyter-widgets/controls",
            "children": [
              "IPY_MODEL_df55cbd8afa043a5bf004d3fff23f68b",
              "IPY_MODEL_c943cc8d63ed469c820c4a88ab04233b"
            ]
          }
        },
        "5f08fd3536c148c18c2678cd5b3cfe16": {
          "model_module": "@jupyter-widgets/base",
          "model_name": "LayoutModel",
          "state": {
            "_view_name": "LayoutView",
            "grid_template_rows": null,
            "right": null,
            "justify_content": null,
            "_view_module": "@jupyter-widgets/base",
            "overflow": null,
            "_model_module_version": "1.2.0",
            "_view_count": null,
            "flex_flow": null,
            "width": null,
            "min_width": null,
            "border": null,
            "align_items": null,
            "bottom": null,
            "_model_module": "@jupyter-widgets/base",
            "top": null,
            "grid_column": null,
            "overflow_y": null,
            "overflow_x": null,
            "grid_auto_flow": null,
            "grid_area": null,
            "grid_template_columns": null,
            "flex": null,
            "_model_name": "LayoutModel",
            "justify_items": null,
            "grid_row": null,
            "max_height": null,
            "align_content": null,
            "visibility": null,
            "align_self": null,
            "height": null,
            "min_height": null,
            "padding": null,
            "grid_auto_rows": null,
            "grid_gap": null,
            "max_width": null,
            "order": null,
            "_view_module_version": "1.2.0",
            "grid_template_areas": null,
            "object_position": null,
            "object_fit": null,
            "grid_auto_columns": null,
            "margin": null,
            "display": null,
            "left": null
          }
        },
        "df55cbd8afa043a5bf004d3fff23f68b": {
          "model_module": "@jupyter-widgets/controls",
          "model_name": "FloatProgressModel",
          "state": {
            "_view_name": "ProgressView",
            "style": "IPY_MODEL_c45337544c1c4ed19d3ea023e9c86851",
            "_dom_classes": [],
            "description": "Downloading: 100%",
            "_model_name": "FloatProgressModel",
            "bar_style": "success",
            "max": 1078931,
            "_view_module": "@jupyter-widgets/controls",
            "_model_module_version": "1.5.0",
            "value": 1078931,
            "_view_count": null,
            "_view_module_version": "1.5.0",
            "orientation": "horizontal",
            "min": 0,
            "description_tooltip": null,
            "_model_module": "@jupyter-widgets/controls",
            "layout": "IPY_MODEL_0826e0d8d4fc42bc83165664009b0968"
          }
        },
        "c943cc8d63ed469c820c4a88ab04233b": {
          "model_module": "@jupyter-widgets/controls",
          "model_name": "HTMLModel",
          "state": {
            "_view_name": "HTMLView",
            "style": "IPY_MODEL_c0caa9d0c528477a89ba187dda283a1c",
            "_dom_classes": [],
            "description": "",
            "_model_name": "HTMLModel",
            "placeholder": "​",
            "_view_module": "@jupyter-widgets/controls",
            "_model_module_version": "1.5.0",
            "value": " 1.08M/1.08M [00:01&lt;00:00, 711kB/s]",
            "_view_count": null,
            "_view_module_version": "1.5.0",
            "description_tooltip": null,
            "_model_module": "@jupyter-widgets/controls",
            "layout": "IPY_MODEL_85081ab268c44b65bcce8868c93fbe3b"
          }
        },
        "c45337544c1c4ed19d3ea023e9c86851": {
          "model_module": "@jupyter-widgets/controls",
          "model_name": "ProgressStyleModel",
          "state": {
            "_view_name": "StyleView",
            "_model_name": "ProgressStyleModel",
            "description_width": "initial",
            "_view_module": "@jupyter-widgets/base",
            "_model_module_version": "1.5.0",
            "_view_count": null,
            "_view_module_version": "1.2.0",
            "bar_color": null,
            "_model_module": "@jupyter-widgets/controls"
          }
        },
        "0826e0d8d4fc42bc83165664009b0968": {
          "model_module": "@jupyter-widgets/base",
          "model_name": "LayoutModel",
          "state": {
            "_view_name": "LayoutView",
            "grid_template_rows": null,
            "right": null,
            "justify_content": null,
            "_view_module": "@jupyter-widgets/base",
            "overflow": null,
            "_model_module_version": "1.2.0",
            "_view_count": null,
            "flex_flow": null,
            "width": null,
            "min_width": null,
            "border": null,
            "align_items": null,
            "bottom": null,
            "_model_module": "@jupyter-widgets/base",
            "top": null,
            "grid_column": null,
            "overflow_y": null,
            "overflow_x": null,
            "grid_auto_flow": null,
            "grid_area": null,
            "grid_template_columns": null,
            "flex": null,
            "_model_name": "LayoutModel",
            "justify_items": null,
            "grid_row": null,
            "max_height": null,
            "align_content": null,
            "visibility": null,
            "align_self": null,
            "height": null,
            "min_height": null,
            "padding": null,
            "grid_auto_rows": null,
            "grid_gap": null,
            "max_width": null,
            "order": null,
            "_view_module_version": "1.2.0",
            "grid_template_areas": null,
            "object_position": null,
            "object_fit": null,
            "grid_auto_columns": null,
            "margin": null,
            "display": null,
            "left": null
          }
        },
        "c0caa9d0c528477a89ba187dda283a1c": {
          "model_module": "@jupyter-widgets/controls",
          "model_name": "DescriptionStyleModel",
          "state": {
            "_view_name": "StyleView",
            "_model_name": "DescriptionStyleModel",
            "description_width": "",
            "_view_module": "@jupyter-widgets/base",
            "_model_module_version": "1.5.0",
            "_view_count": null,
            "_view_module_version": "1.2.0",
            "_model_module": "@jupyter-widgets/controls"
          }
        },
        "85081ab268c44b65bcce8868c93fbe3b": {
          "model_module": "@jupyter-widgets/base",
          "model_name": "LayoutModel",
          "state": {
            "_view_name": "LayoutView",
            "grid_template_rows": null,
            "right": null,
            "justify_content": null,
            "_view_module": "@jupyter-widgets/base",
            "overflow": null,
            "_model_module_version": "1.2.0",
            "_view_count": null,
            "flex_flow": null,
            "width": null,
            "min_width": null,
            "border": null,
            "align_items": null,
            "bottom": null,
            "_model_module": "@jupyter-widgets/base",
            "top": null,
            "grid_column": null,
            "overflow_y": null,
            "overflow_x": null,
            "grid_auto_flow": null,
            "grid_area": null,
            "grid_template_columns": null,
            "flex": null,
            "_model_name": "LayoutModel",
            "justify_items": null,
            "grid_row": null,
            "max_height": null,
            "align_content": null,
            "visibility": null,
            "align_self": null,
            "height": null,
            "min_height": null,
            "padding": null,
            "grid_auto_rows": null,
            "grid_gap": null,
            "max_width": null,
            "order": null,
            "_view_module_version": "1.2.0",
            "grid_template_areas": null,
            "object_position": null,
            "object_fit": null,
            "grid_auto_columns": null,
            "margin": null,
            "display": null,
            "left": null
          }
        },
        "fd471fbaaef84f33a379a2ce8600f0ab": {
          "model_module": "@jupyter-widgets/controls",
          "model_name": "HBoxModel",
          "state": {
            "_view_name": "HBoxView",
            "_dom_classes": [],
            "_model_name": "HBoxModel",
            "_view_module": "@jupyter-widgets/controls",
            "_model_module_version": "1.5.0",
            "_view_count": null,
            "_view_module_version": "1.5.0",
            "box_style": "",
            "layout": "IPY_MODEL_666ed724fff7438daf046f8bb48caf69",
            "_model_module": "@jupyter-widgets/controls",
            "children": [
              "IPY_MODEL_0f6686c95bcd49699f79dea34bf85d3c",
              "IPY_MODEL_34ff82afaf8b4238a52d1ea9e8130f00"
            ]
          }
        },
        "666ed724fff7438daf046f8bb48caf69": {
          "model_module": "@jupyter-widgets/base",
          "model_name": "LayoutModel",
          "state": {
            "_view_name": "LayoutView",
            "grid_template_rows": null,
            "right": null,
            "justify_content": null,
            "_view_module": "@jupyter-widgets/base",
            "overflow": null,
            "_model_module_version": "1.2.0",
            "_view_count": null,
            "flex_flow": null,
            "width": null,
            "min_width": null,
            "border": null,
            "align_items": null,
            "bottom": null,
            "_model_module": "@jupyter-widgets/base",
            "top": null,
            "grid_column": null,
            "overflow_y": null,
            "overflow_x": null,
            "grid_auto_flow": null,
            "grid_area": null,
            "grid_template_columns": null,
            "flex": null,
            "_model_name": "LayoutModel",
            "justify_items": null,
            "grid_row": null,
            "max_height": null,
            "align_content": null,
            "visibility": null,
            "align_self": null,
            "height": null,
            "min_height": null,
            "padding": null,
            "grid_auto_rows": null,
            "grid_gap": null,
            "max_width": null,
            "order": null,
            "_view_module_version": "1.2.0",
            "grid_template_areas": null,
            "object_position": null,
            "object_fit": null,
            "grid_auto_columns": null,
            "margin": null,
            "display": null,
            "left": null
          }
        },
        "0f6686c95bcd49699f79dea34bf85d3c": {
          "model_module": "@jupyter-widgets/controls",
          "model_name": "FloatProgressModel",
          "state": {
            "_view_name": "ProgressView",
            "style": "IPY_MODEL_5c223a64c842458aac35c179d620e434",
            "_dom_classes": [],
            "description": "Downloading: 100%",
            "_model_name": "FloatProgressModel",
            "bar_style": "success",
            "max": 542529064,
            "_view_module": "@jupyter-widgets/controls",
            "_model_module_version": "1.5.0",
            "value": 542529064,
            "_view_count": null,
            "_view_module_version": "1.5.0",
            "orientation": "horizontal",
            "min": 0,
            "description_tooltip": null,
            "_model_module": "@jupyter-widgets/controls",
            "layout": "IPY_MODEL_fdd602b4f6f44aa084ed9696a1d38804"
          }
        },
        "34ff82afaf8b4238a52d1ea9e8130f00": {
          "model_module": "@jupyter-widgets/controls",
          "model_name": "HTMLModel",
          "state": {
            "_view_name": "HTMLView",
            "style": "IPY_MODEL_40a6f16f214d4a86815d630cd91a4eac",
            "_dom_classes": [],
            "description": "",
            "_model_name": "HTMLModel",
            "placeholder": "​",
            "_view_module": "@jupyter-widgets/controls",
            "_model_module_version": "1.5.0",
            "value": " 543M/543M [00:11&lt;00:00, 48.0MB/s]",
            "_view_count": null,
            "_view_module_version": "1.5.0",
            "description_tooltip": null,
            "_model_module": "@jupyter-widgets/controls",
            "layout": "IPY_MODEL_097868a2795e49179117688cb7aea680"
          }
        },
        "5c223a64c842458aac35c179d620e434": {
          "model_module": "@jupyter-widgets/controls",
          "model_name": "ProgressStyleModel",
          "state": {
            "_view_name": "StyleView",
            "_model_name": "ProgressStyleModel",
            "description_width": "initial",
            "_view_module": "@jupyter-widgets/base",
            "_model_module_version": "1.5.0",
            "_view_count": null,
            "_view_module_version": "1.2.0",
            "bar_color": null,
            "_model_module": "@jupyter-widgets/controls"
          }
        },
        "fdd602b4f6f44aa084ed9696a1d38804": {
          "model_module": "@jupyter-widgets/base",
          "model_name": "LayoutModel",
          "state": {
            "_view_name": "LayoutView",
            "grid_template_rows": null,
            "right": null,
            "justify_content": null,
            "_view_module": "@jupyter-widgets/base",
            "overflow": null,
            "_model_module_version": "1.2.0",
            "_view_count": null,
            "flex_flow": null,
            "width": null,
            "min_width": null,
            "border": null,
            "align_items": null,
            "bottom": null,
            "_model_module": "@jupyter-widgets/base",
            "top": null,
            "grid_column": null,
            "overflow_y": null,
            "overflow_x": null,
            "grid_auto_flow": null,
            "grid_area": null,
            "grid_template_columns": null,
            "flex": null,
            "_model_name": "LayoutModel",
            "justify_items": null,
            "grid_row": null,
            "max_height": null,
            "align_content": null,
            "visibility": null,
            "align_self": null,
            "height": null,
            "min_height": null,
            "padding": null,
            "grid_auto_rows": null,
            "grid_gap": null,
            "max_width": null,
            "order": null,
            "_view_module_version": "1.2.0",
            "grid_template_areas": null,
            "object_position": null,
            "object_fit": null,
            "grid_auto_columns": null,
            "margin": null,
            "display": null,
            "left": null
          }
        },
        "40a6f16f214d4a86815d630cd91a4eac": {
          "model_module": "@jupyter-widgets/controls",
          "model_name": "DescriptionStyleModel",
          "state": {
            "_view_name": "StyleView",
            "_model_name": "DescriptionStyleModel",
            "description_width": "",
            "_view_module": "@jupyter-widgets/base",
            "_model_module_version": "1.5.0",
            "_view_count": null,
            "_view_module_version": "1.2.0",
            "_model_module": "@jupyter-widgets/controls"
          }
        },
        "097868a2795e49179117688cb7aea680": {
          "model_module": "@jupyter-widgets/base",
          "model_name": "LayoutModel",
          "state": {
            "_view_name": "LayoutView",
            "grid_template_rows": null,
            "right": null,
            "justify_content": null,
            "_view_module": "@jupyter-widgets/base",
            "overflow": null,
            "_model_module_version": "1.2.0",
            "_view_count": null,
            "flex_flow": null,
            "width": null,
            "min_width": null,
            "border": null,
            "align_items": null,
            "bottom": null,
            "_model_module": "@jupyter-widgets/base",
            "top": null,
            "grid_column": null,
            "overflow_y": null,
            "overflow_x": null,
            "grid_auto_flow": null,
            "grid_area": null,
            "grid_template_columns": null,
            "flex": null,
            "_model_name": "LayoutModel",
            "justify_items": null,
            "grid_row": null,
            "max_height": null,
            "align_content": null,
            "visibility": null,
            "align_self": null,
            "height": null,
            "min_height": null,
            "padding": null,
            "grid_auto_rows": null,
            "grid_gap": null,
            "max_width": null,
            "order": null,
            "_view_module_version": "1.2.0",
            "grid_template_areas": null,
            "object_position": null,
            "object_fit": null,
            "grid_auto_columns": null,
            "margin": null,
            "display": null,
            "left": null
          }
        }
      }
    }
  },
  "cells": [
    {
      "cell_type": "code",
      "metadata": {
        "colab": {
          "base_uri": "https://localhost:8080/"
        },
        "id": "nUUMksNxDZuV",
        "outputId": "07fccabe-ee3a-461c-9d10-55a48b35869f"
      },
      "source": [
        "!nvidia-smi -L"
      ],
      "execution_count": 1,
      "outputs": [
        {
          "output_type": "stream",
          "text": [
            "GPU 0: Tesla T4 (UUID: GPU-e4101f33-9052-a05e-7345-7531cef79b96)\n"
          ],
          "name": "stdout"
        }
      ]
    },
    {
      "cell_type": "markdown",
      "metadata": {
        "id": "P-3gL08E2izB"
      },
      "source": [
        "#install pacakges"
      ]
    },
    {
      "cell_type": "code",
      "metadata": {
        "id": "tfXdcDubvVmI"
      },
      "source": [
        "%%capture\n",
        "!python3 -m pip install -U pip\n",
        "!python3 -m pip install -U setuptools wheel\n",
        "!python3 -m pip install -U \"mxnet_cu110<2.0.0\"\n",
        "!python3 -m pip install autogluon"
      ],
      "execution_count": 2,
      "outputs": []
    },
    {
      "cell_type": "code",
      "metadata": {
        "id": "m3e8ItjyrbC5"
      },
      "source": [
        "%%capture\n",
        "!pip install -U transformers\n",
        "!pip install emoji\n"
      ],
      "execution_count": 3,
      "outputs": []
    },
    {
      "cell_type": "markdown",
      "metadata": {
        "id": "tbFVgzDJ2tkN"
      },
      "source": [
        "# download data"
      ]
    },
    {
      "cell_type": "code",
      "metadata": {
        "id": "sLK8NbVADmwP",
        "colab": {
          "base_uri": "https://localhost:8080/"
        },
        "outputId": "92cc7650-fd72-4b0b-d6c3-858cc55af9aa"
      },
      "source": [
        "import os\n",
        "if os.path.isdir('/content/Profiling-Hate-Speech-Spreaders-on-Twitter') is False:\n",
        "    !git clone https://github.com/talhaanwarch/Profiling-Hate-Speech-Spreaders-on-Twitter.git"
      ],
      "execution_count": 4,
      "outputs": [
        {
          "output_type": "stream",
          "text": [
            "Cloning into 'Profiling-Hate-Speech-Spreaders-on-Twitter'...\n",
            "remote: Enumerating objects: 22, done.\u001b[K\n",
            "remote: Counting objects: 100% (22/22), done.\u001b[K\n",
            "remote: Compressing objects: 100% (20/20), done.\u001b[K\n",
            "remote: Total 22 (delta 3), reused 0 (delta 0), pack-reused 0\u001b[K\n",
            "Unpacking objects: 100% (22/22), done.\n"
          ],
          "name": "stdout"
        }
      ]
    },
    {
      "cell_type": "code",
      "metadata": {
        "id": "1AK6vaH6frHn"
      },
      "source": [
        "with open('pass.txt','r') as f:\n",
        "  pas=f.read()\n"
      ],
      "execution_count": 5,
      "outputs": []
    },
    {
      "cell_type": "code",
      "metadata": {
        "id": "xWClrObg1m3o"
      },
      "source": [
        "import zipfile\n",
        "if os.path.isdir('train') is False:\n",
        "  train_path='/content/Profiling-Hate-Speech-Spreaders-on-Twitter/data/train.zip'\n",
        "  with zipfile.ZipFile(train_path,\"r\") as zip_ref:\n",
        "    zip_ref.extractall(\".\",pwd = bytes(pas,'utf-8'))\n",
        "if os.path.isdir('test') is False:\n",
        "  test_path='/content/Profiling-Hate-Speech-Spreaders-on-Twitter/data/test.zip'\n",
        "  with zipfile.ZipFile(test_path,\"r\") as zip_ref:\n",
        "    zip_ref.extractall(\".\",pwd = bytes(pas,'utf-8'))"
      ],
      "execution_count": 6,
      "outputs": []
    },
    {
      "cell_type": "markdown",
      "metadata": {
        "id": "o0x1BkHU2vGa"
      },
      "source": [
        "# prepare data"
      ]
    },
    {
      "cell_type": "markdown",
      "metadata": {
        "id": "hEC85rpu-ur5"
      },
      "source": [
        "## train data"
      ]
    },
    {
      "cell_type": "code",
      "metadata": {
        "id": "uFzbJ_gC1EJw"
      },
      "source": [
        "import pandas as pd\n",
        "import numpy as np\n",
        "import matplotlib.pyplot as plt\n",
        "df=pd.read_csv('train/en/truth.txt',sep=':::',header=None,engine='python')\n",
        "df.columns=['id','label']"
      ],
      "execution_count": 7,
      "outputs": []
    },
    {
      "cell_type": "code",
      "metadata": {
        "colab": {
          "base_uri": "https://localhost:8080/"
        },
        "id": "3ROlQoSB7Yh_",
        "outputId": "ece2106e-d53f-41bb-aff5-e448833817c7"
      },
      "source": [
        "df.label.value_counts()"
      ],
      "execution_count": 8,
      "outputs": [
        {
          "output_type": "execute_result",
          "data": {
            "text/plain": [
              "1    100\n",
              "0    100\n",
              "Name: label, dtype: int64"
            ]
          },
          "metadata": {
            "tags": []
          },
          "execution_count": 8
        }
      ]
    },
    {
      "cell_type": "code",
      "metadata": {
        "colab": {
          "base_uri": "https://localhost:8080/"
        },
        "id": "v_JM-_us1LS7",
        "outputId": "2e7588e2-6504-47ad-effb-a7ea61173405"
      },
      "source": [
        "import nltk\n",
        "from nltk.corpus import stopwords\n",
        "from nltk.stem import WordNetLemmatizer\n",
        "nltk.download('wordnet')\n",
        "nltk.download('stopwords')\n",
        "lemmatizer = WordNetLemmatizer()\n",
        "w_tokenizer = nltk.tokenize.WhitespaceTokenizer()\n",
        "stop = stopwords.words('english')"
      ],
      "execution_count": 9,
      "outputs": [
        {
          "output_type": "stream",
          "text": [
            "[nltk_data] Downloading package wordnet to /root/nltk_data...\n",
            "[nltk_data]   Unzipping corpora/wordnet.zip.\n",
            "[nltk_data] Downloading package stopwords to /root/nltk_data...\n",
            "[nltk_data]   Unzipping corpora/stopwords.zip.\n"
          ],
          "name": "stdout"
        }
      ]
    },
    {
      "cell_type": "code",
      "metadata": {
        "id": "yEBoiYus1-q3"
      },
      "source": [
        "def preprocessing(text):\n",
        "    text=text.str.replace('\\d+', '')\n",
        "    text=text.str.replace('RT','')\n",
        "    text=text.str.replace('#USER#','@USER')\n",
        "    text=text.str.replace('_','')\n",
        "    text=text.str.replace('#URL#','HTTPURL')\n",
        "    text=text.apply(lambda x:emoji.demojize(x))\n",
        "    #text= text.str.lower()\n",
        "    text = text.str.replace('[^\\w\\s]','')\n",
        "    #text = text.apply(lambda x : [lemmatizer.lemmatize(y) for y in w_tokenizer.tokenize(x)])\n",
        "    #text = text.apply(lambda x: [item for item in x if item not in stop])\n",
        "    #text = text.apply(lambda x : \" \".join(x))\n",
        "    return text"
      ],
      "execution_count": 10,
      "outputs": []
    },
    {
      "cell_type": "code",
      "metadata": {
        "colab": {
          "base_uri": "https://localhost:8080/",
          "height": 202
        },
        "id": "KuCfiRvP2AEC",
        "outputId": "24766485-d75f-4ecc-dfec-a40519581b8b"
      },
      "source": [
        "df.id='train/en/'+df.id.astype(str)+'.xml'\n",
        "df.head()"
      ],
      "execution_count": 11,
      "outputs": [
        {
          "output_type": "execute_result",
          "data": {
            "text/html": [
              "<div>\n",
              "<style scoped>\n",
              "    .dataframe tbody tr th:only-of-type {\n",
              "        vertical-align: middle;\n",
              "    }\n",
              "\n",
              "    .dataframe tbody tr th {\n",
              "        vertical-align: top;\n",
              "    }\n",
              "\n",
              "    .dataframe thead th {\n",
              "        text-align: right;\n",
              "    }\n",
              "</style>\n",
              "<table border=\"1\" class=\"dataframe\">\n",
              "  <thead>\n",
              "    <tr style=\"text-align: right;\">\n",
              "      <th></th>\n",
              "      <th>id</th>\n",
              "      <th>label</th>\n",
              "    </tr>\n",
              "  </thead>\n",
              "  <tbody>\n",
              "    <tr>\n",
              "      <th>0</th>\n",
              "      <td>train/en/639b8e5e6a527d494c85d8f5704b1a01.xml</td>\n",
              "      <td>0</td>\n",
              "    </tr>\n",
              "    <tr>\n",
              "      <th>1</th>\n",
              "      <td>train/en/f2b1fc84c500c38a93522efbd422b559.xml</td>\n",
              "      <td>0</td>\n",
              "    </tr>\n",
              "    <tr>\n",
              "      <th>2</th>\n",
              "      <td>train/en/10b2d013382e1fb3c9414ea28329f258.xml</td>\n",
              "      <td>0</td>\n",
              "    </tr>\n",
              "    <tr>\n",
              "      <th>3</th>\n",
              "      <td>train/en/26644d1348fc1122e8c5ef45d6bc84fa.xml</td>\n",
              "      <td>0</td>\n",
              "    </tr>\n",
              "    <tr>\n",
              "      <th>4</th>\n",
              "      <td>train/en/4d4c5dcbfe38d0d33a0d1b1419952ca8.xml</td>\n",
              "      <td>0</td>\n",
              "    </tr>\n",
              "  </tbody>\n",
              "</table>\n",
              "</div>"
            ],
            "text/plain": [
              "                                              id  label\n",
              "0  train/en/639b8e5e6a527d494c85d8f5704b1a01.xml      0\n",
              "1  train/en/f2b1fc84c500c38a93522efbd422b559.xml      0\n",
              "2  train/en/10b2d013382e1fb3c9414ea28329f258.xml      0\n",
              "3  train/en/26644d1348fc1122e8c5ef45d6bc84fa.xml      0\n",
              "4  train/en/4d4c5dcbfe38d0d33a0d1b1419952ca8.xml      0"
            ]
          },
          "metadata": {
            "tags": []
          },
          "execution_count": 11
        }
      ]
    },
    {
      "cell_type": "code",
      "metadata": {
        "colab": {
          "base_uri": "https://localhost:8080/"
        },
        "id": "WALZdHXd2BSE",
        "outputId": "24f80769-86e9-4458-8f98-805174767b0f"
      },
      "source": [
        "len(df)"
      ],
      "execution_count": 12,
      "outputs": [
        {
          "output_type": "execute_result",
          "data": {
            "text/plain": [
              "200"
            ]
          },
          "metadata": {
            "tags": []
          },
          "execution_count": 12
        }
      ]
    },
    {
      "cell_type": "code",
      "metadata": {
        "id": "LuY7kaIJ2C4G"
      },
      "source": [
        "import xml.etree.ElementTree as ET\n",
        "def reader(df,ground=True):\n",
        "  data=[]\n",
        "  for x in df.iterrows():\n",
        "      \n",
        "      tree = ET.parse(x[1].id)\n",
        "      root = tree.getroot()\n",
        "      text=[x.text for x in root[0]]\n",
        "      if ground:\n",
        "        label=[x[1].label]*len(text)\n",
        "        data.append(pd.DataFrame(zip(text,label),columns=['text','label']))\n",
        "      else:\n",
        "        data.append(pd.DataFrame(text,columns=['text']))\n",
        "  return data"
      ],
      "execution_count": 13,
      "outputs": []
    },
    {
      "cell_type": "code",
      "metadata": {
        "id": "hNrFeS0n-HIv"
      },
      "source": [
        "data=reader(df)"
      ],
      "execution_count": 14,
      "outputs": []
    },
    {
      "cell_type": "code",
      "metadata": {
        "colab": {
          "base_uri": "https://localhost:8080/",
          "height": 202
        },
        "id": "pdcFOycQ2Etp",
        "outputId": "c91c47c9-bcf5-47dc-c12b-b9c0a4ae6fff"
      },
      "source": [
        "data[0].head()"
      ],
      "execution_count": 15,
      "outputs": [
        {
          "output_type": "execute_result",
          "data": {
            "text/html": [
              "<div>\n",
              "<style scoped>\n",
              "    .dataframe tbody tr th:only-of-type {\n",
              "        vertical-align: middle;\n",
              "    }\n",
              "\n",
              "    .dataframe tbody tr th {\n",
              "        vertical-align: top;\n",
              "    }\n",
              "\n",
              "    .dataframe thead th {\n",
              "        text-align: right;\n",
              "    }\n",
              "</style>\n",
              "<table border=\"1\" class=\"dataframe\">\n",
              "  <thead>\n",
              "    <tr style=\"text-align: right;\">\n",
              "      <th></th>\n",
              "      <th>text</th>\n",
              "      <th>label</th>\n",
              "    </tr>\n",
              "  </thead>\n",
              "  <tbody>\n",
              "    <tr>\n",
              "      <th>0</th>\n",
              "      <td>RT #USER#: Funny how “15 days to slow the spre...</td>\n",
              "      <td>0</td>\n",
              "    </tr>\n",
              "    <tr>\n",
              "      <th>1</th>\n",
              "      <td>RT #USER#: Why did Minneapolis just give Georg...</td>\n",
              "      <td>0</td>\n",
              "    </tr>\n",
              "    <tr>\n",
              "      <th>2</th>\n",
              "      <td>RT #USER#: To be fair, he has done a lot of un...</td>\n",
              "      <td>0</td>\n",
              "    </tr>\n",
              "    <tr>\n",
              "      <th>3</th>\n",
              "      <td>RT #USER#: President Trump got us the #HASHTAG...</td>\n",
              "      <td>0</td>\n",
              "    </tr>\n",
              "    <tr>\n",
              "      <th>4</th>\n",
              "      <td>RT #USER#: Is the case against former officer ...</td>\n",
              "      <td>0</td>\n",
              "    </tr>\n",
              "  </tbody>\n",
              "</table>\n",
              "</div>"
            ],
            "text/plain": [
              "                                                text  label\n",
              "0  RT #USER#: Funny how “15 days to slow the spre...      0\n",
              "1  RT #USER#: Why did Minneapolis just give Georg...      0\n",
              "2  RT #USER#: To be fair, he has done a lot of un...      0\n",
              "3  RT #USER#: President Trump got us the #HASHTAG...      0\n",
              "4  RT #USER#: Is the case against former officer ...      0"
            ]
          },
          "metadata": {
            "tags": []
          },
          "execution_count": 15
        }
      ]
    },
    {
      "cell_type": "code",
      "metadata": {
        "id": "Z8g5Ah4IhA3u"
      },
      "source": [
        "import emoji\n",
        "datax=data.copy()\n",
        "for d in range(len(data)):\n",
        "  datax[d].text=preprocessing(data[d].text)\n"
      ],
      "execution_count": 17,
      "outputs": []
    },
    {
      "cell_type": "code",
      "metadata": {
        "colab": {
          "base_uri": "https://localhost:8080/",
          "height": 202
        },
        "id": "_F5iHi5umS9F",
        "outputId": "691baf0b-554d-46f7-f94b-40b3f50d0b47"
      },
      "source": [
        "datax[0].head()"
      ],
      "execution_count": 18,
      "outputs": [
        {
          "output_type": "execute_result",
          "data": {
            "text/html": [
              "<div>\n",
              "<style scoped>\n",
              "    .dataframe tbody tr th:only-of-type {\n",
              "        vertical-align: middle;\n",
              "    }\n",
              "\n",
              "    .dataframe tbody tr th {\n",
              "        vertical-align: top;\n",
              "    }\n",
              "\n",
              "    .dataframe thead th {\n",
              "        text-align: right;\n",
              "    }\n",
              "</style>\n",
              "<table border=\"1\" class=\"dataframe\">\n",
              "  <thead>\n",
              "    <tr style=\"text-align: right;\">\n",
              "      <th></th>\n",
              "      <th>text</th>\n",
              "      <th>label</th>\n",
              "    </tr>\n",
              "  </thead>\n",
              "  <tbody>\n",
              "    <tr>\n",
              "      <th>0</th>\n",
              "      <td>USER Funny how  days to slow the spread turne...</td>\n",
              "      <td>0</td>\n",
              "    </tr>\n",
              "    <tr>\n",
              "      <th>1</th>\n",
              "      <td>USER Why did Minneapolis just give George Flo...</td>\n",
              "      <td>0</td>\n",
              "    </tr>\n",
              "    <tr>\n",
              "      <th>2</th>\n",
              "      <td>USER To be fair he has done a lot of undercov...</td>\n",
              "      <td>0</td>\n",
              "    </tr>\n",
              "    <tr>\n",
              "      <th>3</th>\n",
              "      <td>USER President Trump got us the HASHTAG vacci...</td>\n",
              "      <td>0</td>\n",
              "    </tr>\n",
              "    <tr>\n",
              "      <th>4</th>\n",
              "      <td>USER Is the case against former officer Derek...</td>\n",
              "      <td>0</td>\n",
              "    </tr>\n",
              "  </tbody>\n",
              "</table>\n",
              "</div>"
            ],
            "text/plain": [
              "                                                text  label\n",
              "0   USER Funny how  days to slow the spread turne...      0\n",
              "1   USER Why did Minneapolis just give George Flo...      0\n",
              "2   USER To be fair he has done a lot of undercov...      0\n",
              "3   USER President Trump got us the HASHTAG vacci...      0\n",
              "4   USER Is the case against former officer Derek...      0"
            ]
          },
          "metadata": {
            "tags": []
          },
          "execution_count": 18
        }
      ]
    },
    {
      "cell_type": "code",
      "metadata": {
        "colab": {
          "base_uri": "https://localhost:8080/"
        },
        "id": "-z9YynVjaVVR",
        "outputId": "7b684c38-0579-4ffb-dfca-19b13c5bfe2b"
      },
      "source": [
        "len(datax[0])"
      ],
      "execution_count": 19,
      "outputs": [
        {
          "output_type": "execute_result",
          "data": {
            "text/plain": [
              "200"
            ]
          },
          "metadata": {
            "tags": []
          },
          "execution_count": 19
        }
      ]
    },
    {
      "cell_type": "code",
      "metadata": {
        "id": "lojbROKwjNRV"
      },
      "source": [
        "doc_text,doc_label,=[],[]\n",
        "for i in range(len(datax)):\n",
        "  doc_text.append(list(datax[i].text))\n",
        "  doc_label.append(int(datax[i].mean()))"
      ],
      "execution_count": 20,
      "outputs": []
    },
    {
      "cell_type": "code",
      "metadata": {
        "colab": {
          "base_uri": "https://localhost:8080/"
        },
        "id": "rm3keInmpnBK",
        "outputId": "ed329ec6-4582-4df3-8893-62dcec92aff2"
      },
      "source": [
        "len(doc_text),len(doc_label)"
      ],
      "execution_count": 21,
      "outputs": [
        {
          "output_type": "execute_result",
          "data": {
            "text/plain": [
              "(200, 200)"
            ]
          },
          "metadata": {
            "tags": []
          },
          "execution_count": 21
        }
      ]
    },
    {
      "cell_type": "markdown",
      "metadata": {
        "id": "4EW-8kNIdK7D"
      },
      "source": [
        "## test data"
      ]
    },
    {
      "cell_type": "code",
      "metadata": {
        "colab": {
          "base_uri": "https://localhost:8080/",
          "height": 202
        },
        "id": "vY6T_bk1-0RT",
        "outputId": "e2c13df4-8e51-4202-8ab3-96b4e1d08896"
      },
      "source": [
        "from glob import glob\n",
        "test_path=pd.DataFrame(glob('test/en/*.xml'),columns=['id'])\n",
        "test_path.head()"
      ],
      "execution_count": 22,
      "outputs": [
        {
          "output_type": "execute_result",
          "data": {
            "text/html": [
              "<div>\n",
              "<style scoped>\n",
              "    .dataframe tbody tr th:only-of-type {\n",
              "        vertical-align: middle;\n",
              "    }\n",
              "\n",
              "    .dataframe tbody tr th {\n",
              "        vertical-align: top;\n",
              "    }\n",
              "\n",
              "    .dataframe thead th {\n",
              "        text-align: right;\n",
              "    }\n",
              "</style>\n",
              "<table border=\"1\" class=\"dataframe\">\n",
              "  <thead>\n",
              "    <tr style=\"text-align: right;\">\n",
              "      <th></th>\n",
              "      <th>id</th>\n",
              "    </tr>\n",
              "  </thead>\n",
              "  <tbody>\n",
              "    <tr>\n",
              "      <th>0</th>\n",
              "      <td>test/en/f2973063f16c0698a6de86c55b5f9ad6.xml</td>\n",
              "    </tr>\n",
              "    <tr>\n",
              "      <th>1</th>\n",
              "      <td>test/en/be71e41921653e523aceb555727b61c7.xml</td>\n",
              "    </tr>\n",
              "    <tr>\n",
              "      <th>2</th>\n",
              "      <td>test/en/d0235c3e74f79298fc2b6d2427c2060b.xml</td>\n",
              "    </tr>\n",
              "    <tr>\n",
              "      <th>3</th>\n",
              "      <td>test/en/314d4bf068314367bc83dc5ae3757e13.xml</td>\n",
              "    </tr>\n",
              "    <tr>\n",
              "      <th>4</th>\n",
              "      <td>test/en/fdd27881da241cff7115c1e89caba6dd.xml</td>\n",
              "    </tr>\n",
              "  </tbody>\n",
              "</table>\n",
              "</div>"
            ],
            "text/plain": [
              "                                             id\n",
              "0  test/en/f2973063f16c0698a6de86c55b5f9ad6.xml\n",
              "1  test/en/be71e41921653e523aceb555727b61c7.xml\n",
              "2  test/en/d0235c3e74f79298fc2b6d2427c2060b.xml\n",
              "3  test/en/314d4bf068314367bc83dc5ae3757e13.xml\n",
              "4  test/en/fdd27881da241cff7115c1e89caba6dd.xml"
            ]
          },
          "metadata": {
            "tags": []
          },
          "execution_count": 22
        }
      ]
    },
    {
      "cell_type": "code",
      "metadata": {
        "id": "2qsFnJQA-2fl"
      },
      "source": [
        "test_data=reader(test_path,ground=False)"
      ],
      "execution_count": 23,
      "outputs": []
    },
    {
      "cell_type": "code",
      "metadata": {
        "id": "9f1a9ZWV-2iT"
      },
      "source": [
        "\n",
        "test_datax=test_data.copy()\n",
        "for d in range(len(test_datax)):\n",
        "  test_datax[d].text=preprocessing(test_datax[d].text)\n"
      ],
      "execution_count": 24,
      "outputs": []
    },
    {
      "cell_type": "code",
      "metadata": {
        "id": "eWCjKH8c-2lp"
      },
      "source": [
        "test_doc=[]\n",
        "for i in range(len(test_datax)):\n",
        "  test_doc.append(list(test_datax[i].text))"
      ],
      "execution_count": 25,
      "outputs": []
    },
    {
      "cell_type": "code",
      "metadata": {
        "colab": {
          "base_uri": "https://localhost:8080/"
        },
        "id": "DkTpTKHLkp8h",
        "outputId": "45e3ed19-bb5d-4c25-fd86-b96d5771adc4"
      },
      "source": [
        "len(test_doc)"
      ],
      "execution_count": 26,
      "outputs": [
        {
          "output_type": "execute_result",
          "data": {
            "text/plain": [
              "100"
            ]
          },
          "metadata": {
            "tags": []
          },
          "execution_count": 26
        }
      ]
    },
    {
      "cell_type": "markdown",
      "metadata": {
        "id": "uk_kXqTk20rp"
      },
      "source": [
        "# generate embeddings"
      ]
    },
    {
      "cell_type": "code",
      "metadata": {
        "colab": {
          "base_uri": "https://localhost:8080/",
          "height": 304,
          "referenced_widgets": [
            "8b9bce45229a4adbb6d8d2501251e312",
            "0dfb9d22419c4f2d9fe09a6edd93982e",
            "21941da39377482eb63bd583c4a416fd",
            "d706337923994a97a0a82ed3b4ac2059",
            "a2908bc1611d4272ba5ae6663337107e",
            "a25a077e1c6348fabea43664cac36461",
            "4978a632f6334c73b5bef44535166bf8",
            "f07a5b9d83a04e6084879d2648b5be7a",
            "54537adf1a4c4ce88fbabc287ff96435",
            "956425c91c4b49a08ddd822532fb0928",
            "55fc6446b58d4f4c941280db7187274e",
            "a9c1d6c565c04345b448fd34f5f3e6cd",
            "82f34d4fde694d81bf6253433711d553",
            "34f5607c222441bba5a84be0b4612b3b",
            "9f27a16b641a4d0cb1a5027ee95d54e8",
            "1f510617346b42db93473885c56d26a9",
            "a16d7be45c884feeb52ed8d3069fbb9f",
            "5f08fd3536c148c18c2678cd5b3cfe16",
            "df55cbd8afa043a5bf004d3fff23f68b",
            "c943cc8d63ed469c820c4a88ab04233b",
            "c45337544c1c4ed19d3ea023e9c86851",
            "0826e0d8d4fc42bc83165664009b0968",
            "c0caa9d0c528477a89ba187dda283a1c",
            "85081ab268c44b65bcce8868c93fbe3b",
            "fd471fbaaef84f33a379a2ce8600f0ab",
            "666ed724fff7438daf046f8bb48caf69",
            "0f6686c95bcd49699f79dea34bf85d3c",
            "34ff82afaf8b4238a52d1ea9e8130f00",
            "5c223a64c842458aac35c179d620e434",
            "fdd602b4f6f44aa084ed9696a1d38804",
            "40a6f16f214d4a86815d630cd91a4eac",
            "097868a2795e49179117688cb7aea680"
          ]
        },
        "id": "7ClLA5cVuesN",
        "outputId": "fe18a8e8-5aee-4c95-b821-4e72b9abc72c"
      },
      "source": [
        "from transformers import AutoTokenizer, AutoModel\n",
        "from torch.nn.utils.rnn import pad_sequence\n",
        "import torch\n",
        "tokenizer = AutoTokenizer.from_pretrained(\"vinai/bertweet-base\")\n",
        "model = AutoModel.from_pretrained(\"vinai/bertweet-base\",output_hidden_states=True)\n"
      ],
      "execution_count": 27,
      "outputs": [
        {
          "output_type": "display_data",
          "data": {
            "application/vnd.jupyter.widget-view+json": {
              "model_id": "8b9bce45229a4adbb6d8d2501251e312",
              "version_minor": 0,
              "version_major": 2
            },
            "text/plain": [
              "HBox(children=(FloatProgress(value=0.0, description='Downloading', max=558.0, style=ProgressStyle(description_…"
            ]
          },
          "metadata": {
            "tags": []
          }
        },
        {
          "output_type": "stream",
          "text": [
            "\n"
          ],
          "name": "stdout"
        },
        {
          "output_type": "display_data",
          "data": {
            "application/vnd.jupyter.widget-view+json": {
              "model_id": "54537adf1a4c4ce88fbabc287ff96435",
              "version_minor": 0,
              "version_major": 2
            },
            "text/plain": [
              "HBox(children=(FloatProgress(value=0.0, description='Downloading', max=843438.0, style=ProgressStyle(descripti…"
            ]
          },
          "metadata": {
            "tags": []
          }
        },
        {
          "output_type": "stream",
          "text": [
            "\n"
          ],
          "name": "stdout"
        },
        {
          "output_type": "display_data",
          "data": {
            "application/vnd.jupyter.widget-view+json": {
              "model_id": "a16d7be45c884feeb52ed8d3069fbb9f",
              "version_minor": 0,
              "version_major": 2
            },
            "text/plain": [
              "HBox(children=(FloatProgress(value=0.0, description='Downloading', max=1078931.0, style=ProgressStyle(descript…"
            ]
          },
          "metadata": {
            "tags": []
          }
        },
        {
          "output_type": "stream",
          "text": [
            "\n"
          ],
          "name": "stdout"
        },
        {
          "output_type": "stream",
          "text": [
            "Special tokens have been added in the vocabulary, make sure the associated word embeddings are fine-tuned or trained.\n"
          ],
          "name": "stderr"
        },
        {
          "output_type": "display_data",
          "data": {
            "application/vnd.jupyter.widget-view+json": {
              "model_id": "fd471fbaaef84f33a379a2ce8600f0ab",
              "version_minor": 0,
              "version_major": 2
            },
            "text/plain": [
              "HBox(children=(FloatProgress(value=0.0, description='Downloading', max=542529064.0, style=ProgressStyle(descri…"
            ]
          },
          "metadata": {
            "tags": []
          }
        },
        {
          "output_type": "stream",
          "text": [
            "\n"
          ],
          "name": "stdout"
        },
        {
          "output_type": "stream",
          "text": [
            "Some weights of the model checkpoint at vinai/bertweet-base were not used when initializing RobertaModel: ['lm_head.decoder.weight', 'lm_head.dense.bias', 'lm_head.dense.weight', 'lm_head.bias', 'lm_head.layer_norm.bias', 'lm_head.decoder.bias', 'lm_head.layer_norm.weight']\n",
            "- This IS expected if you are initializing RobertaModel from the checkpoint of a model trained on another task or with another architecture (e.g. initializing a BertForSequenceClassification model from a BertForPreTraining model).\n",
            "- This IS NOT expected if you are initializing RobertaModel from the checkpoint of a model that you expect to be exactly identical (initializing a BertForSequenceClassification model from a BertForSequenceClassification model).\n"
          ],
          "name": "stderr"
        }
      ]
    },
    {
      "cell_type": "code",
      "metadata": {
        "id": "rSUMn7qlce7h"
      },
      "source": [
        "device='cuda'\n",
        "model=model.to(device)"
      ],
      "execution_count": 28,
      "outputs": []
    },
    {
      "cell_type": "code",
      "metadata": {
        "id": "H41V3wFMP1DZ"
      },
      "source": [
        "#get data from last hidden layer\n",
        "def create_embeddings(doc_text,max_length=20,cat=False):\n",
        "  doc_embeddings=[]\n",
        "  for text in doc_text:\n",
        "    inputs=tokenizer(text,max_length=max_length,padding=True,truncation=True)\n",
        "    text_seq = torch.tensor(inputs['input_ids']).to(device)\n",
        "    text_mask = torch.tensor(inputs['attention_mask']).to(device)\n",
        "    model.eval()\n",
        "    with torch.no_grad():\n",
        "      outputs= model(text_seq,attention_mask=text_mask)\n",
        "      hidden_states=outputs.hidden_states\n",
        "      if cat:\n",
        "        emb=torch.mean(torch.cat([hidden_states[i] for i in [-1,-2,-3,-4]], dim=-1),1)\n",
        "      else:\n",
        "        emb=torch.mean(hidden_states[11], 1)    \n",
        "      doc_embeddings.append(emb)\n",
        "  x=torch.mean(torch.stack(doc_embeddings),1)\n",
        "  x=np.array(x.cpu())\n",
        "  return x"
      ],
      "execution_count": 29,
      "outputs": []
    },
    {
      "cell_type": "markdown",
      "metadata": {
        "id": "t6yFzlc4n52y"
      },
      "source": [
        "## last layer"
      ]
    },
    {
      "cell_type": "code",
      "metadata": {
        "colab": {
          "base_uri": "https://localhost:8080/"
        },
        "id": "oMDZBFoCxUII",
        "outputId": "72e4f0a7-a0ce-404b-ca9b-fcb66e6dc0a0"
      },
      "source": [
        "%%time\n",
        "train_last=create_embeddings(doc_text)\n",
        "test_last=create_embeddings(test_doc)\n"
      ],
      "execution_count": 30,
      "outputs": [
        {
          "output_type": "stream",
          "text": [
            "CPU times: user 1min 1s, sys: 140 ms, total: 1min 1s\n",
            "Wall time: 1min 1s\n"
          ],
          "name": "stdout"
        }
      ]
    },
    {
      "cell_type": "markdown",
      "metadata": {
        "id": "5346kOUYoHLO"
      },
      "source": [
        "## last 4 layers"
      ]
    },
    {
      "cell_type": "code",
      "metadata": {
        "colab": {
          "base_uri": "https://localhost:8080/"
        },
        "id": "1jsc1PRcn_GC",
        "outputId": "6f5b6a2d-5b78-453b-ef0d-efcb4be50158"
      },
      "source": [
        "%%time\n",
        "train_last4=create_embeddings(doc_text,cat=True)\n",
        "test_last4=create_embeddings(test_doc,cat=True)\n"
      ],
      "execution_count": 31,
      "outputs": [
        {
          "output_type": "stream",
          "text": [
            "CPU times: user 1min 5s, sys: 69 ms, total: 1min 5s\n",
            "Wall time: 1min 6s\n"
          ],
          "name": "stdout"
        }
      ]
    },
    {
      "cell_type": "code",
      "metadata": {
        "id": "0u2r8SJmaC1O"
      },
      "source": [
        "y=doc_label\n"
      ],
      "execution_count": 32,
      "outputs": []
    },
    {
      "cell_type": "markdown",
      "metadata": {
        "id": "e7y4abdOs6rG"
      },
      "source": [
        "# AutoGluon"
      ]
    },
    {
      "cell_type": "code",
      "metadata": {
        "id": "2Le9Y729wKYx"
      },
      "source": [
        "def agdataframe(train,label,test):\n",
        "  train_df=pd.concat([pd.DataFrame(train),pd.DataFrame(label)],axis=1)\n",
        "  train_df.columns=['col_{}'.format(i) for i in range(train.shape[1])]+['Label']\n",
        "  train_df = train_df.sample(frac=1).reset_index(drop=True)\n",
        "  test_df=pd.DataFrame(test)\n",
        "  test_df.columns=['col_{}'.format(i) for i in range(test.shape[1])]\n",
        "  return train_df, test_df\n",
        "  "
      ],
      "execution_count": 33,
      "outputs": []
    },
    {
      "cell_type": "code",
      "metadata": {
        "colab": {
          "base_uri": "https://localhost:8080/"
        },
        "id": "zwqkidSR_hC6",
        "outputId": "a1d88844-5272-4688-eeed-85fd292fe96e"
      },
      "source": [
        "train_last_df,test_last_df=agdataframe(train_last,doc_label,test_last)\n",
        "train_last4_df,test_last4_df=agdataframe(train_last4,doc_label,test_last4)\n",
        "\n",
        "print(train_last_df.shape,test_last_df.shape,train_last4_df.shape,test_last4_df.shape)"
      ],
      "execution_count": 34,
      "outputs": [
        {
          "output_type": "stream",
          "text": [
            "(200, 769) (100, 768) (200, 3073) (100, 3072)\n"
          ],
          "name": "stdout"
        }
      ]
    },
    {
      "cell_type": "code",
      "metadata": {
        "id": "n1fc6M87ydEh"
      },
      "source": [
        "from autogluon.tabular import  TabularPredictor\n",
        "from sklearn.model_selection import StratifiedKFold\n",
        "from sklearn.metrics import classification_report,accuracy_score\n",
        "\n",
        "def loop(data,test):\n",
        "  acc=[]\n",
        "  test_pred=[]\n",
        "  if os.path.isdir('AutogluonModels'):\n",
        "    !rm -rf AutogluonModels\n",
        "  skf = StratifiedKFold(n_splits=5,shuffle=True)\n",
        "  for train_index, test_index in skf.split(data.iloc[:,0:-1], data.iloc[:,-1]):\n",
        "    train=data.iloc[train_index,:]\n",
        "    test=data.iloc[test_index,:]\n",
        "    clf=TabularPredictor(label='Label',verbosity=0).fit(train, presets='best_quality')\n",
        "    res=clf.leaderboard(test,silent=True)\n",
        "    res['score_test']=res['score_test'].round(3)*100\n",
        "    pred = clf.predict(test,model=res.model[0])\n",
        "    accuracy=accuracy_score(test.Label,pred)\n",
        "    acc.append(accuracy)\n",
        "    print('best model ',res.model[0],' accuracy is ',accuracy)\n",
        "    test_pred.append(clf.predict(test,model=res.model[0]))\n",
        "  print('average accuracy is',np.mean(acc))\n",
        "  return test_pred"
      ],
      "execution_count": 35,
      "outputs": []
    },
    {
      "cell_type": "code",
      "metadata": {
        "colab": {
          "base_uri": "https://localhost:8080/"
        },
        "id": "GPyUmTOup9M5",
        "outputId": "939f057d-6b7c-4184-d318-3e6361183ea8"
      },
      "source": [
        "%%time\n",
        "test_pred_last=loop(train_last_df,test_last_df)"
      ],
      "execution_count": 36,
      "outputs": [
        {
          "output_type": "stream",
          "text": [
            "best model  ExtraTreesGini_BAG_L1  accuracy is  0.725\n",
            "best model  LightGBMLarge_BAG_L1  accuracy is  0.65\n",
            "best model  KNeighborsDist_BAG_L1  accuracy is  0.725\n",
            "best model  ExtraTreesGini_BAG_L1  accuracy is  0.725\n",
            "best model  RandomForestGini_BAG_L1  accuracy is  0.8\n",
            "average accuracy is 0.725\n",
            "CPU times: user 20min 9s, sys: 15.6 s, total: 20min 24s\n",
            "Wall time: 12min 25s\n"
          ],
          "name": "stdout"
        }
      ]
    },
    {
      "cell_type": "code",
      "metadata": {
        "colab": {
          "base_uri": "https://localhost:8080/"
        },
        "id": "Ba4ucZrvqM-_",
        "outputId": "2fb228af-7716-40cb-88b1-ee5c579440da"
      },
      "source": [
        "%%time\n",
        "test_pred_last4=loop(train_last4_df,test_last4_df)"
      ],
      "execution_count": 37,
      "outputs": [
        {
          "output_type": "stream",
          "text": [
            "best model  ExtraTreesGini_BAG_L1  accuracy is  0.7\n",
            "best model  RandomForestEntr_BAG_L1  accuracy is  0.7\n",
            "best model  NeuralNetMXNet_BAG_L1  accuracy is  0.75\n",
            "best model  ExtraTreesGini_BAG_L1  accuracy is  0.775\n",
            "best model  LightGBM_BAG_L1  accuracy is  0.775\n",
            "average accuracy is 0.74\n",
            "CPU times: user 1h 19min 52s, sys: 28 s, total: 1h 20min 20s\n",
            "Wall time: 46min 21s\n"
          ],
          "name": "stdout"
        }
      ]
    },
    {
      "cell_type": "code",
      "metadata": {
        "id": "c7wIjQwDBf5M"
      },
      "source": [
        "def make_final(test_pred):\n",
        "  ids=test_path.id.apply(lambda x:x.split('/')[-1].split('.')[0])\n",
        "  pred=np.mean(test_pred,axis=0)\n",
        "  lang=['en']*len(test_path)\n",
        "  #pred=np.where(pred>0.5,1,0)\n",
        "  final=pd.DataFrame(zip(ids,lang,pred),columns=['author-id','lang','type'])\n",
        "  return final"
      ],
      "execution_count": 40,
      "outputs": []
    },
    {
      "cell_type": "code",
      "metadata": {
        "id": "6IrtPJqEBm-x"
      },
      "source": [
        "test_last=make_final(test_pred_last)\n",
        "test_last4=make_final(test_pred_last4)"
      ],
      "execution_count": 41,
      "outputs": []
    },
    {
      "cell_type": "code",
      "metadata": {
        "id": "2yTz0vW8CPMz"
      },
      "source": [
        "test_last.to_csv('berttweet1_72.csv',index=False)\n",
        "test_last4.to_csv('berttwee2_74.csv',index=False)"
      ],
      "execution_count": 44,
      "outputs": []
    },
    {
      "cell_type": "code",
      "metadata": {
        "colab": {
          "base_uri": "https://localhost:8080/",
          "height": 202
        },
        "id": "ZSbcCD4fLF9J",
        "outputId": "e6a91607-0961-443c-d3c0-1ca3115cc569"
      },
      "source": [
        "test_last4.head()"
      ],
      "execution_count": 43,
      "outputs": [
        {
          "output_type": "execute_result",
          "data": {
            "text/html": [
              "<div>\n",
              "<style scoped>\n",
              "    .dataframe tbody tr th:only-of-type {\n",
              "        vertical-align: middle;\n",
              "    }\n",
              "\n",
              "    .dataframe tbody tr th {\n",
              "        vertical-align: top;\n",
              "    }\n",
              "\n",
              "    .dataframe thead th {\n",
              "        text-align: right;\n",
              "    }\n",
              "</style>\n",
              "<table border=\"1\" class=\"dataframe\">\n",
              "  <thead>\n",
              "    <tr style=\"text-align: right;\">\n",
              "      <th></th>\n",
              "      <th>author-id</th>\n",
              "      <th>lang</th>\n",
              "      <th>type</th>\n",
              "    </tr>\n",
              "  </thead>\n",
              "  <tbody>\n",
              "    <tr>\n",
              "      <th>0</th>\n",
              "      <td>f2973063f16c0698a6de86c55b5f9ad6</td>\n",
              "      <td>en</td>\n",
              "      <td>0.8</td>\n",
              "    </tr>\n",
              "    <tr>\n",
              "      <th>1</th>\n",
              "      <td>be71e41921653e523aceb555727b61c7</td>\n",
              "      <td>en</td>\n",
              "      <td>0.6</td>\n",
              "    </tr>\n",
              "    <tr>\n",
              "      <th>2</th>\n",
              "      <td>d0235c3e74f79298fc2b6d2427c2060b</td>\n",
              "      <td>en</td>\n",
              "      <td>0.8</td>\n",
              "    </tr>\n",
              "    <tr>\n",
              "      <th>3</th>\n",
              "      <td>314d4bf068314367bc83dc5ae3757e13</td>\n",
              "      <td>en</td>\n",
              "      <td>0.6</td>\n",
              "    </tr>\n",
              "    <tr>\n",
              "      <th>4</th>\n",
              "      <td>fdd27881da241cff7115c1e89caba6dd</td>\n",
              "      <td>en</td>\n",
              "      <td>0.4</td>\n",
              "    </tr>\n",
              "  </tbody>\n",
              "</table>\n",
              "</div>"
            ],
            "text/plain": [
              "                          author-id lang  type\n",
              "0  f2973063f16c0698a6de86c55b5f9ad6   en   0.8\n",
              "1  be71e41921653e523aceb555727b61c7   en   0.6\n",
              "2  d0235c3e74f79298fc2b6d2427c2060b   en   0.8\n",
              "3  314d4bf068314367bc83dc5ae3757e13   en   0.6\n",
              "4  fdd27881da241cff7115c1e89caba6dd   en   0.4"
            ]
          },
          "metadata": {
            "tags": []
          },
          "execution_count": 43
        }
      ]
    },
    {
      "cell_type": "code",
      "metadata": {
        "id": "xjGPiNabLDkn"
      },
      "source": [
        "test_last4\n",
        "test_last4['type'].where(test_last4['type']>0.5,1,inplace=True)\n",
        "test_last4['type'].where(test_last4['type']<0.5,0,inplace=True)\n"
      ],
      "execution_count": null,
      "outputs": []
    },
    {
      "cell_type": "code",
      "metadata": {
        "id": "mbHhXEAnLxQX"
      },
      "source": [
        "test_last4['type']=test_last4['type'].astype(int)"
      ],
      "execution_count": null,
      "outputs": []
    },
    {
      "cell_type": "code",
      "metadata": {
        "id": "XIdChCfUOL75"
      },
      "source": [
        "if os.path.isdir('output'):\n",
        "  !rm -rf output\n",
        "  !mkdir output\n",
        "  !rm talha.zip\n",
        "else:\n",
        "  !mkdir output"
      ],
      "execution_count": null,
      "outputs": []
    },
    {
      "cell_type": "code",
      "metadata": {
        "id": "zvFjkD0GCjrJ"
      },
      "source": [
        "import pandas as pd\n",
        "df=test_last4.copy()\n",
        "import pandas as pd\n",
        "for row in df.index:\n",
        "    xml = []\n",
        "    xml.append('<author id=\"{}\"'.format(df.loc[row,'author-id']))\n",
        "    xml.append('lang=\"{}\"'.format(df.loc[row,'lang']))\n",
        "    xml.append('type=\"{}\"'.format(df.loc[row,'type']))\n",
        "    xml.append('/>')\n",
        "    x='\\n'.join(xml)\n",
        "    myfile = open(\"output/{}.xml\".format(df.loc[row,'author-id']), \"w\")\n",
        "    myfile.write(x)\n",
        "    myfile.close()\n",
        "    "
      ],
      "execution_count": null,
      "outputs": []
    },
    {
      "cell_type": "code",
      "metadata": {
        "id": "-IdSq-2GOVzu"
      },
      "source": [
        "%%capture\n",
        "!zip -r talha.zip output"
      ],
      "execution_count": null,
      "outputs": []
    },
    {
      "cell_type": "code",
      "metadata": {
        "id": "-kkZ4BNlPNjH"
      },
      "source": [
        ""
      ],
      "execution_count": null,
      "outputs": []
    }
  ]
}