{
  "nbformat": 4,
  "nbformat_minor": 0,
  "metadata": {
    "colab": {
      "name": "bert_base.ipynb",
      "provenance": [],
      "collapsed_sections": [],
      "toc_visible": true
    },
    "kernelspec": {
      "name": "python3",
      "display_name": "Python 3"
    },
    "language_info": {
      "name": "python"
    },
    "accelerator": "GPU",
    "widgets": {
      "application/vnd.jupyter.widget-state+json": {
        "78808445c9fc4737a2fedc365851c4e1": {
          "model_module": "@jupyter-widgets/controls",
          "model_name": "HBoxModel",
          "state": {
            "_view_name": "HBoxView",
            "_dom_classes": [],
            "_model_name": "HBoxModel",
            "_view_module": "@jupyter-widgets/controls",
            "_model_module_version": "1.5.0",
            "_view_count": null,
            "_view_module_version": "1.5.0",
            "box_style": "",
            "layout": "IPY_MODEL_30e7d2c9d20343ea97c712f82f120b7c",
            "_model_module": "@jupyter-widgets/controls",
            "children": [
              "IPY_MODEL_9868be09c95f4883ace922bee5df261f",
              "IPY_MODEL_87ae8cfc9fdc4ed3972ae28206aec0c6"
            ]
          }
        },
        "30e7d2c9d20343ea97c712f82f120b7c": {
          "model_module": "@jupyter-widgets/base",
          "model_name": "LayoutModel",
          "state": {
            "_view_name": "LayoutView",
            "grid_template_rows": null,
            "right": null,
            "justify_content": null,
            "_view_module": "@jupyter-widgets/base",
            "overflow": null,
            "_model_module_version": "1.2.0",
            "_view_count": null,
            "flex_flow": null,
            "width": null,
            "min_width": null,
            "border": null,
            "align_items": null,
            "bottom": null,
            "_model_module": "@jupyter-widgets/base",
            "top": null,
            "grid_column": null,
            "overflow_y": null,
            "overflow_x": null,
            "grid_auto_flow": null,
            "grid_area": null,
            "grid_template_columns": null,
            "flex": null,
            "_model_name": "LayoutModel",
            "justify_items": null,
            "grid_row": null,
            "max_height": null,
            "align_content": null,
            "visibility": null,
            "align_self": null,
            "height": null,
            "min_height": null,
            "padding": null,
            "grid_auto_rows": null,
            "grid_gap": null,
            "max_width": null,
            "order": null,
            "_view_module_version": "1.2.0",
            "grid_template_areas": null,
            "object_position": null,
            "object_fit": null,
            "grid_auto_columns": null,
            "margin": null,
            "display": null,
            "left": null
          }
        },
        "9868be09c95f4883ace922bee5df261f": {
          "model_module": "@jupyter-widgets/controls",
          "model_name": "FloatProgressModel",
          "state": {
            "_view_name": "ProgressView",
            "style": "IPY_MODEL_c639a9a3fac146998cad8614a14ae278",
            "_dom_classes": [],
            "description": "Downloading: 100%",
            "_model_name": "FloatProgressModel",
            "bar_style": "success",
            "max": 440473133,
            "_view_module": "@jupyter-widgets/controls",
            "_model_module_version": "1.5.0",
            "value": 440473133,
            "_view_count": null,
            "_view_module_version": "1.5.0",
            "orientation": "horizontal",
            "min": 0,
            "description_tooltip": null,
            "_model_module": "@jupyter-widgets/controls",
            "layout": "IPY_MODEL_d0685be6698c45eb8a5eb87b7cd1188b"
          }
        },
        "87ae8cfc9fdc4ed3972ae28206aec0c6": {
          "model_module": "@jupyter-widgets/controls",
          "model_name": "HTMLModel",
          "state": {
            "_view_name": "HTMLView",
            "style": "IPY_MODEL_7d8aa9ef8d204c03a61920b3a58a07d5",
            "_dom_classes": [],
            "description": "",
            "_model_name": "HTMLModel",
            "placeholder": "​",
            "_view_module": "@jupyter-widgets/controls",
            "_model_module_version": "1.5.0",
            "value": " 440M/440M [00:14&lt;00:00, 30.6MB/s]",
            "_view_count": null,
            "_view_module_version": "1.5.0",
            "description_tooltip": null,
            "_model_module": "@jupyter-widgets/controls",
            "layout": "IPY_MODEL_7fbc0fe9ca214c99a5fe3b0006aecb50"
          }
        },
        "c639a9a3fac146998cad8614a14ae278": {
          "model_module": "@jupyter-widgets/controls",
          "model_name": "ProgressStyleModel",
          "state": {
            "_view_name": "StyleView",
            "_model_name": "ProgressStyleModel",
            "description_width": "initial",
            "_view_module": "@jupyter-widgets/base",
            "_model_module_version": "1.5.0",
            "_view_count": null,
            "_view_module_version": "1.2.0",
            "bar_color": null,
            "_model_module": "@jupyter-widgets/controls"
          }
        },
        "d0685be6698c45eb8a5eb87b7cd1188b": {
          "model_module": "@jupyter-widgets/base",
          "model_name": "LayoutModel",
          "state": {
            "_view_name": "LayoutView",
            "grid_template_rows": null,
            "right": null,
            "justify_content": null,
            "_view_module": "@jupyter-widgets/base",
            "overflow": null,
            "_model_module_version": "1.2.0",
            "_view_count": null,
            "flex_flow": null,
            "width": null,
            "min_width": null,
            "border": null,
            "align_items": null,
            "bottom": null,
            "_model_module": "@jupyter-widgets/base",
            "top": null,
            "grid_column": null,
            "overflow_y": null,
            "overflow_x": null,
            "grid_auto_flow": null,
            "grid_area": null,
            "grid_template_columns": null,
            "flex": null,
            "_model_name": "LayoutModel",
            "justify_items": null,
            "grid_row": null,
            "max_height": null,
            "align_content": null,
            "visibility": null,
            "align_self": null,
            "height": null,
            "min_height": null,
            "padding": null,
            "grid_auto_rows": null,
            "grid_gap": null,
            "max_width": null,
            "order": null,
            "_view_module_version": "1.2.0",
            "grid_template_areas": null,
            "object_position": null,
            "object_fit": null,
            "grid_auto_columns": null,
            "margin": null,
            "display": null,
            "left": null
          }
        },
        "7d8aa9ef8d204c03a61920b3a58a07d5": {
          "model_module": "@jupyter-widgets/controls",
          "model_name": "DescriptionStyleModel",
          "state": {
            "_view_name": "StyleView",
            "_model_name": "DescriptionStyleModel",
            "description_width": "",
            "_view_module": "@jupyter-widgets/base",
            "_model_module_version": "1.5.0",
            "_view_count": null,
            "_view_module_version": "1.2.0",
            "_model_module": "@jupyter-widgets/controls"
          }
        },
        "7fbc0fe9ca214c99a5fe3b0006aecb50": {
          "model_module": "@jupyter-widgets/base",
          "model_name": "LayoutModel",
          "state": {
            "_view_name": "LayoutView",
            "grid_template_rows": null,
            "right": null,
            "justify_content": null,
            "_view_module": "@jupyter-widgets/base",
            "overflow": null,
            "_model_module_version": "1.2.0",
            "_view_count": null,
            "flex_flow": null,
            "width": null,
            "min_width": null,
            "border": null,
            "align_items": null,
            "bottom": null,
            "_model_module": "@jupyter-widgets/base",
            "top": null,
            "grid_column": null,
            "overflow_y": null,
            "overflow_x": null,
            "grid_auto_flow": null,
            "grid_area": null,
            "grid_template_columns": null,
            "flex": null,
            "_model_name": "LayoutModel",
            "justify_items": null,
            "grid_row": null,
            "max_height": null,
            "align_content": null,
            "visibility": null,
            "align_self": null,
            "height": null,
            "min_height": null,
            "padding": null,
            "grid_auto_rows": null,
            "grid_gap": null,
            "max_width": null,
            "order": null,
            "_view_module_version": "1.2.0",
            "grid_template_areas": null,
            "object_position": null,
            "object_fit": null,
            "grid_auto_columns": null,
            "margin": null,
            "display": null,
            "left": null
          }
        }
      }
    }
  },
  "cells": [
    {
      "cell_type": "code",
      "metadata": {
        "colab": {
          "base_uri": "https://localhost:8080/"
        },
        "id": "nUUMksNxDZuV",
        "outputId": "8e24f7e4-67d4-4568-e847-9ad010dace02"
      },
      "source": [
        "!nvidia-smi -L"
      ],
      "execution_count": 1,
      "outputs": [
        {
          "output_type": "stream",
          "text": [
            "GPU 0: Tesla P100-PCIE-16GB (UUID: GPU-b2eaa6a8-ce73-ad93-0ec8-37e6845314cd)\n"
          ],
          "name": "stdout"
        }
      ]
    },
    {
      "cell_type": "markdown",
      "metadata": {
        "id": "P-3gL08E2izB"
      },
      "source": [
        "#install pacakges"
      ]
    },
    {
      "cell_type": "code",
      "metadata": {
        "id": "tfXdcDubvVmI"
      },
      "source": [
        "%%capture\n",
        "!python3 -m pip install -U pip\n",
        "!python3 -m pip install -U setuptools wheel\n",
        "!python3 -m pip install -U \"mxnet_cu110<2.0.0\"\n",
        "!python3 -m pip install autogluon"
      ],
      "execution_count": 1,
      "outputs": []
    },
    {
      "cell_type": "code",
      "metadata": {
        "id": "m3e8ItjyrbC5"
      },
      "source": [
        "%%capture\n",
        "!pip install -U transformers"
      ],
      "execution_count": 2,
      "outputs": []
    },
    {
      "cell_type": "markdown",
      "metadata": {
        "id": "tbFVgzDJ2tkN"
      },
      "source": [
        "# download data"
      ]
    },
    {
      "cell_type": "code",
      "metadata": {
        "id": "sLK8NbVADmwP",
        "colab": {
          "base_uri": "https://localhost:8080/"
        },
        "outputId": "57ba924d-f2d6-4d02-fc82-a422964a20bd"
      },
      "source": [
        "import os\n",
        "if os.path.isdir('/content/Profiling-Hate-Speech-Spreaders-on-Twitter') is False:\n",
        "    !git clone https://github.com/talhaanwarch/Profiling-Hate-Speech-Spreaders-on-Twitter.git"
      ],
      "execution_count": 3,
      "outputs": [
        {
          "output_type": "stream",
          "text": [
            "Cloning into 'Profiling-Hate-Speech-Spreaders-on-Twitter'...\n",
            "remote: Enumerating objects: 19, done.\u001b[K\n",
            "remote: Counting objects: 100% (19/19), done.\u001b[K\n",
            "remote: Compressing objects: 100% (17/17), done.\u001b[K\n",
            "remote: Total 19 (delta 1), reused 0 (delta 0), pack-reused 0\u001b[K\n",
            "Unpacking objects: 100% (19/19), done.\n"
          ],
          "name": "stdout"
        }
      ]
    },
    {
      "cell_type": "code",
      "metadata": {
        "id": "1AK6vaH6frHn"
      },
      "source": [
        "with open('pass.txt','r') as f:\n",
        "  pas=f.read()\n"
      ],
      "execution_count": 4,
      "outputs": []
    },
    {
      "cell_type": "code",
      "metadata": {
        "id": "xWClrObg1m3o"
      },
      "source": [
        "import zipfile\n",
        "if os.path.isdir('train') is False:\n",
        "  train_path='/content/Profiling-Hate-Speech-Spreaders-on-Twitter/data/train.zip'\n",
        "  with zipfile.ZipFile(train_path,\"r\") as zip_ref:\n",
        "    zip_ref.extractall(\".\",pwd = bytes(pas,'utf-8'))\n",
        "if os.path.isdir('test') is False:\n",
        "  test_path='/content/Profiling-Hate-Speech-Spreaders-on-Twitter/data/test.zip'\n",
        "  with zipfile.ZipFile(test_path,\"r\") as zip_ref:\n",
        "    zip_ref.extractall(\".\",pwd = bytes(pas,'utf-8'))"
      ],
      "execution_count": 5,
      "outputs": []
    },
    {
      "cell_type": "markdown",
      "metadata": {
        "id": "o0x1BkHU2vGa"
      },
      "source": [
        "# prepare data"
      ]
    },
    {
      "cell_type": "markdown",
      "metadata": {
        "id": "hEC85rpu-ur5"
      },
      "source": [
        "## train data"
      ]
    },
    {
      "cell_type": "code",
      "metadata": {
        "id": "uFzbJ_gC1EJw"
      },
      "source": [
        "import pandas as pd\n",
        "import numpy as np\n",
        "import matplotlib.pyplot as plt\n",
        "df=pd.read_csv('train/en/truth.txt',sep=':::',header=None,engine='python')\n",
        "df.columns=['id','label']"
      ],
      "execution_count": 6,
      "outputs": []
    },
    {
      "cell_type": "code",
      "metadata": {
        "colab": {
          "base_uri": "https://localhost:8080/"
        },
        "id": "3ROlQoSB7Yh_",
        "outputId": "eb657e2d-9a88-4e57-abe5-661fa5633bab"
      },
      "source": [
        "df.label.value_counts()"
      ],
      "execution_count": 7,
      "outputs": [
        {
          "output_type": "execute_result",
          "data": {
            "text/plain": [
              "1    100\n",
              "0    100\n",
              "Name: label, dtype: int64"
            ]
          },
          "metadata": {
            "tags": []
          },
          "execution_count": 7
        }
      ]
    },
    {
      "cell_type": "code",
      "metadata": {
        "colab": {
          "base_uri": "https://localhost:8080/"
        },
        "id": "v_JM-_us1LS7",
        "outputId": "f754054b-0ee9-4010-8866-06415c3a5224"
      },
      "source": [
        "import nltk\n",
        "from nltk.corpus import stopwords\n",
        "from nltk.stem import WordNetLemmatizer\n",
        "nltk.download('wordnet')\n",
        "nltk.download('stopwords')\n",
        "lemmatizer = WordNetLemmatizer()\n",
        "w_tokenizer = nltk.tokenize.WhitespaceTokenizer()\n",
        "stop = stopwords.words('english')"
      ],
      "execution_count": 8,
      "outputs": [
        {
          "output_type": "stream",
          "text": [
            "[nltk_data] Downloading package wordnet to /root/nltk_data...\n",
            "[nltk_data]   Unzipping corpora/wordnet.zip.\n",
            "[nltk_data] Downloading package stopwords to /root/nltk_data...\n",
            "[nltk_data]   Unzipping corpora/stopwords.zip.\n"
          ],
          "name": "stdout"
        }
      ]
    },
    {
      "cell_type": "code",
      "metadata": {
        "id": "yEBoiYus1-q3"
      },
      "source": [
        "def preprocessing(text):\n",
        "    text=text.str.replace('\\d+', '')\n",
        "    text=text.str.replace('RT','')\n",
        "    text=text.str.replace('#USER#','')\n",
        "    text=text.str.replace('_','')\n",
        "    text=text.str.replace('#URL#','')\n",
        "    text= text.str.lower()\n",
        "    text = text.str.replace('[^\\w\\s]','')\n",
        "    #text = text.apply(lambda x : [lemmatizer.lemmatize(y) for y in w_tokenizer.tokenize(x)])\n",
        "    #text = text.apply(lambda x: [item for item in x if item not in stop])\n",
        "    #text = text.apply(lambda x : \" \".join(x))\n",
        "    return text"
      ],
      "execution_count": 9,
      "outputs": []
    },
    {
      "cell_type": "code",
      "metadata": {
        "colab": {
          "base_uri": "https://localhost:8080/",
          "height": 202
        },
        "id": "KuCfiRvP2AEC",
        "outputId": "e83809d7-aed6-4be7-d558-37cff84609b9"
      },
      "source": [
        "df.id='train/en/'+df.id.astype(str)+'.xml'\n",
        "df.head()"
      ],
      "execution_count": 10,
      "outputs": [
        {
          "output_type": "execute_result",
          "data": {
            "text/html": [
              "<div>\n",
              "<style scoped>\n",
              "    .dataframe tbody tr th:only-of-type {\n",
              "        vertical-align: middle;\n",
              "    }\n",
              "\n",
              "    .dataframe tbody tr th {\n",
              "        vertical-align: top;\n",
              "    }\n",
              "\n",
              "    .dataframe thead th {\n",
              "        text-align: right;\n",
              "    }\n",
              "</style>\n",
              "<table border=\"1\" class=\"dataframe\">\n",
              "  <thead>\n",
              "    <tr style=\"text-align: right;\">\n",
              "      <th></th>\n",
              "      <th>id</th>\n",
              "      <th>label</th>\n",
              "    </tr>\n",
              "  </thead>\n",
              "  <tbody>\n",
              "    <tr>\n",
              "      <th>0</th>\n",
              "      <td>train/en/639b8e5e6a527d494c85d8f5704b1a01.xml</td>\n",
              "      <td>0</td>\n",
              "    </tr>\n",
              "    <tr>\n",
              "      <th>1</th>\n",
              "      <td>train/en/f2b1fc84c500c38a93522efbd422b559.xml</td>\n",
              "      <td>0</td>\n",
              "    </tr>\n",
              "    <tr>\n",
              "      <th>2</th>\n",
              "      <td>train/en/10b2d013382e1fb3c9414ea28329f258.xml</td>\n",
              "      <td>0</td>\n",
              "    </tr>\n",
              "    <tr>\n",
              "      <th>3</th>\n",
              "      <td>train/en/26644d1348fc1122e8c5ef45d6bc84fa.xml</td>\n",
              "      <td>0</td>\n",
              "    </tr>\n",
              "    <tr>\n",
              "      <th>4</th>\n",
              "      <td>train/en/4d4c5dcbfe38d0d33a0d1b1419952ca8.xml</td>\n",
              "      <td>0</td>\n",
              "    </tr>\n",
              "  </tbody>\n",
              "</table>\n",
              "</div>"
            ],
            "text/plain": [
              "                                              id  label\n",
              "0  train/en/639b8e5e6a527d494c85d8f5704b1a01.xml      0\n",
              "1  train/en/f2b1fc84c500c38a93522efbd422b559.xml      0\n",
              "2  train/en/10b2d013382e1fb3c9414ea28329f258.xml      0\n",
              "3  train/en/26644d1348fc1122e8c5ef45d6bc84fa.xml      0\n",
              "4  train/en/4d4c5dcbfe38d0d33a0d1b1419952ca8.xml      0"
            ]
          },
          "metadata": {
            "tags": []
          },
          "execution_count": 10
        }
      ]
    },
    {
      "cell_type": "code",
      "metadata": {
        "colab": {
          "base_uri": "https://localhost:8080/"
        },
        "id": "WALZdHXd2BSE",
        "outputId": "91a90cd3-1ce6-4311-e157-5ed56b2a5d20"
      },
      "source": [
        "len(df)"
      ],
      "execution_count": 11,
      "outputs": [
        {
          "output_type": "execute_result",
          "data": {
            "text/plain": [
              "200"
            ]
          },
          "metadata": {
            "tags": []
          },
          "execution_count": 11
        }
      ]
    },
    {
      "cell_type": "code",
      "metadata": {
        "id": "LuY7kaIJ2C4G"
      },
      "source": [
        "import xml.etree.ElementTree as ET\n",
        "def reader(df,ground=True):\n",
        "  data=[]\n",
        "  for x in df.iterrows():\n",
        "      \n",
        "      tree = ET.parse(x[1].id)\n",
        "      root = tree.getroot()\n",
        "      text=[x.text for x in root[0]]\n",
        "      if ground:\n",
        "        label=[x[1].label]*len(text)\n",
        "        data.append(pd.DataFrame(zip(text,label),columns=['text','label']))\n",
        "      else:\n",
        "        data.append(pd.DataFrame(text,columns=['text']))\n",
        "  return data"
      ],
      "execution_count": 12,
      "outputs": []
    },
    {
      "cell_type": "code",
      "metadata": {
        "id": "hNrFeS0n-HIv"
      },
      "source": [
        "data=reader(df)"
      ],
      "execution_count": 13,
      "outputs": []
    },
    {
      "cell_type": "code",
      "metadata": {
        "colab": {
          "base_uri": "https://localhost:8080/",
          "height": 202
        },
        "id": "pdcFOycQ2Etp",
        "outputId": "35cc4572-7c2a-4bd4-c8e8-d1ff9127b03c"
      },
      "source": [
        "data[0].head()"
      ],
      "execution_count": 14,
      "outputs": [
        {
          "output_type": "execute_result",
          "data": {
            "text/html": [
              "<div>\n",
              "<style scoped>\n",
              "    .dataframe tbody tr th:only-of-type {\n",
              "        vertical-align: middle;\n",
              "    }\n",
              "\n",
              "    .dataframe tbody tr th {\n",
              "        vertical-align: top;\n",
              "    }\n",
              "\n",
              "    .dataframe thead th {\n",
              "        text-align: right;\n",
              "    }\n",
              "</style>\n",
              "<table border=\"1\" class=\"dataframe\">\n",
              "  <thead>\n",
              "    <tr style=\"text-align: right;\">\n",
              "      <th></th>\n",
              "      <th>text</th>\n",
              "      <th>label</th>\n",
              "    </tr>\n",
              "  </thead>\n",
              "  <tbody>\n",
              "    <tr>\n",
              "      <th>0</th>\n",
              "      <td>RT #USER#: Funny how “15 days to slow the spre...</td>\n",
              "      <td>0</td>\n",
              "    </tr>\n",
              "    <tr>\n",
              "      <th>1</th>\n",
              "      <td>RT #USER#: Why did Minneapolis just give Georg...</td>\n",
              "      <td>0</td>\n",
              "    </tr>\n",
              "    <tr>\n",
              "      <th>2</th>\n",
              "      <td>RT #USER#: To be fair, he has done a lot of un...</td>\n",
              "      <td>0</td>\n",
              "    </tr>\n",
              "    <tr>\n",
              "      <th>3</th>\n",
              "      <td>RT #USER#: President Trump got us the #HASHTAG...</td>\n",
              "      <td>0</td>\n",
              "    </tr>\n",
              "    <tr>\n",
              "      <th>4</th>\n",
              "      <td>RT #USER#: Is the case against former officer ...</td>\n",
              "      <td>0</td>\n",
              "    </tr>\n",
              "  </tbody>\n",
              "</table>\n",
              "</div>"
            ],
            "text/plain": [
              "                                                text  label\n",
              "0  RT #USER#: Funny how “15 days to slow the spre...      0\n",
              "1  RT #USER#: Why did Minneapolis just give Georg...      0\n",
              "2  RT #USER#: To be fair, he has done a lot of un...      0\n",
              "3  RT #USER#: President Trump got us the #HASHTAG...      0\n",
              "4  RT #USER#: Is the case against former officer ...      0"
            ]
          },
          "metadata": {
            "tags": []
          },
          "execution_count": 14
        }
      ]
    },
    {
      "cell_type": "code",
      "metadata": {
        "id": "Z8g5Ah4IhA3u"
      },
      "source": [
        "\n",
        "datax=data.copy()\n",
        "for d in range(len(data)):\n",
        "  datax[d].text=preprocessing(data[d].text)\n"
      ],
      "execution_count": 15,
      "outputs": []
    },
    {
      "cell_type": "code",
      "metadata": {
        "colab": {
          "base_uri": "https://localhost:8080/",
          "height": 202
        },
        "id": "_F5iHi5umS9F",
        "outputId": "d26fdd9d-6676-4cec-af03-ad2455b1997a"
      },
      "source": [
        "datax[0].head()"
      ],
      "execution_count": 16,
      "outputs": [
        {
          "output_type": "execute_result",
          "data": {
            "text/html": [
              "<div>\n",
              "<style scoped>\n",
              "    .dataframe tbody tr th:only-of-type {\n",
              "        vertical-align: middle;\n",
              "    }\n",
              "\n",
              "    .dataframe tbody tr th {\n",
              "        vertical-align: top;\n",
              "    }\n",
              "\n",
              "    .dataframe thead th {\n",
              "        text-align: right;\n",
              "    }\n",
              "</style>\n",
              "<table border=\"1\" class=\"dataframe\">\n",
              "  <thead>\n",
              "    <tr style=\"text-align: right;\">\n",
              "      <th></th>\n",
              "      <th>text</th>\n",
              "      <th>label</th>\n",
              "    </tr>\n",
              "  </thead>\n",
              "  <tbody>\n",
              "    <tr>\n",
              "      <th>0</th>\n",
              "      <td>funny how  days to slow the spread turned in...</td>\n",
              "      <td>0</td>\n",
              "    </tr>\n",
              "    <tr>\n",
              "      <th>1</th>\n",
              "      <td>why did minneapolis just give george floyds ...</td>\n",
              "      <td>0</td>\n",
              "    </tr>\n",
              "    <tr>\n",
              "      <th>2</th>\n",
              "      <td>to be fair he has done a lot of undercover w...</td>\n",
              "      <td>0</td>\n",
              "    </tr>\n",
              "    <tr>\n",
              "      <th>3</th>\n",
              "      <td>president trump got us the hashtag vaccine p...</td>\n",
              "      <td>0</td>\n",
              "    </tr>\n",
              "    <tr>\n",
              "      <th>4</th>\n",
              "      <td>is the case against former officer derek cha...</td>\n",
              "      <td>0</td>\n",
              "    </tr>\n",
              "  </tbody>\n",
              "</table>\n",
              "</div>"
            ],
            "text/plain": [
              "                                                text  label\n",
              "0    funny how  days to slow the spread turned in...      0\n",
              "1    why did minneapolis just give george floyds ...      0\n",
              "2    to be fair he has done a lot of undercover w...      0\n",
              "3    president trump got us the hashtag vaccine p...      0\n",
              "4    is the case against former officer derek cha...      0"
            ]
          },
          "metadata": {
            "tags": []
          },
          "execution_count": 16
        }
      ]
    },
    {
      "cell_type": "code",
      "metadata": {
        "colab": {
          "base_uri": "https://localhost:8080/"
        },
        "id": "-z9YynVjaVVR",
        "outputId": "0dd2f5fd-0d3c-4e7d-884c-4badd48d1c90"
      },
      "source": [
        "len(datax[0])"
      ],
      "execution_count": 17,
      "outputs": [
        {
          "output_type": "execute_result",
          "data": {
            "text/plain": [
              "200"
            ]
          },
          "metadata": {
            "tags": []
          },
          "execution_count": 17
        }
      ]
    },
    {
      "cell_type": "code",
      "metadata": {
        "id": "lojbROKwjNRV"
      },
      "source": [
        "doc_text,doc_label,=[],[]\n",
        "for i in range(len(datax)):\n",
        "  doc_text.append(list(datax[i].text))\n",
        "  doc_label.append(int(datax[i].mean()))"
      ],
      "execution_count": 18,
      "outputs": []
    },
    {
      "cell_type": "code",
      "metadata": {
        "colab": {
          "base_uri": "https://localhost:8080/"
        },
        "id": "rm3keInmpnBK",
        "outputId": "2b639bc8-53ed-4290-b795-8783a0b27dc4"
      },
      "source": [
        "len(doc_text),len(doc_label)"
      ],
      "execution_count": 19,
      "outputs": [
        {
          "output_type": "execute_result",
          "data": {
            "text/plain": [
              "(200, 200)"
            ]
          },
          "metadata": {
            "tags": []
          },
          "execution_count": 19
        }
      ]
    },
    {
      "cell_type": "markdown",
      "metadata": {
        "id": "4EW-8kNIdK7D"
      },
      "source": [
        "## test data"
      ]
    },
    {
      "cell_type": "code",
      "metadata": {
        "colab": {
          "base_uri": "https://localhost:8080/",
          "height": 202
        },
        "id": "vY6T_bk1-0RT",
        "outputId": "a88571c3-018a-465a-af2d-6641abf02645"
      },
      "source": [
        "from glob import glob\n",
        "test_path=pd.DataFrame(glob('test/en/*.xml'),columns=['id'])\n",
        "test_path.head()"
      ],
      "execution_count": 20,
      "outputs": [
        {
          "output_type": "execute_result",
          "data": {
            "text/html": [
              "<div>\n",
              "<style scoped>\n",
              "    .dataframe tbody tr th:only-of-type {\n",
              "        vertical-align: middle;\n",
              "    }\n",
              "\n",
              "    .dataframe tbody tr th {\n",
              "        vertical-align: top;\n",
              "    }\n",
              "\n",
              "    .dataframe thead th {\n",
              "        text-align: right;\n",
              "    }\n",
              "</style>\n",
              "<table border=\"1\" class=\"dataframe\">\n",
              "  <thead>\n",
              "    <tr style=\"text-align: right;\">\n",
              "      <th></th>\n",
              "      <th>id</th>\n",
              "    </tr>\n",
              "  </thead>\n",
              "  <tbody>\n",
              "    <tr>\n",
              "      <th>0</th>\n",
              "      <td>test/en/f2973063f16c0698a6de86c55b5f9ad6.xml</td>\n",
              "    </tr>\n",
              "    <tr>\n",
              "      <th>1</th>\n",
              "      <td>test/en/be71e41921653e523aceb555727b61c7.xml</td>\n",
              "    </tr>\n",
              "    <tr>\n",
              "      <th>2</th>\n",
              "      <td>test/en/d0235c3e74f79298fc2b6d2427c2060b.xml</td>\n",
              "    </tr>\n",
              "    <tr>\n",
              "      <th>3</th>\n",
              "      <td>test/en/314d4bf068314367bc83dc5ae3757e13.xml</td>\n",
              "    </tr>\n",
              "    <tr>\n",
              "      <th>4</th>\n",
              "      <td>test/en/fdd27881da241cff7115c1e89caba6dd.xml</td>\n",
              "    </tr>\n",
              "  </tbody>\n",
              "</table>\n",
              "</div>"
            ],
            "text/plain": [
              "                                             id\n",
              "0  test/en/f2973063f16c0698a6de86c55b5f9ad6.xml\n",
              "1  test/en/be71e41921653e523aceb555727b61c7.xml\n",
              "2  test/en/d0235c3e74f79298fc2b6d2427c2060b.xml\n",
              "3  test/en/314d4bf068314367bc83dc5ae3757e13.xml\n",
              "4  test/en/fdd27881da241cff7115c1e89caba6dd.xml"
            ]
          },
          "metadata": {
            "tags": []
          },
          "execution_count": 20
        }
      ]
    },
    {
      "cell_type": "code",
      "metadata": {
        "id": "2qsFnJQA-2fl"
      },
      "source": [
        "test_data=reader(test_path,ground=False)"
      ],
      "execution_count": 21,
      "outputs": []
    },
    {
      "cell_type": "code",
      "metadata": {
        "id": "9f1a9ZWV-2iT"
      },
      "source": [
        "\n",
        "test_datax=test_data.copy()\n",
        "for d in range(len(test_datax)):\n",
        "  test_datax[d].text=preprocessing(test_datax[d].text)\n"
      ],
      "execution_count": 22,
      "outputs": []
    },
    {
      "cell_type": "code",
      "metadata": {
        "id": "eWCjKH8c-2lp"
      },
      "source": [
        "test_doc=[]\n",
        "for i in range(len(test_datax)):\n",
        "  test_doc.append(list(test_datax[i].text))"
      ],
      "execution_count": 23,
      "outputs": []
    },
    {
      "cell_type": "code",
      "metadata": {
        "colab": {
          "base_uri": "https://localhost:8080/"
        },
        "id": "DkTpTKHLkp8h",
        "outputId": "5d98b912-7d1b-4604-a7ea-36aea35c4ac0"
      },
      "source": [
        "len(test_doc)"
      ],
      "execution_count": 24,
      "outputs": [
        {
          "output_type": "execute_result",
          "data": {
            "text/plain": [
              "100"
            ]
          },
          "metadata": {
            "tags": []
          },
          "execution_count": 24
        }
      ]
    },
    {
      "cell_type": "markdown",
      "metadata": {
        "id": "uk_kXqTk20rp"
      },
      "source": [
        "# generate embeddings"
      ]
    },
    {
      "cell_type": "code",
      "metadata": {
        "colab": {
          "base_uri": "https://localhost:8080/",
          "height": 139,
          "referenced_widgets": [
            "78808445c9fc4737a2fedc365851c4e1",
            "30e7d2c9d20343ea97c712f82f120b7c",
            "9868be09c95f4883ace922bee5df261f",
            "87ae8cfc9fdc4ed3972ae28206aec0c6",
            "c639a9a3fac146998cad8614a14ae278",
            "d0685be6698c45eb8a5eb87b7cd1188b",
            "7d8aa9ef8d204c03a61920b3a58a07d5",
            "7fbc0fe9ca214c99a5fe3b0006aecb50"
          ]
        },
        "id": "7ClLA5cVuesN",
        "outputId": "757d805b-1e43-4b65-87f4-ca4e29807201"
      },
      "source": [
        "from transformers import AutoTokenizer, AutoModel\n",
        "from torch.nn.utils.rnn import pad_sequence\n",
        "import torch\n",
        "tokenizer = AutoTokenizer.from_pretrained(\"bert-base-uncased\",)\n",
        "model = AutoModel.from_pretrained(\"bert-base-uncased\",output_hidden_states=True)\n"
      ],
      "execution_count": 33,
      "outputs": [
        {
          "output_type": "display_data",
          "data": {
            "application/vnd.jupyter.widget-view+json": {
              "model_id": "78808445c9fc4737a2fedc365851c4e1",
              "version_minor": 0,
              "version_major": 2
            },
            "text/plain": [
              "HBox(children=(FloatProgress(value=0.0, description='Downloading', max=440473133.0, style=ProgressStyle(descri…"
            ]
          },
          "metadata": {
            "tags": []
          }
        },
        {
          "output_type": "stream",
          "text": [
            "\n"
          ],
          "name": "stdout"
        },
        {
          "output_type": "stream",
          "text": [
            "Some weights of the model checkpoint at bert-base-uncased were not used when initializing BertModel: ['cls.predictions.bias', 'cls.seq_relationship.bias', 'cls.predictions.transform.dense.bias', 'cls.predictions.decoder.weight', 'cls.predictions.transform.LayerNorm.bias', 'cls.predictions.transform.dense.weight', 'cls.predictions.transform.LayerNorm.weight', 'cls.seq_relationship.weight']\n",
            "- This IS expected if you are initializing BertModel from the checkpoint of a model trained on another task or with another architecture (e.g. initializing a BertForSequenceClassification model from a BertForPreTraining model).\n",
            "- This IS NOT expected if you are initializing BertModel from the checkpoint of a model that you expect to be exactly identical (initializing a BertForSequenceClassification model from a BertForSequenceClassification model).\n"
          ],
          "name": "stderr"
        }
      ]
    },
    {
      "cell_type": "code",
      "metadata": {
        "id": "rSUMn7qlce7h"
      },
      "source": [
        "device='cuda'\n",
        "model=model.to(device)"
      ],
      "execution_count": 34,
      "outputs": []
    },
    {
      "cell_type": "code",
      "metadata": {
        "id": "H41V3wFMP1DZ"
      },
      "source": [
        "#get data from last hidden layer\n",
        "def create_embeddings(doc_text,max_length=20,cat=False):\n",
        "  doc_embeddings=[]\n",
        "  for text in doc_text:\n",
        "    inputs=tokenizer(text,max_length=max_length,padding=True,truncation=True)\n",
        "    text_seq = torch.tensor(inputs['input_ids']).to(device)\n",
        "    text_mask = torch.tensor(inputs['attention_mask']).to(device)\n",
        "    model.eval()\n",
        "    with torch.no_grad():\n",
        "      outputs= model(text_seq,attention_mask=text_mask)\n",
        "      hidden_states=outputs.hidden_states\n",
        "      if cat:\n",
        "        emb=torch.mean(torch.cat([hidden_states[i] for i in [-1,-2,-3,-4]], dim=-1),1)\n",
        "      else:\n",
        "        emb=torch.mean(hidden_states[11], 1)    \n",
        "      doc_embeddings.append(emb)\n",
        "  x=torch.mean(torch.stack(doc_embeddings),1)\n",
        "  x=np.array(x.cpu())\n",
        "  return x"
      ],
      "execution_count": 35,
      "outputs": []
    },
    {
      "cell_type": "markdown",
      "metadata": {
        "id": "t6yFzlc4n52y"
      },
      "source": [
        "## last layer"
      ]
    },
    {
      "cell_type": "code",
      "metadata": {
        "colab": {
          "base_uri": "https://localhost:8080/"
        },
        "id": "oMDZBFoCxUII",
        "outputId": "666e57fb-dea2-429c-c30f-5595d12c0f1d"
      },
      "source": [
        "%%time\n",
        "train_last=create_embeddings(doc_text)\n",
        "test_last=create_embeddings(test_doc)\n"
      ],
      "execution_count": 36,
      "outputs": [
        {
          "output_type": "stream",
          "text": [
            "CPU times: user 38.4 s, sys: 205 ms, total: 38.6 s\n",
            "Wall time: 36.6 s\n"
          ],
          "name": "stdout"
        }
      ]
    },
    {
      "cell_type": "markdown",
      "metadata": {
        "id": "5346kOUYoHLO"
      },
      "source": [
        "## last 4 layers"
      ]
    },
    {
      "cell_type": "code",
      "metadata": {
        "colab": {
          "base_uri": "https://localhost:8080/"
        },
        "id": "1jsc1PRcn_GC",
        "outputId": "c9c81a6b-1935-4b74-afe0-d43d78aeaab9"
      },
      "source": [
        "%%time\n",
        "train_last4=create_embeddings(doc_text,cat=True)\n",
        "test_last4=create_embeddings(test_doc,cat=True)\n"
      ],
      "execution_count": 37,
      "outputs": [
        {
          "output_type": "stream",
          "text": [
            "CPU times: user 38.5 s, sys: 139 ms, total: 38.7 s\n",
            "Wall time: 36.5 s\n"
          ],
          "name": "stdout"
        }
      ]
    },
    {
      "cell_type": "markdown",
      "metadata": {
        "id": "e7y4abdOs6rG"
      },
      "source": [
        "# AutoGluon"
      ]
    },
    {
      "cell_type": "code",
      "metadata": {
        "id": "2Le9Y729wKYx"
      },
      "source": [
        "def agdataframe(train,label,test):\n",
        "  train_df=pd.concat([pd.DataFrame(train),pd.DataFrame(label)],axis=1)\n",
        "  train_df.columns=['col_{}'.format(i) for i in range(train.shape[1])]+['Label']\n",
        "  train_df = train_df.sample(frac=1).reset_index(drop=True)\n",
        "  test_df=pd.DataFrame(test)\n",
        "  test_df.columns=['col_{}'.format(i) for i in range(test.shape[1])]\n",
        "  return train_df, test_df\n",
        "  "
      ],
      "execution_count": 39,
      "outputs": []
    },
    {
      "cell_type": "code",
      "metadata": {
        "colab": {
          "base_uri": "https://localhost:8080/"
        },
        "id": "zwqkidSR_hC6",
        "outputId": "ef0db1fe-83d5-448c-c426-d366f3508a1f"
      },
      "source": [
        "train_last_df,test_last_df=agdataframe(train_last,doc_label,test_last)\n",
        "train_last4_df,test_last4_df=agdataframe(train_last4,doc_label,test_last4)\n",
        "\n",
        "print(train_last_df.shape,test_last_df.shape,train_last4_df.shape,test_last4_df.shape)"
      ],
      "execution_count": 40,
      "outputs": [
        {
          "output_type": "stream",
          "text": [
            "(200, 769) (100, 768) (200, 3073) (100, 3072)\n"
          ],
          "name": "stdout"
        }
      ]
    },
    {
      "cell_type": "code",
      "metadata": {
        "id": "n1fc6M87ydEh"
      },
      "source": [
        "from autogluon.tabular import  TabularPredictor\n",
        "from sklearn.model_selection import StratifiedKFold\n",
        "from sklearn.metrics import classification_report,accuracy_score\n",
        "\n",
        "def loop(data,test):\n",
        "  acc=[]\n",
        "  test_pred=[]\n",
        "  if os.path.isdir('AutogluonModels'):\n",
        "    !rm -rf AutogluonModels\n",
        "  skf = StratifiedKFold(n_splits=5,shuffle=True)\n",
        "  for train_index, test_index in skf.split(data.iloc[:,0:-1], data.iloc[:,-1]):\n",
        "    train=data.iloc[train_index,:]\n",
        "    test=data.iloc[test_index,:]\n",
        "    clf=TabularPredictor(label='Label',verbosity=0).fit(train, presets='best_quality')\n",
        "    res=clf.leaderboard(test,silent=True)\n",
        "    res['score_test']=res['score_test'].round(3)*100\n",
        "    pred = clf.predict(test,model=res.model[0])\n",
        "    accuracy=accuracy_score(test.Label,pred)\n",
        "    acc.append(accuracy)\n",
        "    print('best model ',res.model[0],' accuracy is ',accuracy)\n",
        "    test_pred.append(clf.predict(test,model=res.model[0]))\n",
        "  print('average accuracy is',np.mean(acc))\n",
        "  return test_pred"
      ],
      "execution_count": 41,
      "outputs": []
    },
    {
      "cell_type": "code",
      "metadata": {
        "colab": {
          "base_uri": "https://localhost:8080/"
        },
        "id": "GPyUmTOup9M5",
        "outputId": "24f94312-5f2b-4d30-a1aa-4c7efa8a1369"
      },
      "source": [
        "%%time\n",
        "test_pred_last=loop(train_last_df,test_last_df)"
      ],
      "execution_count": 42,
      "outputs": [
        {
          "output_type": "stream",
          "text": [
            "best model  ExtraTreesGini_BAG_L1  accuracy is  0.775\n",
            "best model  RandomForestGini_BAG_L1  accuracy is  0.7\n",
            "best model  LightGBM_BAG_L1  accuracy is  0.725\n",
            "best model  WeightedEnsemble_L2  accuracy is  0.825\n",
            "best model  NeuralNetFastAI_BAG_L1  accuracy is  0.725\n",
            "average accuracy is 0.7500000000000001\n",
            "CPU times: user 26min 47s, sys: 22.6 s, total: 27min 10s\n",
            "Wall time: 16min 38s\n"
          ],
          "name": "stdout"
        }
      ]
    },
    {
      "cell_type": "code",
      "metadata": {
        "colab": {
          "base_uri": "https://localhost:8080/"
        },
        "id": "Ba4ucZrvqM-_",
        "outputId": "2609a4a5-a266-4f24-af6f-1d4f8dd694cd"
      },
      "source": [
        "%%time\n",
        "test_pred_last4=loop(train_last4_df,test_last4_df)"
      ],
      "execution_count": 43,
      "outputs": [
        {
          "output_type": "stream",
          "text": [
            "best model  WeightedEnsemble_L2  accuracy is  0.75\n",
            "best model  LightGBM_BAG_L1  accuracy is  0.7\n",
            "best model  NeuralNetMXNet_BAG_L1  accuracy is  0.725\n",
            "best model  LightGBMXT_BAG_L1  accuracy is  0.65\n",
            "best model  CatBoost_BAG_L1  accuracy is  0.85\n",
            "average accuracy is 0.735\n",
            "CPU times: user 1h 30min 51s, sys: 49.1 s, total: 1h 31min 40s\n",
            "Wall time: 54min 35s\n"
          ],
          "name": "stdout"
        }
      ]
    },
    {
      "cell_type": "code",
      "metadata": {
        "id": "c7wIjQwDBf5M"
      },
      "source": [
        "def make_final(test_pred):\n",
        "  ids=test_path.id.apply(lambda x:x.split('/')[-1].split('.')[0])\n",
        "  pred=np.mean(test_pred,axis=0)\n",
        "  lang=['en']*len(test_path)\n",
        "  final=pd.DataFrame(zip(ids,lang,pred),columns=['author-id','lang','type'])\n",
        "  return final"
      ],
      "execution_count": 44,
      "outputs": []
    },
    {
      "cell_type": "code",
      "metadata": {
        "id": "6IrtPJqEBm-x"
      },
      "source": [
        "test_last=make_final(test_pred_last)\n",
        "test_last4=make_final(test_pred_last4)"
      ],
      "execution_count": 45,
      "outputs": []
    },
    {
      "cell_type": "code",
      "metadata": {
        "id": "2yTz0vW8CPMz"
      },
      "source": [
        "test_last.to_csv('bertbase1_75.csv',index=False)\n",
        "test_last4.to_csv('bertbase2_73.csv',index=False)"
      ],
      "execution_count": 46,
      "outputs": []
    },
    {
      "cell_type": "code",
      "metadata": {
        "id": "XIdChCfUOL75"
      },
      "source": [
        "if os.path.isdir('output'):\n",
        "  !rm -rf output\n",
        "  !mkdir output\n",
        "  !rm talha.zip\n",
        "else:\n",
        "  !mkdir output"
      ],
      "execution_count": null,
      "outputs": []
    },
    {
      "cell_type": "code",
      "metadata": {
        "id": "zvFjkD0GCjrJ"
      },
      "source": [
        "import pandas as pd\n",
        "df=final.copy()\n",
        "import pandas as pd\n",
        "for row in df.index:\n",
        "    xml = []\n",
        "    xml.append('<author id=\"{}\"'.format(df.loc[row,'author-id']))\n",
        "    xml.append('lang=\"{}\"'.format(df.loc[row,'lang']))\n",
        "    xml.append('type=\"{}\"'.format(df.loc[row,'type']))\n",
        "    xml.append('/>')\n",
        "    x='\\n'.join(xml)\n",
        "    myfile = open(\"output/{}.xml\".format(df.loc[row,'author-id']), \"w\")\n",
        "    myfile.write(x)\n",
        "    myfile.close()\n",
        "    "
      ],
      "execution_count": null,
      "outputs": []
    },
    {
      "cell_type": "code",
      "metadata": {
        "id": "-IdSq-2GOVzu"
      },
      "source": [
        "%%capture\n",
        "!zip -r talha.zip output"
      ],
      "execution_count": null,
      "outputs": []
    },
    {
      "cell_type": "code",
      "metadata": {
        "id": "-kkZ4BNlPNjH"
      },
      "source": [
        ""
      ],
      "execution_count": null,
      "outputs": []
    }
  ]
}