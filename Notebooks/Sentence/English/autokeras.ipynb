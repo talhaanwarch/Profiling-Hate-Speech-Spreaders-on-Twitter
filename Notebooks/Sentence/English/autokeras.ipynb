{
 "cells": [
  {
   "cell_type": "markdown",
   "metadata": {
    "colab_type": "text",
    "id": "view-in-github"
   },
   "source": [
    "<a href=\"https://colab.research.google.com/github/talhaanwarch/Profiling-Hate-Speech-Spreaders-on-Twitter/blob/main/en_ak.ipynb\" target=\"_parent\"><img src=\"https://colab.research.google.com/assets/colab-badge.svg\" alt=\"Open In Colab\"/></a>"
   ]
  },
  {
   "cell_type": "code",
   "execution_count": 1,
   "metadata": {
    "colab": {
     "base_uri": "https://localhost:8080/"
    },
    "id": "nUUMksNxDZuV",
    "outputId": "1141e340-cf0d-4d54-eec4-094eaa799ac2"
   },
   "outputs": [
    {
     "name": "stdout",
     "output_type": "stream",
     "text": [
      "GPU 0: Tesla T4 (UUID: GPU-41ed80c3-5105-8f43-1108-9ed46036dd2c)\n"
     ]
    }
   ],
   "source": [
    "!nvidia-smi -L"
   ]
  },
  {
   "cell_type": "markdown",
   "metadata": {
    "id": "P-3gL08E2izB"
   },
   "source": [
    "#install pacakges"
   ]
  },
  {
   "cell_type": "code",
   "execution_count": 2,
   "metadata": {
    "id": "c2cGYHg52jwF"
   },
   "outputs": [],
   "source": [
    "%%capture\n",
    "!python3 -m pip install autokeras"
   ]
  },
  {
   "cell_type": "markdown",
   "metadata": {
    "id": "tbFVgzDJ2tkN"
   },
   "source": [
    "# download data"
   ]
  },
  {
   "cell_type": "code",
   "execution_count": 3,
   "metadata": {
    "id": "sLK8NbVADmwP"
   },
   "outputs": [],
   "source": [
    "import os\n",
    "if os.path.isdir('/content/Profiling-Hate-Speech-Spreaders-on-Twitter') is False:\n",
    "    !git clone https://github.com/talhaanwarch/Profiling-Hate-Speech-Spreaders-on-Twitter.git"
   ]
  },
  {
   "cell_type": "code",
   "execution_count": 4,
   "metadata": {
    "id": "xWClrObg1m3o"
   },
   "outputs": [],
   "source": [
    "%%capture \n",
    "if os.path.isdir('train') is False:\n",
    "  !unzip /content/Profiling-Hate-Speech-Spreaders-on-Twitter/data/train.zip\n",
    "if os.path.isdir('test') is False:\n",
    "  !unzip /content/Profiling-Hate-Speech-Spreaders-on-Twitter/data/test.zip"
   ]
  },
  {
   "cell_type": "markdown",
   "metadata": {
    "id": "o0x1BkHU2vGa"
   },
   "source": [
    "# prepare data"
   ]
  },
  {
   "cell_type": "code",
   "execution_count": 5,
   "metadata": {
    "id": "uFzbJ_gC1EJw"
   },
   "outputs": [],
   "source": [
    "import pandas as pd\n",
    "import numpy as np\n",
    "import matplotlib.pyplot as plt\n",
    "df=pd.read_csv('train/en/truth.txt',sep=':::',header=None,engine='python')\n",
    "df.columns=['id','label']"
   ]
  },
  {
   "cell_type": "code",
   "execution_count": 6,
   "metadata": {
    "colab": {
     "base_uri": "https://localhost:8080/"
    },
    "id": "3ROlQoSB7Yh_",
    "outputId": "f07c6e98-ffc7-481a-b0b7-74a2b8383330"
   },
   "outputs": [
    {
     "data": {
      "text/plain": [
       "1    100\n",
       "0    100\n",
       "Name: label, dtype: int64"
      ]
     },
     "execution_count": 6,
     "metadata": {
      "tags": []
     },
     "output_type": "execute_result"
    }
   ],
   "source": [
    "df.label.value_counts()"
   ]
  },
  {
   "cell_type": "code",
   "execution_count": 7,
   "metadata": {
    "colab": {
     "base_uri": "https://localhost:8080/"
    },
    "id": "v_JM-_us1LS7",
    "outputId": "9c187402-88c2-484d-d914-6194195b6ec6"
   },
   "outputs": [
    {
     "name": "stdout",
     "output_type": "stream",
     "text": [
      "[nltk_data] Downloading package wordnet to /root/nltk_data...\n",
      "[nltk_data]   Package wordnet is already up-to-date!\n",
      "[nltk_data] Downloading package stopwords to /root/nltk_data...\n",
      "[nltk_data]   Package stopwords is already up-to-date!\n"
     ]
    }
   ],
   "source": [
    "import nltk\n",
    "from nltk.corpus import stopwords\n",
    "from nltk.stem import WordNetLemmatizer\n",
    "nltk.download('wordnet')\n",
    "nltk.download('stopwords')\n",
    "lemmatizer = WordNetLemmatizer()\n",
    "w_tokenizer = nltk.tokenize.WhitespaceTokenizer()\n",
    "stop = stopwords.words('english')"
   ]
  },
  {
   "cell_type": "code",
   "execution_count": 8,
   "metadata": {
    "id": "yEBoiYus1-q3"
   },
   "outputs": [],
   "source": [
    "def preprocessing(text):\n",
    "    text=text.str.replace('\\d+', '')\n",
    "    text=text.str.replace('RT','')\n",
    "    text=text.str.replace('#USER#','')\n",
    "    text=text.str.replace('#URL#','')\n",
    "    text= text.str.lower()\n",
    "    text = text.str.replace('[^\\w\\s]','')\n",
    "    text = text.apply(lambda x : [lemmatizer.lemmatize(y) for y in w_tokenizer.tokenize(x)])\n",
    "    text = text.apply(lambda x: [item for item in x if item not in stop])\n",
    "    text = text.apply(lambda x : \" \".join(x))\n",
    "    return text"
   ]
  },
  {
   "cell_type": "code",
   "execution_count": 9,
   "metadata": {
    "colab": {
     "base_uri": "https://localhost:8080/",
     "height": 199
    },
    "id": "KuCfiRvP2AEC",
    "outputId": "84f17e4a-3ca0-49df-fc3b-a051f8450b8e"
   },
   "outputs": [
    {
     "data": {
      "text/html": [
       "<div>\n",
       "<style scoped>\n",
       "    .dataframe tbody tr th:only-of-type {\n",
       "        vertical-align: middle;\n",
       "    }\n",
       "\n",
       "    .dataframe tbody tr th {\n",
       "        vertical-align: top;\n",
       "    }\n",
       "\n",
       "    .dataframe thead th {\n",
       "        text-align: right;\n",
       "    }\n",
       "</style>\n",
       "<table border=\"1\" class=\"dataframe\">\n",
       "  <thead>\n",
       "    <tr style=\"text-align: right;\">\n",
       "      <th></th>\n",
       "      <th>id</th>\n",
       "      <th>label</th>\n",
       "    </tr>\n",
       "  </thead>\n",
       "  <tbody>\n",
       "    <tr>\n",
       "      <th>0</th>\n",
       "      <td>train/en/639b8e5e6a527d494c85d8f5704b1a01.xml</td>\n",
       "      <td>0</td>\n",
       "    </tr>\n",
       "    <tr>\n",
       "      <th>1</th>\n",
       "      <td>train/en/f2b1fc84c500c38a93522efbd422b559.xml</td>\n",
       "      <td>0</td>\n",
       "    </tr>\n",
       "    <tr>\n",
       "      <th>2</th>\n",
       "      <td>train/en/10b2d013382e1fb3c9414ea28329f258.xml</td>\n",
       "      <td>0</td>\n",
       "    </tr>\n",
       "    <tr>\n",
       "      <th>3</th>\n",
       "      <td>train/en/26644d1348fc1122e8c5ef45d6bc84fa.xml</td>\n",
       "      <td>0</td>\n",
       "    </tr>\n",
       "    <tr>\n",
       "      <th>4</th>\n",
       "      <td>train/en/4d4c5dcbfe38d0d33a0d1b1419952ca8.xml</td>\n",
       "      <td>0</td>\n",
       "    </tr>\n",
       "  </tbody>\n",
       "</table>\n",
       "</div>"
      ],
      "text/plain": [
       "                                              id  label\n",
       "0  train/en/639b8e5e6a527d494c85d8f5704b1a01.xml      0\n",
       "1  train/en/f2b1fc84c500c38a93522efbd422b559.xml      0\n",
       "2  train/en/10b2d013382e1fb3c9414ea28329f258.xml      0\n",
       "3  train/en/26644d1348fc1122e8c5ef45d6bc84fa.xml      0\n",
       "4  train/en/4d4c5dcbfe38d0d33a0d1b1419952ca8.xml      0"
      ]
     },
     "execution_count": 9,
     "metadata": {
      "tags": []
     },
     "output_type": "execute_result"
    }
   ],
   "source": [
    "df.id='train/en/'+df.id.astype(str)+'.xml'\n",
    "df.head()"
   ]
  },
  {
   "cell_type": "code",
   "execution_count": 10,
   "metadata": {
    "colab": {
     "base_uri": "https://localhost:8080/"
    },
    "id": "WALZdHXd2BSE",
    "outputId": "d3dbeb83-a728-427f-a131-26a6ef52b0e5"
   },
   "outputs": [
    {
     "data": {
      "text/plain": [
       "200"
      ]
     },
     "execution_count": 10,
     "metadata": {
      "tags": []
     },
     "output_type": "execute_result"
    }
   ],
   "source": [
    "len(df)"
   ]
  },
  {
   "cell_type": "code",
   "execution_count": 11,
   "metadata": {
    "id": "LuY7kaIJ2C4G"
   },
   "outputs": [],
   "source": [
    "import xml.etree.ElementTree as ET\n",
    "def reader(df,ground=True):\n",
    "  data=[]\n",
    "  for x in df.iterrows():\n",
    "      \n",
    "      tree = ET.parse(x[1].id)\n",
    "      root = tree.getroot()\n",
    "      text=[x.text for x in root[0]]\n",
    "      if ground:\n",
    "        label=[x[1].label]*len(text)\n",
    "        data.append(pd.DataFrame(zip(text,label),columns=['text','label']))\n",
    "      else:\n",
    "        data.append(pd.DataFrame(text,columns=['text']))\n",
    "  return data"
   ]
  },
  {
   "cell_type": "code",
   "execution_count": 12,
   "metadata": {
    "id": "hNrFeS0n-HIv"
   },
   "outputs": [],
   "source": [
    "data=reader(df)"
   ]
  },
  {
   "cell_type": "code",
   "execution_count": 13,
   "metadata": {
    "colab": {
     "base_uri": "https://localhost:8080/",
     "height": 199
    },
    "id": "pdcFOycQ2Etp",
    "outputId": "57ced075-ff6a-4428-972b-fd4d45da2d25"
   },
   "outputs": [
    {
     "data": {
      "text/html": [
       "<div>\n",
       "<style scoped>\n",
       "    .dataframe tbody tr th:only-of-type {\n",
       "        vertical-align: middle;\n",
       "    }\n",
       "\n",
       "    .dataframe tbody tr th {\n",
       "        vertical-align: top;\n",
       "    }\n",
       "\n",
       "    .dataframe thead th {\n",
       "        text-align: right;\n",
       "    }\n",
       "</style>\n",
       "<table border=\"1\" class=\"dataframe\">\n",
       "  <thead>\n",
       "    <tr style=\"text-align: right;\">\n",
       "      <th></th>\n",
       "      <th>text</th>\n",
       "      <th>label</th>\n",
       "    </tr>\n",
       "  </thead>\n",
       "  <tbody>\n",
       "    <tr>\n",
       "      <th>0</th>\n",
       "      <td>RT #USER#: Funny how “15 days to slow the spre...</td>\n",
       "      <td>0</td>\n",
       "    </tr>\n",
       "    <tr>\n",
       "      <th>1</th>\n",
       "      <td>RT #USER#: Why did Minneapolis just give Georg...</td>\n",
       "      <td>0</td>\n",
       "    </tr>\n",
       "    <tr>\n",
       "      <th>2</th>\n",
       "      <td>RT #USER#: To be fair, he has done a lot of un...</td>\n",
       "      <td>0</td>\n",
       "    </tr>\n",
       "    <tr>\n",
       "      <th>3</th>\n",
       "      <td>RT #USER#: President Trump got us the #HASHTAG...</td>\n",
       "      <td>0</td>\n",
       "    </tr>\n",
       "    <tr>\n",
       "      <th>4</th>\n",
       "      <td>RT #USER#: Is the case against former officer ...</td>\n",
       "      <td>0</td>\n",
       "    </tr>\n",
       "  </tbody>\n",
       "</table>\n",
       "</div>"
      ],
      "text/plain": [
       "                                                text  label\n",
       "0  RT #USER#: Funny how “15 days to slow the spre...      0\n",
       "1  RT #USER#: Why did Minneapolis just give Georg...      0\n",
       "2  RT #USER#: To be fair, he has done a lot of un...      0\n",
       "3  RT #USER#: President Trump got us the #HASHTAG...      0\n",
       "4  RT #USER#: Is the case against former officer ...      0"
      ]
     },
     "execution_count": 13,
     "metadata": {
      "tags": []
     },
     "output_type": "execute_result"
    }
   ],
   "source": [
    "data[0].head()"
   ]
  },
  {
   "cell_type": "code",
   "execution_count": 14,
   "metadata": {
    "id": "GSgaPkAg2OF8"
   },
   "outputs": [],
   "source": [
    "from sklearn.model_selection import train_test_split\n",
    "trainx,valx=train_test_split(data,test_size=0.1,)\n",
    "trainx,testx=train_test_split(trainx,test_size=0.1)"
   ]
  },
  {
   "cell_type": "code",
   "execution_count": 15,
   "metadata": {
    "id": "mk96relW2PRD"
   },
   "outputs": [],
   "source": [
    "train=pd.concat(trainx)\n",
    "val=pd.concat(valx)\n",
    "test=pd.concat(testx)"
   ]
  },
  {
   "cell_type": "code",
   "execution_count": 16,
   "metadata": {
    "colab": {
     "base_uri": "https://localhost:8080/"
    },
    "id": "I7a_y_qE7fmI",
    "outputId": "f7448b1a-e9f7-4246-e077-9f6fed484d8e"
   },
   "outputs": [
    {
     "data": {
      "text/plain": [
       "0    16800\n",
       "1    15600\n",
       "Name: label, dtype: int64"
      ]
     },
     "execution_count": 16,
     "metadata": {
      "tags": []
     },
     "output_type": "execute_result"
    }
   ],
   "source": [
    "train.label.value_counts()"
   ]
  },
  {
   "cell_type": "code",
   "execution_count": 17,
   "metadata": {
    "colab": {
     "base_uri": "https://localhost:8080/"
    },
    "id": "yraTWqd87hRv",
    "outputId": "60ebaa5e-d877-4c7f-bb12-bdd9c4f57f3a"
   },
   "outputs": [
    {
     "data": {
      "text/plain": [
       "1    2600\n",
       "0    1400\n",
       "Name: label, dtype: int64"
      ]
     },
     "execution_count": 17,
     "metadata": {
      "tags": []
     },
     "output_type": "execute_result"
    }
   ],
   "source": [
    "val.label.value_counts()"
   ]
  },
  {
   "cell_type": "code",
   "execution_count": 18,
   "metadata": {
    "colab": {
     "base_uri": "https://localhost:8080/"
    },
    "id": "WYvHxg70M4g4",
    "outputId": "6226e485-32cc-4805-92ac-ff0c85f14f47"
   },
   "outputs": [
    {
     "data": {
      "text/plain": [
       "1    1800\n",
       "0    1800\n",
       "Name: label, dtype: int64"
      ]
     },
     "execution_count": 18,
     "metadata": {
      "tags": []
     },
     "output_type": "execute_result"
    }
   ],
   "source": [
    "test.label.value_counts()"
   ]
  },
  {
   "cell_type": "code",
   "execution_count": 19,
   "metadata": {
    "id": "h1p-euCS2R0D"
   },
   "outputs": [],
   "source": [
    "train.text=preprocessing(train.text)\n",
    "val.text=preprocessing(val.text)\n",
    "test.text=preprocessing(test.text)"
   ]
  },
  {
   "cell_type": "code",
   "execution_count": 20,
   "metadata": {
    "colab": {
     "base_uri": "https://localhost:8080/"
    },
    "id": "qg6DdpMb2V4V",
    "outputId": "e3221514-3673-4ded-bd8e-78df33d62e78"
   },
   "outputs": [
    {
     "data": {
      "text/plain": [
       "(32400, 4000, 3600)"
      ]
     },
     "execution_count": 20,
     "metadata": {
      "tags": []
     },
     "output_type": "execute_result"
    }
   ],
   "source": [
    "len(train),len(val),len(test)"
   ]
  },
  {
   "cell_type": "code",
   "execution_count": 21,
   "metadata": {
    "id": "-SIpEYeU2XCM"
   },
   "outputs": [],
   "source": [
    "train = train.sample(frac=1).reset_index(drop=True)\n",
    "val = val.sample(frac=1).reset_index(drop=True)\n",
    "test = test.sample(frac=1).reset_index(drop=True)\n"
   ]
  },
  {
   "cell_type": "code",
   "execution_count": 22,
   "metadata": {
    "id": "A-dl1yDs4DWZ"
   },
   "outputs": [],
   "source": [
    "train_text=train.text.values\n",
    "train_label=train.label.values\n",
    "val_text=val.text.values\n",
    "val_label=val.label.values\n",
    "test_text=test.text.values\n",
    "test_label=test.label.values"
   ]
  },
  {
   "cell_type": "markdown",
   "metadata": {
    "id": "uk_kXqTk20rp"
   },
   "source": [
    "# classify data"
   ]
  },
  {
   "cell_type": "code",
   "execution_count": 23,
   "metadata": {
    "colab": {
     "base_uri": "https://localhost:8080/"
    },
    "id": "tgH0ZF4z2YVw",
    "outputId": "4d4e3042-7e8a-4547-f9a6-89642122b160"
   },
   "outputs": [
    {
     "name": "stdout",
     "output_type": "stream",
     "text": [
      "INFO:tensorflow:Reloading Oracle from existing project ./text_classifier/oracle.json\n",
      "INFO:tensorflow:Reloading Tuner from ./text_classifier/tuner0.json\n"
     ]
    }
   ],
   "source": [
    "import autokeras as ak\n",
    "clf = ak.TextClassifier() "
   ]
  },
  {
   "cell_type": "code",
   "execution_count": 24,
   "metadata": {
    "colab": {
     "base_uri": "https://localhost:8080/"
    },
    "id": "46znk2fELxLT",
    "outputId": "3ddf664e-b1d0-4efe-9284-6dbe21f2bf8f"
   },
   "outputs": [
    {
     "name": "stdout",
     "output_type": "stream",
     "text": [
      "INFO:tensorflow:Oracle triggered exit\n",
      "INFO:tensorflow:Assets written to: ./text_classifier/best_model/assets\n",
      "WARNING:tensorflow:Unresolved object in checkpoint: (root).optimizer.iter\n",
      "WARNING:tensorflow:Unresolved object in checkpoint: (root).optimizer.beta_1\n",
      "WARNING:tensorflow:Unresolved object in checkpoint: (root).optimizer.beta_2\n",
      "WARNING:tensorflow:Unresolved object in checkpoint: (root).optimizer.decay\n",
      "WARNING:tensorflow:Unresolved object in checkpoint: (root).optimizer.learning_rate\n",
      "WARNING:tensorflow:A checkpoint was restored (e.g. tf.train.Checkpoint.restore or tf.keras.Model.load_weights) but not all checkpointed values were used. See above for specific issues. Use expect_partial() on the load status object, e.g. tf.train.Checkpoint.restore(...).expect_partial(), to silence these warnings, or use assert_consumed() to make the check explicit. See https://www.tensorflow.org/guide/checkpoint#loading_mechanics for details.\n"
     ]
    }
   ],
   "source": [
    "clf.fit(train_text,train_label,epoch=100,validation_data=(val_text, val_label))\n"
   ]
  },
  {
   "cell_type": "code",
   "execution_count": 25,
   "metadata": {
    "colab": {
     "base_uri": "https://localhost:8080/"
    },
    "id": "eYlZNVk33DVP",
    "outputId": "f5c7859d-07f5-4cbe-b334-36bc5dea6140"
   },
   "outputs": [
    {
     "name": "stdout",
     "output_type": "stream",
     "text": [
      "125/125 [==============================] - 3s 6ms/step - loss: 0.6257 - accuracy: 0.6680\n"
     ]
    }
   ],
   "source": [
    "val_score = clf.evaluate(val_text, val_label)"
   ]
  },
  {
   "cell_type": "code",
   "execution_count": 26,
   "metadata": {
    "colab": {
     "base_uri": "https://localhost:8080/"
    },
    "id": "yVMQNAbyPXZG",
    "outputId": "b7fd15c6-3af1-4bb6-9d97-c3cf1bee0f4f"
   },
   "outputs": [
    {
     "name": "stdout",
     "output_type": "stream",
     "text": [
      "113/113 [==============================] - 1s 6ms/step - loss: 0.6143 - accuracy: 0.6786\n"
     ]
    }
   ],
   "source": [
    "test_score = clf.evaluate(test_text,test_label)"
   ]
  },
  {
   "cell_type": "code",
   "execution_count": 27,
   "metadata": {
    "colab": {
     "base_uri": "https://localhost:8080/"
    },
    "id": "q-Y9vFOf52kY",
    "outputId": "85aaa887-e12f-4b4f-e60d-1016b4d51a5f"
   },
   "outputs": [
    {
     "name": "stdout",
     "output_type": "stream",
     "text": [
      "125/125 [==============================] - 0s 4ms/step\n",
      "              precision    recall  f1-score   support\n",
      "\n",
      "           0       0.52      0.59      0.55      1400\n",
      "           1       0.76      0.71      0.74      2600\n",
      "\n",
      "    accuracy                           0.67      4000\n",
      "   macro avg       0.64      0.65      0.64      4000\n",
      "weighted avg       0.68      0.67      0.67      4000\n",
      "\n"
     ]
    }
   ],
   "source": [
    "from sklearn.metrics import classification_report\n",
    "pred=clf.predict(val_text)\n",
    "print(classification_report(val_label,pred))"
   ]
  },
  {
   "cell_type": "code",
   "execution_count": 28,
   "metadata": {
    "colab": {
     "base_uri": "https://localhost:8080/"
    },
    "id": "uSbGG_6N6Ond",
    "outputId": "74205f52-efe3-4f46-8073-40c7b47fdb7f"
   },
   "outputs": [
    {
     "name": "stdout",
     "output_type": "stream",
     "text": [
      "113/113 [==============================] - 0s 4ms/step\n",
      "              precision    recall  f1-score   support\n",
      "\n",
      "           0       0.70      0.62      0.66      1800\n",
      "           1       0.66      0.74      0.70      1800\n",
      "\n",
      "    accuracy                           0.68      3600\n",
      "   macro avg       0.68      0.68      0.68      3600\n",
      "weighted avg       0.68      0.68      0.68      3600\n",
      "\n"
     ]
    }
   ],
   "source": [
    "pred=clf.predict(test_text)\n",
    "print(classification_report(test_label,pred))"
   ]
  },
  {
   "cell_type": "markdown",
   "metadata": {
    "id": "Y1EWGo0t7n8G"
   },
   "source": [
    "# validation"
   ]
  },
  {
   "cell_type": "code",
   "execution_count": 29,
   "metadata": {
    "colab": {
     "base_uri": "https://localhost:8080/"
    },
    "id": "XGPkVhKC7siY",
    "outputId": "fb0847ae-0c2b-4b4a-ba53-443ce28846b5"
   },
   "outputs": [
    {
     "name": "stdout",
     "output_type": "stream",
     "text": [
      "              precision    recall  f1-score   support\n",
      "\n",
      "           0       0.35      1.00      0.52         7\n",
      "           1       0.00      0.00      0.00        13\n",
      "\n",
      "    accuracy                           0.35        20\n",
      "   macro avg       0.17      0.50      0.26        20\n",
      "weighted avg       0.12      0.35      0.18        20\n",
      "\n"
     ]
    },
    {
     "name": "stderr",
     "output_type": "stream",
     "text": [
      "/usr/local/lib/python3.7/dist-packages/sklearn/metrics/_classification.py:1272: UndefinedMetricWarning: Precision and F-score are ill-defined and being set to 0.0 in labels with no predicted samples. Use `zero_division` parameter to control this behavior.\n",
      "  _warn_prf(average, modifier, msg_start, len(result))\n"
     ]
    }
   ],
   "source": [
    "preds,trues=[],[]\n",
    "for i in valx:\n",
    "  pred=list(clf.predict(i.text.values,verbose=0))\n",
    "  preds.append(max(pred,key=pred.count))\n",
    "  trues.append(int(np.mean(i.label)))\n",
    "print(classification_report(trues,preds))  "
   ]
  },
  {
   "cell_type": "code",
   "execution_count": 30,
   "metadata": {
    "colab": {
     "base_uri": "https://localhost:8080/"
    },
    "id": "ylQrGABMQntt",
    "outputId": "5349499f-667d-403f-dc20-723e6da628d7"
   },
   "outputs": [
    {
     "name": "stdout",
     "output_type": "stream",
     "text": [
      "              precision    recall  f1-score   support\n",
      "\n",
      "           0       0.53      1.00      0.69         9\n",
      "           1       1.00      0.11      0.20         9\n",
      "\n",
      "    accuracy                           0.56        18\n",
      "   macro avg       0.76      0.56      0.45        18\n",
      "weighted avg       0.76      0.56      0.45        18\n",
      "\n"
     ]
    }
   ],
   "source": [
    "preds,trues=[],[]\n",
    "for i in testx:\n",
    "  pred=list(clf.predict(i.text.values,verbose=0))\n",
    "  preds.append(max(pred,key=pred.count))\n",
    "  trues.append(int(np.mean(i.label)))\n",
    "print(classification_report(trues,preds))  "
   ]
  },
  {
   "cell_type": "code",
   "execution_count": 30,
   "metadata": {
    "id": "kkWZ5-DM9IIg"
   },
   "outputs": [],
   "source": []
  },
  {
   "cell_type": "markdown",
   "metadata": {
    "id": "A02JBOHW9KnI"
   },
   "source": [
    "# test evaluation"
   ]
  },
  {
   "cell_type": "code",
   "execution_count": 31,
   "metadata": {
    "colab": {
     "base_uri": "https://localhost:8080/",
     "height": 199
    },
    "id": "ildaHkYH9vc-",
    "outputId": "dde5971c-1bb2-4143-b0f6-abfcb7c47d55"
   },
   "outputs": [
    {
     "data": {
      "text/html": [
       "<div>\n",
       "<style scoped>\n",
       "    .dataframe tbody tr th:only-of-type {\n",
       "        vertical-align: middle;\n",
       "    }\n",
       "\n",
       "    .dataframe tbody tr th {\n",
       "        vertical-align: top;\n",
       "    }\n",
       "\n",
       "    .dataframe thead th {\n",
       "        text-align: right;\n",
       "    }\n",
       "</style>\n",
       "<table border=\"1\" class=\"dataframe\">\n",
       "  <thead>\n",
       "    <tr style=\"text-align: right;\">\n",
       "      <th></th>\n",
       "      <th>id</th>\n",
       "    </tr>\n",
       "  </thead>\n",
       "  <tbody>\n",
       "    <tr>\n",
       "      <th>0</th>\n",
       "      <td>test/en/f2973063f16c0698a6de86c55b5f9ad6.xml</td>\n",
       "    </tr>\n",
       "    <tr>\n",
       "      <th>1</th>\n",
       "      <td>test/en/be71e41921653e523aceb555727b61c7.xml</td>\n",
       "    </tr>\n",
       "    <tr>\n",
       "      <th>2</th>\n",
       "      <td>test/en/d0235c3e74f79298fc2b6d2427c2060b.xml</td>\n",
       "    </tr>\n",
       "    <tr>\n",
       "      <th>3</th>\n",
       "      <td>test/en/314d4bf068314367bc83dc5ae3757e13.xml</td>\n",
       "    </tr>\n",
       "    <tr>\n",
       "      <th>4</th>\n",
       "      <td>test/en/fdd27881da241cff7115c1e89caba6dd.xml</td>\n",
       "    </tr>\n",
       "  </tbody>\n",
       "</table>\n",
       "</div>"
      ],
      "text/plain": [
       "                                             id\n",
       "0  test/en/f2973063f16c0698a6de86c55b5f9ad6.xml\n",
       "1  test/en/be71e41921653e523aceb555727b61c7.xml\n",
       "2  test/en/d0235c3e74f79298fc2b6d2427c2060b.xml\n",
       "3  test/en/314d4bf068314367bc83dc5ae3757e13.xml\n",
       "4  test/en/fdd27881da241cff7115c1e89caba6dd.xml"
      ]
     },
     "execution_count": 31,
     "metadata": {
      "tags": []
     },
     "output_type": "execute_result"
    }
   ],
   "source": [
    "from glob import glob\n",
    "test_path=pd.DataFrame(glob('test/en/*.xml'),columns=['id'])\n",
    "test_path.head()"
   ]
  },
  {
   "cell_type": "code",
   "execution_count": 32,
   "metadata": {
    "id": "TYjA9k_x92My"
   },
   "outputs": [],
   "source": [
    "test=reader(test_path,ground=False)"
   ]
  },
  {
   "cell_type": "code",
   "execution_count": 33,
   "metadata": {
    "colab": {
     "base_uri": "https://localhost:8080/",
     "height": 199
    },
    "id": "-YpUwKah-x7s",
    "outputId": "173e35c4-7d64-4d47-d678-5806f23c71c4"
   },
   "outputs": [
    {
     "data": {
      "text/html": [
       "<div>\n",
       "<style scoped>\n",
       "    .dataframe tbody tr th:only-of-type {\n",
       "        vertical-align: middle;\n",
       "    }\n",
       "\n",
       "    .dataframe tbody tr th {\n",
       "        vertical-align: top;\n",
       "    }\n",
       "\n",
       "    .dataframe thead th {\n",
       "        text-align: right;\n",
       "    }\n",
       "</style>\n",
       "<table border=\"1\" class=\"dataframe\">\n",
       "  <thead>\n",
       "    <tr style=\"text-align: right;\">\n",
       "      <th></th>\n",
       "      <th>text</th>\n",
       "    </tr>\n",
       "  </thead>\n",
       "  <tbody>\n",
       "    <tr>\n",
       "      <th>0</th>\n",
       "      <td>#USER# I'm so sorry 😞...</td>\n",
       "    </tr>\n",
       "    <tr>\n",
       "      <th>1</th>\n",
       "      <td>#USER# #USER# That is correct.</td>\n",
       "    </tr>\n",
       "    <tr>\n",
       "      <th>2</th>\n",
       "      <td>RT #USER#: The legitimate President of the Uni...</td>\n",
       "    </tr>\n",
       "    <tr>\n",
       "      <th>3</th>\n",
       "      <td>#USER# #USER# #USER# Texas AG is suing the Bid...</td>\n",
       "    </tr>\n",
       "    <tr>\n",
       "      <th>4</th>\n",
       "      <td>#USER# In Jesus Holy Name. Soon the entire wor...</td>\n",
       "    </tr>\n",
       "  </tbody>\n",
       "</table>\n",
       "</div>"
      ],
      "text/plain": [
       "                                                text\n",
       "0                           #USER# I'm so sorry 😞...\n",
       "1                     #USER# #USER# That is correct.\n",
       "2  RT #USER#: The legitimate President of the Uni...\n",
       "3  #USER# #USER# #USER# Texas AG is suing the Bid...\n",
       "4  #USER# In Jesus Holy Name. Soon the entire wor..."
      ]
     },
     "execution_count": 33,
     "metadata": {
      "tags": []
     },
     "output_type": "execute_result"
    }
   ],
   "source": [
    "test[0].head()"
   ]
  },
  {
   "cell_type": "code",
   "execution_count": null,
   "metadata": {
    "id": "rK4_8WBh_Lfm"
   },
   "outputs": [],
   "source": [
    "final_preds=[]\n",
    "for i in range(len(test)):\n",
    "  test[i].text=preprocessing(test[i].text)\n",
    "  pred=list(clf.predict(test[i].text.values,verbose=0))\n",
    "  final_preds.append(int(max(pred,key=pred.count)))\n"
   ]
  },
  {
   "cell_type": "code",
   "execution_count": null,
   "metadata": {
    "id": "mgeyO-a0A6HC"
   },
   "outputs": [],
   "source": [
    "len(final_preds),len(test_path)"
   ]
  },
  {
   "cell_type": "code",
   "execution_count": null,
   "metadata": {
    "id": "7f3ExLYZBJ7x"
   },
   "outputs": [],
   "source": [
    "ids=test_path.id.apply(lambda x:x.split('/')[-1].split('.')[0])"
   ]
  },
  {
   "cell_type": "code",
   "execution_count": null,
   "metadata": {
    "id": "YCXd3YbNCFrr"
   },
   "outputs": [],
   "source": [
    "lang=['en']*len(test_path)"
   ]
  },
  {
   "cell_type": "code",
   "execution_count": null,
   "metadata": {
    "id": "BT2LWN14BO-w"
   },
   "outputs": [],
   "source": [
    "final=pd.DataFrame(zip(ids,lang,final_preds),columns=['author-id','lang','type'])\n",
    "final.head()"
   ]
  },
  {
   "cell_type": "code",
   "execution_count": null,
   "metadata": {
    "id": "GlxkLUpXB-lO"
   },
   "outputs": [],
   "source": []
  }
 ],
 "metadata": {
  "accelerator": "GPU",
  "colab": {
   "collapsed_sections": [],
   "include_colab_link": true,
   "name": "en-ak.ipynb",
   "provenance": [],
   "toc_visible": true
  },
  "kernelspec": {
   "display_name": "Python 3",
   "language": "python",
   "name": "python3"
  },
  "language_info": {
   "codemirror_mode": {
    "name": "ipython",
    "version": 3
   },
   "file_extension": ".py",
   "mimetype": "text/x-python",
   "name": "python",
   "nbconvert_exporter": "python",
   "pygments_lexer": "ipython3",
   "version": "3.8.5"
  }
 },
 "nbformat": 4,
 "nbformat_minor": 1
}
